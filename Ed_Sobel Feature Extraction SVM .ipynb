{
 "cells": [
  {
   "cell_type": "code",
   "execution_count": 1,
   "id": "e20fd5b8",
   "metadata": {},
   "outputs": [],
   "source": [
    "import os\n",
    "import math\n",
    "import statistics\n",
    "from pathlib import Path\n",
    "from IPython.display import display\n",
    "\n",
    "from natsort import natsorted, ns\n",
    "from skimage import io\n",
    "from skimage.transform import rotate\n",
    "from skimage.feature import canny\n",
    "\n",
    "import numpy as np\n",
    "import matplotlib.pyplot as plt\n",
    "import pandas as pd\n",
    "\n",
    "from sklearn import svm\n",
    "from sklearn.model_selection import GridSearchCV\n",
    "\n",
    "import warnings\n",
    "warnings.filterwarnings('ignore')\n",
    "\n",
    "from skimage.exposure import histogram\n",
    "from skimage import filters\n",
    "\n",
    "from skimage.feature import graycomatrix"
   ]
  },
  {
   "cell_type": "code",
   "execution_count": 2,
   "id": "b1724355",
   "metadata": {},
   "outputs": [
    {
     "name": "stdout",
     "output_type": "stream",
     "text": [
      "Enter datapath for training dataset\n",
      "\n",
      "  @media print {\n",
      "    .ms-editor-squiggles-container {\n",
      "      display:none !important;\n",
      "    }\n",
      "  }\n",
      "  .ms-editor-squiggles-container {\n",
      "    all: initial;\n",
      "  }D:/Group 11/Data/train\n",
      "The path for training dataset is:  D:\\Group 11\\Data\\train\n"
     ]
    }
   ],
   "source": [
    "print(\"Enter datapath for training dataset\")\n",
    "train_data_folder = Path(str(input()))\n",
    "print(\"The path for training dataset is: \",train_data_folder)"
   ]
  },
  {
   "cell_type": "code",
   "execution_count": 3,
   "id": "7abe7fb3",
   "metadata": {},
   "outputs": [
    {
     "name": "stdout",
     "output_type": "stream",
     "text": [
      "Enter datapath for test dataset\n",
      "D:/Group 11/Data/test\n",
      "The path for test dataset is:  D:\\Group 11\\Data\\test\n"
     ]
    }
   ],
   "source": [
    "print(\"Enter datapath for test dataset\")\n",
    "test_data_folder = Path(str(input()))\n",
    "print(\"The path for test dataset is: \",test_data_folder)"
   ]
  },
  {
   "cell_type": "code",
   "execution_count": 4,
   "id": "81f146b0",
   "metadata": {},
   "outputs": [],
   "source": [
    "def image_data(data_folder):\n",
    "\n",
    "    # read images class directories\n",
    "    sns_path, sns_dirs, sns_files = next(os.walk(data_folder))\n",
    "    sns_path1, sns_dirs1, sns_files1 = next(os.walk(sns_path / Path(sns_dirs[0])))\n",
    "    sns_path2, sns_dirs2, sns_files2 = next(os.walk(sns_path / Path(sns_dirs[1])))\n",
    "    sns_path3, sns_dirs3, sns_files3 = next(os.walk(sns_path / Path(sns_dirs[2])))\n",
    "    sns_path4, sns_dirs4, sns_files4 = next(os.walk(sns_path / Path(sns_dirs[3])))\n",
    "    sns_path5, sns_dirs5, sns_files5 = next(os.walk(sns_path / Path(sns_dirs[4])))\n",
    "    sns_path6, sns_dirs6, sns_files6 = next(os.walk(sns_path / Path(sns_dirs[5])))\n",
    "    \n",
    "    sns_files_list = [sns_files1,sns_files2,sns_files3,sns_files4,sns_files5,sns_files6]\n",
    "    sns_path_list = [sns_path1,sns_path2,sns_path3,sns_path4,sns_path5,sns_path6]\n",
    "    rot_angle = [0]\n",
    "\n",
    "    image_array_list = []\n",
    "    labels = []\n",
    "\n",
    "    for i in rot_angle:\n",
    "        for l in sns_dirs:\n",
    "            for j in sns_path_list:\n",
    "                for k in sns_files_list:\n",
    "                    try:\n",
    "                        for filename in k:\n",
    "                            img = io.imread(os.path.join(j, filename))\n",
    "                            img_rot = rotate(img, i, cval=255)\n",
    "                            #pre_hor = (filters.prewitt_h(img_rot)).flatten()\n",
    "                            #pre_ver = (filters.prewitt_v(img_rot)).flatten()\n",
    "                            # Sobel Kernel\n",
    "                            ed_sobel = (filters.sobel(img_rot)).flatten()\n",
    "\n",
    "                            #canny algorithm\n",
    "                            #can = (canny(img_rot)).flatten()\n",
    "                            #hist, hist_centers = histogram(img_rot)\n",
    "                            \n",
    "                            if l in os.path.join(j, filename):\n",
    "                                #image_array_list.append(pre_hor)\n",
    "                                #image_array_list.append(pre_ver)\n",
    "                                image_array_list.append(ed_sobel)\n",
    "                                #image_array_list.append(can.astype(int))\n",
    "                                #image_array_list.append(hist_centers)\n",
    "                                labels.append(l)\n",
    "                    except:\n",
    "                        pass\n",
    "    labels_array = np.array(labels)\n",
    "    labels_array_true, labels_array_encoded = np.unique(labels_array, return_inverse=True)\n",
    "    image_array = np.array(image_array_list)\n",
    "    df=pd.DataFrame(image_array)\n",
    "    df['Target']=labels_array_encoded\n",
    "    return df"
   ]
  },
  {
   "cell_type": "code",
   "execution_count": 5,
   "id": "f29ab611",
   "metadata": {},
   "outputs": [],
   "source": [
    "train_df = image_data(train_data_folder)"
   ]
  },
  {
   "cell_type": "code",
   "execution_count": 6,
   "id": "0055409d",
   "metadata": {},
   "outputs": [],
   "source": [
    "test_df= image_data(test_data_folder)"
   ]
  },
  {
   "cell_type": "code",
   "execution_count": 7,
   "id": "3f001f92",
   "metadata": {},
   "outputs": [],
   "source": [
    "x_train = train_df.iloc[:,:-1]\n",
    "y_train =train_df.iloc[:,-1]"
   ]
  },
  {
   "cell_type": "code",
   "execution_count": 8,
   "id": "522fe59e",
   "metadata": {},
   "outputs": [],
   "source": [
    "x_test = test_df.iloc[:,:-1]\n",
    "y_test =test_df.iloc[:,-1]"
   ]
  },
  {
   "cell_type": "code",
   "execution_count": 9,
   "id": "99fa07a7",
   "metadata": {},
   "outputs": [],
   "source": [
    "from sklearn.preprocessing import StandardScaler\n",
    "from sklearn.svm import SVC\n",
    "parameters = {'kernel':('rbf','poly'), 'C':[1, 10]}\n",
    "svc = svm.SVC()\n",
    "clf = GridSearchCV(svc, parameters)"
   ]
  },
  {
   "cell_type": "code",
   "execution_count": 10,
   "id": "9129bec4",
   "metadata": {},
   "outputs": [
    {
     "data": {
      "text/plain": [
       "GridSearchCV(estimator=SVC(),\n",
       "             param_grid={'C': [1, 10], 'kernel': ('rbf', 'poly')})"
      ]
     },
     "execution_count": 10,
     "metadata": {},
     "output_type": "execute_result"
    }
   ],
   "source": [
    "clf.fit(x_train,y_train)\n",
    "#print('The Model is trained well with the given images')\n",
    "# model.best_params_ contains the best parameters obtained from GridSearchCV"
   ]
  },
  {
   "cell_type": "code",
   "execution_count": 11,
   "id": "32f097fe",
   "metadata": {},
   "outputs": [
    {
     "name": "stdout",
     "output_type": "stream",
     "text": [
      "The predicted Data is :\n",
      "[0 0 0 0 0 0 3 0 3 0 0 0 1 1 1 1 1 1 1 1 1 3 1 1 0 0 0 2 0 0 0 2 4 0 2 2 1\n",
      " 3 2 2 3 1 3 3 3 3 1 3 4 4 4 4 4 4 4 4 4 4 4 3 5 5 3 5 5 1 5 5 5 5 5 5]\n",
      "The actual data is:\n",
      "[0 0 0 0 0 0 0 0 0 0 0 0 1 1 1 1 1 1 1 1 1 1 1 1 2 2 2 2 2 2 2 2 2 2 2 2 3\n",
      " 3 3 3 3 3 3 3 3 3 3 3 4 4 4 4 4 4 4 4 4 4 4 4 5 5 5 5 5 5 5 5 5 5 5 5]\n",
      "The model is 73.61111111111111% accurate\n"
     ]
    }
   ],
   "source": [
    "from sklearn.metrics import accuracy_score\n",
    "y_pred = clf.predict(x_test)\n",
    "print(\"The predicted Data is :\")\n",
    "print(y_pred)\n",
    "print(\"The actual data is:\")\n",
    "print(np.array(y_test))\n",
    "print(f\"The model is {accuracy_score(y_pred,y_test)*100}% accurate\")"
   ]
  },
  {
   "cell_type": "code",
   "execution_count": 12,
   "id": "b1bb78c5",
   "metadata": {},
   "outputs": [],
   "source": [
    "from mlxtend.evaluate import confusion_matrix\n",
    "from mlxtend.plotting import plot_confusion_matrix\n",
    "from sklearn.metrics import classification_report"
   ]
  },
  {
   "cell_type": "code",
   "execution_count": 13,
   "id": "9f8edbb6",
   "metadata": {},
   "outputs": [
    {
     "name": "stdout",
     "output_type": "stream",
     "text": [
      "The classification report for test dataset is as follows:\n",
      "***************************************************************\n",
      "              precision    recall  f1-score   support\n",
      "\n",
      "           0       0.83      0.59      0.69        17\n",
      "           1       0.92      0.73      0.81        15\n",
      "           2       0.33      0.67      0.44         6\n",
      "           3       0.58      0.58      0.58        12\n",
      "           4       0.92      0.92      0.92        12\n",
      "           5       0.83      1.00      0.91        10\n",
      "\n",
      "    accuracy                           0.74        72\n",
      "   macro avg       0.74      0.75      0.73        72\n",
      "weighted avg       0.78      0.74      0.75        72\n",
      "\n",
      "***************************************************************\n"
     ]
    }
   ],
   "source": [
    "print(\"The classification report for test dataset is as follows:\")\n",
    "print(\"***************************************************************\")\n",
    "print(classification_report(y_pred,y_test))\n",
    "print(\"***************************************************************\")"
   ]
  },
  {
   "cell_type": "code",
   "execution_count": 14,
   "id": "74971cee",
   "metadata": {},
   "outputs": [
    {
     "name": "stdout",
     "output_type": "stream",
     "text": [
      "The confusion matrix for test dataset is as follows:\n"
     ]
    },
    {
     "data": {
      "image/png": "[encoded data removed]",
      "text/plain": [
       "<Figure size 432x288 with 1 Axes>"
      ]
     },
     "metadata": {
      "needs_background": "light"
     },
     "output_type": "display_data"
    }
   ],
   "source": [
    "print(\"The confusion matrix for test dataset is as follows:\")\n",
    "cm_test_data = confusion_matrix(y_pred,y_test, \n",
    "                      binary=False)\n",
    "\n",
    "fig, ax = plot_confusion_matrix(conf_mat=cm_test_data) \n",
    "                                #class_names=test_labels_array_true)\n",
    "plt.show()"
   ]
  },
  {
   "cell_type": "code",
   "execution_count": 15,
   "id": "8eddc38c",
   "metadata": {},
   "outputs": [
    {
     "name": "stdout",
     "output_type": "stream",
     "text": [
      "Enter datapath for test dataset\n",
      "The path for test dataset is:  D:\\Group 11\\Data\\valid\n"
     ]
    }
   ],
   "source": [
    "print(\"Enter datapath for test dataset\")\n",
    "#valid_data_folder = Path(str(input()))\n",
    "valid_data_folder = Path(\"D:/Group 11/Data/valid\")\n",
    "print(\"The path for test dataset is: \",valid_data_folder)"
   ]
  },
  {
   "cell_type": "code",
   "execution_count": 16,
   "id": "765170ea",
   "metadata": {},
   "outputs": [],
   "source": [
    "valid_df = image_data(valid_data_folder)"
   ]
  },
  {
   "cell_type": "code",
   "execution_count": 17,
   "id": "dd3cb483",
   "metadata": {},
   "outputs": [],
   "source": [
    "x_valid = valid_df.iloc[:,:-1]\n",
    "y_valid =valid_df.iloc[:,-1]"
   ]
  },
  {
   "cell_type": "code",
   "execution_count": 18,
   "id": "1450dddc",
   "metadata": {},
   "outputs": [
    {
     "name": "stdout",
     "output_type": "stream",
     "text": [
      "The predicted Data is :\n",
      "[0 3 3 3 0 0 0 3 0 0 0 0 1 1 1 1 1 1 1 1 1 1 1 1 2 0 2 2 2 2 0 2 4 0 2 0 3\n",
      " 3 3 3 4 3 4 4 1 3 3 4 4 4 4 4 4 3 4 4 4 4 4 4 5 5 5 5 5 5 5 5 5 5 5 5]\n",
      "The actual data is:\n",
      "[0 0 0 0 0 0 0 0 0 0 0 0 1 1 1 1 1 1 1 1 1 1 1 1 2 2 2 2 2 2 2 2 2 2 2 2 3\n",
      " 3 3 3 3 3 3 3 3 3 3 3 4 4 4 4 4 4 4 4 4 4 4 4 5 5 5 5 5 5 5 5 5 5 5 5]\n",
      "The model is 79.16666666666666% accurate\n"
     ]
    }
   ],
   "source": [
    "y_valid_pred = clf.predict(x_valid)\n",
    "print(\"The predicted Data is :\")\n",
    "print(y_valid_pred)\n",
    "print(\"The actual data is:\")\n",
    "print(np.array(y_valid))\n",
    "print(f\"The model is {accuracy_score(y_valid_pred,y_valid)*100}% accurate\")"
   ]
  },
  {
   "cell_type": "code",
   "execution_count": 19,
   "id": "84efdf7f",
   "metadata": {},
   "outputs": [
    {
     "name": "stdout",
     "output_type": "stream",
     "text": [
      "The classification report for test dataset is as follows:\n",
      "***************************************************************\n",
      "              precision    recall  f1-score   support\n",
      "\n",
      "           0       0.67      0.67      0.67        12\n",
      "           1       1.00      0.92      0.96        13\n",
      "           2       0.58      1.00      0.74         7\n",
      "           3       0.58      0.58      0.58        12\n",
      "           4       0.92      0.69      0.79        16\n",
      "           5       1.00      1.00      1.00        12\n",
      "\n",
      "    accuracy                           0.79        72\n",
      "   macro avg       0.79      0.81      0.79        72\n",
      "weighted avg       0.82      0.79      0.79        72\n",
      "\n",
      "***************************************************************\n"
     ]
    }
   ],
   "source": [
    "print(\"The classification report for test dataset is as follows:\")\n",
    "print(\"***************************************************************\")\n",
    "print(classification_report(y_valid_pred,y_valid))\n",
    "print(\"***************************************************************\")"
   ]
  },
  {
   "cell_type": "code",
   "execution_count": 20,
   "id": "080e7b17",
   "metadata": {},
   "outputs": [
    {
     "name": "stdout",
     "output_type": "stream",
     "text": [
      "The confusion matrix for test dataset is as follows:\n"
     ]
    },
    {
     "data": {
      "image/png": "[encoded data removed]",
      "text/plain": [
       "<Figure size 432x288 with 1 Axes>"
      ]
     },
     "metadata": {
      "needs_background": "light"
     },
     "output_type": "display_data"
    }
   ],
   "source": [
    "print(\"The confusion matrix for test dataset is as follows:\")\n",
    "cm_test_data = confusion_matrix(y_valid_pred,y_valid, \n",
    "                      binary=False)\n",
    "\n",
    "fig, ax = plot_confusion_matrix(conf_mat=cm_test_data) \n",
    "                                #class_names=test_labels_array_true)\n",
    "plt.show()"
   ]
  }
 ],
 "metadata": {
  "kernelspec": {
   "display_name": "Python 3 (ipykernel)",
   "language": "python",
   "name": "python3"
  },
  "language_info": {
   "codemirror_mode": {
    "name": "ipython",
    "version": 3
   },
   "file_extension": ".py",
   "mimetype": "text/x-python",
   "name": "python",
   "nbconvert_exporter": "python",
   "pygments_lexer": "ipython3",
   "version": "3.9.12"
  }
 },
 "nbformat": 4,
 "nbformat_minor": 5
}
