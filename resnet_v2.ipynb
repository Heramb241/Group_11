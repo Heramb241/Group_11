{
  "cells": [
    {
      "cell_type": "code",
      "execution_count": 43,
      "metadata": {
        "id": "0eH7zROBO5kd"
      },
      "outputs": [],
      "source": [
        "import os\n",
        "import matplotlib.pyplot as plt\n",
        "%matplotlib inline\n",
        "import tensorflow as tf\n",
        "from tensorflow import keras\n",
        "from tensorflow.keras import layers\n",
        "\n",
        "from tensorflow.keras.preprocessing.image import ImageDataGenerator #for data organised in folders"
      ]
    },
    {
      "cell_type": "code",
      "source": [
        "from google.colab import drive\n",
        "drive.mount('/content/drive')"
      ],
      "metadata": {
        "colab": {
          "base_uri": "https://localhost:8080/"
        },
        "id": "9KdPSb-h5KVo",
        "outputId": "97f67e35-ebae-471d-f028-cb0019cbdc18"
      },
      "execution_count": 44,
      "outputs": [
        {
          "output_type": "stream",
          "name": "stdout",
          "text": [
            "Drive already mounted at /content/drive; to attempt to forcibly remount, call drive.mount(\"/content/drive\", force_remount=True).\n"
          ]
        }
      ]
    },
    {
      "cell_type": "code",
      "execution_count": 45,
      "metadata": {
        "id": "habbGNZ34miy"
      },
      "outputs": [],
      "source": [
        "#path=r'./NEU Metal Surface Defects Data' #for desktop"
      ]
    },
    {
      "cell_type": "code",
      "execution_count": 46,
      "metadata": {
        "id": "Ps9W74s7REAb"
      },
      "outputs": [],
      "source": [
        "# # accessing data from colab\n",
        "# from google.colab import drive\n",
        "# drive.mount('/content/drive')"
      ]
    },
    {
      "cell_type": "code",
      "execution_count": 47,
      "metadata": {
        "id": "1V3ldH4fRbj0"
      },
      "outputs": [],
      "source": [
        "# folder path\n",
        "path=r'/content/drive/MyDrive/Colab Notebooks/Tlab/NEU Metal Surface Defects Data'"
      ]
    },
    {
      "cell_type": "code",
      "execution_count": 48,
      "metadata": {
        "id": "S-VvDncjRv3C"
      },
      "outputs": [],
      "source": [
        "#exploring folder"
      ]
    },
    {
      "cell_type": "code",
      "execution_count": 49,
      "metadata": {
        "colab": {
          "base_uri": "https://localhost:8080/"
        },
        "id": "pVKsZMhkRzfk",
        "outputId": "b64f60c7-adcb-4385-93ac-8e8772ddcc76"
      },
      "outputs": [
        {
          "output_type": "execute_result",
          "data": {
            "text/plain": [
              "['Thumbs.db', 'train', 'test', 'valid']"
            ]
          },
          "metadata": {},
          "execution_count": 49
        }
      ],
      "source": [
        "os.listdir(path)"
      ]
    },
    {
      "cell_type": "code",
      "execution_count": 50,
      "metadata": {
        "colab": {
          "base_uri": "https://localhost:8080/"
        },
        "id": "T6hXJJXGR2-t",
        "outputId": "47cde383-820b-4944-ec96-61eaf6aa0ce2"
      },
      "outputs": [
        {
          "output_type": "execute_result",
          "data": {
            "text/plain": [
              "['Inclusion', 'Patches', 'Crazing', 'Pitted', 'Scratches', 'Rolled']"
            ]
          },
          "metadata": {},
          "execution_count": 50
        }
      ],
      "source": [
        "os.listdir(path+'/train')"
      ]
    },
    {
      "cell_type": "code",
      "execution_count": 51,
      "metadata": {
        "colab": {
          "base_uri": "https://localhost:8080/"
        },
        "id": "zRx7jdvHR8rc",
        "outputId": "941feb6b-0a25-48b4-acb0-2090993d0633"
      },
      "outputs": [
        {
          "output_type": "stream",
          "name": "stdout",
          "text": [
            "['Inclusion', 'Patches', 'Crazing', 'Pitted', 'Scratches', 'Rolled']\n",
            "<class 'list'>\n"
          ]
        }
      ],
      "source": [
        "classes_defects=os.listdir(path+'/train')\n",
        "print(classes_defects)\n",
        "print(type(classes_defects))"
      ]
    },
    {
      "cell_type": "code",
      "execution_count": 52,
      "metadata": {
        "colab": {
          "base_uri": "https://localhost:8080/"
        },
        "id": "Qoi73fWQSegc",
        "outputId": "b47a0e4b-fd1b-471a-e5ab-1fcd8dfe5782"
      },
      "outputs": [
        {
          "output_type": "execute_result",
          "data": {
            "text/plain": [
              "['Pa_206.bmp',\n",
              " 'Pa_165.bmp',\n",
              " 'Pa_145.bmp',\n",
              " 'Pa_156.bmp',\n",
              " 'Pa_226.bmp',\n",
              " 'Pa_243.bmp',\n",
              " 'Pa_209.bmp',\n",
              " 'Pa_195.bmp',\n",
              " 'Pa_131.bmp',\n",
              " 'Pa_16.bmp']"
            ]
          },
          "metadata": {},
          "execution_count": 52
        }
      ],
      "source": [
        "os.listdir(path+'/train/Patches')[:10]"
      ]
    },
    {
      "cell_type": "code",
      "execution_count": 53,
      "metadata": {
        "id": "-s5UQV0IS7Le"
      },
      "outputs": [],
      "source": [
        "from PIL import Image"
      ]
    },
    {
      "cell_type": "code",
      "execution_count": 54,
      "metadata": {
        "colab": {
          "base_uri": "https://localhost:8080/"
        },
        "id": "W2BjIqwVTDQc",
        "outputId": "66620a29-072b-4bcb-a497-ada5c6ff43ee"
      },
      "outputs": [
        {
          "output_type": "stream",
          "name": "stdout",
          "text": [
            "/content/drive/MyDrive/Colab Notebooks/Tlab/NEU Metal Surface Defects Data/train/Patches/Pa_206.bmp\n",
            "BMP\n",
            "L\n",
            "(200, 200)\n"
          ]
        }
      ],
      "source": [
        "img1=Image.open(path+'/train/Patches/Pa_206.bmp')\n",
        "print(img1.filename)\n",
        "print(img1.format)\n",
        "print(img1.mode)\n",
        "print(img1.size)\n",
        "\n",
        "# # The \"L\" mode represents grayscale here.... So it can hold any of 256 shades of Gray \n",
        "# (includes black and white as Gray shades).\n",
        "# # The \"P\" mode can hold 256 different colors like red,blue, green etc....\n",
        "# https://stackoverflow.com/questions/52307290/what-is-the-difference-between-images-in-p-and-l-mode-in-pil#:~:text=Examples%3A%208%20bit%20black%20and,are%20%22P%22%20mode.."
      ]
    },
    {
      "cell_type": "code",
      "execution_count": 55,
      "metadata": {
        "id": "IiCMG6LTSOGN"
      },
      "outputs": [],
      "source": [
        "image=plt.imread(path+'/train/Patches/Pa_206.bmp')\n"
      ]
    },
    {
      "cell_type": "code",
      "execution_count": 56,
      "metadata": {
        "colab": {
          "base_uri": "https://localhost:8080/",
          "height": 304
        },
        "id": "5MIGHv_vSrxz",
        "outputId": "c101d5a2-368f-4275-b333-85809f345a3d"
      },
      "outputs": [
        {
          "output_type": "stream",
          "name": "stdout",
          "text": [
            "(200, 200)\n",
            "max_pixel_value: 255\n"
          ]
        },
        {
          "output_type": "display_data",
          "data": {
            "text/plain": [
              "<Figure size 432x288 with 1 Axes>"
            ],
            "image/png": "[encoded data removed]"
          },
          "metadata": {
            "needs_background": "light"
          }
        }
      ],
      "source": [
        "print(image.shape)\n",
        "plt.imshow(image,cmap='gray')\n",
        "print(\"max_pixel_value: {}\".format(image.max()))"
      ]
    },
    {
      "cell_type": "code",
      "execution_count": 56,
      "metadata": {
        "id": "t189_sQHTw9N"
      },
      "outputs": [],
      "source": [
        ""
      ]
    },
    {
      "cell_type": "code",
      "execution_count": 57,
      "metadata": {
        "id": "uf0_K6MHUUi1"
      },
      "outputs": [],
      "source": [
        "image_height=200\n",
        "image_width=200\n",
        "batch_size=16"
      ]
    },
    {
      "cell_type": "code",
      "execution_count": 58,
      "metadata": {
        "id": "9KUfi1xOUUo_"
      },
      "outputs": [],
      "source": [
        "#ImageDataGenerator and flow_from_directory for datasets"
      ]
    },
    {
      "cell_type": "code",
      "execution_count": 59,
      "metadata": {
        "id": "g97uGV7oXQeO"
      },
      "outputs": [],
      "source": [
        "# # https://vijayabhaskar96.medium.com/tutorial-image-classification-with-keras-flow-from-directory-and-generators-95f75ebe5720\n",
        "\n",
        "# https://github.com/aladdinpersson/Machine-Learning-Collection/blob/master/ML/TensorFlow/Basics/tutorial18-customdata-images/1_in_subfolders.py"
      ]
    },
    {
      "cell_type": "code",
      "execution_count": 60,
      "metadata": {
        "id": "5MZT5ja9XdFG"
      },
      "outputs": [],
      "source": [
        "data_generator=ImageDataGenerator(\n",
        "    rescale=1.0/255,\n",
        "    dtype=tf.float32,\n",
        "    \n",
        ")"
      ]
    },
    {
      "cell_type": "code",
      "execution_count": 61,
      "metadata": {
        "colab": {
          "base_uri": "https://localhost:8080/"
        },
        "id": "UfIlTPg7Z4FM",
        "outputId": "6bf1a342-d959-4fef-fa4b-272caaccfcb8"
      },
      "outputs": [
        {
          "output_type": "stream",
          "name": "stdout",
          "text": [
            "Found 1667 images belonging to 6 classes.\n"
          ]
        }
      ],
      "source": [
        "train_ds=data_generator.flow_from_directory(\n",
        "    path+'/train',\n",
        "    target_size=(200,200),\n",
        "    # color_mode='grayscale',\n",
        "    classes=classes_defects,\n",
        "    class_mode='sparse',\n",
        "    shuffle=True,\n",
        "    seed=1,\n",
        "    batch_size=batch_size\n",
        ")"
      ]
    },
    {
      "cell_type": "code",
      "execution_count": 62,
      "metadata": {
        "colab": {
          "base_uri": "https://localhost:8080/"
        },
        "id": "fd1x129WbHZX",
        "outputId": "89cef027-7eda-48e3-a0bd-312d6c943db9"
      },
      "outputs": [
        {
          "output_type": "stream",
          "name": "stdout",
          "text": [
            "Found 72 images belonging to 6 classes.\n"
          ]
        }
      ],
      "source": [
        "valid_ds=data_generator.flow_from_directory(\n",
        "    path+'/valid',\n",
        "    target_size=(200,200),\n",
        "    # color_mode='grayscale',\n",
        "    classes=classes_defects,\n",
        "    class_mode='sparse',\n",
        "    shuffle=True,\n",
        "    seed=1,\n",
        "    batch_size=batch_size\n",
        ")"
      ]
    },
    {
      "cell_type": "code",
      "execution_count": 63,
      "metadata": {
        "colab": {
          "base_uri": "https://localhost:8080/"
        },
        "id": "70aEnJ-zbOG1",
        "outputId": "16d2c1f1-66cd-452f-e560-399abde911b1"
      },
      "outputs": [
        {
          "output_type": "stream",
          "name": "stdout",
          "text": [
            "Found 72 images belonging to 6 classes.\n"
          ]
        }
      ],
      "source": [
        "test_ds=data_generator.flow_from_directory(\n",
        "    path+'/test',\n",
        "    target_size=(200,200),\n",
        "    # color_mode='grayscale',\n",
        "    classes=classes_defects,\n",
        "    class_mode='sparse',\n",
        "    shuffle=False,\n",
        "    seed=1,\n",
        "    batch_size=batch_size\n",
        ")"
      ]
    },
    {
      "cell_type": "code",
      "execution_count": 64,
      "metadata": {
        "id": "gxi_iTNsba69"
      },
      "outputs": [],
      "source": [
        "# exploring datsets"
      ]
    },
    {
      "cell_type": "code",
      "execution_count": 65,
      "metadata": {
        "id": "GMWPr77BdKoY"
      },
      "outputs": [],
      "source": [
        "import numpy as np"
      ]
    },
    {
      "cell_type": "code",
      "execution_count": 66,
      "metadata": {
        "colab": {
          "base_uri": "https://localhost:8080/"
        },
        "id": "vqWjOZ7XfdQp",
        "outputId": "b7d0c628-a519-4cc7-cbaa-3078dea926a2"
      },
      "outputs": [
        {
          "output_type": "stream",
          "name": "stdout",
          "text": [
            "2\n"
          ]
        }
      ],
      "source": [
        "print(len(train_ds[0]))"
      ]
    },
    {
      "cell_type": "code",
      "execution_count": 67,
      "metadata": {
        "colab": {
          "base_uri": "https://localhost:8080/"
        },
        "id": "52CxVsaaf05a",
        "outputId": "0ca04127-6ea9-420e-a34a-0bca9676dc46"
      },
      "outputs": [
        {
          "output_type": "stream",
          "name": "stdout",
          "text": [
            "16\n"
          ]
        }
      ],
      "source": [
        "print(len(train_ds[0][0]))"
      ]
    },
    {
      "cell_type": "code",
      "execution_count": 68,
      "metadata": {
        "colab": {
          "base_uri": "https://localhost:8080/"
        },
        "id": "IHfdu_ncgBVA",
        "outputId": "a1402d04-1c32-4c03-c333-09d21368db1f"
      },
      "outputs": [
        {
          "output_type": "stream",
          "name": "stdout",
          "text": [
            "(16, 200, 200, 3)\n"
          ]
        }
      ],
      "source": [
        "print(train_ds[0][0].shape)"
      ]
    },
    {
      "cell_type": "code",
      "execution_count": 69,
      "metadata": {
        "colab": {
          "base_uri": "https://localhost:8080/",
          "height": 373
        },
        "id": "6TYmnOdfbtXs",
        "outputId": "412f011a-ad4f-40c1-828f-44a752474324"
      },
      "outputs": [
        {
          "output_type": "stream",
          "name": "stdout",
          "text": [
            "(16, 200, 200, 3)\n",
            "3.0\n",
            "['Inclusion', 'Patches', 'Crazing', 'Pitted', 'Scratches', 'Rolled']\n",
            "{'Inclusion': 0, 'Patches': 1, 'Crazing': 2, 'Pitted': 3, 'Scratches': 4, 'Rolled': 5}\n",
            "tf.Tensor([3 0 5 3 0 3 0 5 4 2 0 3 4 3 0 1], shape=(16,), dtype=uint8)\n",
            "Pitted\n"
          ]
        },
        {
          "output_type": "display_data",
          "data": {
            "text/plain": [
              "<Figure size 432x288 with 1 Axes>"
            ],
            "image/png": "[encoded data removed]"
          },
          "metadata": {
            "needs_background": "light"
          }
        }
      ],
      "source": [
        "for images,labels in train_ds:\n",
        "  plt.imshow(images[0],cmap='gray')\n",
        "  print(images.shape)\n",
        "  print(labels[0])\n",
        "  labels=tf.cast(labels,tf.uint8)\n",
        "  print(classes_defects)\n",
        "  print(train_ds.class_indices)\n",
        "  print((labels))\n",
        "  print(classes_defects[labels[0]])\n",
        "  break"
      ]
    },
    {
      "cell_type": "code",
      "execution_count": 69,
      "metadata": {
        "id": "wy_7uyOFgArJ"
      },
      "outputs": [],
      "source": [
        ""
      ]
    },
    {
      "cell_type": "code",
      "execution_count": 70,
      "metadata": {
        "id": "5_TNSItzeM4f"
      },
      "outputs": [],
      "source": [
        "#Pretrained models keras"
      ]
    },
    {
      "cell_type": "code",
      "execution_count": 71,
      "metadata": {
        "id": "om89k4pMd32x"
      },
      "outputs": [],
      "source": [
        "# https://keras.io/api/applications/"
      ]
    },
    {
      "cell_type": "code",
      "execution_count": 72,
      "metadata": {
        "id": "q28kVXiueMBY"
      },
      "outputs": [],
      "source": [
        "# https://towardsdatascience.com/transfer-learning-for-image-classification-using-tensorflow-71c359b56673"
      ]
    },
    {
      "cell_type": "code",
      "execution_count": 73,
      "metadata": {
        "id": "ZmJIaTmj45JZ"
      },
      "outputs": [],
      "source": [
        "from tensorflow.keras.applications import ResNet50"
      ]
    },
    {
      "cell_type": "code",
      "source": [
        "feature_extractor=ResNet50(weights='imagenet',input_shape=(200,200,3))\n",
        "feature_extractor.trainable=True"
      ],
      "metadata": {
        "colab": {
          "base_uri": "https://localhost:8080/",
          "height": 363
        },
        "id": "XVeheo-v-Fbm",
        "outputId": "d6b47104-ce1a-469f-9e45-6cb0d5749d6f"
      },
      "execution_count": 74,
      "outputs": [
        {
          "output_type": "error",
          "ename": "ValueError",
          "evalue": "ignored",
          "traceback": [
            "\u001b[0;31m---------------------------------------------------------------------------\u001b[0m",
            "\u001b[0;31mValueError\u001b[0m                                Traceback (most recent call last)",
            "\u001b[0;32m<ipython-input-74-88a9f4fee65e>\u001b[0m in \u001b[0;36m<module>\u001b[0;34m()\u001b[0m\n\u001b[0;32m----> 1\u001b[0;31m \u001b[0mfeature_extractor\u001b[0m\u001b[0;34m=\u001b[0m\u001b[0mResNet50\u001b[0m\u001b[0;34m(\u001b[0m\u001b[0mweights\u001b[0m\u001b[0;34m=\u001b[0m\u001b[0;34m'imagenet'\u001b[0m\u001b[0;34m,\u001b[0m\u001b[0minput_shape\u001b[0m\u001b[0;34m=\u001b[0m\u001b[0;34m(\u001b[0m\u001b[0;36m200\u001b[0m\u001b[0;34m,\u001b[0m\u001b[0;36m200\u001b[0m\u001b[0;34m,\u001b[0m\u001b[0;36m3\u001b[0m\u001b[0;34m)\u001b[0m\u001b[0;34m)\u001b[0m\u001b[0;34m\u001b[0m\u001b[0;34m\u001b[0m\u001b[0m\n\u001b[0m\u001b[1;32m      2\u001b[0m \u001b[0mfeature_extractor\u001b[0m\u001b[0;34m.\u001b[0m\u001b[0mtrainable\u001b[0m\u001b[0;34m=\u001b[0m\u001b[0;32mTrue\u001b[0m\u001b[0;34m\u001b[0m\u001b[0;34m\u001b[0m\u001b[0m\n",
            "\u001b[0;32m/usr/local/lib/python3.7/dist-packages/keras/applications/resnet.py\u001b[0m in \u001b[0;36mResNet50\u001b[0;34m(include_top, weights, input_tensor, input_shape, pooling, classes, **kwargs)\u001b[0m\n\u001b[1;32m    457\u001b[0m \u001b[0;34m\u001b[0m\u001b[0m\n\u001b[1;32m    458\u001b[0m   return ResNet(stack_fn, False, True, 'resnet50', include_top, weights,\n\u001b[0;32m--> 459\u001b[0;31m                 input_tensor, input_shape, pooling, classes, **kwargs)\n\u001b[0m\u001b[1;32m    460\u001b[0m \u001b[0;34m\u001b[0m\u001b[0m\n\u001b[1;32m    461\u001b[0m \u001b[0;34m\u001b[0m\u001b[0m\n",
            "\u001b[0;32m/usr/local/lib/python3.7/dist-packages/keras/applications/resnet.py\u001b[0m in \u001b[0;36mResNet\u001b[0;34m(stack_fn, preact, use_bias, model_name, include_top, weights, input_tensor, input_shape, pooling, classes, classifier_activation, **kwargs)\u001b[0m\n\u001b[1;32m    139\u001b[0m       \u001b[0mdata_format\u001b[0m\u001b[0;34m=\u001b[0m\u001b[0mbackend\u001b[0m\u001b[0;34m.\u001b[0m\u001b[0mimage_data_format\u001b[0m\u001b[0;34m(\u001b[0m\u001b[0;34m)\u001b[0m\u001b[0;34m,\u001b[0m\u001b[0;34m\u001b[0m\u001b[0;34m\u001b[0m\u001b[0m\n\u001b[1;32m    140\u001b[0m       \u001b[0mrequire_flatten\u001b[0m\u001b[0;34m=\u001b[0m\u001b[0minclude_top\u001b[0m\u001b[0;34m,\u001b[0m\u001b[0;34m\u001b[0m\u001b[0;34m\u001b[0m\u001b[0m\n\u001b[0;32m--> 141\u001b[0;31m       weights=weights)\n\u001b[0m\u001b[1;32m    142\u001b[0m \u001b[0;34m\u001b[0m\u001b[0m\n\u001b[1;32m    143\u001b[0m   \u001b[0;32mif\u001b[0m \u001b[0minput_tensor\u001b[0m \u001b[0;32mis\u001b[0m \u001b[0;32mNone\u001b[0m\u001b[0;34m:\u001b[0m\u001b[0;34m\u001b[0m\u001b[0;34m\u001b[0m\u001b[0m\n",
            "\u001b[0;32m/usr/local/lib/python3.7/dist-packages/keras/applications/imagenet_utils.py\u001b[0m in \u001b[0;36mobtain_input_shape\u001b[0;34m(input_shape, default_size, min_size, data_format, require_flatten, weights)\u001b[0m\n\u001b[1;32m    347\u001b[0m     \u001b[0;32mif\u001b[0m \u001b[0minput_shape\u001b[0m \u001b[0;32mis\u001b[0m \u001b[0;32mnot\u001b[0m \u001b[0;32mNone\u001b[0m\u001b[0;34m:\u001b[0m\u001b[0;34m\u001b[0m\u001b[0;34m\u001b[0m\u001b[0m\n\u001b[1;32m    348\u001b[0m       \u001b[0;32mif\u001b[0m \u001b[0minput_shape\u001b[0m \u001b[0;34m!=\u001b[0m \u001b[0mdefault_shape\u001b[0m\u001b[0;34m:\u001b[0m\u001b[0;34m\u001b[0m\u001b[0;34m\u001b[0m\u001b[0m\n\u001b[0;32m--> 349\u001b[0;31m         raise ValueError('When setting `include_top=True` '\n\u001b[0m\u001b[1;32m    350\u001b[0m                          \u001b[0;34m'and loading `imagenet` weights, '\u001b[0m\u001b[0;34m\u001b[0m\u001b[0;34m\u001b[0m\u001b[0m\n\u001b[1;32m    351\u001b[0m                          \u001b[0;34mf'`input_shape` should be {default_shape}.  '\u001b[0m\u001b[0;34m\u001b[0m\u001b[0;34m\u001b[0m\u001b[0m\n",
            "\u001b[0;31mValueError\u001b[0m: When setting `include_top=True` and loading `imagenet` weights, `input_shape` should be (224, 224, 3).  Received: input_shape=(200, 200, 3)"
          ]
        }
      ]
    },
    {
      "cell_type": "code",
      "source": [
        "feature_extractor=ResNet50(weights='imagenet',input_shape=(224,224,3))\n",
        "feature_extractor.trainable=True\n"
      ],
      "metadata": {
        "id": "-3aQQs2a_eux"
      },
      "execution_count": 75,
      "outputs": []
    },
    {
      "cell_type": "code",
      "execution_count": 76,
      "metadata": {
        "id": "2ij8Gdq645NH"
      },
      "outputs": [],
      "source": [
        "# feature_extractor=ResNet50(weights='imagenet',input_shape=(200,200,3),include_top=False)\n",
        "# feature_extractor.trainable=False"
      ]
    },
    {
      "cell_type": "code",
      "source": [
        "data_aug=keras.Sequential([\n",
        "                           tf.keras.Input(shape=(200,200,3)),\n",
        "                           layers.experimental.preprocessing.Resizing(height=224,width=224),\n",
        "                           layers.experimental.preprocessing.RandomContrast(factor=0.25),\n",
        "                           layers.experimental.preprocessing.RandomFlip(mode=\"horizontal_and_vertical\"),\n",
        "                           layers.experimental.preprocessing.RandomZoom(0.5,0.6),\n",
        "                           layers.experimental.preprocessing.RandomRotation(0.5),\n",
        "                           layers.experimental.preprocessing.RandomTranslation(0.2,0.2),\n",
        "\n",
        "])"
      ],
      "metadata": {
        "id": "gxs7OXqf_lnH"
      },
      "execution_count": 77,
      "outputs": []
    },
    {
      "cell_type": "code",
      "source": [
        ""
      ],
      "metadata": {
        "id": "SkTjGo0L_lvu"
      },
      "execution_count": 77,
      "outputs": []
    },
    {
      "cell_type": "code",
      "execution_count": 78,
      "metadata": {
        "id": "ih-RqwlP45Rj"
      },
      "outputs": [],
      "source": [
        "input_=tf.keras.Input(shape=(200,200,3))\n",
        "x=data_aug(input_)\n",
        "x=feature_extractor(x)\n",
        "# x = tf.keras.layers.GlobalAveragePooling2D()(x)\n",
        "x=layers.Dense(128,activation='relu')(x)\n",
        "x=layers.Dense(64,activation='relu')(x)\n",
        "x=layers.Dense(32,activation='relu')(x)\n",
        "output_=layers.Dense(6)(x)"
      ]
    },
    {
      "cell_type": "code",
      "execution_count": 79,
      "metadata": {
        "id": "aOeqdFR845U7"
      },
      "outputs": [],
      "source": [
        "model=keras.Model(input_,output_)"
      ]
    },
    {
      "cell_type": "code",
      "execution_count": 80,
      "metadata": {
        "colab": {
          "base_uri": "https://localhost:8080/"
        },
        "id": "aaWM7UHF45X5",
        "outputId": "0975589e-a52c-4135-c141-daf9bbd92a60"
      },
      "outputs": [
        {
          "output_type": "stream",
          "name": "stdout",
          "text": [
            "Model: \"model_1\"\n",
            "_________________________________________________________________\n",
            " Layer (type)                Output Shape              Param #   \n",
            "=================================================================\n",
            " input_6 (InputLayer)        [(None, 200, 200, 3)]     0         \n",
            "                                                                 \n",
            " sequential_1 (Sequential)   (None, 224, 224, 3)       0         \n",
            "                                                                 \n",
            " resnet50 (Functional)       (None, 1000)              25636712  \n",
            "                                                                 \n",
            " dense_4 (Dense)             (None, 128)               128128    \n",
            "                                                                 \n",
            " dense_5 (Dense)             (None, 64)                8256      \n",
            "                                                                 \n",
            " dense_6 (Dense)             (None, 32)                2080      \n",
            "                                                                 \n",
            " dense_7 (Dense)             (None, 6)                 198       \n",
            "                                                                 \n",
            "=================================================================\n",
            "Total params: 25,775,374\n",
            "Trainable params: 25,722,254\n",
            "Non-trainable params: 53,120\n",
            "_________________________________________________________________\n",
            "None\n"
          ]
        }
      ],
      "source": [
        "print(model.summary())"
      ]
    },
    {
      "cell_type": "code",
      "execution_count": 81,
      "metadata": {
        "id": "t7yS6Wme45ao"
      },
      "outputs": [],
      "source": [
        "model.compile(loss=keras.losses.SparseCategoricalCrossentropy(from_logits=True),\n",
        "              optimizer=keras.optimizers.Adam(0.0001),\n",
        "              metrics=['accuracy'])"
      ]
    },
    {
      "cell_type": "code",
      "execution_count": 82,
      "metadata": {
        "colab": {
          "base_uri": "https://localhost:8080/"
        },
        "id": "TYoVVgei-7E9",
        "outputId": "dd8af055-0a0b-4ea6-bec8-6c1dbfab7b72"
      },
      "outputs": [
        {
          "output_type": "stream",
          "name": "stdout",
          "text": [
            "Epoch 1/50\n",
            "105/105 [==============================] - 27s 204ms/step - loss: 1.7526 - accuracy: 0.4631 - val_loss: 1.7955 - val_accuracy: 0.1667\n",
            "Epoch 2/50\n",
            "105/105 [==============================] - 21s 198ms/step - loss: 1.6598 - accuracy: 0.6497 - val_loss: 1.8344 - val_accuracy: 0.1667\n",
            "Epoch 3/50\n",
            "105/105 [==============================] - 21s 197ms/step - loss: 1.5179 - accuracy: 0.6683 - val_loss: 1.9514 - val_accuracy: 0.1667\n",
            "Epoch 4/50\n",
            "105/105 [==============================] - 20s 194ms/step - loss: 1.3243 - accuracy: 0.6761 - val_loss: 2.0868 - val_accuracy: 0.1667\n",
            "Epoch 5/50\n",
            "105/105 [==============================] - 21s 198ms/step - loss: 1.0941 - accuracy: 0.7133 - val_loss: 2.5324 - val_accuracy: 0.1111\n",
            "Epoch 6/50\n",
            "105/105 [==============================] - 21s 197ms/step - loss: 1.0002 - accuracy: 0.6863 - val_loss: 2.7286 - val_accuracy: 0.1667\n",
            "Epoch 7/50\n",
            "105/105 [==============================] - 20s 194ms/step - loss: 0.9298 - accuracy: 0.6887 - val_loss: 2.8043 - val_accuracy: 0.1667\n",
            "Epoch 8/50\n",
            "105/105 [==============================] - 21s 196ms/step - loss: 0.8022 - accuracy: 0.7169 - val_loss: 2.8976 - val_accuracy: 0.1667\n",
            "Epoch 9/50\n",
            "105/105 [==============================] - 21s 196ms/step - loss: 0.6975 - accuracy: 0.7409 - val_loss: 2.2405 - val_accuracy: 0.2778\n",
            "Epoch 10/50\n",
            "105/105 [==============================] - 21s 196ms/step - loss: 0.6415 - accuracy: 0.7343 - val_loss: 2.5259 - val_accuracy: 0.3056\n",
            "Epoch 11/50\n",
            "105/105 [==============================] - 21s 196ms/step - loss: 0.5865 - accuracy: 0.7612 - val_loss: 1.5063 - val_accuracy: 0.5278\n",
            "Epoch 12/50\n",
            "105/105 [==============================] - 21s 195ms/step - loss: 0.5176 - accuracy: 0.7828 - val_loss: 0.5484 - val_accuracy: 0.7778\n",
            "Epoch 13/50\n",
            "105/105 [==============================] - 20s 195ms/step - loss: 0.4807 - accuracy: 0.7726 - val_loss: 0.4553 - val_accuracy: 0.7222\n",
            "Epoch 14/50\n",
            "105/105 [==============================] - 20s 195ms/step - loss: 0.4835 - accuracy: 0.7966 - val_loss: 1.0578 - val_accuracy: 0.6667\n",
            "Epoch 15/50\n",
            "105/105 [==============================] - 21s 195ms/step - loss: 0.4360 - accuracy: 0.7858 - val_loss: 0.4450 - val_accuracy: 0.8472\n",
            "Epoch 16/50\n",
            "105/105 [==============================] - 21s 198ms/step - loss: 0.4294 - accuracy: 0.8272 - val_loss: 0.2948 - val_accuracy: 0.9722\n",
            "Epoch 17/50\n",
            "105/105 [==============================] - 21s 195ms/step - loss: 0.3623 - accuracy: 0.9004 - val_loss: 0.1757 - val_accuracy: 1.0000\n",
            "Epoch 18/50\n",
            "105/105 [==============================] - 21s 197ms/step - loss: 0.3073 - accuracy: 0.9316 - val_loss: 0.2409 - val_accuracy: 0.9583\n",
            "Epoch 19/50\n",
            "105/105 [==============================] - 21s 196ms/step - loss: 0.2497 - accuracy: 0.9502 - val_loss: 0.0948 - val_accuracy: 1.0000\n",
            "Epoch 20/50\n",
            "105/105 [==============================] - 20s 195ms/step - loss: 0.2158 - accuracy: 0.9574 - val_loss: 0.1638 - val_accuracy: 0.9722\n",
            "Epoch 21/50\n",
            "105/105 [==============================] - 20s 194ms/step - loss: 0.1911 - accuracy: 0.9568 - val_loss: 0.0602 - val_accuracy: 1.0000\n",
            "Epoch 22/50\n",
            "105/105 [==============================] - 21s 195ms/step - loss: 0.1663 - accuracy: 0.9622 - val_loss: 0.1587 - val_accuracy: 0.9444\n",
            "Epoch 23/50\n",
            "105/105 [==============================] - 21s 196ms/step - loss: 0.1413 - accuracy: 0.9670 - val_loss: 0.0569 - val_accuracy: 1.0000\n",
            "Epoch 24/50\n",
            "105/105 [==============================] - 21s 195ms/step - loss: 0.1599 - accuracy: 0.9574 - val_loss: 0.5538 - val_accuracy: 0.8611\n",
            "Epoch 25/50\n",
            "105/105 [==============================] - 21s 197ms/step - loss: 0.1364 - accuracy: 0.9694 - val_loss: 0.0353 - val_accuracy: 1.0000\n",
            "Epoch 26/50\n",
            "105/105 [==============================] - 21s 195ms/step - loss: 0.1294 - accuracy: 0.9700 - val_loss: 0.0334 - val_accuracy: 1.0000\n",
            "Epoch 27/50\n",
            "105/105 [==============================] - 21s 201ms/step - loss: 0.1404 - accuracy: 0.9694 - val_loss: 0.8009 - val_accuracy: 0.8194\n",
            "Epoch 28/50\n",
            "105/105 [==============================] - 21s 196ms/step - loss: 0.1255 - accuracy: 0.9706 - val_loss: 0.0343 - val_accuracy: 1.0000\n",
            "Epoch 29/50\n",
            "105/105 [==============================] - 21s 195ms/step - loss: 0.1320 - accuracy: 0.9682 - val_loss: 0.0375 - val_accuracy: 1.0000\n",
            "Epoch 30/50\n",
            "105/105 [==============================] - 21s 196ms/step - loss: 0.0773 - accuracy: 0.9802 - val_loss: 0.0195 - val_accuracy: 1.0000\n",
            "Epoch 31/50\n",
            "105/105 [==============================] - 21s 195ms/step - loss: 0.1145 - accuracy: 0.9694 - val_loss: 0.0195 - val_accuracy: 1.0000\n",
            "Epoch 32/50\n",
            "105/105 [==============================] - 20s 195ms/step - loss: 0.0931 - accuracy: 0.9754 - val_loss: 0.0185 - val_accuracy: 1.0000\n",
            "Epoch 33/50\n",
            "105/105 [==============================] - 21s 195ms/step - loss: 0.0766 - accuracy: 0.9790 - val_loss: 0.0143 - val_accuracy: 1.0000\n",
            "Epoch 34/50\n",
            "105/105 [==============================] - 21s 197ms/step - loss: 0.1047 - accuracy: 0.9724 - val_loss: 0.0434 - val_accuracy: 0.9861\n",
            "Epoch 35/50\n",
            "105/105 [==============================] - 21s 196ms/step - loss: 0.1003 - accuracy: 0.9736 - val_loss: 0.0201 - val_accuracy: 1.0000\n",
            "Epoch 36/50\n",
            "105/105 [==============================] - 21s 195ms/step - loss: 0.0589 - accuracy: 0.9856 - val_loss: 0.2042 - val_accuracy: 0.8750\n",
            "Epoch 37/50\n",
            "105/105 [==============================] - 21s 196ms/step - loss: 0.0949 - accuracy: 0.9760 - val_loss: 0.0157 - val_accuracy: 1.0000\n",
            "Epoch 38/50\n",
            "105/105 [==============================] - 21s 196ms/step - loss: 0.0872 - accuracy: 0.9760 - val_loss: 0.0407 - val_accuracy: 0.9861\n",
            "Epoch 39/50\n",
            "105/105 [==============================] - 21s 195ms/step - loss: 0.0956 - accuracy: 0.9712 - val_loss: 0.0194 - val_accuracy: 1.0000\n",
            "Epoch 40/50\n",
            "105/105 [==============================] - 20s 195ms/step - loss: 0.0755 - accuracy: 0.9790 - val_loss: 0.0321 - val_accuracy: 1.0000\n",
            "Epoch 41/50\n",
            "105/105 [==============================] - 21s 197ms/step - loss: 0.1334 - accuracy: 0.9622 - val_loss: 0.0837 - val_accuracy: 0.9722\n",
            "Epoch 42/50\n",
            "105/105 [==============================] - 21s 196ms/step - loss: 0.0753 - accuracy: 0.9790 - val_loss: 0.0105 - val_accuracy: 1.0000\n",
            "Epoch 43/50\n",
            "105/105 [==============================] - 21s 195ms/step - loss: 0.0571 - accuracy: 0.9862 - val_loss: 0.0095 - val_accuracy: 1.0000\n",
            "Epoch 44/50\n",
            "105/105 [==============================] - 21s 197ms/step - loss: 0.0728 - accuracy: 0.9808 - val_loss: 0.0084 - val_accuracy: 1.0000\n",
            "Epoch 45/50\n",
            "105/105 [==============================] - 21s 196ms/step - loss: 0.0647 - accuracy: 0.9814 - val_loss: 0.0082 - val_accuracy: 1.0000\n",
            "Epoch 46/50\n",
            "105/105 [==============================] - 21s 196ms/step - loss: 0.0770 - accuracy: 0.9802 - val_loss: 0.0963 - val_accuracy: 0.9444\n",
            "Epoch 47/50\n",
            "105/105 [==============================] - 21s 195ms/step - loss: 0.0450 - accuracy: 0.9880 - val_loss: 0.0115 - val_accuracy: 1.0000\n",
            "Epoch 48/50\n",
            "105/105 [==============================] - 21s 195ms/step - loss: 0.0769 - accuracy: 0.9766 - val_loss: 0.0072 - val_accuracy: 1.0000\n",
            "Epoch 49/50\n",
            "105/105 [==============================] - 21s 196ms/step - loss: 0.0902 - accuracy: 0.9772 - val_loss: 0.0463 - val_accuracy: 0.9722\n",
            "Epoch 50/50\n",
            "105/105 [==============================] - 21s 195ms/step - loss: 0.0832 - accuracy: 0.9772 - val_loss: 0.8767 - val_accuracy: 0.8333\n"
          ]
        }
      ],
      "source": [
        "history=model.fit(train_ds, epochs=50, verbose=True,validation_data=valid_ds)"
      ]
    },
    {
      "cell_type": "code",
      "execution_count": 83,
      "metadata": {
        "id": "jWz2MCKK-7CG",
        "colab": {
          "base_uri": "https://localhost:8080/"
        },
        "outputId": "681b9e87-810d-42f0-8456-2c6de0e1e8ea"
      },
      "outputs": [
        {
          "output_type": "stream",
          "name": "stdout",
          "text": [
            "5/5 [==============================] - 34s 9s/step - loss: 0.8583 - accuracy: 0.7500\n"
          ]
        },
        {
          "output_type": "execute_result",
          "data": {
            "text/plain": [
              "[0.8582887649536133, 0.75]"
            ]
          },
          "metadata": {},
          "execution_count": 83
        }
      ],
      "source": [
        "model.evaluate(test_ds)"
      ]
    },
    {
      "cell_type": "code",
      "execution_count": 84,
      "metadata": {
        "id": "bYgtF61l_b8Q"
      },
      "outputs": [],
      "source": [
        "import matplotlib.pyplot as plt\n",
        "%matplotlib inline"
      ]
    },
    {
      "cell_type": "code",
      "execution_count": 85,
      "metadata": {
        "colab": {
          "base_uri": "https://localhost:8080/"
        },
        "id": "GxqPZ_Kv5F8Y",
        "outputId": "78946218-d605-45a3-fba3-bd5370199a6e"
      },
      "outputs": [
        {
          "output_type": "execute_result",
          "data": {
            "text/plain": [
              "dict_keys(['loss', 'accuracy', 'val_loss', 'val_accuracy'])"
            ]
          },
          "metadata": {},
          "execution_count": 85
        }
      ],
      "source": [
        "history.history.keys()"
      ]
    },
    {
      "cell_type": "code",
      "execution_count": 86,
      "metadata": {
        "id": "ESpFamPO_b5Q",
        "colab": {
          "base_uri": "https://localhost:8080/",
          "height": 297
        },
        "outputId": "45a379ef-7d83-498e-ae6d-9a7d77665f5d"
      },
      "outputs": [
        {
          "output_type": "execute_result",
          "data": {
            "text/plain": [
              "<matplotlib.legend.Legend at 0x7f9d2c8ebf50>"
            ]
          },
          "metadata": {},
          "execution_count": 86
        },
        {
          "output_type": "display_data",
          "data": {
            "text/plain": [
              "<Figure size 432x288 with 1 Axes>"
            ],
            "image/png": "[encoded data removed]"
          },
          "metadata": {
            "needs_background": "light"
          }
        }
      ],
      "source": [
        "plt.plot(history.history['loss'])\n",
        "plt.plot(history.history['val_loss'])\n",
        "plt.xlabel('epochs')\n",
        "plt.ylabel('loss')\n",
        "plt.legend(['train','valid'])"
      ]
    },
    {
      "cell_type": "code",
      "execution_count": 88,
      "metadata": {
        "id": "_honYQQg_b2G",
        "colab": {
          "base_uri": "https://localhost:8080/",
          "height": 296
        },
        "outputId": "746574e4-de8b-4efe-f5eb-0339fc6421e5"
      },
      "outputs": [
        {
          "output_type": "execute_result",
          "data": {
            "text/plain": [
              "<matplotlib.legend.Legend at 0x7f9d2c7d5b90>"
            ]
          },
          "metadata": {},
          "execution_count": 88
        },
        {
          "output_type": "display_data",
          "data": {
            "text/plain": [
              "<Figure size 432x288 with 1 Axes>"
            ],
            "image/png": "[encoded data removed]"
          },
          "metadata": {
            "needs_background": "light"
          }
        }
      ],
      "source": [
        "plt.plot(history.history['accuracy'])\n",
        "plt.plot(history.history['val_accuracy'])\n",
        "plt.xlabel('epochs')\n",
        "plt.ylabel('accuracy')\n",
        "\n",
        "plt.legend(['train','valid'])"
      ]
    },
    {
      "cell_type": "code",
      "execution_count": null,
      "metadata": {
        "id": "haUNAQPE_byX"
      },
      "outputs": [],
      "source": [
        ""
      ]
    },
    {
      "cell_type": "code",
      "execution_count": null,
      "metadata": {
        "id": "fP89u0cO_bvm"
      },
      "outputs": [],
      "source": [
        ""
      ]
    },
    {
      "cell_type": "code",
      "execution_count": null,
      "metadata": {
        "id": "OZqLZNX7_bsy"
      },
      "outputs": [],
      "source": [
        ""
      ]
    },
    {
      "cell_type": "code",
      "execution_count": null,
      "metadata": {
        "id": "BH1d8w-0_bp9"
      },
      "outputs": [],
      "source": [
        ""
      ]
    },
    {
      "cell_type": "code",
      "execution_count": null,
      "metadata": {
        "id": "Jj89U8G-45d5"
      },
      "outputs": [],
      "source": [
        ""
      ]
    },
    {
      "cell_type": "code",
      "execution_count": null,
      "metadata": {
        "id": "J7FY2osKb9eG"
      },
      "outputs": [],
      "source": [
        ""
      ]
    },
    {
      "cell_type": "code",
      "execution_count": null,
      "metadata": {
        "id": "IwBZCl1XqH40"
      },
      "outputs": [],
      "source": [
        ""
      ]
    },
    {
      "cell_type": "code",
      "execution_count": null,
      "metadata": {
        "id": "3aw7Ele1tRyy"
      },
      "outputs": [],
      "source": [
        ""
      ]
    },
    {
      "cell_type": "code",
      "execution_count": null,
      "metadata": {
        "id": "kTLAVm6tn0fL"
      },
      "outputs": [],
      "source": [
        "\n",
        "\n"
      ]
    },
    {
      "cell_type": "code",
      "execution_count": null,
      "metadata": {
        "id": "LUpc0osWtl1A"
      },
      "outputs": [],
      "source": [
        "\n"
      ]
    },
    {
      "cell_type": "code",
      "execution_count": null,
      "metadata": {
        "id": "2lJbYhDlyDOe"
      },
      "outputs": [],
      "source": [
        "model.evaluate(test_ds)"
      ]
    }
  ],
  "metadata": {
    "accelerator": "GPU",
    "colab": {
      "collapsed_sections": [],
      "name": "resnet_v2.ipynb",
      "provenance": []
    },
    "gpuClass": "standard",
    "kernelspec": {
      "display_name": "Python 3 (ipykernel)",
      "language": "python",
      "name": "python3"
    },
    "language_info": {
      "codemirror_mode": {
        "name": "ipython",
        "version": 3
      },
      "file_extension": ".py",
      "mimetype": "text/x-python",
      "name": "python",
      "nbconvert_exporter": "python",
      "pygments_lexer": "ipython3",
      "version": "3.9.7"
    }
  },
  "nbformat": 4,
  "nbformat_minor": 0
}