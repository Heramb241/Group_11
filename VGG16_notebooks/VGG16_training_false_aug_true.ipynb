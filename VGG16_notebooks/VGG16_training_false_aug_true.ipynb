{
 "cells": [
  {
   "cell_type": "markdown",
   "metadata": {
    "id": "VoHvusYNvr0-"
   },
   "source": [
    "#Transfer Learning with **VGG16 Training**(False) and **data augmentation** (True)\n",
    "\n",
    "\n",
    "1.   Epochs=50\n",
    "2.   Learning rate=0.0005\n",
    "1.   Image size=(200,200)\n",
    "2.   Image=Grayscale\n",
    "1.   Defect_classes=['Crazing', 'Inclusion', 'Patches', 'Pitted', 'Rolled', 'Scratches']\n",
    "1.   batch_size=16\n",
    "1.   optimizer=adam\n",
    "\n",
    "\n",
    "\n",
    "\n",
    "\n",
    "\n",
    "\n",
    "\n",
    "\n",
    "\n",
    "\n",
    "\n",
    "\n",
    "\n",
    "\n",
    "\n",
    "\n",
    "\n",
    "\n"
   ]
  },
  {
   "cell_type": "code",
   "execution_count": null,
   "metadata": {
    "id": "7XT9_-EryA4k"
   },
   "outputs": [],
   "source": []
  },
  {
   "cell_type": "markdown",
   "metadata": {
    "id": "nkKH6yLHyCP0"
   },
   "source": [
    "# Importing the libraries"
   ]
  },
  {
   "cell_type": "code",
   "execution_count": 1,
   "metadata": {
    "id": "0eH7zROBO5kd"
   },
   "outputs": [],
   "source": [
    "import numpy as np\n",
    "import os\n",
    "import matplotlib.pyplot as plt\n",
    "%matplotlib inline\n",
    "from PIL import Image\n",
    "import tensorflow as tf\n",
    "from tensorflow import keras\n",
    "from tensorflow.keras import layers\n",
    "from tensorflow.keras.preprocessing.image import ImageDataGenerator #for data organised in folders"
   ]
  },
  {
   "cell_type": "code",
   "execution_count": null,
   "metadata": {
    "id": "4e2l8IOTwjWM"
   },
   "outputs": [],
   "source": []
  },
  {
   "cell_type": "markdown",
   "metadata": {
    "id": "nDTGjBWPyHln"
   },
   "source": [
    "# Folder path and location"
   ]
  },
  {
   "cell_type": "code",
   "execution_count": 2,
   "metadata": {
    "id": "habbGNZ34miy"
   },
   "outputs": [],
   "source": [
    "#for desktop\n",
    "path=r'./NEU Metal Surface Defects Data' "
   ]
  },
  {
   "cell_type": "code",
   "execution_count": 3,
   "metadata": {
    "colab": {
     "base_uri": "https://localhost:8080/"
    },
    "executionInfo": {
     "elapsed": 91155,
     "status": "ok",
     "timestamp": 1660689519457,
     "user": {
      "displayName": "kushang pangotra",
      "userId": "16090705689221290879"
     },
     "user_tz": -120
    },
    "id": "Ps9W74s7REAb",
    "outputId": "738b809a-6b28-41d6-c09e-217363715123"
   },
   "outputs": [],
   "source": [
    "# # accessing data from colab\n",
    "# from google.colab import drive\n",
    "# drive.mount('/content/drive')"
   ]
  },
  {
   "cell_type": "code",
   "execution_count": 4,
   "metadata": {
    "id": "1V3ldH4fRbj0"
   },
   "outputs": [],
   "source": [
    "# # folder path for colab\n",
    "# path=r'/content/drive/MyDrive/Colab Notebooks/Tlab/NEU Metal Surface Defects Data'"
   ]
  },
  {
   "cell_type": "code",
   "execution_count": null,
   "metadata": {
    "id": "S-VvDncjRv3C"
   },
   "outputs": [],
   "source": []
  },
  {
   "cell_type": "markdown",
   "metadata": {
    "id": "trn8N_wLze-1"
   },
   "source": [
    "# Contents and data organization within folder"
   ]
  },
  {
   "cell_type": "code",
   "execution_count": 5,
   "metadata": {
    "colab": {
     "base_uri": "https://localhost:8080/"
    },
    "executionInfo": {
     "elapsed": 3063,
     "status": "ok",
     "timestamp": 1660689522506,
     "user": {
      "displayName": "kushang pangotra",
      "userId": "16090705689221290879"
     },
     "user_tz": -120
    },
    "id": "pVKsZMhkRzfk",
    "outputId": "f64980ac-77d2-4724-def7-60cea67083f4"
   },
   "outputs": [
    {
     "name": "stdout",
     "output_type": "stream",
     "text": [
      "Main Folder\n"
     ]
    },
    {
     "data": {
      "text/plain": [
       "['test', 'Thumbs.db', 'train', 'valid']"
      ]
     },
     "execution_count": 5,
     "metadata": {},
     "output_type": "execute_result"
    }
   ],
   "source": [
    "print(\"Main Folder\")\n",
    "os.listdir(path)"
   ]
  },
  {
   "cell_type": "code",
   "execution_count": 6,
   "metadata": {
    "colab": {
     "base_uri": "https://localhost:8080/"
    },
    "executionInfo": {
     "elapsed": 1046,
     "status": "ok",
     "timestamp": 1660689523544,
     "user": {
      "displayName": "kushang pangotra",
      "userId": "16090705689221290879"
     },
     "user_tz": -120
    },
    "id": "T6hXJJXGR2-t",
    "outputId": "a2b8fa43-7857-4a97-eb64-d6f88ed0b17a"
   },
   "outputs": [
    {
     "name": "stdout",
     "output_type": "stream",
     "text": [
      "Train sub-folder\n"
     ]
    },
    {
     "data": {
      "text/plain": [
       "['Crazing', 'Inclusion', 'Patches', 'Pitted', 'Rolled', 'Scratches']"
      ]
     },
     "execution_count": 6,
     "metadata": {},
     "output_type": "execute_result"
    }
   ],
   "source": [
    "print(\"Train sub-folder\")\n",
    "os.listdir(path+'/train')"
   ]
  },
  {
   "cell_type": "code",
   "execution_count": 7,
   "metadata": {
    "colab": {
     "base_uri": "https://localhost:8080/"
    },
    "executionInfo": {
     "elapsed": 21,
     "status": "ok",
     "timestamp": 1660689523546,
     "user": {
      "displayName": "kushang pangotra",
      "userId": "16090705689221290879"
     },
     "user_tz": -120
    },
    "id": "zRx7jdvHR8rc",
    "outputId": "b519231f-99f8-4cd8-d128-5ae73b9c812e"
   },
   "outputs": [
    {
     "name": "stdout",
     "output_type": "stream",
     "text": [
      "['Crazing', 'Inclusion', 'Patches', 'Pitted', 'Rolled', 'Scratches']\n"
     ]
    }
   ],
   "source": [
    "classes_defects=os.listdir(path+'/train')\n",
    "print(classes_defects)"
   ]
  },
  {
   "cell_type": "code",
   "execution_count": 8,
   "metadata": {
    "colab": {
     "base_uri": "https://localhost:8080/"
    },
    "executionInfo": {
     "elapsed": 717,
     "status": "ok",
     "timestamp": 1660689524251,
     "user": {
      "displayName": "kushang pangotra",
      "userId": "16090705689221290879"
     },
     "user_tz": -120
    },
    "id": "Qoi73fWQSegc",
    "outputId": "2aeb4f03-f3a8-49b7-d8b3-54a6ea088136"
   },
   "outputs": [
    {
     "name": "stdout",
     "output_type": "stream",
     "text": [
      "files within sub-folder Patches\n"
     ]
    },
    {
     "data": {
      "text/plain": [
       "['.ipynb_checkpoints', 'Pa_120.bmp', 'Pa_121.bmp']"
      ]
     },
     "execution_count": 8,
     "metadata": {},
     "output_type": "execute_result"
    }
   ],
   "source": [
    "print(\"files within sub-folder Patches\")\n",
    "os.listdir(path+'/train/Patches')[:3]"
   ]
  },
  {
   "cell_type": "code",
   "execution_count": 9,
   "metadata": {
    "colab": {
     "base_uri": "https://localhost:8080/"
    },
    "executionInfo": {
     "elapsed": 9,
     "status": "ok",
     "timestamp": 1660689524252,
     "user": {
      "displayName": "kushang pangotra",
      "userId": "16090705689221290879"
     },
     "user_tz": -120
    },
    "id": "wqTmLlAIz1B-",
    "outputId": "fa5d811c-fb92-4ff6-e818-95f0e5a5a4c3"
   },
   "outputs": [
    {
     "data": {
      "text/plain": [
       "6"
      ]
     },
     "execution_count": 9,
     "metadata": {},
     "output_type": "execute_result"
    }
   ],
   "source": [
    "len(os.listdir(path+'/train'))"
   ]
  },
  {
   "cell_type": "code",
   "execution_count": null,
   "metadata": {
    "id": "-s5UQV0IS7Le"
   },
   "outputs": [],
   "source": []
  },
  {
   "cell_type": "markdown",
   "metadata": {
    "id": "Ru6B59j10eI8"
   },
   "source": [
    "# Image characteristics"
   ]
  },
  {
   "cell_type": "code",
   "execution_count": 10,
   "metadata": {
    "colab": {
     "base_uri": "https://localhost:8080/"
    },
    "executionInfo": {
     "elapsed": 460,
     "status": "ok",
     "timestamp": 1660689524707,
     "user": {
      "displayName": "kushang pangotra",
      "userId": "16090705689221290879"
     },
     "user_tz": -120
    },
    "id": "W2BjIqwVTDQc",
    "outputId": "8360e231-4d1c-4782-b500-9ec9165639f0"
   },
   "outputs": [
    {
     "name": "stdout",
     "output_type": "stream",
     "text": [
      "./NEU Metal Surface Defects Data/train/Patches/Pa_206.bmp\n",
      "BMP\n",
      "L\n",
      "(200, 200)\n"
     ]
    }
   ],
   "source": [
    "img1=Image.open(path+'/train/Patches/Pa_206.bmp')\n",
    "print(img1.filename)\n",
    "print(img1.format)\n",
    "print(img1.mode)\n",
    "print(img1.size)\n",
    "\n",
    "# # The \"L\" mode represents grayscale here.... So it can hold any of 256 shades of Gray \n",
    "# (includes black and white as Gray shades).\n",
    "# # The \"P\" mode can hold 256 different colors like red,blue, green etc....\n",
    "# https://stackoverflow.com/questions/52307290/what-is-the-difference-between-images-in-p-and-l-mode-in-pil#:~:text=Examples%3A%208%20bit%20black%20and,are%20%22P%22%20mode.."
   ]
  },
  {
   "cell_type": "code",
   "execution_count": 11,
   "metadata": {
    "colab": {
     "base_uri": "https://localhost:8080/",
     "height": 304
    },
    "executionInfo": {
     "elapsed": 1013,
     "status": "ok",
     "timestamp": 1660689525716,
     "user": {
      "displayName": "kushang pangotra",
      "userId": "16090705689221290879"
     },
     "user_tz": -120
    },
    "id": "IiCMG6LTSOGN",
    "outputId": "beb88518-76f5-4663-b69c-1d9bfc1ade13"
   },
   "outputs": [
    {
     "name": "stdout",
     "output_type": "stream",
     "text": [
      "(200, 200)\n",
      "max_pixel_value: 255\n"
     ]
    },
    {
     "data": {
      "image/png": "[encoded data removed]",
      "text/plain": [
       "<Figure size 432x288 with 1 Axes>"
      ]
     },
     "metadata": {
      "needs_background": "light"
     },
     "output_type": "display_data"
    }
   ],
   "source": [
    "image=plt.imread(path+'/train/Patches/Pa_206.bmp')\n",
    "print(image.shape)\n",
    "plt.imshow(image,cmap='gray')\n",
    "print(\"max_pixel_value: {}\".format(image.max()))"
   ]
  },
  {
   "cell_type": "code",
   "execution_count": null,
   "metadata": {
    "id": "uf0_K6MHUUi1"
   },
   "outputs": [],
   "source": []
  },
  {
   "cell_type": "markdown",
   "metadata": {
    "id": "noJI6vc31I0u"
   },
   "source": [
    "# ImageDataGenerator and flow_from_directory for datasets\n",
    "\n",
    "Sources:\n",
    "\n",
    "1.   https://vijayabhaskar96.medium.com/tutorial-image-classification-with-keras-flow-from-directory-and-generators-95f75ebe5720\n",
    "2.   https://github.com/aladdinpersson/Machine-Learning-Collection/blob/master/ML/TensorFlow/Basics/tutorial18-customdata-images/1_in_subfolders.py\n",
    "\n"
   ]
  },
  {
   "cell_type": "code",
   "execution_count": 12,
   "metadata": {
    "id": "5MZT5ja9XdFG"
   },
   "outputs": [],
   "source": [
    "data_generator=ImageDataGenerator(\n",
    "    rescale=1.0/255,\n",
    "    dtype=tf.float32\n",
    ")"
   ]
  },
  {
   "cell_type": "markdown",
   "metadata": {
    "id": "zGv8spqS1sei"
   },
   "source": [
    "# Train dataloader"
   ]
  },
  {
   "cell_type": "code",
   "execution_count": 13,
   "metadata": {
    "colab": {
     "base_uri": "https://localhost:8080/"
    },
    "executionInfo": {
     "elapsed": 2463,
     "status": "ok",
     "timestamp": 1660689528172,
     "user": {
      "displayName": "kushang pangotra",
      "userId": "16090705689221290879"
     },
     "user_tz": -120
    },
    "id": "UfIlTPg7Z4FM",
    "outputId": "fcdd2291-c305-4f54-b17e-15fada3693dc"
   },
   "outputs": [
    {
     "name": "stdout",
     "output_type": "stream",
     "text": [
      "Found 1667 images belonging to 6 classes.\n"
     ]
    }
   ],
   "source": [
    "train_ds=data_generator.flow_from_directory(\n",
    "    path+'/train',\n",
    "    target_size=(200,200),\n",
    "    # color_mode='grayscale',\n",
    "    classes=classes_defects,\n",
    "    class_mode='sparse',\n",
    "    shuffle=True,\n",
    "    seed=1,\n",
    "    batch_size=16\n",
    ")"
   ]
  },
  {
   "cell_type": "markdown",
   "metadata": {
    "id": "DDzNWqFf1u0U"
   },
   "source": [
    "\n",
    "# Valid dataloader"
   ]
  },
  {
   "cell_type": "code",
   "execution_count": 14,
   "metadata": {
    "colab": {
     "base_uri": "https://localhost:8080/"
    },
    "executionInfo": {
     "elapsed": 1502,
     "status": "ok",
     "timestamp": 1660689529667,
     "user": {
      "displayName": "kushang pangotra",
      "userId": "16090705689221290879"
     },
     "user_tz": -120
    },
    "id": "fd1x129WbHZX",
    "outputId": "e826defc-63b0-4e83-ad37-c090c8ae8425"
   },
   "outputs": [
    {
     "name": "stdout",
     "output_type": "stream",
     "text": [
      "Found 72 images belonging to 6 classes.\n"
     ]
    }
   ],
   "source": [
    "valid_ds=data_generator.flow_from_directory(\n",
    "    path+'/valid',\n",
    "    target_size=(200,200),\n",
    "    # color_mode='grayscale',\n",
    "    classes=classes_defects,\n",
    "    class_mode='sparse',\n",
    "    shuffle=True,\n",
    "    seed=1,\n",
    "    batch_size=16\n",
    ")"
   ]
  },
  {
   "cell_type": "markdown",
   "metadata": {
    "id": "MHQa2CL91yCC"
   },
   "source": [
    "# Test dataloader"
   ]
  },
  {
   "cell_type": "code",
   "execution_count": 42,
   "metadata": {
    "colab": {
     "base_uri": "https://localhost:8080/"
    },
    "executionInfo": {
     "elapsed": 709,
     "status": "ok",
     "timestamp": 1660690922322,
     "user": {
      "displayName": "kushang pangotra",
      "userId": "16090705689221290879"
     },
     "user_tz": -120
    },
    "id": "70aEnJ-zbOG1",
    "outputId": "2363e9a5-5a9d-4e31-9006-237ac649c7c6"
   },
   "outputs": [
    {
     "name": "stdout",
     "output_type": "stream",
     "text": [
      "Found 72 images belonging to 6 classes.\n"
     ]
    }
   ],
   "source": [
    "test_ds=data_generator.flow_from_directory(\n",
    "    path+'/test',\n",
    "    target_size=(200,200),\n",
    "    # color_mode='grayscale',\n",
    "    classes=classes_defects,\n",
    "    class_mode='sparse',\n",
    "    shuffle=False,\n",
    "    seed=1,\n",
    "    batch_size=1\n",
    ")"
   ]
  },
  {
   "cell_type": "code",
   "execution_count": null,
   "metadata": {
    "id": "gxi_iTNsba69"
   },
   "outputs": [],
   "source": []
  },
  {
   "cell_type": "code",
   "execution_count": null,
   "metadata": {
    "id": "uq33rNfs3ReM"
   },
   "outputs": [],
   "source": []
  },
  {
   "cell_type": "markdown",
   "metadata": {
    "id": "GfB13JyH23Uw"
   },
   "source": [
    "# Dataloader sanity check"
   ]
  },
  {
   "cell_type": "code",
   "execution_count": null,
   "metadata": {
    "id": "GMWPr77BdKoY"
   },
   "outputs": [],
   "source": []
  },
  {
   "cell_type": "code",
   "execution_count": 16,
   "metadata": {
    "colab": {
     "base_uri": "https://localhost:8080/"
    },
    "executionInfo": {
     "elapsed": 8880,
     "status": "ok",
     "timestamp": 1660689540246,
     "user": {
      "displayName": "kushang pangotra",
      "userId": "16090705689221290879"
     },
     "user_tz": -120
    },
    "id": "vqWjOZ7XfdQp",
    "outputId": "429472b5-bc94-4943-86da-155f36f4a4b7"
   },
   "outputs": [
    {
     "name": "stdout",
     "output_type": "stream",
     "text": [
      "Dataloader_length(Images,labels) 2\n",
      "image list length 16\n",
      "image shape (16, 200, 200, 3)\n",
      "Defect List:  ['Crazing', 'Inclusion', 'Patches', 'Pitted', 'Rolled', 'Scratches']\n",
      "Defect dictionary in dataloader:  {'Crazing': 0, 'Inclusion': 1, 'Patches': 2, 'Pitted': 3, 'Rolled': 4, 'Scratches': 5}\n",
      "5\n",
      "[0 0 0 ... 5 5 5]\n",
      "dict_keys(['Crazing', 'Inclusion', 'Patches', 'Pitted', 'Rolled', 'Scratches'])\n",
      "dict_values([0, 1, 2, 3, 4, 5])\n"
     ]
    }
   ],
   "source": [
    "print(\"Dataloader_length(Images,labels)\", len(train_ds[0]))\n",
    "print(\"image list length\",len(train_ds[0][0]))\n",
    "print(\"image shape\", train_ds[0][0].shape)\n",
    "print(\"Defect List: \",classes_defects)\n",
    "print(\"Defect dictionary in dataloader: \",train_ds.class_indices)\n",
    "print(train_ds.labels[1660])\n",
    "print(train_ds.classes)\n",
    "print(train_ds.class_indices.keys())\n",
    "print(train_ds.class_indices.values())\n",
    "#print([train_ds.class_indices(x)] for x in train_ds.classes])"
   ]
  },
  {
   "cell_type": "code",
   "execution_count": 17,
   "metadata": {
    "colab": {
     "base_uri": "https://localhost:8080/",
     "height": 356
    },
    "executionInfo": {
     "elapsed": 10356,
     "status": "ok",
     "timestamp": 1660689550583,
     "user": {
      "displayName": "kushang pangotra",
      "userId": "16090705689221290879"
     },
     "user_tz": -120
    },
    "id": "6TYmnOdfbtXs",
    "outputId": "8ee072f2-2247-4d7d-95cf-f233108ca823"
   },
   "outputs": [
    {
     "name": "stdout",
     "output_type": "stream",
     "text": [
      "Image_shape:  (16, 200, 200, 3)\n",
      "Label_value:  3.0\n",
      "['Crazing', 'Inclusion', 'Patches', 'Pitted', 'Rolled', 'Scratches']\n",
      "tf.Tensor([3 0 5 3 0 3 0 5 4 2 0 3 4 3 0 1], shape=(16,), dtype=uint8)\n",
      "Pitted\n"
     ]
    },
    {
     "data": {
      "image/png": "[encoded data removed]",
      "text/plain": [
       "<Figure size 432x288 with 1 Axes>"
      ]
     },
     "metadata": {
      "needs_background": "light"
     },
     "output_type": "display_data"
    }
   ],
   "source": [
    "for images,labels in train_ds:\n",
    "    plt.imshow(images[0],cmap='gray')\n",
    "    print(\"Image_shape: \",images.shape)\n",
    "    print(\"Label_value: \",labels[0])\n",
    "    labels=tf.cast(labels,tf.uint8)\n",
    "    print(classes_defects)\n",
    "    print((labels))\n",
    "    print(classes_defects[labels[0]])\n",
    "    break"
   ]
  },
  {
   "cell_type": "code",
   "execution_count": null,
   "metadata": {
    "id": "wy_7uyOFgArJ"
   },
   "outputs": [],
   "source": []
  },
  {
   "cell_type": "code",
   "execution_count": 18,
   "metadata": {
    "id": "5_TNSItzeM4f"
   },
   "outputs": [],
   "source": [
    "#"
   ]
  },
  {
   "cell_type": "markdown",
   "metadata": {
    "id": "WNeiMRYX5Hm3"
   },
   "source": [
    "# Model architecture and Pretrained model import from keras\n",
    "\n",
    "Sources:\n",
    "\n",
    "\n",
    "1.   https://keras.io/api/applications/\n",
    "2.   https://towardsdatascience.com/transfer-learning-for-image-classification-using-tensorflow-71c359b56673\n",
    "\n"
   ]
  },
  {
   "cell_type": "code",
   "execution_count": 19,
   "metadata": {
    "id": "ZmJIaTmj45JZ"
   },
   "outputs": [],
   "source": [
    "from tensorflow.keras.applications import VGG16"
   ]
  },
  {
   "cell_type": "code",
   "execution_count": 20,
   "metadata": {
    "colab": {
     "base_uri": "https://localhost:8080/"
    },
    "executionInfo": {
     "elapsed": 2511,
     "status": "ok",
     "timestamp": 1660689553054,
     "user": {
      "displayName": "kushang pangotra",
      "userId": "16090705689221290879"
     },
     "user_tz": -120
    },
    "id": "2ij8Gdq645NH",
    "outputId": "ea3b04bf-5198-4a6f-d155-bbbab9a52170"
   },
   "outputs": [],
   "source": [
    "feature_extractor=VGG16(weights='imagenet',input_shape=(200,200,3),include_top=False)\n",
    "feature_extractor.trainable=False"
   ]
  },
  {
   "cell_type": "code",
   "execution_count": 21,
   "metadata": {
    "id": "jxbHQOxaEDEf"
   },
   "outputs": [],
   "source": [
    "data_aug=keras.Sequential([\n",
    "                          #  tf.keras.Input(shape=(200,200,3)),\n",
    "                          #  layers.experimental.preprocessing.Resizing(height=224,width=224),\n",
    "                           layers.experimental.preprocessing.RandomContrast(factor=0.25),\n",
    "                           layers.experimental.preprocessing.RandomFlip(mode=\"horizontal_and_vertical\"),\n",
    "                           layers.experimental.preprocessing.RandomZoom(0.5,0.6),\n",
    "                           layers.experimental.preprocessing.RandomRotation(0.5),\n",
    "                           layers.experimental.preprocessing.RandomTranslation(0.2,0.2),\n",
    "\n",
    "])"
   ]
  },
  {
   "cell_type": "code",
   "execution_count": 22,
   "metadata": {
    "id": "ih-RqwlP45Rj"
   },
   "outputs": [],
   "source": [
    "input_=tf.keras.Input(shape=(200,200,3))\n",
    "x=data_aug(input_)\n",
    "x=feature_extractor(x,training=False)\n",
    "x = tf.keras.layers.GlobalAveragePooling2D()(x)\n",
    "x=layers.Dense(128,activation='relu')(x)\n",
    "x=layers.Dense(64,activation='relu')(x)\n",
    "x=layers.Dense(32,activation='relu')(x)\n",
    "output_=layers.Dense(6)(x)"
   ]
  },
  {
   "cell_type": "code",
   "execution_count": 23,
   "metadata": {
    "id": "aOeqdFR845U7"
   },
   "outputs": [],
   "source": [
    "model=keras.Model(input_,output_)"
   ]
  },
  {
   "cell_type": "markdown",
   "metadata": {
    "id": "Zgr42wG27Ptd"
   },
   "source": [
    "# Final Model architecture summary"
   ]
  },
  {
   "cell_type": "code",
   "execution_count": 24,
   "metadata": {
    "colab": {
     "base_uri": "https://localhost:8080/"
    },
    "executionInfo": {
     "elapsed": 42,
     "status": "ok",
     "timestamp": 1660689553058,
     "user": {
      "displayName": "kushang pangotra",
      "userId": "16090705689221290879"
     },
     "user_tz": -120
    },
    "id": "aaWM7UHF45X5",
    "outputId": "6906b08d-12bf-4678-f3ab-b6d992d9531f"
   },
   "outputs": [
    {
     "name": "stdout",
     "output_type": "stream",
     "text": [
      "Model: \"model\"\n",
      "_________________________________________________________________\n",
      " Layer (type)                Output Shape              Param #   \n",
      "=================================================================\n",
      " input_2 (InputLayer)        [(None, 200, 200, 3)]     0         \n",
      "                                                                 \n",
      " sequential (Sequential)     (None, 200, 200, 3)       0         \n",
      "                                                                 \n",
      " vgg16 (Functional)          (None, 6, 6, 512)         14714688  \n",
      "                                                                 \n",
      " global_average_pooling2d (G  (None, 512)              0         \n",
      " lobalAveragePooling2D)                                          \n",
      "                                                                 \n",
      " dense (Dense)               (None, 128)               65664     \n",
      "                                                                 \n",
      " dense_1 (Dense)             (None, 64)                8256      \n",
      "                                                                 \n",
      " dense_2 (Dense)             (None, 32)                2080      \n",
      "                                                                 \n",
      " dense_3 (Dense)             (None, 6)                 198       \n",
      "                                                                 \n",
      "=================================================================\n",
      "Total params: 14,790,886\n",
      "Trainable params: 76,198\n",
      "Non-trainable params: 14,714,688\n",
      "_________________________________________________________________\n",
      "None\n"
     ]
    }
   ],
   "source": [
    "print(model.summary())"
   ]
  },
  {
   "cell_type": "code",
   "execution_count": 25,
   "metadata": {
    "colab": {
     "base_uri": "https://localhost:8080/",
     "height": 865
    },
    "executionInfo": {
     "elapsed": 1145,
     "status": "ok",
     "timestamp": 1660689554185,
     "user": {
      "displayName": "kushang pangotra",
      "userId": "16090705689221290879"
     },
     "user_tz": -120
    },
    "id": "aLse4CtM7hKP",
    "outputId": "599cf45c-3dde-4ab2-b1be-e59ac3ea81c6"
   },
   "outputs": [
    {
     "name": "stdout",
     "output_type": "stream",
     "text": [
      "You must install pydot (`pip install pydot`) and install graphviz (see instructions at https://graphviz.gitlab.io/download/) for plot_model/model_to_dot to work.\n"
     ]
    }
   ],
   "source": [
    "from keras.utils.vis_utils import plot_model\n",
    "plot_model(model, to_file='model_plot.png', show_shapes=True, show_layer_names=True)"
   ]
  },
  {
   "cell_type": "code",
   "execution_count": null,
   "metadata": {
    "id": "v_IXZuQX7g_L"
   },
   "outputs": [],
   "source": []
  },
  {
   "cell_type": "markdown",
   "metadata": {
    "id": "ona_DpUC7ANW"
   },
   "source": [
    "# Model training"
   ]
  },
  {
   "cell_type": "code",
   "execution_count": 26,
   "metadata": {
    "id": "t7yS6Wme45ao"
   },
   "outputs": [],
   "source": [
    "model.compile(loss=keras.losses.SparseCategoricalCrossentropy(from_logits=True),\n",
    "              optimizer=keras.optimizers.Adam(0.0005),\n",
    "              metrics=['accuracy'])"
   ]
  },
  {
   "cell_type": "code",
   "execution_count": 27,
   "metadata": {
    "colab": {
     "base_uri": "https://localhost:8080/"
    },
    "executionInfo": {
     "elapsed": 1283309,
     "status": "ok",
     "timestamp": 1660690837475,
     "user": {
      "displayName": "kushang pangotra",
      "userId": "16090705689221290879"
     },
     "user_tz": -120
    },
    "id": "TYoVVgei-7E9",
    "outputId": "b16b0528-d26e-4588-d6a8-e65e69f57fc4"
   },
   "outputs": [
    {
     "name": "stdout",
     "output_type": "stream",
     "text": [
      "Epoch 1/50\n",
      "105/105 [==============================] - 22s 162ms/step - loss: 1.4520 - accuracy: 0.4583 - val_loss: 1.0099 - val_accuracy: 0.6250\n",
      "Epoch 2/50\n",
      "105/105 [==============================] - 15s 138ms/step - loss: 0.8888 - accuracy: 0.6899 - val_loss: 0.5839 - val_accuracy: 0.7222\n",
      "Epoch 3/50\n",
      "105/105 [==============================] - 15s 140ms/step - loss: 0.6908 - accuracy: 0.7487 - val_loss: 0.4072 - val_accuracy: 0.9167\n",
      "Epoch 4/50\n",
      "105/105 [==============================] - 15s 140ms/step - loss: 0.6321 - accuracy: 0.7421 - val_loss: 0.3300 - val_accuracy: 0.9583\n",
      "Epoch 5/50\n",
      "105/105 [==============================] - 15s 140ms/step - loss: 0.5697 - accuracy: 0.7798 - val_loss: 0.3201 - val_accuracy: 0.8889\n",
      "Epoch 6/50\n",
      "105/105 [==============================] - 15s 141ms/step - loss: 0.5220 - accuracy: 0.8104 - val_loss: 0.3049 - val_accuracy: 0.9306\n",
      "Epoch 7/50\n",
      "105/105 [==============================] - 15s 141ms/step - loss: 0.5001 - accuracy: 0.8266 - val_loss: 0.2619 - val_accuracy: 0.9444\n",
      "Epoch 8/50\n",
      "105/105 [==============================] - 15s 141ms/step - loss: 0.4719 - accuracy: 0.8278 - val_loss: 0.2668 - val_accuracy: 0.9167\n",
      "Epoch 9/50\n",
      "105/105 [==============================] - 15s 140ms/step - loss: 0.4434 - accuracy: 0.8452 - val_loss: 0.2299 - val_accuracy: 0.9167\n",
      "Epoch 10/50\n",
      "105/105 [==============================] - 15s 140ms/step - loss: 0.4513 - accuracy: 0.8374 - val_loss: 0.3038 - val_accuracy: 0.9167\n",
      "Epoch 11/50\n",
      "105/105 [==============================] - 15s 140ms/step - loss: 0.4100 - accuracy: 0.8494 - val_loss: 0.2879 - val_accuracy: 0.8889\n",
      "Epoch 12/50\n",
      "105/105 [==============================] - 15s 140ms/step - loss: 0.4062 - accuracy: 0.8440 - val_loss: 0.2396 - val_accuracy: 0.9306\n",
      "Epoch 13/50\n",
      "105/105 [==============================] - 15s 140ms/step - loss: 0.4070 - accuracy: 0.8590 - val_loss: 0.1983 - val_accuracy: 0.9444\n",
      "Epoch 14/50\n",
      "105/105 [==============================] - 15s 141ms/step - loss: 0.3735 - accuracy: 0.8614 - val_loss: 0.1803 - val_accuracy: 0.9583\n",
      "Epoch 15/50\n",
      "105/105 [==============================] - 15s 140ms/step - loss: 0.3396 - accuracy: 0.8728 - val_loss: 0.1890 - val_accuracy: 0.9444\n",
      "Epoch 16/50\n",
      "105/105 [==============================] - 15s 141ms/step - loss: 0.3598 - accuracy: 0.8686 - val_loss: 0.1958 - val_accuracy: 0.9167\n",
      "Epoch 17/50\n",
      "105/105 [==============================] - 15s 141ms/step - loss: 0.3452 - accuracy: 0.8740 - val_loss: 0.1933 - val_accuracy: 0.9167\n",
      "Epoch 18/50\n",
      "105/105 [==============================] - 15s 141ms/step - loss: 0.3806 - accuracy: 0.8500 - val_loss: 0.2295 - val_accuracy: 0.9444\n",
      "Epoch 19/50\n",
      "105/105 [==============================] - 15s 141ms/step - loss: 0.3394 - accuracy: 0.8800 - val_loss: 0.3330 - val_accuracy: 0.8611\n",
      "Epoch 20/50\n",
      "105/105 [==============================] - 15s 140ms/step - loss: 0.3469 - accuracy: 0.8686 - val_loss: 0.2483 - val_accuracy: 0.8889\n",
      "Epoch 21/50\n",
      "105/105 [==============================] - 15s 141ms/step - loss: 0.3173 - accuracy: 0.8836 - val_loss: 0.2716 - val_accuracy: 0.8889\n",
      "Epoch 22/50\n",
      "105/105 [==============================] - 15s 140ms/step - loss: 0.3402 - accuracy: 0.8776 - val_loss: 0.3140 - val_accuracy: 0.8889\n",
      "Epoch 23/50\n",
      "105/105 [==============================] - 15s 140ms/step - loss: 0.3096 - accuracy: 0.8884 - val_loss: 0.1761 - val_accuracy: 0.9583\n",
      "Epoch 24/50\n",
      "105/105 [==============================] - 15s 140ms/step - loss: 0.3422 - accuracy: 0.8716 - val_loss: 0.2464 - val_accuracy: 0.8889\n",
      "Epoch 25/50\n",
      "105/105 [==============================] - 15s 141ms/step - loss: 0.3038 - accuracy: 0.8974 - val_loss: 0.2039 - val_accuracy: 0.8889\n",
      "Epoch 26/50\n",
      "105/105 [==============================] - 15s 140ms/step - loss: 0.3200 - accuracy: 0.8866 - val_loss: 0.2715 - val_accuracy: 0.8611\n",
      "Epoch 27/50\n",
      "105/105 [==============================] - 15s 140ms/step - loss: 0.2987 - accuracy: 0.8908 - val_loss: 0.1407 - val_accuracy: 0.9583\n",
      "Epoch 28/50\n",
      "105/105 [==============================] - 15s 140ms/step - loss: 0.3417 - accuracy: 0.8794 - val_loss: 0.2662 - val_accuracy: 0.9028\n",
      "Epoch 29/50\n",
      "105/105 [==============================] - 15s 141ms/step - loss: 0.2585 - accuracy: 0.9190 - val_loss: 0.1748 - val_accuracy: 0.9583\n",
      "Epoch 30/50\n",
      "105/105 [==============================] - 15s 141ms/step - loss: 0.2855 - accuracy: 0.9046 - val_loss: 0.1583 - val_accuracy: 0.9583\n",
      "Epoch 31/50\n",
      "105/105 [==============================] - 15s 140ms/step - loss: 0.2678 - accuracy: 0.9058 - val_loss: 0.2023 - val_accuracy: 0.8889\n",
      "Epoch 32/50\n",
      "105/105 [==============================] - 15s 141ms/step - loss: 0.2818 - accuracy: 0.9070 - val_loss: 0.1353 - val_accuracy: 0.9583\n",
      "Epoch 33/50\n",
      "105/105 [==============================] - 15s 140ms/step - loss: 0.2898 - accuracy: 0.8998 - val_loss: 0.1688 - val_accuracy: 0.9167\n",
      "Epoch 34/50\n",
      "105/105 [==============================] - 15s 140ms/step - loss: 0.3240 - accuracy: 0.8758 - val_loss: 0.1457 - val_accuracy: 0.9444\n",
      "Epoch 35/50\n",
      "105/105 [==============================] - 15s 140ms/step - loss: 0.2784 - accuracy: 0.9070 - val_loss: 0.2011 - val_accuracy: 0.9028\n",
      "Epoch 36/50\n",
      "105/105 [==============================] - 15s 140ms/step - loss: 0.2779 - accuracy: 0.9028 - val_loss: 0.1399 - val_accuracy: 0.9583\n",
      "Epoch 37/50\n",
      "105/105 [==============================] - 15s 141ms/step - loss: 0.2433 - accuracy: 0.9106 - val_loss: 0.1124 - val_accuracy: 0.9722\n",
      "Epoch 38/50\n",
      "105/105 [==============================] - 15s 140ms/step - loss: 0.2770 - accuracy: 0.8956 - val_loss: 0.1264 - val_accuracy: 0.9722\n",
      "Epoch 39/50\n",
      "105/105 [==============================] - 15s 140ms/step - loss: 0.2479 - accuracy: 0.9100 - val_loss: 0.1467 - val_accuracy: 0.9444\n",
      "Epoch 40/50\n",
      "105/105 [==============================] - 15s 140ms/step - loss: 0.2633 - accuracy: 0.9082 - val_loss: 0.1295 - val_accuracy: 0.9444\n",
      "Epoch 41/50\n",
      "105/105 [==============================] - 15s 140ms/step - loss: 0.2753 - accuracy: 0.8998 - val_loss: 0.1586 - val_accuracy: 0.9583\n",
      "Epoch 42/50\n",
      "105/105 [==============================] - 15s 141ms/step - loss: 0.2593 - accuracy: 0.9106 - val_loss: 0.1079 - val_accuracy: 0.9722\n",
      "Epoch 43/50\n",
      "105/105 [==============================] - 15s 141ms/step - loss: 0.2464 - accuracy: 0.9082 - val_loss: 0.1356 - val_accuracy: 0.9583\n",
      "Epoch 44/50\n",
      "105/105 [==============================] - 15s 140ms/step - loss: 0.2520 - accuracy: 0.9106 - val_loss: 0.1345 - val_accuracy: 0.9306\n",
      "Epoch 45/50\n",
      "105/105 [==============================] - 15s 141ms/step - loss: 0.2482 - accuracy: 0.9160 - val_loss: 0.1498 - val_accuracy: 0.9306\n",
      "Epoch 46/50\n",
      "105/105 [==============================] - 15s 141ms/step - loss: 0.2640 - accuracy: 0.9058 - val_loss: 0.1647 - val_accuracy: 0.9167\n",
      "Epoch 47/50\n",
      "105/105 [==============================] - 15s 140ms/step - loss: 0.2572 - accuracy: 0.9112 - val_loss: 0.1766 - val_accuracy: 0.9167\n",
      "Epoch 48/50\n",
      "105/105 [==============================] - 15s 140ms/step - loss: 0.2895 - accuracy: 0.8968 - val_loss: 0.1697 - val_accuracy: 0.9722\n",
      "Epoch 49/50\n",
      "105/105 [==============================] - 15s 141ms/step - loss: 0.2600 - accuracy: 0.9028 - val_loss: 0.1794 - val_accuracy: 0.9444\n",
      "Epoch 50/50\n",
      "105/105 [==============================] - 15s 140ms/step - loss: 0.2132 - accuracy: 0.9268 - val_loss: 0.1228 - val_accuracy: 0.9722\n"
     ]
    }
   ],
   "source": [
    "history=model.fit(train_ds, epochs=50, verbose=True,validation_data=valid_ds)"
   ]
  },
  {
   "cell_type": "markdown",
   "metadata": {
    "id": "S9obrY5b60Xm"
   },
   "source": [
    "# Test dataloader evaluation, Saving and loading weights"
   ]
  },
  {
   "cell_type": "code",
   "execution_count": 28,
   "metadata": {
    "colab": {
     "base_uri": "https://localhost:8080/"
    },
    "executionInfo": {
     "elapsed": 1353,
     "status": "ok",
     "timestamp": 1660690956974,
     "user": {
      "displayName": "kushang pangotra",
      "userId": "16090705689221290879"
     },
     "user_tz": -120
    },
    "id": "jWz2MCKK-7CG",
    "outputId": "7535df30-0c78-49d3-d40c-402db173560a"
   },
   "outputs": [
    {
     "name": "stdout",
     "output_type": "stream",
     "text": [
      "5/5 [==============================] - 1s 115ms/step - loss: 0.1152 - accuracy: 0.9861\n"
     ]
    },
    {
     "data": {
      "text/plain": [
       "[0.11522112786769867, 0.9861111044883728]"
      ]
     },
     "execution_count": 28,
     "metadata": {},
     "output_type": "execute_result"
    }
   ],
   "source": [
    "model.evaluate(test_ds)"
   ]
  },
  {
   "cell_type": "code",
   "execution_count": 29,
   "metadata": {
    "id": "bYgtF61l_b8Q"
   },
   "outputs": [],
   "source": [
    "#os.chdir('/content/drive/MyDrive/Colab Notebooks/Tlab')"
   ]
  },
  {
   "cell_type": "code",
   "execution_count": 30,
   "metadata": {
    "id": "bGU8gkftwDBo"
   },
   "outputs": [],
   "source": [
    "# For creating new directory\n",
    "#os.makedirs('Resnet50/Resnet50_training_false_aug_true')"
   ]
  },
  {
   "cell_type": "code",
   "execution_count": 31,
   "metadata": {
    "id": "CbPULdJqwC-1"
   },
   "outputs": [],
   "source": [
    "os.chdir('./VGG16/VGG16_training_false_aug_true')"
   ]
  },
  {
   "cell_type": "code",
   "execution_count": 32,
   "metadata": {
    "id": "Tcn25upIwC8L"
   },
   "outputs": [],
   "source": [
    "# For saving weights\n",
    "model.save_weights('training_vgg_02.ckpt')"
   ]
  },
  {
   "cell_type": "code",
   "execution_count": 33,
   "metadata": {
    "id": "wr0ojehEwC5Y"
   },
   "outputs": [],
   "source": [
    "model_new=keras.Model(input_,output_)"
   ]
  },
  {
   "cell_type": "markdown",
   "metadata": {
    "id": "eV3jq2WOhMYT"
   },
   "source": [
    "## Loading Weights"
   ]
  },
  {
   "cell_type": "code",
   "execution_count": 34,
   "metadata": {
    "colab": {
     "base_uri": "https://localhost:8080/"
    },
    "executionInfo": {
     "elapsed": 7,
     "status": "ok",
     "timestamp": 1660690902163,
     "user": {
      "displayName": "kushang pangotra",
      "userId": "16090705689221290879"
     },
     "user_tz": -120
    },
    "id": "56fwaka8wCzR",
    "outputId": "2395decb-b24e-4e2b-974c-24d32249c291"
   },
   "outputs": [
    {
     "data": {
      "text/plain": [
       "<tensorflow.python.training.tracking.util.CheckpointLoadStatus at 0x1328c3543d0>"
      ]
     },
     "execution_count": 34,
     "metadata": {},
     "output_type": "execute_result"
    }
   ],
   "source": [
    "model_new.load_weights('./training_vgg_02.ckpt')"
   ]
  },
  {
   "cell_type": "code",
   "execution_count": 35,
   "metadata": {
    "id": "3PeIS4F4wSET"
   },
   "outputs": [],
   "source": [
    "model_new.compile(loss=keras.losses.SparseCategoricalCrossentropy(from_logits=True),\n",
    "              optimizer=keras.optimizers.Adam(0.0005),\n",
    "              metrics=['accuracy'],\n",
    "              )"
   ]
  },
  {
   "cell_type": "code",
   "execution_count": 36,
   "metadata": {},
   "outputs": [
    {
     "data": {
      "text/plain": [
       "'D:\\\\Techlabs aachen\\\\VGG16_notebooks_and_weights\\\\VGG16\\\\VGG16_training_false_aug_true'"
      ]
     },
     "execution_count": 36,
     "metadata": {},
     "output_type": "execute_result"
    }
   ],
   "source": [
    "os.getcwd()"
   ]
  },
  {
   "cell_type": "code",
   "execution_count": 38,
   "metadata": {},
   "outputs": [
    {
     "name": "stdout",
     "output_type": "stream",
     "text": [
      "D:\\Techlabs aachen\\VGG16_notebooks_and_weights\n"
     ]
    }
   ],
   "source": [
    "#2x\n",
    "os.chdir(r'..')\n",
    "print(os.getcwd())"
   ]
  },
  {
   "cell_type": "code",
   "execution_count": 39,
   "metadata": {
    "colab": {
     "base_uri": "https://localhost:8080/"
    },
    "executionInfo": {
     "elapsed": 2348,
     "status": "ok",
     "timestamp": 1660690932175,
     "user": {
      "displayName": "kushang pangotra",
      "userId": "16090705689221290879"
     },
     "user_tz": -120
    },
    "id": "xMXGX5-zwS5S",
    "outputId": "9f9efe4a-bcf1-4a94-d696-5ffeccd3585c"
   },
   "outputs": [
    {
     "name": "stdout",
     "output_type": "stream",
     "text": [
      "5/5 [==============================] - 1s 117ms/step - loss: 0.1152 - accuracy: 0.9861\n"
     ]
    },
    {
     "data": {
      "text/plain": [
       "[0.11522112786769867, 0.9861111044883728]"
      ]
     },
     "execution_count": 39,
     "metadata": {},
     "output_type": "execute_result"
    }
   ],
   "source": [
    "#test batch size=16\n",
    "model_new.evaluate(test_ds)"
   ]
  },
  {
   "cell_type": "code",
   "execution_count": 41,
   "metadata": {},
   "outputs": [
    {
     "name": "stdout",
     "output_type": "stream",
     "text": [
      "1/1 [==============================] - 9s 9s/step - loss: 0.1152 - accuracy: 0.9861\n"
     ]
    },
    {
     "data": {
      "text/plain": [
       "[0.11522118002176285, 0.9861111044883728]"
      ]
     },
     "execution_count": 41,
     "metadata": {},
     "output_type": "execute_result"
    }
   ],
   "source": [
    "#test batch size=72\n",
    "model_new.evaluate(test_ds)"
   ]
  },
  {
   "cell_type": "code",
   "execution_count": 43,
   "metadata": {},
   "outputs": [
    {
     "name": "stdout",
     "output_type": "stream",
     "text": [
      "72/72 [==============================] - 2s 16ms/step - loss: 0.1152 - accuracy: 0.9861\n"
     ]
    },
    {
     "data": {
      "text/plain": [
       "[0.11522114276885986, 0.9861111044883728]"
      ]
     },
     "execution_count": 43,
     "metadata": {},
     "output_type": "execute_result"
    }
   ],
   "source": [
    "#test batch size=1\n",
    "model_new.evaluate(test_ds)\n"
   ]
  },
  {
   "cell_type": "markdown",
   "metadata": {
    "id": "HGHQcWas6SVp"
   },
   "source": [
    "# Performance"
   ]
  },
  {
   "cell_type": "code",
   "execution_count": 44,
   "metadata": {
    "colab": {
     "base_uri": "https://localhost:8080/"
    },
    "executionInfo": {
     "elapsed": 528,
     "status": "ok",
     "timestamp": 1660690939138,
     "user": {
      "displayName": "kushang pangotra",
      "userId": "16090705689221290879"
     },
     "user_tz": -120
    },
    "id": "ml2UYR1Tujbk",
    "outputId": "95f177be-1263-4fe9-c48a-c73591799cb5"
   },
   "outputs": [
    {
     "data": {
      "text/plain": [
       "dict_keys(['loss', 'accuracy', 'val_loss', 'val_accuracy'])"
      ]
     },
     "execution_count": 44,
     "metadata": {},
     "output_type": "execute_result"
    }
   ],
   "source": [
    "history.history.keys()"
   ]
  },
  {
   "cell_type": "markdown",
   "metadata": {
    "id": "PTNXsMJz6frt"
   },
   "source": [
    "Loss vs epochs"
   ]
  },
  {
   "cell_type": "code",
   "execution_count": 45,
   "metadata": {
    "colab": {
     "base_uri": "https://localhost:8080/",
     "height": 296
    },
    "executionInfo": {
     "elapsed": 670,
     "status": "ok",
     "timestamp": 1660690963442,
     "user": {
      "displayName": "kushang pangotra",
      "userId": "16090705689221290879"
     },
     "user_tz": -120
    },
    "id": "ESpFamPO_b5Q",
    "outputId": "edf4e394-cc6c-4891-81c4-77edf1beb293"
   },
   "outputs": [
    {
     "data": {
      "text/plain": [
       "<matplotlib.legend.Legend at 0x1328c3f0c40>"
      ]
     },
     "execution_count": 45,
     "metadata": {},
     "output_type": "execute_result"
    },
    {
     "data": {
      "image/png": "[encoded data removed]",
      "text/plain": [
       "<Figure size 432x288 with 1 Axes>"
      ]
     },
     "metadata": {
      "needs_background": "light"
     },
     "output_type": "display_data"
    }
   ],
   "source": [
    "plt.plot(history.history['loss'])\n",
    "plt.plot(history.history['val_loss'])\n",
    "plt.xlabel('epochs')\n",
    "plt.ylabel('loss')\n",
    "plt.legend(['train','valid'])"
   ]
  },
  {
   "cell_type": "markdown",
   "metadata": {
    "id": "OsFKi53g6lKd"
   },
   "source": [
    "Accuracy vs epochs"
   ]
  },
  {
   "cell_type": "code",
   "execution_count": 46,
   "metadata": {
    "colab": {
     "base_uri": "https://localhost:8080/",
     "height": 296
    },
    "executionInfo": {
     "elapsed": 1260,
     "status": "ok",
     "timestamp": 1660690965233,
     "user": {
      "displayName": "kushang pangotra",
      "userId": "16090705689221290879"
     },
     "user_tz": -120
    },
    "id": "_honYQQg_b2G",
    "outputId": "33036091-679d-4612-c3bb-2c9df65d3f8b"
   },
   "outputs": [
    {
     "data": {
      "text/plain": [
       "<matplotlib.legend.Legend at 0x132fd0173a0>"
      ]
     },
     "execution_count": 46,
     "metadata": {},
     "output_type": "execute_result"
    },
    {
     "data": {
      "image/png": "[encoded data removed]",
      "text/plain": [
       "<Figure size 432x288 with 1 Axes>"
      ]
     },
     "metadata": {
      "needs_background": "light"
     },
     "output_type": "display_data"
    }
   ],
   "source": [
    "plt.plot(history.history['accuracy'])\n",
    "plt.plot(history.history['val_accuracy'])\n",
    "plt.xlabel('epochs')\n",
    "plt.ylabel('accuracy')\n",
    "#plt.yscale()\n",
    "plt.legend(['train','valid'])"
   ]
  },
  {
   "cell_type": "markdown",
   "metadata": {
    "id": "i96Lxcgp6om1"
   },
   "source": [
    "# Predictions"
   ]
  },
  {
   "cell_type": "code",
   "execution_count": 47,
   "metadata": {
    "id": "haUNAQPE_byX"
   },
   "outputs": [],
   "source": [
    "from sklearn.metrics import classification_report, confusion_matrix,ConfusionMatrixDisplay"
   ]
  },
  {
   "cell_type": "code",
   "execution_count": 48,
   "metadata": {
    "id": "9yrtUvq9wk3i"
   },
   "outputs": [],
   "source": [
    "X_test=[]\n",
    "y_test=[]\n",
    "for i in range(len(test_ds)):\n",
    "  dataiter = iter(test_ds)\n",
    "  images, labels = dataiter.next()\n",
    "  X_test.extend(images)\n",
    "  y_test.extend(labels)"
   ]
  },
  {
   "cell_type": "code",
   "execution_count": 49,
   "metadata": {
    "colab": {
     "base_uri": "https://localhost:8080/"
    },
    "executionInfo": {
     "elapsed": 3,
     "status": "ok",
     "timestamp": 1660690975481,
     "user": {
      "displayName": "kushang pangotra",
      "userId": "16090705689221290879"
     },
     "user_tz": -120
    },
    "id": "OznlbYW-wk1B",
    "outputId": "3e3581cf-d512-4932-c4fe-19843bd3056f"
   },
   "outputs": [
    {
     "name": "stdout",
     "output_type": "stream",
     "text": [
      "72\n"
     ]
    }
   ],
   "source": [
    "print(len(X_test))"
   ]
  },
  {
   "cell_type": "code",
   "execution_count": 50,
   "metadata": {
    "colab": {
     "base_uri": "https://localhost:8080/"
    },
    "executionInfo": {
     "elapsed": 7,
     "status": "ok",
     "timestamp": 1660690977584,
     "user": {
      "displayName": "kushang pangotra",
      "userId": "16090705689221290879"
     },
     "user_tz": -120
    },
    "id": "YbWtr_M2wkys",
    "outputId": "6a48d200-614b-4103-af6b-8c87e5bbb4d3"
   },
   "outputs": [
    {
     "name": "stdout",
     "output_type": "stream",
     "text": [
      "[0, 0, 0, 0, 0, 0, 0, 0, 0, 0, 0, 0, 1, 1, 1, 1, 1, 1, 1, 1, 1, 1, 1, 1, 2, 2, 2, 2, 2, 2, 2, 2, 2, 2, 2, 2, 3, 3, 3, 3, 3, 3, 3, 3, 3, 3, 3, 3, 4, 4, 4, 4, 4, 4, 4, 4, 4, 4, 4, 4, 5, 5, 5, 5, 5, 5, 5, 5, 5, 5, 5, 5]\n"
     ]
    }
   ],
   "source": [
    "y_test=[int(x) for x in y_test]\n",
    "print(y_test)"
   ]
  },
  {
   "cell_type": "code",
   "execution_count": 51,
   "metadata": {
    "colab": {
     "base_uri": "https://localhost:8080/"
    },
    "executionInfo": {
     "elapsed": 3212,
     "status": "ok",
     "timestamp": 1660690981353,
     "user": {
      "displayName": "kushang pangotra",
      "userId": "16090705689221290879"
     },
     "user_tz": -120
    },
    "id": "3z8sQzx4wkwC",
    "outputId": "14549eb0-bfa2-4f82-9208-89394794aad1"
   },
   "outputs": [
    {
     "name": "stdout",
     "output_type": "stream",
     "text": [
      "[[ 8.869889  -9.108861   7.1678762  2.483233  -9.490054  -3.1054173]\n",
      " [10.23338   -9.03104    6.742325   1.1575679 -4.3064566 -4.631842 ]]\n",
      "[0, 0, 0, 0, 0, 0, 0, 0, 0, 0, 0, 0, 1, 1, 1, 1, 1, 1, 1, 1, 1, 1, 1, 1, 2, 2, 2, 2, 2, 2, 2, 2, 2, 2, 2, 2, 3, 3, 3, 3, 3, 3, 3, 3, 3, 3, 3, 4, 4, 4, 4, 4, 4, 4, 4, 4, 4, 4, 4, 4, 5, 5, 5, 5, 5, 5, 5, 5, 5, 5, 5, 5]\n"
     ]
    }
   ],
   "source": [
    "y_predict=model_new.predict(np.array(X_test))\n",
    "print(y_predict[:2])\n",
    "y_hat=[np.argmax(x) for x in y_predict]\n",
    "print(y_hat)"
   ]
  },
  {
   "cell_type": "code",
   "execution_count": 52,
   "metadata": {
    "colab": {
     "base_uri": "https://localhost:8080/"
    },
    "executionInfo": {
     "elapsed": 34,
     "status": "ok",
     "timestamp": 1660690981355,
     "user": {
      "displayName": "kushang pangotra",
      "userId": "16090705689221290879"
     },
     "user_tz": -120
    },
    "id": "xPV-n5iewqWJ",
    "outputId": "3da980ef-2c75-48ac-e899-b670b0d37aae"
   },
   "outputs": [
    {
     "name": "stdout",
     "output_type": "stream",
     "text": [
      "              precision    recall  f1-score   support\n",
      "\n",
      "     Crazing       1.00      1.00      1.00        12\n",
      "   Inclusion       1.00      1.00      1.00        12\n",
      "     Patches       1.00      1.00      1.00        12\n",
      "      Pitted       1.00      0.92      0.96        12\n",
      "      Rolled       0.92      1.00      0.96        12\n",
      "   Scratches       1.00      1.00      1.00        12\n",
      "\n",
      "    accuracy                           0.99        72\n",
      "   macro avg       0.99      0.99      0.99        72\n",
      "weighted avg       0.99      0.99      0.99        72\n",
      "\n"
     ]
    }
   ],
   "source": [
    "print(classification_report(y_test, y_hat, target_names=classes_defects))"
   ]
  },
  {
   "cell_type": "code",
   "execution_count": 53,
   "metadata": {
    "colab": {
     "base_uri": "https://localhost:8080/"
    },
    "executionInfo": {
     "elapsed": 34,
     "status": "ok",
     "timestamp": 1660690981357,
     "user": {
      "displayName": "kushang pangotra",
      "userId": "16090705689221290879"
     },
     "user_tz": -120
    },
    "id": "put85h82wqTh",
    "outputId": "dd208821-695d-4a96-9c62-78f521bf90c1"
   },
   "outputs": [
    {
     "name": "stdout",
     "output_type": "stream",
     "text": [
      "[[12  0  0  0  0  0]\n",
      " [ 0 12  0  0  0  0]\n",
      " [ 0  0 12  0  0  0]\n",
      " [ 0  0  0 11  1  0]\n",
      " [ 0  0  0  0 12  0]\n",
      " [ 0  0  0  0  0 12]]\n"
     ]
    }
   ],
   "source": [
    "print(confusion_matrix(y_test, y_hat))"
   ]
  },
  {
   "cell_type": "code",
   "execution_count": 54,
   "metadata": {
    "colab": {
     "base_uri": "https://localhost:8080/",
     "height": 601
    },
    "executionInfo": {
     "elapsed": 771,
     "status": "ok",
     "timestamp": 1660690986546,
     "user": {
      "displayName": "kushang pangotra",
      "userId": "16090705689221290879"
     },
     "user_tz": -120
    },
    "id": "nYrKZYP-wqQZ",
    "outputId": "f2629b20-f296-4ce3-9579-79bc19ebc27e"
   },
   "outputs": [
    {
     "data": {
      "text/plain": [
       "<sklearn.metrics._plot.confusion_matrix.ConfusionMatrixDisplay at 0x132f64b0af0>"
      ]
     },
     "execution_count": 54,
     "metadata": {},
     "output_type": "execute_result"
    },
    {
     "data": {
      "image/png": "[encoded data removed]",
      "text/plain": [
       "<Figure size 720x720 with 2 Axes>"
      ]
     },
     "metadata": {
      "needs_background": "light"
     },
     "output_type": "display_data"
    }
   ],
   "source": [
    "cmd = ConfusionMatrixDisplay(confusion_matrix(y_test, y_hat),display_labels=classes_defects)\n",
    "fig,ax=plt.subplots(figsize=(10,10))\n",
    "cmd.plot(ax=ax,cmap=\"inferno\")"
   ]
  },
  {
   "cell_type": "code",
   "execution_count": null,
   "metadata": {
    "id": "1cjTf9k7wxwK"
   },
   "outputs": [],
   "source": []
  },
  {
   "cell_type": "code",
   "execution_count": null,
   "metadata": {
    "id": "Xac6s3mSwxtB"
   },
   "outputs": [],
   "source": [
    "# import numpy as np\n",
    "# sample=np.expand_dims(X_test[0],axis=0)\n",
    "# sample_predict=model.predict(sample)\n",
    "# plt.imshow(X_test[0],cmap='gray')\n",
    "# print(sample_predict, \"Max: \", np.argmax(sample_predict))\n",
    "# print(\"predicted label: \",classes_defects[np.argmax(sample_predict)])\n",
    "# print(\"Actual label: \",classes_defects[int(y_test[0])])"
   ]
  },
  {
   "cell_type": "code",
   "execution_count": null,
   "metadata": {
    "id": "6JcBMwX7wxp6"
   },
   "outputs": [],
   "source": [
    "# sample = iter(test_ds)\n",
    "# images, labels = sample.next()\n",
    "# print(images.shape)\n",
    "# sample_predict=model.predict(images)\n",
    "# plt.imshow(images,cmap='gray')\n",
    "# print(sample_predict, \"Max: \", np.argmax(sample_predict))\n",
    "# print(\"predicted label: \",classes_defects[np.argmax(sample_predict)])\n",
    "# print(\"Actual label: \",classes_defects[int(labels)])"
   ]
  },
  {
   "cell_type": "code",
   "execution_count": null,
   "metadata": {
    "id": "LPInCtyuw3ez"
   },
   "outputs": [],
   "source": []
  },
  {
   "cell_type": "code",
   "execution_count": null,
   "metadata": {
    "id": "ecorFm0xw3by"
   },
   "outputs": [],
   "source": []
  }
 ],
 "metadata": {
  "colab": {
   "collapsed_sections": [],
   "name": "VGG16_training_false_aug_true.ipynb",
   "provenance": [
    {
     "file_id": "1xXpO8RGcEKZEEZVTLAzP13E_or-Nl9pm",
     "timestamp": 1660475616911
    },
    {
     "file_id": "1bb80nJzj1kqgsixlr_mCjPVXq0NNefNT",
     "timestamp": 1660168108964
    }
   ]
  },
  "gpuClass": "standard",
  "kernelspec": {
   "display_name": "Python 3 (ipykernel)",
   "language": "python",
   "name": "python3"
  },
  "language_info": {
   "codemirror_mode": {
    "name": "ipython",
    "version": 3
   },
   "file_extension": ".py",
   "mimetype": "text/x-python",
   "name": "python",
   "nbconvert_exporter": "python",
   "pygments_lexer": "ipython3",
   "version": "3.9.7"
  }
 },
 "nbformat": 4,
 "nbformat_minor": 4
}
