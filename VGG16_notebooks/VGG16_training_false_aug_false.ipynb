{
 "cells": [
  {
   "cell_type": "markdown",
   "metadata": {
    "id": "VoHvusYNvr0-"
   },
   "source": [
    "#Transfer Learning with **VGG16 Training**(False) and **data augmentation** (False)\n",
    "\n",
    "\n",
    "1.   Epochs=50\n",
    "2.   Learning rate=0.0005\n",
    "1.   Image size=(200,200)\n",
    "2.   Image=Grayscale\n",
    "1.   Defect_classes=['Crazing', 'Inclusion', 'Patches', 'Pitted', 'Rolled', 'Scratches']\n",
    "1.   batch_size=16\n",
    "1.   optimizer=adam\n",
    "\n",
    "\n",
    "\n",
    "\n",
    "\n",
    "\n",
    "\n",
    "\n",
    "\n",
    "\n",
    "\n",
    "\n",
    "\n",
    "\n",
    "\n",
    "\n",
    "\n",
    "\n",
    "\n"
   ]
  },
  {
   "cell_type": "code",
   "execution_count": null,
   "metadata": {
    "id": "7XT9_-EryA4k"
   },
   "outputs": [],
   "source": []
  },
  {
   "cell_type": "markdown",
   "metadata": {
    "id": "nkKH6yLHyCP0"
   },
   "source": [
    "# Importing the libraries"
   ]
  },
  {
   "cell_type": "code",
   "execution_count": 1,
   "metadata": {
    "id": "0eH7zROBO5kd"
   },
   "outputs": [],
   "source": [
    "import numpy as np\n",
    "import os\n",
    "import matplotlib.pyplot as plt\n",
    "%matplotlib inline\n",
    "from PIL import Image\n",
    "import tensorflow as tf\n",
    "from tensorflow import keras\n",
    "from tensorflow.keras import layers\n",
    "from tensorflow.keras.preprocessing.image import ImageDataGenerator #for data organised in folders"
   ]
  },
  {
   "cell_type": "code",
   "execution_count": null,
   "metadata": {
    "id": "4e2l8IOTwjWM"
   },
   "outputs": [],
   "source": []
  },
  {
   "cell_type": "markdown",
   "metadata": {
    "id": "nDTGjBWPyHln"
   },
   "source": [
    "# Folder path and location"
   ]
  },
  {
   "cell_type": "code",
   "execution_count": 2,
   "metadata": {
    "id": "habbGNZ34miy"
   },
   "outputs": [],
   "source": [
    "#for desktop\n",
    "path=r'./NEU Metal Surface Defects Data' "
   ]
  },
  {
   "cell_type": "code",
   "execution_count": 3,
   "metadata": {
    "colab": {
     "base_uri": "https://localhost:8080/"
    },
    "executionInfo": {
     "elapsed": 16777,
     "status": "ok",
     "timestamp": 1661262269707,
     "user": {
      "displayName": "kushang pangotra",
      "userId": "16090705689221290879"
     },
     "user_tz": -120
    },
    "id": "Ps9W74s7REAb",
    "outputId": "de1a5e3e-d0f6-4db3-8bae-b0a27ccfbf09"
   },
   "outputs": [],
   "source": [
    "# # accessing data from colab\n",
    "# from google.colab import drive\n",
    "# drive.mount('/content/drive')"
   ]
  },
  {
   "cell_type": "code",
   "execution_count": 4,
   "metadata": {
    "id": "1V3ldH4fRbj0"
   },
   "outputs": [],
   "source": [
    "# # folder path for colab\n",
    "# path=r'/content/drive/MyDrive/Colab Notebooks/Tlab/NEU Metal Surface Defects Data'"
   ]
  },
  {
   "cell_type": "code",
   "execution_count": null,
   "metadata": {
    "id": "S-VvDncjRv3C"
   },
   "outputs": [],
   "source": []
  },
  {
   "cell_type": "markdown",
   "metadata": {
    "id": "trn8N_wLze-1"
   },
   "source": [
    "# Contents and data organization within folder"
   ]
  },
  {
   "cell_type": "code",
   "execution_count": 5,
   "metadata": {
    "colab": {
     "base_uri": "https://localhost:8080/"
    },
    "executionInfo": {
     "elapsed": 874,
     "status": "ok",
     "timestamp": 1661262270576,
     "user": {
      "displayName": "kushang pangotra",
      "userId": "16090705689221290879"
     },
     "user_tz": -120
    },
    "id": "pVKsZMhkRzfk",
    "outputId": "3f084814-7c62-4125-827a-690666d06ae6"
   },
   "outputs": [
    {
     "name": "stdout",
     "output_type": "stream",
     "text": [
      "Main Folder\n"
     ]
    },
    {
     "data": {
      "text/plain": [
       "['test', 'Thumbs.db', 'train', 'valid']"
      ]
     },
     "execution_count": 5,
     "metadata": {},
     "output_type": "execute_result"
    }
   ],
   "source": [
    "print(\"Main Folder\")\n",
    "os.listdir(path)"
   ]
  },
  {
   "cell_type": "code",
   "execution_count": 6,
   "metadata": {
    "colab": {
     "base_uri": "https://localhost:8080/"
    },
    "executionInfo": {
     "elapsed": 6,
     "status": "ok",
     "timestamp": 1661262270576,
     "user": {
      "displayName": "kushang pangotra",
      "userId": "16090705689221290879"
     },
     "user_tz": -120
    },
    "id": "T6hXJJXGR2-t",
    "outputId": "7daac87c-0fdc-4583-d623-dadc1fa6c965"
   },
   "outputs": [
    {
     "name": "stdout",
     "output_type": "stream",
     "text": [
      "Train sub-folder\n"
     ]
    },
    {
     "data": {
      "text/plain": [
       "['Crazing', 'Inclusion', 'Patches', 'Pitted', 'Rolled', 'Scratches']"
      ]
     },
     "execution_count": 6,
     "metadata": {},
     "output_type": "execute_result"
    }
   ],
   "source": [
    "print(\"Train sub-folder\")\n",
    "os.listdir(path+'/train')"
   ]
  },
  {
   "cell_type": "code",
   "execution_count": 7,
   "metadata": {
    "colab": {
     "base_uri": "https://localhost:8080/"
    },
    "executionInfo": {
     "elapsed": 6,
     "status": "ok",
     "timestamp": 1661262270577,
     "user": {
      "displayName": "kushang pangotra",
      "userId": "16090705689221290879"
     },
     "user_tz": -120
    },
    "id": "zRx7jdvHR8rc",
    "outputId": "f3322b1a-3def-43b2-fa9e-8df45d073cd0"
   },
   "outputs": [
    {
     "name": "stdout",
     "output_type": "stream",
     "text": [
      "['Crazing', 'Inclusion', 'Patches', 'Pitted', 'Rolled', 'Scratches']\n"
     ]
    }
   ],
   "source": [
    "classes_defects=os.listdir(path+'/train')\n",
    "print(classes_defects)"
   ]
  },
  {
   "cell_type": "code",
   "execution_count": 8,
   "metadata": {
    "colab": {
     "base_uri": "https://localhost:8080/"
    },
    "executionInfo": {
     "elapsed": 2607,
     "status": "ok",
     "timestamp": 1661262273181,
     "user": {
      "displayName": "kushang pangotra",
      "userId": "16090705689221290879"
     },
     "user_tz": -120
    },
    "id": "Qoi73fWQSegc",
    "outputId": "89d227b6-6602-4855-9a4a-dd7b6f47928a"
   },
   "outputs": [
    {
     "name": "stdout",
     "output_type": "stream",
     "text": [
      "files within sub-folder Patches\n"
     ]
    },
    {
     "data": {
      "text/plain": [
       "['.ipynb_checkpoints', 'Pa_120.bmp', 'Pa_121.bmp']"
      ]
     },
     "execution_count": 8,
     "metadata": {},
     "output_type": "execute_result"
    }
   ],
   "source": [
    "print(\"files within sub-folder Patches\")\n",
    "os.listdir(path+'/train/Patches')[:3]"
   ]
  },
  {
   "cell_type": "code",
   "execution_count": 9,
   "metadata": {
    "colab": {
     "base_uri": "https://localhost:8080/"
    },
    "executionInfo": {
     "elapsed": 7,
     "status": "ok",
     "timestamp": 1661262273181,
     "user": {
      "displayName": "kushang pangotra",
      "userId": "16090705689221290879"
     },
     "user_tz": -120
    },
    "id": "wqTmLlAIz1B-",
    "outputId": "02e7cc46-59c8-4f1f-c039-5c11b1a92446"
   },
   "outputs": [
    {
     "data": {
      "text/plain": [
       "6"
      ]
     },
     "execution_count": 9,
     "metadata": {},
     "output_type": "execute_result"
    }
   ],
   "source": [
    "len(os.listdir(path+'/train'))"
   ]
  },
  {
   "cell_type": "code",
   "execution_count": null,
   "metadata": {
    "id": "-s5UQV0IS7Le"
   },
   "outputs": [],
   "source": []
  },
  {
   "cell_type": "markdown",
   "metadata": {
    "id": "Ru6B59j10eI8"
   },
   "source": [
    "# Image characteristics"
   ]
  },
  {
   "cell_type": "code",
   "execution_count": 10,
   "metadata": {
    "colab": {
     "base_uri": "https://localhost:8080/"
    },
    "executionInfo": {
     "elapsed": 369,
     "status": "ok",
     "timestamp": 1661262273547,
     "user": {
      "displayName": "kushang pangotra",
      "userId": "16090705689221290879"
     },
     "user_tz": -120
    },
    "id": "W2BjIqwVTDQc",
    "outputId": "718654cb-b2c6-4325-e8e9-cc34a3bb57f6"
   },
   "outputs": [
    {
     "name": "stdout",
     "output_type": "stream",
     "text": [
      "./NEU Metal Surface Defects Data/train/Patches/Pa_206.bmp\n",
      "BMP\n",
      "L\n",
      "(200, 200)\n"
     ]
    }
   ],
   "source": [
    "img1=Image.open(path+'/train/Patches/Pa_206.bmp')\n",
    "print(img1.filename)\n",
    "print(img1.format)\n",
    "print(img1.mode)\n",
    "print(img1.size)\n",
    "\n",
    "# # The \"L\" mode represents grayscale here.... So it can hold any of 256 shades of Gray \n",
    "# (includes black and white as Gray shades).\n",
    "# # The \"P\" mode can hold 256 different colors like red,blue, green etc....\n",
    "# https://stackoverflow.com/questions/52307290/what-is-the-difference-between-images-in-p-and-l-mode-in-pil#:~:text=Examples%3A%208%20bit%20black%20and,are%20%22P%22%20mode.."
   ]
  },
  {
   "cell_type": "code",
   "execution_count": 11,
   "metadata": {
    "colab": {
     "base_uri": "https://localhost:8080/",
     "height": 304
    },
    "executionInfo": {
     "elapsed": 584,
     "status": "ok",
     "timestamp": 1661262274128,
     "user": {
      "displayName": "kushang pangotra",
      "userId": "16090705689221290879"
     },
     "user_tz": -120
    },
    "id": "IiCMG6LTSOGN",
    "outputId": "37074d25-8311-4776-9061-ca516eda8e20"
   },
   "outputs": [
    {
     "name": "stdout",
     "output_type": "stream",
     "text": [
      "(200, 200)\n",
      "max_pixel_value: 255\n"
     ]
    },
    {
     "data": {
      "image/png": "[encoded data removed]",
      "text/plain": [
       "<Figure size 432x288 with 1 Axes>"
      ]
     },
     "metadata": {
      "needs_background": "light"
     },
     "output_type": "display_data"
    }
   ],
   "source": [
    "image=plt.imread(path+'/train/Patches/Pa_206.bmp')\n",
    "print(image.shape)\n",
    "plt.imshow(image,cmap='gray')\n",
    "print(\"max_pixel_value: {}\".format(image.max()))"
   ]
  },
  {
   "cell_type": "code",
   "execution_count": null,
   "metadata": {
    "id": "uf0_K6MHUUi1"
   },
   "outputs": [],
   "source": []
  },
  {
   "cell_type": "markdown",
   "metadata": {
    "id": "noJI6vc31I0u"
   },
   "source": [
    "# ImageDataGenerator and flow_from_directory for datasets\n",
    "\n",
    "Sources:\n",
    "\n",
    "1.   https://vijayabhaskar96.medium.com/tutorial-image-classification-with-keras-flow-from-directory-and-generators-95f75ebe5720\n",
    "2.   https://github.com/aladdinpersson/Machine-Learning-Collection/blob/master/ML/TensorFlow/Basics/tutorial18-customdata-images/1_in_subfolders.py\n",
    "\n"
   ]
  },
  {
   "cell_type": "code",
   "execution_count": 12,
   "metadata": {
    "id": "5MZT5ja9XdFG"
   },
   "outputs": [],
   "source": [
    "data_generator=ImageDataGenerator(\n",
    "    rescale=1.0/255,\n",
    "    dtype=tf.float32\n",
    ")"
   ]
  },
  {
   "cell_type": "markdown",
   "metadata": {
    "id": "zGv8spqS1sei"
   },
   "source": [
    "# Train dataloader"
   ]
  },
  {
   "cell_type": "code",
   "execution_count": 13,
   "metadata": {
    "colab": {
     "base_uri": "https://localhost:8080/"
    },
    "executionInfo": {
     "elapsed": 1265,
     "status": "ok",
     "timestamp": 1661262275388,
     "user": {
      "displayName": "kushang pangotra",
      "userId": "16090705689221290879"
     },
     "user_tz": -120
    },
    "id": "UfIlTPg7Z4FM",
    "outputId": "45d62b33-2cde-4a1b-824a-27a324316fa7"
   },
   "outputs": [
    {
     "name": "stdout",
     "output_type": "stream",
     "text": [
      "Found 1667 images belonging to 6 classes.\n"
     ]
    }
   ],
   "source": [
    "train_ds=data_generator.flow_from_directory(\n",
    "    path+'/train',\n",
    "    target_size=(200,200),\n",
    "    # color_mode='grayscale',\n",
    "    classes=classes_defects,\n",
    "    class_mode='sparse',\n",
    "    shuffle=True,\n",
    "    seed=1,\n",
    "    batch_size=16\n",
    ")"
   ]
  },
  {
   "cell_type": "markdown",
   "metadata": {
    "id": "DDzNWqFf1u0U"
   },
   "source": [
    "# Valid dataloader"
   ]
  },
  {
   "cell_type": "code",
   "execution_count": 14,
   "metadata": {
    "colab": {
     "base_uri": "https://localhost:8080/"
    },
    "executionInfo": {
     "elapsed": 369,
     "status": "ok",
     "timestamp": 1661262275755,
     "user": {
      "displayName": "kushang pangotra",
      "userId": "16090705689221290879"
     },
     "user_tz": -120
    },
    "id": "fd1x129WbHZX",
    "outputId": "d445ea1b-c7af-42d7-8a1c-00e3605623b0"
   },
   "outputs": [
    {
     "name": "stdout",
     "output_type": "stream",
     "text": [
      "Found 72 images belonging to 6 classes.\n"
     ]
    }
   ],
   "source": [
    "valid_ds=data_generator.flow_from_directory(\n",
    "    path+'/valid',\n",
    "    target_size=(200,200),\n",
    "    # color_mode='grayscale',\n",
    "    classes=classes_defects,\n",
    "    class_mode='sparse',\n",
    "    shuffle=True,\n",
    "    seed=1,\n",
    "    batch_size=16\n",
    ")"
   ]
  },
  {
   "cell_type": "markdown",
   "metadata": {
    "id": "MHQa2CL91yCC"
   },
   "source": [
    "# Test dataloader"
   ]
  },
  {
   "cell_type": "code",
   "execution_count": 41,
   "metadata": {
    "colab": {
     "base_uri": "https://localhost:8080/"
    },
    "executionInfo": {
     "elapsed": 985,
     "status": "ok",
     "timestamp": 1661262276738,
     "user": {
      "displayName": "kushang pangotra",
      "userId": "16090705689221290879"
     },
     "user_tz": -120
    },
    "id": "70aEnJ-zbOG1",
    "outputId": "5345351e-4de0-4cc3-a961-a52f1ab19ef0"
   },
   "outputs": [
    {
     "name": "stdout",
     "output_type": "stream",
     "text": [
      "Found 72 images belonging to 6 classes.\n"
     ]
    }
   ],
   "source": [
    "test_ds=data_generator.flow_from_directory(\n",
    "    path+'/test',\n",
    "    target_size=(200,200),\n",
    "    # color_mode='grayscale',\n",
    "    classes=classes_defects,\n",
    "    class_mode='sparse',\n",
    "    shuffle=False,\n",
    "    seed=1,\n",
    "    batch_size=16\n",
    ")"
   ]
  },
  {
   "cell_type": "code",
   "execution_count": null,
   "metadata": {
    "id": "gxi_iTNsba69"
   },
   "outputs": [],
   "source": []
  },
  {
   "cell_type": "code",
   "execution_count": null,
   "metadata": {
    "id": "uq33rNfs3ReM"
   },
   "outputs": [],
   "source": []
  },
  {
   "cell_type": "markdown",
   "metadata": {
    "id": "GfB13JyH23Uw"
   },
   "source": [
    "# Dataloader sanity check"
   ]
  },
  {
   "cell_type": "code",
   "execution_count": null,
   "metadata": {
    "id": "GMWPr77BdKoY"
   },
   "outputs": [],
   "source": []
  },
  {
   "cell_type": "code",
   "execution_count": 16,
   "metadata": {
    "colab": {
     "base_uri": "https://localhost:8080/"
    },
    "executionInfo": {
     "elapsed": 7271,
     "status": "ok",
     "timestamp": 1661262284006,
     "user": {
      "displayName": "kushang pangotra",
      "userId": "16090705689221290879"
     },
     "user_tz": -120
    },
    "id": "vqWjOZ7XfdQp",
    "outputId": "f65ba1b5-fbb9-40a6-b278-cf2028b93bb8"
   },
   "outputs": [
    {
     "name": "stdout",
     "output_type": "stream",
     "text": [
      "Dataloader_length(Images,labels) 2\n",
      "image list length 16\n",
      "image shape (16, 200, 200, 3)\n",
      "Defect List:  ['Crazing', 'Inclusion', 'Patches', 'Pitted', 'Rolled', 'Scratches']\n",
      "Defect dictionary in dataloader:  {'Crazing': 0, 'Inclusion': 1, 'Patches': 2, 'Pitted': 3, 'Rolled': 4, 'Scratches': 5}\n",
      "0\n",
      "[0 0 0 ... 5 5 5]\n",
      "dict_keys(['Crazing', 'Inclusion', 'Patches', 'Pitted', 'Rolled', 'Scratches'])\n",
      "dict_values([0, 1, 2, 3, 4, 5])\n"
     ]
    }
   ],
   "source": [
    "print(\"Dataloader_length(Images,labels)\", len(train_ds[0]))\n",
    "print(\"image list length\",len(train_ds[0][0]))\n",
    "print(\"image shape\", train_ds[0][0].shape)\n",
    "print(\"Defect List: \",classes_defects)\n",
    "print(\"Defect dictionary in dataloader: \",train_ds.class_indices)\n",
    "print(train_ds.labels[160])\n",
    "print(train_ds.classes)\n",
    "print(train_ds.class_indices.keys())\n",
    "print(train_ds.class_indices.values())\n",
    "#print([train_ds.class_indices(x)] for x in train_ds.classes])"
   ]
  },
  {
   "cell_type": "code",
   "execution_count": 17,
   "metadata": {
    "colab": {
     "base_uri": "https://localhost:8080/",
     "height": 356
    },
    "executionInfo": {
     "elapsed": 4645,
     "status": "ok",
     "timestamp": 1661262288649,
     "user": {
      "displayName": "kushang pangotra",
      "userId": "16090705689221290879"
     },
     "user_tz": -120
    },
    "id": "6TYmnOdfbtXs",
    "outputId": "e1a57ad0-3816-4c24-99cb-398619c1e61a"
   },
   "outputs": [
    {
     "name": "stdout",
     "output_type": "stream",
     "text": [
      "Image_shape:  (16, 200, 200, 3)\n",
      "Label_value:  3.0\n",
      "['Crazing', 'Inclusion', 'Patches', 'Pitted', 'Rolled', 'Scratches']\n",
      "tf.Tensor([3 0 5 3 0 3 0 5 4 2 0 3 4 3 0 1], shape=(16,), dtype=uint8)\n",
      "Pitted\n"
     ]
    },
    {
     "data": {
      "image/png": "[encoded data removed]",
      "text/plain": [
       "<Figure size 432x288 with 1 Axes>"
      ]
     },
     "metadata": {
      "needs_background": "light"
     },
     "output_type": "display_data"
    }
   ],
   "source": [
    "for images,labels in train_ds:\n",
    "    plt.imshow(images[0],cmap='gray')\n",
    "    print(\"Image_shape: \",images.shape)\n",
    "    print(\"Label_value: \",labels[0])\n",
    "    labels=tf.cast(labels,tf.uint8)\n",
    "    print(classes_defects)\n",
    "    print((labels))\n",
    "    print(classes_defects[labels[0]])\n",
    "    break"
   ]
  },
  {
   "cell_type": "code",
   "execution_count": null,
   "metadata": {
    "id": "wy_7uyOFgArJ"
   },
   "outputs": [],
   "source": []
  },
  {
   "cell_type": "code",
   "execution_count": 18,
   "metadata": {
    "id": "5_TNSItzeM4f"
   },
   "outputs": [],
   "source": [
    "#"
   ]
  },
  {
   "cell_type": "markdown",
   "metadata": {
    "id": "WNeiMRYX5Hm3"
   },
   "source": [
    "# Model architecture and Pretrained model import from keras\n",
    "\n",
    "Sources:\n",
    "\n",
    "\n",
    "1.   https://keras.io/api/applications/\n",
    "2.   https://towardsdatascience.com/transfer-learning-for-image-classification-using-tensorflow-71c359b56673\n",
    "\n"
   ]
  },
  {
   "cell_type": "code",
   "execution_count": 19,
   "metadata": {
    "id": "ZmJIaTmj45JZ"
   },
   "outputs": [],
   "source": [
    "from tensorflow.keras.applications import VGG16"
   ]
  },
  {
   "cell_type": "code",
   "execution_count": 20,
   "metadata": {
    "colab": {
     "base_uri": "https://localhost:8080/"
    },
    "executionInfo": {
     "elapsed": 645,
     "status": "ok",
     "timestamp": 1661262289288,
     "user": {
      "displayName": "kushang pangotra",
      "userId": "16090705689221290879"
     },
     "user_tz": -120
    },
    "id": "2ij8Gdq645NH",
    "outputId": "344024dd-0c57-448e-f04c-5bca8c97a45d"
   },
   "outputs": [],
   "source": [
    "feature_extractor=VGG16(weights='imagenet',input_shape=(200,200,3),include_top=False)\n",
    "feature_extractor.trainable=False"
   ]
  },
  {
   "cell_type": "code",
   "execution_count": 21,
   "metadata": {
    "id": "ih-RqwlP45Rj"
   },
   "outputs": [],
   "source": [
    "input_=tf.keras.Input(shape=(200,200,3))\n",
    "x=feature_extractor(input_,training=False)\n",
    "x = tf.keras.layers.GlobalAveragePooling2D()(x)\n",
    "x=layers.Dense(128,activation='relu')(x)\n",
    "x=layers.Dense(64,activation='relu')(x)\n",
    "x=layers.Dense(32,activation='relu')(x)\n",
    "output_=layers.Dense(6)(x)"
   ]
  },
  {
   "cell_type": "code",
   "execution_count": 22,
   "metadata": {
    "id": "aOeqdFR845U7"
   },
   "outputs": [],
   "source": [
    "model=keras.Model(input_,output_)"
   ]
  },
  {
   "cell_type": "markdown",
   "metadata": {
    "id": "Zgr42wG27Ptd"
   },
   "source": [
    "# Final Model architecture summary"
   ]
  },
  {
   "cell_type": "code",
   "execution_count": 23,
   "metadata": {
    "colab": {
     "base_uri": "https://localhost:8080/"
    },
    "executionInfo": {
     "elapsed": 7,
     "status": "ok",
     "timestamp": 1661262289685,
     "user": {
      "displayName": "kushang pangotra",
      "userId": "16090705689221290879"
     },
     "user_tz": -120
    },
    "id": "aaWM7UHF45X5",
    "outputId": "ab8b858b-d440-448d-f4a9-15f409f886ec"
   },
   "outputs": [
    {
     "name": "stdout",
     "output_type": "stream",
     "text": [
      "Model: \"model\"\n",
      "_________________________________________________________________\n",
      " Layer (type)                Output Shape              Param #   \n",
      "=================================================================\n",
      " input_2 (InputLayer)        [(None, 200, 200, 3)]     0         \n",
      "                                                                 \n",
      " vgg16 (Functional)          (None, 6, 6, 512)         14714688  \n",
      "                                                                 \n",
      " global_average_pooling2d (G  (None, 512)              0         \n",
      " lobalAveragePooling2D)                                          \n",
      "                                                                 \n",
      " dense (Dense)               (None, 128)               65664     \n",
      "                                                                 \n",
      " dense_1 (Dense)             (None, 64)                8256      \n",
      "                                                                 \n",
      " dense_2 (Dense)             (None, 32)                2080      \n",
      "                                                                 \n",
      " dense_3 (Dense)             (None, 6)                 198       \n",
      "                                                                 \n",
      "=================================================================\n",
      "Total params: 14,790,886\n",
      "Trainable params: 76,198\n",
      "Non-trainable params: 14,714,688\n",
      "_________________________________________________________________\n",
      "None\n"
     ]
    }
   ],
   "source": [
    "print(model.summary())"
   ]
  },
  {
   "cell_type": "code",
   "execution_count": 24,
   "metadata": {
    "colab": {
     "base_uri": "https://localhost:8080/",
     "height": 754
    },
    "executionInfo": {
     "elapsed": 716,
     "status": "ok",
     "timestamp": 1661262290398,
     "user": {
      "displayName": "kushang pangotra",
      "userId": "16090705689221290879"
     },
     "user_tz": -120
    },
    "id": "aLse4CtM7hKP",
    "outputId": "97221ad6-7186-4217-8e88-b89a2827ac8b"
   },
   "outputs": [
    {
     "name": "stdout",
     "output_type": "stream",
     "text": [
      "You must install pydot (`pip install pydot`) and install graphviz (see instructions at https://graphviz.gitlab.io/download/) for plot_model/model_to_dot to work.\n"
     ]
    }
   ],
   "source": [
    "from keras.utils.vis_utils import plot_model\n",
    "plot_model(model, to_file='model_plot.png', show_shapes=True, show_layer_names=True)"
   ]
  },
  {
   "cell_type": "code",
   "execution_count": 25,
   "metadata": {},
   "outputs": [],
   "source": [
    "#pip install pydot"
   ]
  },
  {
   "cell_type": "code",
   "execution_count": null,
   "metadata": {
    "id": "v_IXZuQX7g_L"
   },
   "outputs": [],
   "source": []
  },
  {
   "cell_type": "markdown",
   "metadata": {
    "id": "ona_DpUC7ANW"
   },
   "source": [
    "# Model training"
   ]
  },
  {
   "cell_type": "code",
   "execution_count": 26,
   "metadata": {
    "id": "t7yS6Wme45ao"
   },
   "outputs": [],
   "source": [
    "model.compile(loss=keras.losses.SparseCategoricalCrossentropy(from_logits=True),\n",
    "              optimizer=keras.optimizers.Adam(0.0005),\n",
    "              metrics=['accuracy'])"
   ]
  },
  {
   "cell_type": "code",
   "execution_count": 27,
   "metadata": {
    "colab": {
     "background_save": true,
     "base_uri": "https://localhost:8080/"
    },
    "id": "TYoVVgei-7E9",
    "outputId": "8644915d-302f-429c-cb38-f9ae20b82bf3"
   },
   "outputs": [
    {
     "name": "stdout",
     "output_type": "stream",
     "text": [
      "Epoch 1/50\n",
      "105/105 [==============================] - 24s 179ms/step - loss: 1.3533 - accuracy: 0.5873 - val_loss: 0.7661 - val_accuracy: 0.8750\n",
      "Epoch 2/50\n",
      "105/105 [==============================] - 14s 134ms/step - loss: 0.5714 - accuracy: 0.8878 - val_loss: 0.2682 - val_accuracy: 0.9861\n",
      "Epoch 3/50\n",
      "105/105 [==============================] - 14s 134ms/step - loss: 0.2677 - accuracy: 0.9382 - val_loss: 0.0934 - val_accuracy: 0.9861\n",
      "Epoch 4/50\n",
      "105/105 [==============================] - 14s 134ms/step - loss: 0.1634 - accuracy: 0.9652 - val_loss: 0.0763 - val_accuracy: 0.9861\n",
      "Epoch 5/50\n",
      "105/105 [==============================] - 14s 134ms/step - loss: 0.1277 - accuracy: 0.9634 - val_loss: 0.0465 - val_accuracy: 0.9861\n",
      "Epoch 6/50\n",
      "105/105 [==============================] - 14s 134ms/step - loss: 0.1122 - accuracy: 0.9712 - val_loss: 0.0430 - val_accuracy: 0.9861\n",
      "Epoch 7/50\n",
      "105/105 [==============================] - 14s 134ms/step - loss: 0.0950 - accuracy: 0.9676 - val_loss: 0.0471 - val_accuracy: 0.9861\n",
      "Epoch 8/50\n",
      "105/105 [==============================] - 14s 135ms/step - loss: 0.0842 - accuracy: 0.9742 - val_loss: 0.0234 - val_accuracy: 1.0000\n",
      "Epoch 9/50\n",
      "105/105 [==============================] - 14s 135ms/step - loss: 0.0726 - accuracy: 0.9784 - val_loss: 0.0139 - val_accuracy: 1.0000\n",
      "Epoch 10/50\n",
      "105/105 [==============================] - 14s 135ms/step - loss: 0.0768 - accuracy: 0.9742 - val_loss: 0.0190 - val_accuracy: 0.9861\n",
      "Epoch 11/50\n",
      "105/105 [==============================] - 14s 135ms/step - loss: 0.0556 - accuracy: 0.9844 - val_loss: 0.0145 - val_accuracy: 1.0000\n",
      "Epoch 12/50\n",
      "105/105 [==============================] - 14s 135ms/step - loss: 0.0560 - accuracy: 0.9820 - val_loss: 0.0340 - val_accuracy: 0.9861\n",
      "Epoch 13/50\n",
      "105/105 [==============================] - 14s 135ms/step - loss: 0.0637 - accuracy: 0.9778 - val_loss: 0.0138 - val_accuracy: 1.0000\n",
      "Epoch 14/50\n",
      "105/105 [==============================] - 14s 135ms/step - loss: 0.0481 - accuracy: 0.9862 - val_loss: 0.0104 - val_accuracy: 1.0000\n",
      "Epoch 15/50\n",
      "105/105 [==============================] - 14s 135ms/step - loss: 0.0489 - accuracy: 0.9820 - val_loss: 0.0141 - val_accuracy: 0.9861\n",
      "Epoch 16/50\n",
      "105/105 [==============================] - 14s 135ms/step - loss: 0.0408 - accuracy: 0.9856 - val_loss: 0.0110 - val_accuracy: 1.0000\n",
      "Epoch 17/50\n",
      "105/105 [==============================] - 14s 135ms/step - loss: 0.0385 - accuracy: 0.9868 - val_loss: 0.0135 - val_accuracy: 1.0000\n",
      "Epoch 18/50\n",
      "105/105 [==============================] - 14s 135ms/step - loss: 0.0325 - accuracy: 0.9916 - val_loss: 0.0132 - val_accuracy: 0.9861\n",
      "Epoch 19/50\n",
      "105/105 [==============================] - 14s 135ms/step - loss: 0.0361 - accuracy: 0.9898 - val_loss: 0.0065 - val_accuracy: 1.0000\n",
      "Epoch 20/50\n",
      "105/105 [==============================] - 14s 135ms/step - loss: 0.0332 - accuracy: 0.9898 - val_loss: 0.0120 - val_accuracy: 1.0000\n",
      "Epoch 21/50\n",
      "105/105 [==============================] - 14s 134ms/step - loss: 0.0452 - accuracy: 0.9856 - val_loss: 0.0337 - val_accuracy: 0.9861\n",
      "Epoch 22/50\n",
      "105/105 [==============================] - 14s 135ms/step - loss: 0.0298 - accuracy: 0.9910 - val_loss: 0.0077 - val_accuracy: 1.0000\n",
      "Epoch 23/50\n",
      "105/105 [==============================] - 14s 134ms/step - loss: 0.0370 - accuracy: 0.9892 - val_loss: 0.0051 - val_accuracy: 1.0000\n",
      "Epoch 24/50\n",
      "105/105 [==============================] - 14s 134ms/step - loss: 0.0276 - accuracy: 0.9916 - val_loss: 0.0036 - val_accuracy: 1.0000\n",
      "Epoch 25/50\n",
      "105/105 [==============================] - 14s 135ms/step - loss: 0.0261 - accuracy: 0.9940 - val_loss: 0.0130 - val_accuracy: 0.9861\n",
      "Epoch 26/50\n",
      "105/105 [==============================] - 14s 134ms/step - loss: 0.0285 - accuracy: 0.9892 - val_loss: 0.0168 - val_accuracy: 1.0000\n",
      "Epoch 27/50\n",
      "105/105 [==============================] - 14s 134ms/step - loss: 0.0314 - accuracy: 0.9898 - val_loss: 0.0027 - val_accuracy: 1.0000\n",
      "Epoch 28/50\n",
      "105/105 [==============================] - 14s 135ms/step - loss: 0.0317 - accuracy: 0.9898 - val_loss: 0.0240 - val_accuracy: 1.0000\n",
      "Epoch 29/50\n",
      "105/105 [==============================] - 14s 135ms/step - loss: 0.0283 - accuracy: 0.9916 - val_loss: 0.0310 - val_accuracy: 0.9861\n",
      "Epoch 30/50\n",
      "105/105 [==============================] - 14s 135ms/step - loss: 0.0258 - accuracy: 0.9910 - val_loss: 0.0071 - val_accuracy: 1.0000\n",
      "Epoch 31/50\n",
      "105/105 [==============================] - 14s 135ms/step - loss: 0.0296 - accuracy: 0.9904 - val_loss: 0.0041 - val_accuracy: 1.0000\n",
      "Epoch 32/50\n",
      "105/105 [==============================] - 14s 135ms/step - loss: 0.0181 - accuracy: 0.9958 - val_loss: 0.0032 - val_accuracy: 1.0000\n",
      "Epoch 33/50\n",
      "105/105 [==============================] - 14s 135ms/step - loss: 0.0159 - accuracy: 0.9964 - val_loss: 0.0023 - val_accuracy: 1.0000\n",
      "Epoch 34/50\n",
      "105/105 [==============================] - 14s 135ms/step - loss: 0.0301 - accuracy: 0.9916 - val_loss: 0.0017 - val_accuracy: 1.0000\n",
      "Epoch 35/50\n",
      "105/105 [==============================] - 14s 135ms/step - loss: 0.0149 - accuracy: 0.9958 - val_loss: 0.0058 - val_accuracy: 1.0000\n",
      "Epoch 36/50\n",
      "105/105 [==============================] - 14s 135ms/step - loss: 0.0128 - accuracy: 0.9964 - val_loss: 0.0026 - val_accuracy: 1.0000\n",
      "Epoch 37/50\n",
      "105/105 [==============================] - 14s 135ms/step - loss: 0.0130 - accuracy: 0.9970 - val_loss: 7.2971e-04 - val_accuracy: 1.0000\n",
      "Epoch 38/50\n",
      "105/105 [==============================] - 14s 135ms/step - loss: 0.0144 - accuracy: 0.9976 - val_loss: 0.0048 - val_accuracy: 1.0000\n",
      "Epoch 39/50\n",
      "105/105 [==============================] - 14s 135ms/step - loss: 0.0145 - accuracy: 0.9976 - val_loss: 0.0032 - val_accuracy: 1.0000\n",
      "Epoch 40/50\n",
      "105/105 [==============================] - 14s 135ms/step - loss: 0.0121 - accuracy: 0.9970 - val_loss: 7.5714e-04 - val_accuracy: 1.0000\n",
      "Epoch 41/50\n",
      "105/105 [==============================] - 14s 135ms/step - loss: 0.0094 - accuracy: 0.9988 - val_loss: 3.9277e-04 - val_accuracy: 1.0000\n",
      "Epoch 42/50\n",
      "105/105 [==============================] - 14s 135ms/step - loss: 0.0102 - accuracy: 0.9976 - val_loss: 0.0032 - val_accuracy: 1.0000\n",
      "Epoch 43/50\n",
      "105/105 [==============================] - 14s 135ms/step - loss: 0.0097 - accuracy: 0.9988 - val_loss: 0.0016 - val_accuracy: 1.0000\n",
      "Epoch 44/50\n",
      "105/105 [==============================] - 14s 135ms/step - loss: 0.0175 - accuracy: 0.9958 - val_loss: 0.0255 - val_accuracy: 0.9861\n",
      "Epoch 45/50\n",
      "105/105 [==============================] - 14s 134ms/step - loss: 0.0350 - accuracy: 0.9862 - val_loss: 0.0211 - val_accuracy: 0.9861\n",
      "Epoch 46/50\n",
      "105/105 [==============================] - 14s 134ms/step - loss: 0.0112 - accuracy: 0.9976 - val_loss: 0.0134 - val_accuracy: 1.0000\n",
      "Epoch 47/50\n",
      "105/105 [==============================] - 14s 134ms/step - loss: 0.0140 - accuracy: 0.9958 - val_loss: 7.7526e-04 - val_accuracy: 1.0000\n",
      "Epoch 48/50\n",
      "105/105 [==============================] - 14s 134ms/step - loss: 0.0116 - accuracy: 0.9964 - val_loss: 6.4224e-04 - val_accuracy: 1.0000\n",
      "Epoch 49/50\n",
      "105/105 [==============================] - 14s 134ms/step - loss: 0.0099 - accuracy: 0.9976 - val_loss: 0.0019 - val_accuracy: 1.0000\n",
      "Epoch 50/50\n",
      "105/105 [==============================] - 14s 135ms/step - loss: 0.0099 - accuracy: 0.9970 - val_loss: 3.6055e-04 - val_accuracy: 1.0000\n"
     ]
    }
   ],
   "source": [
    "history=model.fit(train_ds, epochs=50, verbose=True,validation_data=valid_ds)"
   ]
  },
  {
   "cell_type": "markdown",
   "metadata": {
    "id": "S9obrY5b60Xm"
   },
   "source": [
    "# Test dataloader evaluation, Saving and loading weights"
   ]
  },
  {
   "cell_type": "code",
   "execution_count": 28,
   "metadata": {
    "colab": {
     "background_save": true
    },
    "id": "jWz2MCKK-7CG"
   },
   "outputs": [
    {
     "name": "stdout",
     "output_type": "stream",
     "text": [
      "5/5 [==============================] - 1s 118ms/step - loss: 0.0016 - accuracy: 1.0000\n"
     ]
    },
    {
     "data": {
      "text/plain": [
       "[0.0016254002694040537, 1.0]"
      ]
     },
     "execution_count": 28,
     "metadata": {},
     "output_type": "execute_result"
    }
   ],
   "source": [
    "model.evaluate(test_ds)"
   ]
  },
  {
   "cell_type": "code",
   "execution_count": null,
   "metadata": {
    "colab": {
     "background_save": true
    },
    "id": "qpwg4w41nsXx"
   },
   "outputs": [],
   "source": [
    "#os.chdir('/content/drive/MyDrive/Colab Notebooks/Tlab')"
   ]
  },
  {
   "cell_type": "code",
   "execution_count": null,
   "metadata": {
    "colab": {
     "background_save": true
    },
    "id": "VReUMxrjnsVK"
   },
   "outputs": [],
   "source": [
    "#For creating new directory\n",
    "#os.makedirs('VGG16/VGG16_training_false_aug_false')"
   ]
  },
  {
   "cell_type": "code",
   "execution_count": 29,
   "metadata": {
    "colab": {
     "background_save": true
    },
    "id": "om9sWWyunsST"
   },
   "outputs": [],
   "source": [
    "os.chdir('./VGG16/VGG16_training_false_aug_false')"
   ]
  },
  {
   "cell_type": "code",
   "execution_count": 30,
   "metadata": {
    "colab": {
     "background_save": true
    },
    "id": "AUw333zunsP3"
   },
   "outputs": [],
   "source": [
    "#For saving weights\n",
    "model.save_weights('training_vgg_01.ckpt')"
   ]
  },
  {
   "cell_type": "markdown",
   "metadata": {
    "id": "5sKa6nCmIziZ"
   },
   "source": [
    "## Loading weights"
   ]
  },
  {
   "cell_type": "code",
   "execution_count": 31,
   "metadata": {
    "colab": {
     "background_save": true
    },
    "id": "D5sR9p9_nsM_"
   },
   "outputs": [],
   "source": [
    "model_new=keras.Model(input_,output_)"
   ]
  },
  {
   "cell_type": "code",
   "execution_count": 32,
   "metadata": {
    "colab": {
     "background_save": true
    },
    "id": "bYgtF61l_b8Q"
   },
   "outputs": [
    {
     "data": {
      "text/plain": [
       "<tensorflow.python.training.tracking.util.CheckpointLoadStatus at 0x2369594b550>"
      ]
     },
     "execution_count": 32,
     "metadata": {},
     "output_type": "execute_result"
    }
   ],
   "source": [
    "model_new.load_weights('./training_vgg_01.ckpt')"
   ]
  },
  {
   "cell_type": "code",
   "execution_count": null,
   "metadata": {
    "id": "PEwL3e6TI2yH"
   },
   "outputs": [],
   "source": []
  },
  {
   "cell_type": "code",
   "execution_count": 33,
   "metadata": {
    "colab": {
     "background_save": true
    },
    "id": "tgGXNBh_udz7"
   },
   "outputs": [],
   "source": [
    "model_new.compile(loss=keras.losses.SparseCategoricalCrossentropy(from_logits=True),\n",
    "              optimizer=keras.optimizers.Adam(0.0005),\n",
    "              metrics=['accuracy'],\n",
    "              )"
   ]
  },
  {
   "cell_type": "code",
   "execution_count": 34,
   "metadata": {},
   "outputs": [
    {
     "data": {
      "text/plain": [
       "'D:\\\\Techlabs aachen\\\\VGG16_notebooks_and_weights\\\\VGG16\\\\VGG16_training_false_aug_false'"
      ]
     },
     "execution_count": 34,
     "metadata": {},
     "output_type": "execute_result"
    }
   ],
   "source": [
    "os.getcwd()"
   ]
  },
  {
   "cell_type": "code",
   "execution_count": 36,
   "metadata": {},
   "outputs": [
    {
     "name": "stdout",
     "output_type": "stream",
     "text": [
      "D:\\Techlabs aachen\\VGG16_notebooks_and_weights\n"
     ]
    }
   ],
   "source": [
    "#2x\n",
    "os.chdir(r'..')\n",
    "print(os.getcwd())"
   ]
  },
  {
   "cell_type": "code",
   "execution_count": 38,
   "metadata": {
    "colab": {
     "background_save": true
    },
    "id": "NNe0vRzwoKaW"
   },
   "outputs": [
    {
     "name": "stdout",
     "output_type": "stream",
     "text": [
      "1/1 [==============================] - 9s 9s/step - loss: 0.0016 - accuracy: 1.0000\n"
     ]
    },
    {
     "data": {
      "text/plain": [
       "[0.0016253952635452151, 1.0]"
      ]
     },
     "execution_count": 38,
     "metadata": {},
     "output_type": "execute_result"
    }
   ],
   "source": [
    "#test batch size=72\n",
    "model_new.evaluate(test_ds)"
   ]
  },
  {
   "cell_type": "code",
   "execution_count": 40,
   "metadata": {},
   "outputs": [
    {
     "name": "stdout",
     "output_type": "stream",
     "text": [
      "72/72 [==============================] - 2s 16ms/step - loss: 0.0016 - accuracy: 1.0000\n"
     ]
    },
    {
     "data": {
      "text/plain": [
       "[0.0016253986395895481, 1.0]"
      ]
     },
     "execution_count": 40,
     "metadata": {},
     "output_type": "execute_result"
    }
   ],
   "source": [
    "#test batch size=1\n",
    "model_new.evaluate(test_ds)"
   ]
  },
  {
   "cell_type": "code",
   "execution_count": 42,
   "metadata": {},
   "outputs": [
    {
     "name": "stdout",
     "output_type": "stream",
     "text": [
      "5/5 [==============================] - 1s 118ms/step - loss: 0.0016 - accuracy: 1.0000\n"
     ]
    },
    {
     "data": {
      "text/plain": [
       "[0.0016254002694040537, 1.0]"
      ]
     },
     "execution_count": 42,
     "metadata": {},
     "output_type": "execute_result"
    }
   ],
   "source": [
    "#test batch size=16\n",
    "model_new.evaluate(test_ds)"
   ]
  },
  {
   "cell_type": "markdown",
   "metadata": {
    "id": "HGHQcWas6SVp"
   },
   "source": [
    "# Performance"
   ]
  },
  {
   "cell_type": "code",
   "execution_count": null,
   "metadata": {},
   "outputs": [],
   "source": []
  },
  {
   "cell_type": "code",
   "execution_count": 43,
   "metadata": {
    "colab": {
     "background_save": true
    },
    "id": "ml2UYR1Tujbk"
   },
   "outputs": [
    {
     "data": {
      "text/plain": [
       "dict_keys(['loss', 'accuracy', 'val_loss', 'val_accuracy'])"
      ]
     },
     "execution_count": 43,
     "metadata": {},
     "output_type": "execute_result"
    }
   ],
   "source": [
    "history.history.keys()"
   ]
  },
  {
   "cell_type": "markdown",
   "metadata": {
    "id": "PTNXsMJz6frt"
   },
   "source": [
    "Loss vs epochs"
   ]
  },
  {
   "cell_type": "code",
   "execution_count": 44,
   "metadata": {
    "colab": {
     "background_save": true
    },
    "id": "ESpFamPO_b5Q"
   },
   "outputs": [
    {
     "data": {
      "text/plain": [
       "<matplotlib.legend.Legend at 0x236bb5a75b0>"
      ]
     },
     "execution_count": 44,
     "metadata": {},
     "output_type": "execute_result"
    },
    {
     "data": {
      "image/png": "[encoded data removed]",
      "text/plain": [
       "<Figure size 432x288 with 1 Axes>"
      ]
     },
     "metadata": {
      "needs_background": "light"
     },
     "output_type": "display_data"
    }
   ],
   "source": [
    "plt.plot(history.history['loss'])\n",
    "plt.plot(history.history['val_loss'])\n",
    "plt.xlabel('epochs')\n",
    "plt.ylabel('loss')\n",
    "plt.legend(['train','valid'])"
   ]
  },
  {
   "cell_type": "markdown",
   "metadata": {
    "id": "OsFKi53g6lKd"
   },
   "source": [
    "Accuracy vs epochs"
   ]
  },
  {
   "cell_type": "code",
   "execution_count": 45,
   "metadata": {
    "colab": {
     "background_save": true
    },
    "id": "_honYQQg_b2G"
   },
   "outputs": [
    {
     "data": {
      "text/plain": [
       "<matplotlib.legend.Legend at 0x236afcff220>"
      ]
     },
     "execution_count": 45,
     "metadata": {},
     "output_type": "execute_result"
    },
    {
     "data": {
      "image/png": "[encoded data removed]",
      "text/plain": [
       "<Figure size 432x288 with 1 Axes>"
      ]
     },
     "metadata": {
      "needs_background": "light"
     },
     "output_type": "display_data"
    }
   ],
   "source": [
    "plt.plot(history.history['accuracy'])\n",
    "plt.plot(history.history['val_accuracy'])\n",
    "plt.xlabel('epochs')\n",
    "plt.ylabel('accuracy')\n",
    "#plt.yscale()\n",
    "plt.legend(['train','valid'])"
   ]
  },
  {
   "cell_type": "markdown",
   "metadata": {
    "id": "i96Lxcgp6om1"
   },
   "source": [
    "# Predictions"
   ]
  },
  {
   "cell_type": "code",
   "execution_count": 46,
   "metadata": {
    "colab": {
     "background_save": true
    },
    "id": "haUNAQPE_byX"
   },
   "outputs": [],
   "source": [
    "from sklearn.metrics import classification_report, confusion_matrix,ConfusionMatrixDisplay"
   ]
  },
  {
   "cell_type": "code",
   "execution_count": null,
   "metadata": {
    "colab": {
     "background_save": true
    },
    "id": "_4ZHM36_ok8G"
   },
   "outputs": [],
   "source": []
  },
  {
   "cell_type": "code",
   "execution_count": 47,
   "metadata": {
    "colab": {
     "background_save": true
    },
    "id": "Qc8N2y5poku-"
   },
   "outputs": [],
   "source": [
    "X_test=[]\n",
    "y_test=[]\n",
    "for i in range(len(test_ds)):\n",
    "    dataiter = iter(test_ds)\n",
    "    images, labels = dataiter.next()\n",
    "    X_test.extend(images)\n",
    "    y_test.extend(labels)"
   ]
  },
  {
   "cell_type": "code",
   "execution_count": 48,
   "metadata": {
    "colab": {
     "background_save": true
    },
    "id": "l5tUR6pQoppG"
   },
   "outputs": [
    {
     "name": "stdout",
     "output_type": "stream",
     "text": [
      "72\n"
     ]
    }
   ],
   "source": [
    "print(len(X_test))"
   ]
  },
  {
   "cell_type": "code",
   "execution_count": 49,
   "metadata": {
    "colab": {
     "background_save": true
    },
    "id": "k9Dosv22osJI"
   },
   "outputs": [
    {
     "name": "stdout",
     "output_type": "stream",
     "text": [
      "[0, 0, 0, 0, 0, 0, 0, 0, 0, 0, 0, 0, 1, 1, 1, 1, 1, 1, 1, 1, 1, 1, 1, 1, 2, 2, 2, 2, 2, 2, 2, 2, 2, 2, 2, 2, 3, 3, 3, 3, 3, 3, 3, 3, 3, 3, 3, 3, 4, 4, 4, 4, 4, 4, 4, 4, 4, 4, 4, 4, 5, 5, 5, 5, 5, 5, 5, 5, 5, 5, 5, 5]\n"
     ]
    }
   ],
   "source": [
    "y_test=[int(x) for x in y_test]\n",
    "print(y_test)"
   ]
  },
  {
   "cell_type": "code",
   "execution_count": 50,
   "metadata": {
    "colab": {
     "background_save": true
    },
    "id": "WG0XtrilosBe"
   },
   "outputs": [
    {
     "name": "stdout",
     "output_type": "stream",
     "text": [
      "[[ 12.682918  -11.622034   -2.5998569  -1.4377866  -1.7692889 -18.764637 ]\n",
      " [ 11.765825  -12.625686   -1.74222    -2.6214345  -0.9131738 -19.148783 ]]\n",
      "[0, 0, 0, 0, 0, 0, 0, 0, 0, 0, 0, 0, 1, 1, 1, 1, 1, 1, 1, 1, 1, 1, 1, 1, 2, 2, 2, 2, 2, 2, 2, 2, 2, 2, 2, 2, 3, 3, 3, 3, 3, 3, 3, 3, 3, 3, 3, 3, 4, 4, 4, 4, 4, 4, 4, 4, 4, 4, 4, 4, 5, 5, 5, 5, 5, 5, 5, 5, 5, 5, 5, 5]\n"
     ]
    }
   ],
   "source": [
    "y_predict=model_new.predict(np.array(X_test))\n",
    "print(y_predict[:2])\n",
    "y_hat=[np.argmax(x) for x in y_predict]\n",
    "print(y_hat)"
   ]
  },
  {
   "cell_type": "code",
   "execution_count": 51,
   "metadata": {
    "colab": {
     "background_save": true
    },
    "id": "BA3F9QhkowqW"
   },
   "outputs": [
    {
     "name": "stdout",
     "output_type": "stream",
     "text": [
      "              precision    recall  f1-score   support\n",
      "\n",
      "     Crazing       1.00      1.00      1.00        12\n",
      "   Inclusion       1.00      1.00      1.00        12\n",
      "     Patches       1.00      1.00      1.00        12\n",
      "      Pitted       1.00      1.00      1.00        12\n",
      "      Rolled       1.00      1.00      1.00        12\n",
      "   Scratches       1.00      1.00      1.00        12\n",
      "\n",
      "    accuracy                           1.00        72\n",
      "   macro avg       1.00      1.00      1.00        72\n",
      "weighted avg       1.00      1.00      1.00        72\n",
      "\n"
     ]
    }
   ],
   "source": [
    "print(classification_report(y_test, y_hat, target_names=classes_defects))"
   ]
  },
  {
   "cell_type": "code",
   "execution_count": 52,
   "metadata": {
    "colab": {
     "background_save": true
    },
    "id": "lXPiwdVYowm3"
   },
   "outputs": [
    {
     "name": "stdout",
     "output_type": "stream",
     "text": [
      "[[12  0  0  0  0  0]\n",
      " [ 0 12  0  0  0  0]\n",
      " [ 0  0 12  0  0  0]\n",
      " [ 0  0  0 12  0  0]\n",
      " [ 0  0  0  0 12  0]\n",
      " [ 0  0  0  0  0 12]]\n"
     ]
    }
   ],
   "source": [
    "print(confusion_matrix(y_test, y_hat))"
   ]
  },
  {
   "cell_type": "code",
   "execution_count": 53,
   "metadata": {
    "colab": {
     "background_save": true
    },
    "id": "8FZu64snowgn"
   },
   "outputs": [
    {
     "data": {
      "text/plain": [
       "<sklearn.metrics._plot.confusion_matrix.ConfusionMatrixDisplay at 0x2374c80b7c0>"
      ]
     },
     "execution_count": 53,
     "metadata": {},
     "output_type": "execute_result"
    },
    {
     "data": {
      "image/png": "[encoded data removed]",
      "text/plain": [
       "<Figure size 720x720 with 2 Axes>"
      ]
     },
     "metadata": {
      "needs_background": "light"
     },
     "output_type": "display_data"
    }
   ],
   "source": [
    "cmd = ConfusionMatrixDisplay(confusion_matrix(y_test, y_hat),display_labels=classes_defects)\n",
    "fig,ax=plt.subplots(figsize=(10,10))\n",
    "cmd.plot(ax=ax,cmap=\"inferno\")"
   ]
  },
  {
   "cell_type": "code",
   "execution_count": null,
   "metadata": {
    "id": "EhiR85UNo12H"
   },
   "outputs": [],
   "source": []
  },
  {
   "cell_type": "code",
   "execution_count": null,
   "metadata": {
    "id": "PGe6Q1VBo1ym"
   },
   "outputs": [],
   "source": []
  },
  {
   "cell_type": "code",
   "execution_count": null,
   "metadata": {
    "id": "zdGskUGkddSf"
   },
   "outputs": [],
   "source": []
  },
  {
   "cell_type": "code",
   "execution_count": null,
   "metadata": {
    "id": "NgSM5lNk4y4H"
   },
   "outputs": [],
   "source": []
  },
  {
   "cell_type": "code",
   "execution_count": null,
   "metadata": {
    "id": "3krtbQbyddMl"
   },
   "outputs": [],
   "source": []
  },
  {
   "cell_type": "code",
   "execution_count": null,
   "metadata": {
    "id": "hBMifaIPgT8T"
   },
   "outputs": [],
   "source": [
    "# import numpy as np\n",
    "# sample=np.expand_dims(X_test[0],axis=0)\n",
    "# sample_predict=model.predict(sample)\n",
    "# plt.imshow(X_test[0],cmap='gray')\n",
    "# print(sample_predict, \"Max: \", np.argmax(sample_predict))\n",
    "# print(\"predicted label: \",classes_defects[np.argmax(sample_predict)])\n",
    "# print(\"Actual label: \",classes_defects[int(y_test[0])])"
   ]
  },
  {
   "cell_type": "code",
   "execution_count": null,
   "metadata": {
    "id": "uUnEDT5ho60m"
   },
   "outputs": [],
   "source": [
    "# sample = iter(test_ds)\n",
    "# images, labels = sample.next()\n",
    "# print(images.shape)\n",
    "# sample_predict=model.predict(images)\n",
    "# plt.imshow(images,cmap='gray')\n",
    "# print(sample_predict, \"Max: \", np.argmax(sample_predict))\n",
    "# print(\"predicted label: \",classes_defects[np.argmax(sample_predict)])\n",
    "# print(\"Actual label: \",classes_defects[int(labels)])"
   ]
  },
  {
   "cell_type": "code",
   "execution_count": null,
   "metadata": {
    "id": "TT3cNAzR8-Mq"
   },
   "outputs": [],
   "source": []
  }
 ],
 "metadata": {
  "accelerator": "GPU",
  "colab": {
   "collapsed_sections": [],
   "name": "VGG16_training_false_aug_false.ipynb",
   "provenance": [
    {
     "file_id": "1bb80nJzj1kqgsixlr_mCjPVXq0NNefNT",
     "timestamp": 1660168108964
    }
   ]
  },
  "gpuClass": "standard",
  "kernelspec": {
   "display_name": "Python 3 (ipykernel)",
   "language": "python",
   "name": "python3"
  },
  "language_info": {
   "codemirror_mode": {
    "name": "ipython",
    "version": 3
   },
   "file_extension": ".py",
   "mimetype": "text/x-python",
   "name": "python",
   "nbconvert_exporter": "python",
   "pygments_lexer": "ipython3",
   "version": "3.9.7"
  }
 },
 "nbformat": 4,
 "nbformat_minor": 4
}
