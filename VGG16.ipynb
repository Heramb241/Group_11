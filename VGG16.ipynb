{
  "cells": [
    {
      "cell_type": "code",
      "execution_count": 1,
      "metadata": {
        "id": "0eH7zROBO5kd"
      },
      "outputs": [],
      "source": [
        "import os\n",
        "import matplotlib.pyplot as plt\n",
        "%matplotlib inline\n",
        "import tensorflow as tf\n",
        "from tensorflow import keras\n",
        "from tensorflow.keras import layers\n",
        "\n",
        "from tensorflow.keras.preprocessing.image import ImageDataGenerator #for data organised in folders"
      ]
    },
    {
      "cell_type": "code",
      "source": [
        "from google.colab import drive\n",
        "drive.mount('/content/drive')"
      ],
      "metadata": {
        "colab": {
          "base_uri": "https://localhost:8080/"
        },
        "id": "9KdPSb-h5KVo",
        "outputId": "55fb4d47-9211-4796-a29a-bdf974f9ee54"
      },
      "execution_count": 2,
      "outputs": [
        {
          "output_type": "stream",
          "name": "stdout",
          "text": [
            "Mounted at /content/drive\n"
          ]
        }
      ]
    },
    {
      "cell_type": "code",
      "execution_count": null,
      "metadata": {
        "id": "habbGNZ34miy"
      },
      "outputs": [],
      "source": [
        "#path=r'./NEU Metal Surface Defects Data' #for desktop"
      ]
    },
    {
      "cell_type": "code",
      "execution_count": null,
      "metadata": {
        "id": "Ps9W74s7REAb"
      },
      "outputs": [],
      "source": [
        "# # accessing data from colab\n",
        "# from google.colab import drive\n",
        "# drive.mount('/content/drive')"
      ]
    },
    {
      "cell_type": "code",
      "execution_count": 6,
      "metadata": {
        "id": "1V3ldH4fRbj0"
      },
      "outputs": [],
      "source": [
        "# folder path\n",
        "path=r'/content/drive/MyDrive/Colab Notebooks/Tlab/NEU Metal Surface Defects Data'"
      ]
    },
    {
      "cell_type": "code",
      "execution_count": null,
      "metadata": {
        "id": "S-VvDncjRv3C"
      },
      "outputs": [],
      "source": [
        "#exploring folder"
      ]
    },
    {
      "cell_type": "code",
      "execution_count": 7,
      "metadata": {
        "colab": {
          "base_uri": "https://localhost:8080/"
        },
        "id": "pVKsZMhkRzfk",
        "outputId": "3f7fa9ed-7e3f-427f-87a7-2e176323bf38"
      },
      "outputs": [
        {
          "output_type": "execute_result",
          "data": {
            "text/plain": [
              "['Thumbs.db', 'train', 'test', 'valid']"
            ]
          },
          "metadata": {},
          "execution_count": 7
        }
      ],
      "source": [
        "os.listdir(path)"
      ]
    },
    {
      "cell_type": "code",
      "execution_count": 8,
      "metadata": {
        "colab": {
          "base_uri": "https://localhost:8080/"
        },
        "id": "T6hXJJXGR2-t",
        "outputId": "67c3f62b-f8d0-4f2b-a563-f54581050efc"
      },
      "outputs": [
        {
          "output_type": "execute_result",
          "data": {
            "text/plain": [
              "['Inclusion', 'Patches', 'Crazing', 'Pitted', 'Scratches', 'Rolled']"
            ]
          },
          "metadata": {},
          "execution_count": 8
        }
      ],
      "source": [
        "os.listdir(path+'/train')"
      ]
    },
    {
      "cell_type": "code",
      "execution_count": 9,
      "metadata": {
        "colab": {
          "base_uri": "https://localhost:8080/"
        },
        "id": "zRx7jdvHR8rc",
        "outputId": "bf999967-7ff7-4753-dd22-523946cee5ca"
      },
      "outputs": [
        {
          "output_type": "stream",
          "name": "stdout",
          "text": [
            "['Inclusion', 'Patches', 'Crazing', 'Pitted', 'Scratches', 'Rolled']\n",
            "<class 'list'>\n"
          ]
        }
      ],
      "source": [
        "classes_defects=os.listdir(path+'/train')\n",
        "print(classes_defects)\n",
        "print(type(classes_defects))"
      ]
    },
    {
      "cell_type": "code",
      "execution_count": 10,
      "metadata": {
        "colab": {
          "base_uri": "https://localhost:8080/"
        },
        "id": "Qoi73fWQSegc",
        "outputId": "963042f4-f5b2-4d29-cd2a-64f19409ceda"
      },
      "outputs": [
        {
          "output_type": "execute_result",
          "data": {
            "text/plain": [
              "['Pa_206.bmp',\n",
              " 'Pa_165.bmp',\n",
              " 'Pa_145.bmp',\n",
              " 'Pa_156.bmp',\n",
              " 'Pa_226.bmp',\n",
              " 'Pa_243.bmp',\n",
              " 'Pa_209.bmp',\n",
              " 'Pa_195.bmp',\n",
              " 'Pa_131.bmp',\n",
              " 'Pa_16.bmp']"
            ]
          },
          "metadata": {},
          "execution_count": 10
        }
      ],
      "source": [
        "os.listdir(path+'/train/Patches')[:10]"
      ]
    },
    {
      "cell_type": "code",
      "execution_count": 11,
      "metadata": {
        "id": "-s5UQV0IS7Le"
      },
      "outputs": [],
      "source": [
        "from PIL import Image"
      ]
    },
    {
      "cell_type": "code",
      "execution_count": 12,
      "metadata": {
        "colab": {
          "base_uri": "https://localhost:8080/"
        },
        "id": "W2BjIqwVTDQc",
        "outputId": "0100551b-219b-45e1-f159-38971ec1113e"
      },
      "outputs": [
        {
          "output_type": "stream",
          "name": "stdout",
          "text": [
            "/content/drive/MyDrive/Colab Notebooks/Tlab/NEU Metal Surface Defects Data/train/Patches/Pa_206.bmp\n",
            "BMP\n",
            "L\n",
            "(200, 200)\n"
          ]
        }
      ],
      "source": [
        "img1=Image.open(path+'/train/Patches/Pa_206.bmp')\n",
        "print(img1.filename)\n",
        "print(img1.format)\n",
        "print(img1.mode)\n",
        "print(img1.size)\n",
        "\n",
        "# # The \"L\" mode represents grayscale here.... So it can hold any of 256 shades of Gray \n",
        "# (includes black and white as Gray shades).\n",
        "# # The \"P\" mode can hold 256 different colors like red,blue, green etc....\n",
        "# https://stackoverflow.com/questions/52307290/what-is-the-difference-between-images-in-p-and-l-mode-in-pil#:~:text=Examples%3A%208%20bit%20black%20and,are%20%22P%22%20mode.."
      ]
    },
    {
      "cell_type": "code",
      "execution_count": 13,
      "metadata": {
        "id": "IiCMG6LTSOGN"
      },
      "outputs": [],
      "source": [
        "image=plt.imread(path+'/train/Patches/Pa_206.bmp')\n"
      ]
    },
    {
      "cell_type": "code",
      "execution_count": 14,
      "metadata": {
        "colab": {
          "base_uri": "https://localhost:8080/",
          "height": 304
        },
        "id": "5MIGHv_vSrxz",
        "outputId": "2deb6606-437e-42aa-bb80-404ad5277460"
      },
      "outputs": [
        {
          "output_type": "stream",
          "name": "stdout",
          "text": [
            "(200, 200)\n",
            "max_pixel_value: 255\n"
          ]
        },
        {
          "output_type": "display_data",
          "data": {
            "text/plain": [
              "<Figure size 432x288 with 1 Axes>"
            ],
            "image/png": "[encoded data removed]"
          },
          "metadata": {
            "needs_background": "light"
          }
        }
      ],
      "source": [
        "print(image.shape)\n",
        "plt.imshow(image,cmap='gray')\n",
        "print(\"max_pixel_value: {}\".format(image.max()))"
      ]
    },
    {
      "cell_type": "code",
      "execution_count": null,
      "metadata": {
        "id": "t189_sQHTw9N"
      },
      "outputs": [],
      "source": [
        ""
      ]
    },
    {
      "cell_type": "code",
      "execution_count": 15,
      "metadata": {
        "id": "uf0_K6MHUUi1"
      },
      "outputs": [],
      "source": [
        "image_height=200\n",
        "image_width=200\n",
        "batch_size=16"
      ]
    },
    {
      "cell_type": "code",
      "execution_count": null,
      "metadata": {
        "id": "9KUfi1xOUUo_"
      },
      "outputs": [],
      "source": [
        "#ImageDataGenerator and flow_from_directory for datasets"
      ]
    },
    {
      "cell_type": "code",
      "execution_count": null,
      "metadata": {
        "id": "g97uGV7oXQeO"
      },
      "outputs": [],
      "source": [
        "# # https://vijayabhaskar96.medium.com/tutorial-image-classification-with-keras-flow-from-directory-and-generators-95f75ebe5720\n",
        "\n",
        "# https://github.com/aladdinpersson/Machine-Learning-Collection/blob/master/ML/TensorFlow/Basics/tutorial18-customdata-images/1_in_subfolders.py"
      ]
    },
    {
      "cell_type": "code",
      "execution_count": 16,
      "metadata": {
        "id": "5MZT5ja9XdFG"
      },
      "outputs": [],
      "source": [
        "data_generator=ImageDataGenerator(\n",
        "    rescale=1.0/255,\n",
        "    dtype=tf.float32,\n",
        "    \n",
        ")"
      ]
    },
    {
      "cell_type": "code",
      "execution_count": 17,
      "metadata": {
        "colab": {
          "base_uri": "https://localhost:8080/"
        },
        "id": "UfIlTPg7Z4FM",
        "outputId": "43f88d32-b18e-4742-8726-a0780543cbde"
      },
      "outputs": [
        {
          "output_type": "stream",
          "name": "stdout",
          "text": [
            "Found 1667 images belonging to 6 classes.\n"
          ]
        }
      ],
      "source": [
        "train_ds=data_generator.flow_from_directory(\n",
        "    path+'/train',\n",
        "    target_size=(200,200),\n",
        "    # color_mode='grayscale',\n",
        "    classes=classes_defects,\n",
        "    class_mode='sparse',\n",
        "    shuffle=True,\n",
        "    seed=1,\n",
        "    batch_size=batch_size\n",
        ")"
      ]
    },
    {
      "cell_type": "code",
      "execution_count": 18,
      "metadata": {
        "colab": {
          "base_uri": "https://localhost:8080/"
        },
        "id": "fd1x129WbHZX",
        "outputId": "6fb87336-5c8c-4bc5-b107-0cab9661b770"
      },
      "outputs": [
        {
          "output_type": "stream",
          "name": "stdout",
          "text": [
            "Found 72 images belonging to 6 classes.\n"
          ]
        }
      ],
      "source": [
        "valid_ds=data_generator.flow_from_directory(\n",
        "    path+'/valid',\n",
        "    target_size=(200,200),\n",
        "    # color_mode='grayscale',\n",
        "    classes=classes_defects,\n",
        "    class_mode='sparse',\n",
        "    shuffle=True,\n",
        "    seed=1,\n",
        "    batch_size=batch_size\n",
        ")"
      ]
    },
    {
      "cell_type": "code",
      "execution_count": 19,
      "metadata": {
        "colab": {
          "base_uri": "https://localhost:8080/"
        },
        "id": "70aEnJ-zbOG1",
        "outputId": "6c07eecf-8380-4a2b-8437-60a7d457c5bf"
      },
      "outputs": [
        {
          "output_type": "stream",
          "name": "stdout",
          "text": [
            "Found 72 images belonging to 6 classes.\n"
          ]
        }
      ],
      "source": [
        "test_ds=data_generator.flow_from_directory(\n",
        "    path+'/test',\n",
        "    target_size=(200,200),\n",
        "    # color_mode='grayscale',\n",
        "    classes=classes_defects,\n",
        "    class_mode='sparse',\n",
        "    shuffle=False,\n",
        "    seed=1,\n",
        "    batch_size=batch_size\n",
        ")"
      ]
    },
    {
      "cell_type": "code",
      "execution_count": null,
      "metadata": {
        "id": "gxi_iTNsba69"
      },
      "outputs": [],
      "source": [
        "# exploring datsets"
      ]
    },
    {
      "cell_type": "code",
      "execution_count": 20,
      "metadata": {
        "id": "GMWPr77BdKoY"
      },
      "outputs": [],
      "source": [
        "import numpy as np"
      ]
    },
    {
      "cell_type": "code",
      "execution_count": 21,
      "metadata": {
        "colab": {
          "base_uri": "https://localhost:8080/"
        },
        "id": "vqWjOZ7XfdQp",
        "outputId": "25beccc4-bb4b-4bf0-bdfc-75436506758e"
      },
      "outputs": [
        {
          "output_type": "stream",
          "name": "stdout",
          "text": [
            "2\n"
          ]
        }
      ],
      "source": [
        "print(len(train_ds[0]))"
      ]
    },
    {
      "cell_type": "code",
      "execution_count": 22,
      "metadata": {
        "colab": {
          "base_uri": "https://localhost:8080/"
        },
        "id": "52CxVsaaf05a",
        "outputId": "26cdc669-c78c-4fc6-fc20-7abd9aebd8f3"
      },
      "outputs": [
        {
          "output_type": "stream",
          "name": "stdout",
          "text": [
            "16\n"
          ]
        }
      ],
      "source": [
        "print(len(train_ds[0][0]))"
      ]
    },
    {
      "cell_type": "code",
      "execution_count": 23,
      "metadata": {
        "colab": {
          "base_uri": "https://localhost:8080/"
        },
        "id": "IHfdu_ncgBVA",
        "outputId": "52aa359b-2a75-4571-c2ad-079e77aae161"
      },
      "outputs": [
        {
          "output_type": "stream",
          "name": "stdout",
          "text": [
            "(16, 200, 200, 3)\n"
          ]
        }
      ],
      "source": [
        "print(train_ds[0][0].shape)"
      ]
    },
    {
      "cell_type": "code",
      "execution_count": 24,
      "metadata": {
        "colab": {
          "base_uri": "https://localhost:8080/",
          "height": 373
        },
        "id": "6TYmnOdfbtXs",
        "outputId": "f85105ab-e3a4-4077-a17c-708fb31550b0"
      },
      "outputs": [
        {
          "output_type": "stream",
          "name": "stdout",
          "text": [
            "(16, 200, 200, 3)\n",
            "3.0\n",
            "['Inclusion', 'Patches', 'Crazing', 'Pitted', 'Scratches', 'Rolled']\n",
            "{'Inclusion': 0, 'Patches': 1, 'Crazing': 2, 'Pitted': 3, 'Scratches': 4, 'Rolled': 5}\n",
            "tf.Tensor([3 0 5 3 0 3 0 5 4 2 0 3 4 3 0 1], shape=(16,), dtype=uint8)\n",
            "Pitted\n"
          ]
        },
        {
          "output_type": "display_data",
          "data": {
            "text/plain": [
              "<Figure size 432x288 with 1 Axes>"
            ],
            "image/png": "[encoded data removed]"
          },
          "metadata": {
            "needs_background": "light"
          }
        }
      ],
      "source": [
        "for images,labels in train_ds:\n",
        "  plt.imshow(images[0],cmap='gray')\n",
        "  print(images.shape)\n",
        "  print(labels[0])\n",
        "  labels=tf.cast(labels,tf.uint8)\n",
        "  print(classes_defects)\n",
        "  print(train_ds.class_indices)\n",
        "  print((labels))\n",
        "  print(classes_defects[labels[0]])\n",
        "  break"
      ]
    },
    {
      "cell_type": "code",
      "execution_count": null,
      "metadata": {
        "id": "wy_7uyOFgArJ"
      },
      "outputs": [],
      "source": [
        ""
      ]
    },
    {
      "cell_type": "code",
      "execution_count": null,
      "metadata": {
        "id": "5_TNSItzeM4f"
      },
      "outputs": [],
      "source": [
        "#Pretrained models keras"
      ]
    },
    {
      "cell_type": "code",
      "execution_count": null,
      "metadata": {
        "id": "om89k4pMd32x"
      },
      "outputs": [],
      "source": [
        "# https://keras.io/api/applications/"
      ]
    },
    {
      "cell_type": "code",
      "execution_count": null,
      "metadata": {
        "id": "q28kVXiueMBY"
      },
      "outputs": [],
      "source": [
        "# https://towardsdatascience.com/transfer-learning-for-image-classification-using-tensorflow-71c359b56673"
      ]
    },
    {
      "cell_type": "code",
      "source": [
        ""
      ],
      "metadata": {
        "id": "b-B1LbJFb6pv"
      },
      "execution_count": null,
      "outputs": []
    },
    {
      "cell_type": "markdown",
      "source": [
        "# **VGG16 with include_top=False, trainable=false and no augmentation**"
      ],
      "metadata": {
        "id": "pHpjBoU2S6Tq"
      }
    },
    {
      "cell_type": "code",
      "execution_count": 25,
      "metadata": {
        "id": "ZmJIaTmj45JZ"
      },
      "outputs": [],
      "source": [
        "from tensorflow.keras.applications import VGG16"
      ]
    },
    {
      "cell_type": "code",
      "source": [
        "feature_extractor=VGG16(include_top=False,input_shape=(200,200,3))\n",
        "feature_extractor.trainable=False"
      ],
      "metadata": {
        "colab": {
          "base_uri": "https://localhost:8080/"
        },
        "id": "CK0mBVfrTOuD",
        "outputId": "73548e30-7356-4216-e93d-4a5cfb03a1a5"
      },
      "execution_count": 26,
      "outputs": [
        {
          "output_type": "stream",
          "name": "stdout",
          "text": [
            "Downloading data from https://storage.googleapis.com/tensorflow/keras-applications/vgg16/vgg16_weights_tf_dim_ordering_tf_kernels_notop.h5\n",
            "58892288/58889256 [==============================] - 0s 0us/step\n",
            "58900480/58889256 [==============================] - 0s 0us/step\n"
          ]
        }
      ]
    },
    {
      "cell_type": "code",
      "source": [
        "input_=tf.keras.Input(shape=(200,200,3))\n",
        "x=feature_extractor(input_,training=False)\n",
        "x = tf.keras.layers.GlobalAveragePooling2D()(x)\n",
        "x=layers.Dense(128,activation='relu')(x)\n",
        "x=layers.Dense(64,activation='relu')(x)\n",
        "x=layers.Dense(32,activation='relu')(x)\n",
        "output_=layers.Dense(6)(x)"
      ],
      "metadata": {
        "id": "lqHvs3q0TOw6"
      },
      "execution_count": 28,
      "outputs": []
    },
    {
      "cell_type": "code",
      "source": [
        "model=keras.Model(input_,output_)"
      ],
      "metadata": {
        "id": "vs4g0y4pTOzy"
      },
      "execution_count": 29,
      "outputs": []
    },
    {
      "cell_type": "code",
      "source": [
        "print(model.summary())"
      ],
      "metadata": {
        "colab": {
          "base_uri": "https://localhost:8080/"
        },
        "id": "0GguITiZTO2M",
        "outputId": "af472bd7-0422-4232-955c-77598df95449"
      },
      "execution_count": 30,
      "outputs": [
        {
          "output_type": "stream",
          "name": "stdout",
          "text": [
            "Model: \"model\"\n",
            "_________________________________________________________________\n",
            " Layer (type)                Output Shape              Param #   \n",
            "=================================================================\n",
            " input_2 (InputLayer)        [(None, 200, 200, 3)]     0         \n",
            "                                                                 \n",
            " vgg16 (Functional)          (None, 6, 6, 512)         14714688  \n",
            "                                                                 \n",
            " global_average_pooling2d (G  (None, 512)              0         \n",
            " lobalAveragePooling2D)                                          \n",
            "                                                                 \n",
            " dense (Dense)               (None, 128)               65664     \n",
            "                                                                 \n",
            " dense_1 (Dense)             (None, 64)                8256      \n",
            "                                                                 \n",
            " dense_2 (Dense)             (None, 32)                2080      \n",
            "                                                                 \n",
            " dense_3 (Dense)             (None, 6)                 198       \n",
            "                                                                 \n",
            "=================================================================\n",
            "Total params: 14,790,886\n",
            "Trainable params: 76,198\n",
            "Non-trainable params: 14,714,688\n",
            "_________________________________________________________________\n",
            "None\n"
          ]
        }
      ]
    },
    {
      "cell_type": "code",
      "source": [
        "model.compile(loss=keras.losses.SparseCategoricalCrossentropy(from_logits=True),\n",
        "              optimizer=keras.optimizers.Adam(0.0001),\n",
        "              metrics=['accuracy'])"
      ],
      "metadata": {
        "id": "YTwL_a1JTO4t"
      },
      "execution_count": 31,
      "outputs": []
    },
    {
      "cell_type": "code",
      "source": [
        "history=model.fit(train_ds, epochs=50, verbose=True,validation_data=valid_ds)"
      ],
      "metadata": {
        "colab": {
          "base_uri": "https://localhost:8080/"
        },
        "id": "EtuxBD1ITO7l",
        "outputId": "8824ffec-a45a-4cf1-c849-b3b06b9169dd"
      },
      "execution_count": 32,
      "outputs": [
        {
          "output_type": "stream",
          "name": "stdout",
          "text": [
            "Epoch 1/50\n",
            "105/105 [==============================] - 377s 3s/step - loss: 1.6109 - accuracy: 0.4265 - val_loss: 1.4016 - val_accuracy: 0.5833\n",
            "Epoch 2/50\n",
            "105/105 [==============================] - 8s 71ms/step - loss: 1.3002 - accuracy: 0.6101 - val_loss: 1.0986 - val_accuracy: 0.7500\n",
            "Epoch 3/50\n",
            "105/105 [==============================] - 8s 72ms/step - loss: 1.0409 - accuracy: 0.6983 - val_loss: 0.8536 - val_accuracy: 0.7778\n",
            "Epoch 4/50\n",
            "105/105 [==============================] - 8s 72ms/step - loss: 0.8338 - accuracy: 0.7385 - val_loss: 0.6599 - val_accuracy: 0.8611\n",
            "Epoch 5/50\n",
            "105/105 [==============================] - 8s 72ms/step - loss: 0.6700 - accuracy: 0.8536 - val_loss: 0.5157 - val_accuracy: 0.9306\n",
            "Epoch 6/50\n",
            "105/105 [==============================] - 8s 73ms/step - loss: 0.5439 - accuracy: 0.9232 - val_loss: 0.4027 - val_accuracy: 0.9861\n",
            "Epoch 7/50\n",
            "105/105 [==============================] - 8s 74ms/step - loss: 0.4483 - accuracy: 0.9448 - val_loss: 0.3199 - val_accuracy: 0.9861\n",
            "Epoch 8/50\n",
            "105/105 [==============================] - 8s 73ms/step - loss: 0.3755 - accuracy: 0.9484 - val_loss: 0.2578 - val_accuracy: 0.9861\n",
            "Epoch 9/50\n",
            "105/105 [==============================] - 8s 74ms/step - loss: 0.3211 - accuracy: 0.9508 - val_loss: 0.2101 - val_accuracy: 0.9861\n",
            "Epoch 10/50\n",
            "105/105 [==============================] - 8s 74ms/step - loss: 0.2755 - accuracy: 0.9556 - val_loss: 0.1746 - val_accuracy: 0.9861\n",
            "Epoch 11/50\n",
            "105/105 [==============================] - 8s 75ms/step - loss: 0.2373 - accuracy: 0.9574 - val_loss: 0.1453 - val_accuracy: 0.9861\n",
            "Epoch 12/50\n",
            "105/105 [==============================] - 8s 75ms/step - loss: 0.2059 - accuracy: 0.9628 - val_loss: 0.1287 - val_accuracy: 0.9861\n",
            "Epoch 13/50\n",
            "105/105 [==============================] - 8s 75ms/step - loss: 0.1834 - accuracy: 0.9664 - val_loss: 0.1014 - val_accuracy: 0.9861\n",
            "Epoch 14/50\n",
            "105/105 [==============================] - 8s 75ms/step - loss: 0.1651 - accuracy: 0.9670 - val_loss: 0.0969 - val_accuracy: 0.9861\n",
            "Epoch 15/50\n",
            "105/105 [==============================] - 8s 75ms/step - loss: 0.1518 - accuracy: 0.9670 - val_loss: 0.0840 - val_accuracy: 0.9861\n",
            "Epoch 16/50\n",
            "105/105 [==============================] - 8s 76ms/step - loss: 0.1395 - accuracy: 0.9670 - val_loss: 0.0742 - val_accuracy: 0.9861\n",
            "Epoch 17/50\n",
            "105/105 [==============================] - 8s 76ms/step - loss: 0.1298 - accuracy: 0.9688 - val_loss: 0.0697 - val_accuracy: 0.9861\n",
            "Epoch 18/50\n",
            "105/105 [==============================] - 8s 76ms/step - loss: 0.1210 - accuracy: 0.9700 - val_loss: 0.0623 - val_accuracy: 0.9861\n",
            "Epoch 19/50\n",
            "105/105 [==============================] - 8s 75ms/step - loss: 0.1143 - accuracy: 0.9724 - val_loss: 0.0611 - val_accuracy: 0.9861\n",
            "Epoch 20/50\n",
            "105/105 [==============================] - 8s 75ms/step - loss: 0.1085 - accuracy: 0.9724 - val_loss: 0.0586 - val_accuracy: 0.9861\n",
            "Epoch 21/50\n",
            "105/105 [==============================] - 8s 75ms/step - loss: 0.1023 - accuracy: 0.9766 - val_loss: 0.0569 - val_accuracy: 0.9861\n",
            "Epoch 22/50\n",
            "105/105 [==============================] - 8s 75ms/step - loss: 0.0990 - accuracy: 0.9742 - val_loss: 0.0518 - val_accuracy: 0.9861\n",
            "Epoch 23/50\n",
            "105/105 [==============================] - 8s 75ms/step - loss: 0.0947 - accuracy: 0.9754 - val_loss: 0.0418 - val_accuracy: 0.9861\n",
            "Epoch 24/50\n",
            "105/105 [==============================] - 8s 75ms/step - loss: 0.0917 - accuracy: 0.9760 - val_loss: 0.0392 - val_accuracy: 0.9861\n",
            "Epoch 25/50\n",
            "105/105 [==============================] - 8s 76ms/step - loss: 0.0873 - accuracy: 0.9772 - val_loss: 0.0352 - val_accuracy: 0.9861\n",
            "Epoch 26/50\n",
            "105/105 [==============================] - 8s 75ms/step - loss: 0.0834 - accuracy: 0.9766 - val_loss: 0.0468 - val_accuracy: 0.9861\n",
            "Epoch 27/50\n",
            "105/105 [==============================] - 8s 75ms/step - loss: 0.0789 - accuracy: 0.9760 - val_loss: 0.0384 - val_accuracy: 0.9861\n",
            "Epoch 28/50\n",
            "105/105 [==============================] - 8s 75ms/step - loss: 0.0798 - accuracy: 0.9784 - val_loss: 0.0302 - val_accuracy: 0.9861\n",
            "Epoch 29/50\n",
            "105/105 [==============================] - 8s 76ms/step - loss: 0.0756 - accuracy: 0.9802 - val_loss: 0.0391 - val_accuracy: 0.9861\n",
            "Epoch 30/50\n",
            "105/105 [==============================] - 8s 77ms/step - loss: 0.0722 - accuracy: 0.9814 - val_loss: 0.0337 - val_accuracy: 0.9861\n",
            "Epoch 31/50\n",
            "105/105 [==============================] - 8s 80ms/step - loss: 0.0690 - accuracy: 0.9820 - val_loss: 0.0280 - val_accuracy: 0.9861\n",
            "Epoch 32/50\n",
            "105/105 [==============================] - 8s 76ms/step - loss: 0.0667 - accuracy: 0.9808 - val_loss: 0.0244 - val_accuracy: 0.9861\n",
            "Epoch 33/50\n",
            "105/105 [==============================] - 8s 78ms/step - loss: 0.0673 - accuracy: 0.9802 - val_loss: 0.0321 - val_accuracy: 0.9861\n",
            "Epoch 34/50\n",
            "105/105 [==============================] - 8s 78ms/step - loss: 0.0638 - accuracy: 0.9814 - val_loss: 0.0265 - val_accuracy: 1.0000\n",
            "Epoch 35/50\n",
            "105/105 [==============================] - 8s 76ms/step - loss: 0.0620 - accuracy: 0.9826 - val_loss: 0.0238 - val_accuracy: 0.9861\n",
            "Epoch 36/50\n",
            "105/105 [==============================] - 9s 83ms/step - loss: 0.0597 - accuracy: 0.9844 - val_loss: 0.0298 - val_accuracy: 0.9861\n",
            "Epoch 37/50\n",
            "105/105 [==============================] - 8s 76ms/step - loss: 0.0586 - accuracy: 0.9838 - val_loss: 0.0228 - val_accuracy: 0.9861\n",
            "Epoch 38/50\n",
            "105/105 [==============================] - 8s 76ms/step - loss: 0.0580 - accuracy: 0.9838 - val_loss: 0.0192 - val_accuracy: 0.9861\n",
            "Epoch 39/50\n",
            "105/105 [==============================] - 8s 76ms/step - loss: 0.0550 - accuracy: 0.9844 - val_loss: 0.0218 - val_accuracy: 0.9861\n",
            "Epoch 40/50\n",
            "105/105 [==============================] - 8s 76ms/step - loss: 0.0555 - accuracy: 0.9838 - val_loss: 0.0195 - val_accuracy: 0.9861\n",
            "Epoch 41/50\n",
            "105/105 [==============================] - 8s 76ms/step - loss: 0.0532 - accuracy: 0.9826 - val_loss: 0.0214 - val_accuracy: 0.9861\n",
            "Epoch 42/50\n",
            "105/105 [==============================] - 8s 76ms/step - loss: 0.0536 - accuracy: 0.9856 - val_loss: 0.0187 - val_accuracy: 1.0000\n",
            "Epoch 43/50\n",
            "105/105 [==============================] - 8s 76ms/step - loss: 0.0526 - accuracy: 0.9832 - val_loss: 0.0237 - val_accuracy: 0.9861\n",
            "Epoch 44/50\n",
            "105/105 [==============================] - 8s 76ms/step - loss: 0.0490 - accuracy: 0.9850 - val_loss: 0.0158 - val_accuracy: 1.0000\n",
            "Epoch 45/50\n",
            "105/105 [==============================] - 8s 76ms/step - loss: 0.0469 - accuracy: 0.9856 - val_loss: 0.0186 - val_accuracy: 1.0000\n",
            "Epoch 46/50\n",
            "105/105 [==============================] - 8s 76ms/step - loss: 0.0455 - accuracy: 0.9868 - val_loss: 0.0145 - val_accuracy: 1.0000\n",
            "Epoch 47/50\n",
            "105/105 [==============================] - 8s 77ms/step - loss: 0.0452 - accuracy: 0.9886 - val_loss: 0.0155 - val_accuracy: 1.0000\n",
            "Epoch 48/50\n",
            "105/105 [==============================] - 8s 76ms/step - loss: 0.0436 - accuracy: 0.9886 - val_loss: 0.0133 - val_accuracy: 1.0000\n",
            "Epoch 49/50\n",
            "105/105 [==============================] - 8s 76ms/step - loss: 0.0437 - accuracy: 0.9886 - val_loss: 0.0121 - val_accuracy: 1.0000\n",
            "Epoch 50/50\n",
            "105/105 [==============================] - 8s 75ms/step - loss: 0.0420 - accuracy: 0.9898 - val_loss: 0.0131 - val_accuracy: 1.0000\n"
          ]
        }
      ]
    },
    {
      "cell_type": "code",
      "source": [
        "model.evaluate(test_ds)"
      ],
      "metadata": {
        "colab": {
          "base_uri": "https://localhost:8080/"
        },
        "id": "gb3-qSdBUipA",
        "outputId": "4414f50b-313d-46a2-a55c-3d6197c5888d"
      },
      "execution_count": 33,
      "outputs": [
        {
          "output_type": "stream",
          "name": "stdout",
          "text": [
            "5/5 [==============================] - 14s 3s/step - loss: 0.0364 - accuracy: 0.9861\n"
          ]
        },
        {
          "output_type": "execute_result",
          "data": {
            "text/plain": [
              "[0.03642109036445618, 0.9861111044883728]"
            ]
          },
          "metadata": {},
          "execution_count": 33
        }
      ]
    },
    {
      "cell_type": "code",
      "source": [
        "import matplotlib.pyplot as plt\n",
        "%matplotlib inline"
      ],
      "metadata": {
        "id": "ZDIR292iUisV"
      },
      "execution_count": 34,
      "outputs": []
    },
    {
      "cell_type": "code",
      "source": [
        "history.history.keys()"
      ],
      "metadata": {
        "colab": {
          "base_uri": "https://localhost:8080/"
        },
        "id": "O--OqkeOUivM",
        "outputId": "9e69759b-6de2-44b2-c56e-2ed9c7f4fefc"
      },
      "execution_count": 35,
      "outputs": [
        {
          "output_type": "execute_result",
          "data": {
            "text/plain": [
              "dict_keys(['loss', 'accuracy', 'val_loss', 'val_accuracy'])"
            ]
          },
          "metadata": {},
          "execution_count": 35
        }
      ]
    },
    {
      "cell_type": "code",
      "source": [
        "plt.plot(history.history['loss'])\n",
        "plt.plot(history.history['val_loss'])\n",
        "plt.xlabel('epochs')\n",
        "plt.ylabel('loss')\n",
        "plt.legend(['train','valid'])"
      ],
      "metadata": {
        "colab": {
          "base_uri": "https://localhost:8080/",
          "height": 296
        },
        "id": "KifrBhREUi0E",
        "outputId": "c6fcfea3-1ef2-4701-dc3b-4db9ddb079f5"
      },
      "execution_count": 36,
      "outputs": [
        {
          "output_type": "execute_result",
          "data": {
            "text/plain": [
              "<matplotlib.legend.Legend at 0x7f9fe37ce690>"
            ]
          },
          "metadata": {},
          "execution_count": 36
        },
        {
          "output_type": "display_data",
          "data": {
            "text/plain": [
              "<Figure size 432x288 with 1 Axes>"
            ],
            "image/png": "[encoded data removed]"
          },
          "metadata": {
            "needs_background": "light"
          }
        }
      ]
    },
    {
      "cell_type": "code",
      "source": [
        "plt.plot(history.history['accuracy'])\n",
        "plt.plot(history.history['val_accuracy'])\n",
        "plt.xlabel('epochs')\n",
        "plt.ylabel('accuracy')\n",
        "\n",
        "plt.legend(['train','valid'])"
      ],
      "metadata": {
        "colab": {
          "base_uri": "https://localhost:8080/",
          "height": 296
        },
        "id": "vy4bE8vpUi3E",
        "outputId": "6e2f8178-156f-4fae-8d28-649066617ce7"
      },
      "execution_count": 37,
      "outputs": [
        {
          "output_type": "execute_result",
          "data": {
            "text/plain": [
              "<matplotlib.legend.Legend at 0x7f9fe3778f50>"
            ]
          },
          "metadata": {},
          "execution_count": 37
        },
        {
          "output_type": "display_data",
          "data": {
            "text/plain": [
              "<Figure size 432x288 with 1 Axes>"
            ],
            "image/png": "[encoded data removed]"
          },
          "metadata": {
            "needs_background": "light"
          }
        }
      ]
    },
    {
      "cell_type": "code",
      "source": [
        ""
      ],
      "metadata": {
        "id": "7-Ily0V_Ui8y"
      },
      "execution_count": null,
      "outputs": []
    },
    {
      "cell_type": "markdown",
      "source": [
        "# **VGG16 with include_top=False, trainable=false and augmentation**"
      ],
      "metadata": {
        "id": "GfLGK3U6fqXN"
      }
    },
    {
      "cell_type": "code",
      "source": [
        "feature_extractor2=VGG16(include_top=False,input_shape=(200,200,3))\n",
        "feature_extractor2.trainable=False"
      ],
      "metadata": {
        "id": "mu-Pp-t1TO-R"
      },
      "execution_count": 51,
      "outputs": []
    },
    {
      "cell_type": "code",
      "source": [
        "data_aug2=keras.Sequential([\n",
        "                           tf.keras.Input(shape=(200,200,3)),\n",
        "                           #layers.experimental.preprocessing.Resizing(height=224,width=224),\n",
        "                           layers.experimental.preprocessing.RandomContrast(factor=0.25),\n",
        "                           layers.experimental.preprocessing.RandomFlip(mode=\"horizontal_and_vertical\"),\n",
        "                           layers.experimental.preprocessing.RandomZoom(0.5,0.6),\n",
        "                           layers.experimental.preprocessing.RandomRotation(0.5),\n",
        "                           layers.experimental.preprocessing.RandomTranslation(0.2,0.2),\n",
        "\n",
        "])"
      ],
      "metadata": {
        "id": "b1fNstNpgpq1"
      },
      "execution_count": 52,
      "outputs": []
    },
    {
      "cell_type": "code",
      "source": [
        "input_=tf.keras.Input(shape=(200,200,3))\n",
        "x=data_aug2(input_,training=False)\n",
        "x=feature_extractor2(x)\n",
        "x = tf.keras.layers.GlobalAveragePooling2D()(x)\n",
        "x=layers.Dense(128,activation='relu')(x)\n",
        "x=layers.Dense(64,activation='relu')(x)\n",
        "x=layers.Dense(32,activation='relu')(x)\n",
        "output_=layers.Dense(6)(x)"
      ],
      "metadata": {
        "id": "5bm0n7YSgvvo"
      },
      "execution_count": 53,
      "outputs": []
    },
    {
      "cell_type": "code",
      "source": [
        "model2=keras.Model(input_,output_)"
      ],
      "metadata": {
        "id": "iBb_JC_ZgMyL"
      },
      "execution_count": 54,
      "outputs": []
    },
    {
      "cell_type": "code",
      "source": [
        "print(model2.summary())"
      ],
      "metadata": {
        "colab": {
          "base_uri": "https://localhost:8080/"
        },
        "id": "JX7wFTO6gM06",
        "outputId": "46e5a4d9-92ed-4443-e4f4-cb255b8da3de"
      },
      "execution_count": 55,
      "outputs": [
        {
          "output_type": "stream",
          "name": "stdout",
          "text": [
            "Model: \"model_2\"\n",
            "_________________________________________________________________\n",
            " Layer (type)                Output Shape              Param #   \n",
            "=================================================================\n",
            " input_9 (InputLayer)        [(None, 200, 200, 3)]     0         \n",
            "                                                                 \n",
            " sequential_1 (Sequential)   (None, 200, 200, 3)       0         \n",
            "                                                                 \n",
            " vgg16 (Functional)          (None, 6, 6, 512)         14714688  \n",
            "                                                                 \n",
            " global_average_pooling2d_2   (None, 512)              0         \n",
            " (GlobalAveragePooling2D)                                        \n",
            "                                                                 \n",
            " dense_8 (Dense)             (None, 128)               65664     \n",
            "                                                                 \n",
            " dense_9 (Dense)             (None, 64)                8256      \n",
            "                                                                 \n",
            " dense_10 (Dense)            (None, 32)                2080      \n",
            "                                                                 \n",
            " dense_11 (Dense)            (None, 6)                 198       \n",
            "                                                                 \n",
            "=================================================================\n",
            "Total params: 14,790,886\n",
            "Trainable params: 76,198\n",
            "Non-trainable params: 14,714,688\n",
            "_________________________________________________________________\n",
            "None\n"
          ]
        }
      ]
    },
    {
      "cell_type": "code",
      "source": [
        "model2.compile(loss=keras.losses.SparseCategoricalCrossentropy(from_logits=True),\n",
        "              optimizer=keras.optimizers.Adam(0.0001),\n",
        "              metrics=['accuracy'])"
      ],
      "metadata": {
        "id": "CT5BEylOgM4D"
      },
      "execution_count": 56,
      "outputs": []
    },
    {
      "cell_type": "code",
      "source": [
        "history2=model2.fit(train_ds, epochs=50, verbose=True,validation_data=valid_ds)"
      ],
      "metadata": {
        "colab": {
          "base_uri": "https://localhost:8080/"
        },
        "id": "jzhpuc68gM6e",
        "outputId": "123294c4-d849-4441-8a6b-dd46dcf817cd"
      },
      "execution_count": 45,
      "outputs": [
        {
          "output_type": "stream",
          "name": "stdout",
          "text": [
            "Epoch 1/50\n",
            "105/105 [==============================] - 8s 74ms/step - loss: 1.7256 - accuracy: 0.2388 - val_loss: 1.5649 - val_accuracy: 0.3333\n",
            "Epoch 2/50\n",
            "105/105 [==============================] - 8s 72ms/step - loss: 1.4625 - accuracy: 0.4811 - val_loss: 1.2982 - val_accuracy: 0.6528\n",
            "Epoch 3/50\n",
            "105/105 [==============================] - 8s 74ms/step - loss: 1.1868 - accuracy: 0.7349 - val_loss: 0.9563 - val_accuracy: 0.8750\n",
            "Epoch 4/50\n",
            "105/105 [==============================] - 8s 72ms/step - loss: 0.8838 - accuracy: 0.8530 - val_loss: 0.6568 - val_accuracy: 0.9722\n",
            "Epoch 5/50\n",
            "105/105 [==============================] - 8s 74ms/step - loss: 0.6411 - accuracy: 0.9064 - val_loss: 0.4342 - val_accuracy: 0.9861\n",
            "Epoch 6/50\n",
            "105/105 [==============================] - 8s 73ms/step - loss: 0.4667 - accuracy: 0.9334 - val_loss: 0.2855 - val_accuracy: 0.9861\n",
            "Epoch 7/50\n",
            "105/105 [==============================] - 8s 73ms/step - loss: 0.3571 - accuracy: 0.9340 - val_loss: 0.2103 - val_accuracy: 0.9861\n",
            "Epoch 8/50\n",
            "105/105 [==============================] - 8s 74ms/step - loss: 0.2876 - accuracy: 0.9472 - val_loss: 0.1584 - val_accuracy: 0.9861\n",
            "Epoch 9/50\n",
            "105/105 [==============================] - 8s 74ms/step - loss: 0.2407 - accuracy: 0.9532 - val_loss: 0.1253 - val_accuracy: 0.9861\n",
            "Epoch 10/50\n",
            "105/105 [==============================] - 8s 74ms/step - loss: 0.2093 - accuracy: 0.9568 - val_loss: 0.1086 - val_accuracy: 0.9861\n",
            "Epoch 11/50\n",
            "105/105 [==============================] - 8s 74ms/step - loss: 0.1867 - accuracy: 0.9568 - val_loss: 0.0909 - val_accuracy: 0.9861\n",
            "Epoch 12/50\n",
            "105/105 [==============================] - 8s 74ms/step - loss: 0.1698 - accuracy: 0.9628 - val_loss: 0.0804 - val_accuracy: 0.9861\n",
            "Epoch 13/50\n",
            "105/105 [==============================] - 8s 75ms/step - loss: 0.1529 - accuracy: 0.9640 - val_loss: 0.0743 - val_accuracy: 0.9861\n",
            "Epoch 14/50\n",
            "105/105 [==============================] - 8s 76ms/step - loss: 0.1425 - accuracy: 0.9640 - val_loss: 0.0612 - val_accuracy: 0.9861\n",
            "Epoch 15/50\n",
            "105/105 [==============================] - 8s 75ms/step - loss: 0.1341 - accuracy: 0.9628 - val_loss: 0.0620 - val_accuracy: 0.9861\n",
            "Epoch 16/50\n",
            "105/105 [==============================] - 8s 76ms/step - loss: 0.1257 - accuracy: 0.9682 - val_loss: 0.0573 - val_accuracy: 0.9861\n",
            "Epoch 17/50\n",
            "105/105 [==============================] - 8s 76ms/step - loss: 0.1153 - accuracy: 0.9724 - val_loss: 0.0488 - val_accuracy: 0.9861\n",
            "Epoch 18/50\n",
            "105/105 [==============================] - 8s 75ms/step - loss: 0.1104 - accuracy: 0.9718 - val_loss: 0.0482 - val_accuracy: 0.9861\n",
            "Epoch 19/50\n",
            "105/105 [==============================] - 8s 75ms/step - loss: 0.1048 - accuracy: 0.9760 - val_loss: 0.0392 - val_accuracy: 0.9861\n",
            "Epoch 20/50\n",
            "105/105 [==============================] - 8s 75ms/step - loss: 0.0998 - accuracy: 0.9760 - val_loss: 0.0373 - val_accuracy: 0.9861\n",
            "Epoch 21/50\n",
            "105/105 [==============================] - 8s 75ms/step - loss: 0.0961 - accuracy: 0.9748 - val_loss: 0.0408 - val_accuracy: 0.9861\n",
            "Epoch 22/50\n",
            "105/105 [==============================] - 8s 75ms/step - loss: 0.0905 - accuracy: 0.9778 - val_loss: 0.0388 - val_accuracy: 0.9861\n",
            "Epoch 23/50\n",
            "105/105 [==============================] - 8s 75ms/step - loss: 0.0837 - accuracy: 0.9760 - val_loss: 0.0321 - val_accuracy: 0.9861\n",
            "Epoch 24/50\n",
            "105/105 [==============================] - 8s 75ms/step - loss: 0.0844 - accuracy: 0.9808 - val_loss: 0.0357 - val_accuracy: 0.9861\n",
            "Epoch 25/50\n",
            "105/105 [==============================] - 8s 75ms/step - loss: 0.0805 - accuracy: 0.9772 - val_loss: 0.0284 - val_accuracy: 0.9861\n",
            "Epoch 26/50\n",
            "105/105 [==============================] - 8s 75ms/step - loss: 0.0752 - accuracy: 0.9820 - val_loss: 0.0359 - val_accuracy: 0.9861\n",
            "Epoch 27/50\n",
            "105/105 [==============================] - 8s 76ms/step - loss: 0.0738 - accuracy: 0.9796 - val_loss: 0.0342 - val_accuracy: 0.9861\n",
            "Epoch 28/50\n",
            "105/105 [==============================] - 8s 75ms/step - loss: 0.0705 - accuracy: 0.9820 - val_loss: 0.0254 - val_accuracy: 0.9861\n",
            "Epoch 29/50\n",
            "105/105 [==============================] - 8s 75ms/step - loss: 0.0676 - accuracy: 0.9820 - val_loss: 0.0244 - val_accuracy: 0.9861\n",
            "Epoch 30/50\n",
            "105/105 [==============================] - 8s 75ms/step - loss: 0.0681 - accuracy: 0.9820 - val_loss: 0.0243 - val_accuracy: 0.9861\n",
            "Epoch 31/50\n",
            "105/105 [==============================] - 8s 75ms/step - loss: 0.0647 - accuracy: 0.9790 - val_loss: 0.0303 - val_accuracy: 0.9861\n",
            "Epoch 32/50\n",
            "105/105 [==============================] - 8s 75ms/step - loss: 0.0623 - accuracy: 0.9802 - val_loss: 0.0282 - val_accuracy: 0.9861\n",
            "Epoch 33/50\n",
            "105/105 [==============================] - 8s 75ms/step - loss: 0.0596 - accuracy: 0.9820 - val_loss: 0.0243 - val_accuracy: 0.9861\n",
            "Epoch 34/50\n",
            "105/105 [==============================] - 8s 75ms/step - loss: 0.0567 - accuracy: 0.9850 - val_loss: 0.0192 - val_accuracy: 0.9861\n",
            "Epoch 35/50\n",
            "105/105 [==============================] - 8s 75ms/step - loss: 0.0556 - accuracy: 0.9850 - val_loss: 0.0193 - val_accuracy: 0.9861\n",
            "Epoch 36/50\n",
            "105/105 [==============================] - 8s 75ms/step - loss: 0.0534 - accuracy: 0.9868 - val_loss: 0.0272 - val_accuracy: 0.9861\n",
            "Epoch 37/50\n",
            "105/105 [==============================] - 8s 76ms/step - loss: 0.0514 - accuracy: 0.9868 - val_loss: 0.0140 - val_accuracy: 1.0000\n",
            "Epoch 38/50\n",
            "105/105 [==============================] - 8s 75ms/step - loss: 0.0502 - accuracy: 0.9850 - val_loss: 0.0194 - val_accuracy: 0.9861\n",
            "Epoch 39/50\n",
            "105/105 [==============================] - 8s 75ms/step - loss: 0.0483 - accuracy: 0.9850 - val_loss: 0.0172 - val_accuracy: 0.9861\n",
            "Epoch 40/50\n",
            "105/105 [==============================] - 8s 76ms/step - loss: 0.0470 - accuracy: 0.9862 - val_loss: 0.0178 - val_accuracy: 0.9861\n",
            "Epoch 41/50\n",
            "105/105 [==============================] - 8s 75ms/step - loss: 0.0462 - accuracy: 0.9874 - val_loss: 0.0216 - val_accuracy: 0.9861\n",
            "Epoch 42/50\n",
            "105/105 [==============================] - 8s 75ms/step - loss: 0.0449 - accuracy: 0.9886 - val_loss: 0.0125 - val_accuracy: 1.0000\n",
            "Epoch 43/50\n",
            "105/105 [==============================] - 8s 76ms/step - loss: 0.0428 - accuracy: 0.9892 - val_loss: 0.0175 - val_accuracy: 0.9861\n",
            "Epoch 44/50\n",
            "105/105 [==============================] - 8s 75ms/step - loss: 0.0416 - accuracy: 0.9886 - val_loss: 0.0114 - val_accuracy: 1.0000\n",
            "Epoch 45/50\n",
            "105/105 [==============================] - 8s 75ms/step - loss: 0.0406 - accuracy: 0.9874 - val_loss: 0.0122 - val_accuracy: 1.0000\n",
            "Epoch 46/50\n",
            "105/105 [==============================] - 8s 76ms/step - loss: 0.0398 - accuracy: 0.9886 - val_loss: 0.0114 - val_accuracy: 1.0000\n",
            "Epoch 47/50\n",
            "105/105 [==============================] - 8s 76ms/step - loss: 0.0388 - accuracy: 0.9886 - val_loss: 0.0164 - val_accuracy: 0.9861\n",
            "Epoch 48/50\n",
            "105/105 [==============================] - 8s 75ms/step - loss: 0.0375 - accuracy: 0.9892 - val_loss: 0.0098 - val_accuracy: 1.0000\n",
            "Epoch 49/50\n",
            "105/105 [==============================] - 8s 75ms/step - loss: 0.0354 - accuracy: 0.9910 - val_loss: 0.0215 - val_accuracy: 0.9861\n",
            "Epoch 50/50\n",
            "105/105 [==============================] - 8s 76ms/step - loss: 0.0349 - accuracy: 0.9916 - val_loss: 0.0092 - val_accuracy: 1.0000\n"
          ]
        }
      ]
    },
    {
      "cell_type": "code",
      "source": [
        "model2.evaluate(test_ds)"
      ],
      "metadata": {
        "colab": {
          "base_uri": "https://localhost:8080/"
        },
        "id": "A-WLC7nZgM9C",
        "outputId": "796f956f-c040-4be8-b395-ceb2bc732553"
      },
      "execution_count": 46,
      "outputs": [
        {
          "output_type": "stream",
          "name": "stdout",
          "text": [
            "5/5 [==============================] - 0s 74ms/step - loss: 0.0247 - accuracy: 1.0000\n"
          ]
        },
        {
          "output_type": "execute_result",
          "data": {
            "text/plain": [
              "[0.024712661281228065, 1.0]"
            ]
          },
          "metadata": {},
          "execution_count": 46
        }
      ]
    },
    {
      "cell_type": "code",
      "source": [
        "history2.history.keys()"
      ],
      "metadata": {
        "colab": {
          "base_uri": "https://localhost:8080/"
        },
        "id": "1x106X-ggM_u",
        "outputId": "f4debd20-7fe6-4147-fd86-97a9080110c7"
      },
      "execution_count": 47,
      "outputs": [
        {
          "output_type": "execute_result",
          "data": {
            "text/plain": [
              "dict_keys(['loss', 'accuracy', 'val_loss', 'val_accuracy'])"
            ]
          },
          "metadata": {},
          "execution_count": 47
        }
      ]
    },
    {
      "cell_type": "code",
      "source": [
        "import matplotlib.pyplot as plt\n",
        "%matplotlib inline"
      ],
      "metadata": {
        "id": "_DdGG6xihoZw"
      },
      "execution_count": 48,
      "outputs": []
    },
    {
      "cell_type": "code",
      "source": [
        "plt.plot(history2.history['loss'])\n",
        "plt.plot(history2.history['val_loss'])\n",
        "plt.xlabel('epochs')\n",
        "plt.ylabel('loss')\n",
        "plt.legend(['train','valid'])"
      ],
      "metadata": {
        "colab": {
          "base_uri": "https://localhost:8080/",
          "height": 296
        },
        "id": "N8unht85gNCf",
        "outputId": "2598332b-51a8-4d68-88bc-0848230a022e"
      },
      "execution_count": 49,
      "outputs": [
        {
          "output_type": "execute_result",
          "data": {
            "text/plain": [
              "<matplotlib.legend.Legend at 0x7f9fe227dcd0>"
            ]
          },
          "metadata": {},
          "execution_count": 49
        },
        {
          "output_type": "display_data",
          "data": {
            "text/plain": [
              "<Figure size 432x288 with 1 Axes>"
            ],
            "image/png": "[encoded data removed]"
          },
          "metadata": {
            "needs_background": "light"
          }
        }
      ]
    },
    {
      "cell_type": "code",
      "source": [
        "plt.plot(history2.history['accuracy'])\n",
        "plt.plot(history2.history['val_accuracy'])\n",
        "plt.xlabel('epochs')\n",
        "plt.ylabel('accuracy')\n",
        "\n",
        "plt.legend(['train','valid'])"
      ],
      "metadata": {
        "colab": {
          "base_uri": "https://localhost:8080/",
          "height": 296
        },
        "id": "wWgry3zbheBI",
        "outputId": "57327591-0edb-4d3c-bdb9-b1abe4051f66"
      },
      "execution_count": 50,
      "outputs": [
        {
          "output_type": "execute_result",
          "data": {
            "text/plain": [
              "<matplotlib.legend.Legend at 0x7f9fe22bfc10>"
            ]
          },
          "metadata": {},
          "execution_count": 50
        },
        {
          "output_type": "display_data",
          "data": {
            "text/plain": [
              "<Figure size 432x288 with 1 Axes>"
            ],
            "image/png": "[encoded data removed]"
          },
          "metadata": {
            "needs_background": "light"
          }
        }
      ]
    },
    {
      "cell_type": "code",
      "source": [
        ""
      ],
      "metadata": {
        "id": "jSLc5rR6heD6"
      },
      "execution_count": null,
      "outputs": []
    },
    {
      "cell_type": "markdown",
      "source": [
        "# **VGG16 with include_top=True, trainable=True and no augmentation**\n",
        "\n"
      ],
      "metadata": {
        "id": "MqGyt0qbjkxt"
      }
    },
    {
      "cell_type": "code",
      "source": [
        "feature_extractor3=VGG16(include_top=True,weights='imagenet',input_shape=(224,224,3))\n",
        "feature_extractor3.trainable=True"
      ],
      "metadata": {
        "colab": {
          "base_uri": "https://localhost:8080/"
        },
        "id": "W8lIgyJWheGx",
        "outputId": "bed045b3-41f0-42ca-aca6-0483e92919d4"
      },
      "execution_count": 57,
      "outputs": [
        {
          "output_type": "stream",
          "name": "stdout",
          "text": [
            "Downloading data from https://storage.googleapis.com/tensorflow/keras-applications/vgg16/vgg16_weights_tf_dim_ordering_tf_kernels.h5\n",
            "553467904/553467096 [==============================] - 3s 0us/step\n",
            "553476096/553467096 [==============================] - 3s 0us/step\n"
          ]
        }
      ]
    },
    {
      "cell_type": "code",
      "source": [
        "data_aug=keras.Sequential([\n",
        "                           tf.keras.Input(shape=(200,200,3)),\n",
        "                           layers.experimental.preprocessing.Resizing(height=224,width=224),\n",
        "                          #  layers.experimental.preprocessing.RandomContrast(factor=0.25),\n",
        "                          #  layers.experimental.preprocessing.RandomFlip(mode=\"horizontal_and_vertical\"),\n",
        "                          #  layers.experimental.preprocessing.RandomZoom(0.5,0.6),\n",
        "                          #  layers.experimental.preprocessing.RandomRotation(0.5),\n",
        "                          #  layers.experimental.preprocessing.RandomTranslation(0.2,0.2),\n",
        "\n",
        "])"
      ],
      "metadata": {
        "id": "PuBxfgpmk2yF"
      },
      "execution_count": 58,
      "outputs": []
    },
    {
      "cell_type": "code",
      "source": [
        "input_=tf.keras.Input(shape=(200,200,3))\n",
        "x=data_aug(input_)\n",
        "x=feature_extractor3(x)\n",
        "# x = tf.keras.layers.GlobalAveragePooling2D()(x)\n",
        "x=layers.Dense(128,activation='relu')(x)\n",
        "x=layers.Dense(64,activation='relu')(x)\n",
        "x=layers.Dense(32,activation='relu')(x)\n",
        "output_=layers.Dense(6)(x)"
      ],
      "metadata": {
        "id": "FCdh7v5theJg"
      },
      "execution_count": 60,
      "outputs": []
    },
    {
      "cell_type": "code",
      "source": [
        "model3=keras.Model(input_,output_)"
      ],
      "metadata": {
        "id": "ePU-XWpOheMK"
      },
      "execution_count": 61,
      "outputs": []
    },
    {
      "cell_type": "code",
      "source": [
        "print(model3.summary())"
      ],
      "metadata": {
        "colab": {
          "base_uri": "https://localhost:8080/"
        },
        "id": "mSN432JkkwHI",
        "outputId": "acc74b4b-d309-4608-eda6-985ea9030a90"
      },
      "execution_count": 62,
      "outputs": [
        {
          "output_type": "stream",
          "name": "stdout",
          "text": [
            "Model: \"model_3\"\n",
            "_________________________________________________________________\n",
            " Layer (type)                Output Shape              Param #   \n",
            "=================================================================\n",
            " input_13 (InputLayer)       [(None, 200, 200, 3)]     0         \n",
            "                                                                 \n",
            " sequential_2 (Sequential)   (None, 224, 224, 3)       0         \n",
            "                                                                 \n",
            " vgg16 (Functional)          (None, 1000)              138357544 \n",
            "                                                                 \n",
            " dense_12 (Dense)            (None, 128)               128128    \n",
            "                                                                 \n",
            " dense_13 (Dense)            (None, 64)                8256      \n",
            "                                                                 \n",
            " dense_14 (Dense)            (None, 32)                2080      \n",
            "                                                                 \n",
            " dense_15 (Dense)            (None, 6)                 198       \n",
            "                                                                 \n",
            "=================================================================\n",
            "Total params: 138,496,206\n",
            "Trainable params: 138,496,206\n",
            "Non-trainable params: 0\n",
            "_________________________________________________________________\n",
            "None\n"
          ]
        }
      ]
    },
    {
      "cell_type": "code",
      "source": [
        "model3.compile(loss=keras.losses.SparseCategoricalCrossentropy(from_logits=True),\n",
        "              optimizer=keras.optimizers.Adam(0.0001),\n",
        "              metrics=['accuracy'])"
      ],
      "metadata": {
        "id": "79B2-Cj8kwKC"
      },
      "execution_count": 63,
      "outputs": []
    },
    {
      "cell_type": "code",
      "source": [
        "history3=model3.fit(train_ds, epochs=50, verbose=True,validation_data=valid_ds)"
      ],
      "metadata": {
        "colab": {
          "base_uri": "https://localhost:8080/"
        },
        "id": "v2soZwmpkwMr",
        "outputId": "61da83d7-2be6-4fe1-d2ff-7b8ddc64cc21"
      },
      "execution_count": 64,
      "outputs": [
        {
          "output_type": "stream",
          "name": "stdout",
          "text": [
            "Epoch 1/50\n",
            "105/105 [==============================] - 34s 274ms/step - loss: 1.7906 - accuracy: 0.1824 - val_loss: 1.7919 - val_accuracy: 0.1667\n",
            "Epoch 2/50\n",
            "105/105 [==============================] - 26s 246ms/step - loss: 1.7921 - accuracy: 0.1608 - val_loss: 1.7918 - val_accuracy: 0.1667\n",
            "Epoch 3/50\n",
            "105/105 [==============================] - 26s 248ms/step - loss: 1.7919 - accuracy: 0.1554 - val_loss: 1.7918 - val_accuracy: 0.1667\n",
            "Epoch 4/50\n",
            "105/105 [==============================] - 26s 249ms/step - loss: 1.7919 - accuracy: 0.1662 - val_loss: 1.7918 - val_accuracy: 0.1667\n",
            "Epoch 5/50\n",
            "105/105 [==============================] - 27s 253ms/step - loss: 1.7920 - accuracy: 0.1578 - val_loss: 1.7918 - val_accuracy: 0.1667\n",
            "Epoch 6/50\n",
            "105/105 [==============================] - 26s 251ms/step - loss: 1.7919 - accuracy: 0.1596 - val_loss: 1.7918 - val_accuracy: 0.1667\n",
            "Epoch 7/50\n",
            "105/105 [==============================] - 26s 251ms/step - loss: 1.7920 - accuracy: 0.1566 - val_loss: 1.7918 - val_accuracy: 0.1667\n",
            "Epoch 8/50\n",
            "105/105 [==============================] - 26s 251ms/step - loss: 1.7919 - accuracy: 0.1674 - val_loss: 1.7918 - val_accuracy: 0.1667\n",
            "Epoch 9/50\n",
            "105/105 [==============================] - 26s 252ms/step - loss: 1.7920 - accuracy: 0.1572 - val_loss: 1.7918 - val_accuracy: 0.1667\n",
            "Epoch 10/50\n",
            "105/105 [==============================] - 26s 251ms/step - loss: 1.7919 - accuracy: 0.1674 - val_loss: 1.7918 - val_accuracy: 0.1667\n",
            "Epoch 11/50\n",
            "105/105 [==============================] - 26s 250ms/step - loss: 1.7919 - accuracy: 0.1674 - val_loss: 1.7918 - val_accuracy: 0.1667\n",
            "Epoch 12/50\n",
            "105/105 [==============================] - 26s 251ms/step - loss: 1.7920 - accuracy: 0.1626 - val_loss: 1.7918 - val_accuracy: 0.1667\n",
            "Epoch 13/50\n",
            "105/105 [==============================] - 26s 251ms/step - loss: 1.7919 - accuracy: 0.1674 - val_loss: 1.7918 - val_accuracy: 0.1667\n",
            "Epoch 14/50\n",
            "105/105 [==============================] - 26s 251ms/step - loss: 1.7919 - accuracy: 0.1674 - val_loss: 1.7918 - val_accuracy: 0.1667\n",
            "Epoch 15/50\n",
            "105/105 [==============================] - 26s 251ms/step - loss: 1.7919 - accuracy: 0.1674 - val_loss: 1.7918 - val_accuracy: 0.1667\n",
            "Epoch 16/50\n",
            "105/105 [==============================] - 26s 251ms/step - loss: 1.7919 - accuracy: 0.1674 - val_loss: 1.7918 - val_accuracy: 0.1667\n",
            "Epoch 17/50\n",
            "105/105 [==============================] - 26s 252ms/step - loss: 1.7919 - accuracy: 0.1458 - val_loss: 1.7918 - val_accuracy: 0.1667\n",
            "Epoch 18/50\n",
            "105/105 [==============================] - 26s 253ms/step - loss: 1.7919 - accuracy: 0.1518 - val_loss: 1.7918 - val_accuracy: 0.1667\n",
            "Epoch 19/50\n",
            "105/105 [==============================] - 26s 251ms/step - loss: 1.7919 - accuracy: 0.1680 - val_loss: 1.7918 - val_accuracy: 0.1667\n",
            "Epoch 20/50\n",
            "105/105 [==============================] - 26s 251ms/step - loss: 1.7920 - accuracy: 0.1596 - val_loss: 1.7918 - val_accuracy: 0.1667\n",
            "Epoch 21/50\n",
            "105/105 [==============================] - 26s 251ms/step - loss: 1.7919 - accuracy: 0.1422 - val_loss: 1.7918 - val_accuracy: 0.1667\n",
            "Epoch 22/50\n",
            "105/105 [==============================] - 26s 251ms/step - loss: 1.7919 - accuracy: 0.1626 - val_loss: 1.7918 - val_accuracy: 0.1667\n",
            "Epoch 23/50\n",
            "105/105 [==============================] - 26s 251ms/step - loss: 1.7920 - accuracy: 0.1566 - val_loss: 1.7918 - val_accuracy: 0.1667\n",
            "Epoch 24/50\n",
            "105/105 [==============================] - 27s 252ms/step - loss: 1.7919 - accuracy: 0.1614 - val_loss: 1.7918 - val_accuracy: 0.1667\n",
            "Epoch 25/50\n",
            "105/105 [==============================] - 26s 252ms/step - loss: 1.7919 - accuracy: 0.1536 - val_loss: 1.7918 - val_accuracy: 0.1667\n",
            "Epoch 26/50\n",
            "105/105 [==============================] - 26s 251ms/step - loss: 1.7919 - accuracy: 0.1590 - val_loss: 1.7918 - val_accuracy: 0.1667\n",
            "Epoch 27/50\n",
            "105/105 [==============================] - 26s 251ms/step - loss: 1.7919 - accuracy: 0.1632 - val_loss: 1.7918 - val_accuracy: 0.1667\n",
            "Epoch 28/50\n",
            "105/105 [==============================] - 26s 251ms/step - loss: 1.7919 - accuracy: 0.1722 - val_loss: 1.7918 - val_accuracy: 0.1667\n",
            "Epoch 29/50\n",
            "105/105 [==============================] - 26s 251ms/step - loss: 1.7919 - accuracy: 0.1530 - val_loss: 1.7918 - val_accuracy: 0.1667\n",
            "Epoch 30/50\n",
            "105/105 [==============================] - 26s 251ms/step - loss: 1.7919 - accuracy: 0.1626 - val_loss: 1.7918 - val_accuracy: 0.1667\n",
            "Epoch 31/50\n",
            "105/105 [==============================] - 27s 252ms/step - loss: 1.7919 - accuracy: 0.1608 - val_loss: 1.7918 - val_accuracy: 0.1667\n",
            "Epoch 32/50\n",
            "105/105 [==============================] - 26s 252ms/step - loss: 1.7919 - accuracy: 0.1512 - val_loss: 1.7918 - val_accuracy: 0.1667\n",
            "Epoch 33/50\n",
            "105/105 [==============================] - 26s 251ms/step - loss: 1.7919 - accuracy: 0.1518 - val_loss: 1.7918 - val_accuracy: 0.1667\n",
            "Epoch 34/50\n",
            "105/105 [==============================] - 26s 252ms/step - loss: 1.7919 - accuracy: 0.1470 - val_loss: 1.7918 - val_accuracy: 0.1667\n",
            "Epoch 35/50\n",
            "105/105 [==============================] - 26s 252ms/step - loss: 1.7919 - accuracy: 0.1554 - val_loss: 1.7918 - val_accuracy: 0.1667\n",
            "Epoch 36/50\n",
            "105/105 [==============================] - 26s 251ms/step - loss: 1.7919 - accuracy: 0.1536 - val_loss: 1.7918 - val_accuracy: 0.1667\n",
            "Epoch 37/50\n",
            "105/105 [==============================] - 26s 251ms/step - loss: 1.7919 - accuracy: 0.1578 - val_loss: 1.7918 - val_accuracy: 0.1667\n",
            "Epoch 38/50\n",
            "105/105 [==============================] - 26s 252ms/step - loss: 1.7919 - accuracy: 0.1548 - val_loss: 1.7918 - val_accuracy: 0.1667\n",
            "Epoch 39/50\n",
            "105/105 [==============================] - 26s 251ms/step - loss: 1.7919 - accuracy: 0.1590 - val_loss: 1.7918 - val_accuracy: 0.1667\n",
            "Epoch 40/50\n",
            "105/105 [==============================] - 26s 251ms/step - loss: 1.7918 - accuracy: 0.1674 - val_loss: 1.7918 - val_accuracy: 0.1667\n",
            "Epoch 41/50\n",
            "105/105 [==============================] - 26s 251ms/step - loss: 1.7918 - accuracy: 0.1626 - val_loss: 1.7918 - val_accuracy: 0.1667\n",
            "Epoch 42/50\n",
            "105/105 [==============================] - 26s 251ms/step - loss: 1.7919 - accuracy: 0.1536 - val_loss: 1.7918 - val_accuracy: 0.1667\n",
            "Epoch 43/50\n",
            "105/105 [==============================] - 26s 251ms/step - loss: 1.7919 - accuracy: 0.1578 - val_loss: 1.7918 - val_accuracy: 0.1667\n",
            "Epoch 44/50\n",
            "105/105 [==============================] - 26s 251ms/step - loss: 1.7919 - accuracy: 0.1638 - val_loss: 1.7918 - val_accuracy: 0.1667\n",
            "Epoch 45/50\n",
            "105/105 [==============================] - 26s 252ms/step - loss: 1.7919 - accuracy: 0.1512 - val_loss: 1.7918 - val_accuracy: 0.1667\n",
            "Epoch 46/50\n",
            "105/105 [==============================] - 26s 251ms/step - loss: 1.7919 - accuracy: 0.1644 - val_loss: 1.7918 - val_accuracy: 0.1667\n",
            "Epoch 47/50\n",
            "105/105 [==============================] - 26s 251ms/step - loss: 1.7919 - accuracy: 0.1608 - val_loss: 1.7918 - val_accuracy: 0.1667\n",
            "Epoch 48/50\n",
            "105/105 [==============================] - 26s 250ms/step - loss: 1.7919 - accuracy: 0.1668 - val_loss: 1.7918 - val_accuracy: 0.1667\n",
            "Epoch 49/50\n",
            "105/105 [==============================] - 26s 251ms/step - loss: 1.7919 - accuracy: 0.1488 - val_loss: 1.7918 - val_accuracy: 0.1667\n",
            "Epoch 50/50\n",
            "105/105 [==============================] - 26s 251ms/step - loss: 1.7919 - accuracy: 0.1620 - val_loss: 1.7918 - val_accuracy: 0.1667\n"
          ]
        }
      ]
    },
    {
      "cell_type": "code",
      "source": [
        "model3.evaluate(test_ds)"
      ],
      "metadata": {
        "colab": {
          "base_uri": "https://localhost:8080/"
        },
        "id": "P7NufWajkwPl",
        "outputId": "08c52030-86e5-446e-92bc-03c8e10d111d"
      },
      "execution_count": 65,
      "outputs": [
        {
          "output_type": "stream",
          "name": "stdout",
          "text": [
            "5/5 [==============================] - 0s 80ms/step - loss: 1.7918 - accuracy: 0.1667\n"
          ]
        },
        {
          "output_type": "execute_result",
          "data": {
            "text/plain": [
              "[1.791761875152588, 0.1666666716337204]"
            ]
          },
          "metadata": {},
          "execution_count": 65
        }
      ]
    },
    {
      "cell_type": "code",
      "source": [
        "history3.history.keys()"
      ],
      "metadata": {
        "colab": {
          "base_uri": "https://localhost:8080/"
        },
        "id": "Qzu4fJMUkwSO",
        "outputId": "760c1262-d398-496e-f834-cea504372cce"
      },
      "execution_count": 66,
      "outputs": [
        {
          "output_type": "execute_result",
          "data": {
            "text/plain": [
              "dict_keys(['loss', 'accuracy', 'val_loss', 'val_accuracy'])"
            ]
          },
          "metadata": {},
          "execution_count": 66
        }
      ]
    },
    {
      "cell_type": "code",
      "source": [
        "import matplotlib.pyplot as plt\n",
        "%matplotlib inline"
      ],
      "metadata": {
        "id": "tLoFjV5wlW5o"
      },
      "execution_count": 67,
      "outputs": []
    },
    {
      "cell_type": "code",
      "source": [
        "plt.plot(history3.history['loss'])\n",
        "plt.plot(history3.history['val_loss'])\n",
        "plt.xlabel('epochs')\n",
        "plt.ylabel('loss')\n",
        "plt.legend(['train','valid'])"
      ],
      "metadata": {
        "colab": {
          "base_uri": "https://localhost:8080/",
          "height": 299
        },
        "id": "_6AB3WIzlW8O",
        "outputId": "6bd7b38f-16af-44a6-f426-4d7735275866"
      },
      "execution_count": 68,
      "outputs": [
        {
          "output_type": "execute_result",
          "data": {
            "text/plain": [
              "<matplotlib.legend.Legend at 0x7f9fe2b17f10>"
            ]
          },
          "metadata": {},
          "execution_count": 68
        },
        {
          "output_type": "display_data",
          "data": {
            "text/plain": [
              "<Figure size 432x288 with 1 Axes>"
            ],
            "image/png": "[encoded data removed]"
          },
          "metadata": {
            "needs_background": "light"
          }
        }
      ]
    },
    {
      "cell_type": "code",
      "source": [
        "plt.plot(history3.history['accuracy'])\n",
        "plt.plot(history3.history['val_accuracy'])\n",
        "plt.xlabel('epochs')\n",
        "plt.ylabel('accuracy')\n",
        "\n",
        "plt.legend(['train','valid'])"
      ],
      "metadata": {
        "colab": {
          "base_uri": "https://localhost:8080/",
          "height": 296
        },
        "id": "mwe9zdpOlW-y",
        "outputId": "92b7740c-ede2-492e-924e-83bbe9eff3ce"
      },
      "execution_count": 69,
      "outputs": [
        {
          "output_type": "execute_result",
          "data": {
            "text/plain": [
              "<matplotlib.legend.Legend at 0x7f9fe2a8ee10>"
            ]
          },
          "metadata": {},
          "execution_count": 69
        },
        {
          "output_type": "display_data",
          "data": {
            "text/plain": [
              "<Figure size 432x288 with 1 Axes>"
            ],
            "image/png": "[encoded data removed]"
          },
          "metadata": {
            "needs_background": "light"
          }
        }
      ]
    },
    {
      "cell_type": "code",
      "source": [
        ""
      ],
      "metadata": {
        "id": "-ltQ__XElXBF"
      },
      "execution_count": null,
      "outputs": []
    },
    {
      "cell_type": "code",
      "source": [
        ""
      ],
      "metadata": {
        "id": "nuS7Q6RWlXDq"
      },
      "execution_count": null,
      "outputs": []
    },
    {
      "cell_type": "code",
      "source": [
        ""
      ],
      "metadata": {
        "id": "XbL3zwBylsYw"
      },
      "execution_count": null,
      "outputs": []
    },
    {
      "cell_type": "code",
      "source": [
        ""
      ],
      "metadata": {
        "id": "Zk27Uab8lsbn"
      },
      "execution_count": null,
      "outputs": []
    },
    {
      "cell_type": "code",
      "source": [
        ""
      ],
      "metadata": {
        "id": "5GflQIcQlseX"
      },
      "execution_count": null,
      "outputs": []
    },
    {
      "cell_type": "markdown",
      "source": [
        "# **VGG16 with include_top=True, trainable=True and augmentation** "
      ],
      "metadata": {
        "id": "5P5-csL1lxAV"
      }
    },
    {
      "cell_type": "code",
      "source": [
        "feature_extractor4=VGG16(include_top=True,weights='imagenet',input_shape=(224,224,3))\n",
        "feature_extractor4.trainable=True"
      ],
      "metadata": {
        "id": "uX8AaSeBlt5u"
      },
      "execution_count": 103,
      "outputs": []
    },
    {
      "cell_type": "code",
      "source": [
        "data_aug=keras.Sequential([\n",
        "                           tf.keras.Input(shape=(200,200,3)),\n",
        "                           layers.experimental.preprocessing.Resizing(height=224,width=224),\n",
        "                           layers.experimental.preprocessing.RandomContrast(factor=0.25),\n",
        "                           layers.experimental.preprocessing.RandomFlip(mode=\"horizontal_and_vertical\"),\n",
        "                           layers.experimental.preprocessing.RandomZoom(0.5,0.6),\n",
        "                           layers.experimental.preprocessing.RandomRotation(0.5),\n",
        "                           layers.experimental.preprocessing.RandomTranslation(0.2,0.2),\n",
        "\n",
        "])"
      ],
      "metadata": {
        "id": "JXZnzE3alt5u"
      },
      "execution_count": 104,
      "outputs": []
    },
    {
      "cell_type": "code",
      "source": [
        "input_=tf.keras.Input(shape=(200,200,3))\n",
        "x=data_aug(input_)\n",
        "x=feature_extractor4(x,training=True)\n",
        "#x = tf.keras.layers.GlobalAveragePooling2D()(x)\n",
        "x=layers.Dense(128,activation='relu')(x)\n",
        "x=layers.Dense(64,activation='relu')(x)\n",
        "x=layers.Dense(32,activation='relu')(x)\n",
        "output_=layers.Dense(6)(x)"
      ],
      "metadata": {
        "id": "nCdpwtBUlt5u"
      },
      "execution_count": 105,
      "outputs": []
    },
    {
      "cell_type": "code",
      "source": [
        "model4=keras.Model(input_,output_)"
      ],
      "metadata": {
        "id": "bsP41HXElt5u"
      },
      "execution_count": 106,
      "outputs": []
    },
    {
      "cell_type": "code",
      "source": [
        "print(model4.summary())"
      ],
      "metadata": {
        "colab": {
          "base_uri": "https://localhost:8080/"
        },
        "id": "Zn59VUuglt5u",
        "outputId": "4aa7ba64-74a2-4d60-f4ca-aa6e2c3759c7"
      },
      "execution_count": 107,
      "outputs": [
        {
          "output_type": "stream",
          "name": "stdout",
          "text": [
            "Model: \"model_8\"\n",
            "_________________________________________________________________\n",
            " Layer (type)                Output Shape              Param #   \n",
            "=================================================================\n",
            " input_30 (InputLayer)       [(None, 200, 200, 3)]     0         \n",
            "                                                                 \n",
            " sequential_7 (Sequential)   (None, 224, 224, 3)       0         \n",
            "                                                                 \n",
            " vgg16 (Functional)          (None, 1000)              138357544 \n",
            "                                                                 \n",
            " dense_32 (Dense)            (None, 128)               128128    \n",
            "                                                                 \n",
            " dense_33 (Dense)            (None, 64)                8256      \n",
            "                                                                 \n",
            " dense_34 (Dense)            (None, 32)                2080      \n",
            "                                                                 \n",
            " dense_35 (Dense)            (None, 6)                 198       \n",
            "                                                                 \n",
            "=================================================================\n",
            "Total params: 138,496,206\n",
            "Trainable params: 138,496,206\n",
            "Non-trainable params: 0\n",
            "_________________________________________________________________\n",
            "None\n"
          ]
        }
      ]
    },
    {
      "cell_type": "code",
      "source": [
        "model4.compile(loss=keras.losses.SparseCategoricalCrossentropy(from_logits=True),\n",
        "              optimizer=keras.optimizers.SGD(0.005),\n",
        "              metrics=['accuracy'])"
      ],
      "metadata": {
        "id": "M6GJqM25lt5u"
      },
      "execution_count": 110,
      "outputs": []
    },
    {
      "cell_type": "code",
      "source": [
        "history4=model4.fit(train_ds, epochs=50, verbose=True,validation_data=valid_ds)"
      ],
      "metadata": {
        "colab": {
          "base_uri": "https://localhost:8080/"
        },
        "id": "x9Wzkm3Jlt5v",
        "outputId": "1ddc704e-d6aa-48c0-e763-91184007301f"
      },
      "execution_count": 111,
      "outputs": [
        {
          "output_type": "stream",
          "name": "stdout",
          "text": [
            "Epoch 1/50\n",
            "105/105 [==============================] - 28s 249ms/step - loss: 1.7917 - accuracy: 0.1578 - val_loss: 1.7909 - val_accuracy: 0.2778\n",
            "Epoch 2/50\n",
            "105/105 [==============================] - 27s 254ms/step - loss: 1.7909 - accuracy: 0.2232 - val_loss: 1.7898 - val_accuracy: 0.3333\n",
            "Epoch 3/50\n",
            "105/105 [==============================] - 26s 248ms/step - loss: 1.7893 - accuracy: 0.2436 - val_loss: 1.7875 - val_accuracy: 0.3333\n",
            "Epoch 4/50\n",
            "105/105 [==============================] - 26s 247ms/step - loss: 1.7867 - accuracy: 0.3239 - val_loss: 1.7846 - val_accuracy: 0.3889\n",
            "Epoch 5/50\n",
            "105/105 [==============================] - 26s 250ms/step - loss: 1.7824 - accuracy: 0.3491 - val_loss: 1.7787 - val_accuracy: 0.4028\n",
            "Epoch 6/50\n",
            "105/105 [==============================] - 26s 248ms/step - loss: 1.7749 - accuracy: 0.3839 - val_loss: 1.7682 - val_accuracy: 0.3472\n",
            "Epoch 7/50\n",
            "105/105 [==============================] - 26s 248ms/step - loss: 1.7620 - accuracy: 0.3755 - val_loss: 1.7553 - val_accuracy: 0.3472\n",
            "Epoch 8/50\n",
            "105/105 [==============================] - 26s 250ms/step - loss: 1.7485 - accuracy: 0.3539 - val_loss: 1.7373 - val_accuracy: 0.3750\n",
            "Epoch 9/50\n",
            "105/105 [==============================] - 26s 249ms/step - loss: 1.7327 - accuracy: 0.3725 - val_loss: 1.7177 - val_accuracy: 0.5000\n",
            "Epoch 10/50\n",
            "105/105 [==============================] - 26s 249ms/step - loss: 1.7111 - accuracy: 0.3461 - val_loss: 1.6847 - val_accuracy: 0.5139\n",
            "Epoch 11/50\n",
            "105/105 [==============================] - 26s 249ms/step - loss: 1.6849 - accuracy: 0.3695 - val_loss: 1.6882 - val_accuracy: 0.5000\n",
            "Epoch 12/50\n",
            "105/105 [==============================] - 26s 249ms/step - loss: 1.6554 - accuracy: 0.4061 - val_loss: 1.6113 - val_accuracy: 0.5139\n",
            "Epoch 13/50\n",
            "105/105 [==============================] - 26s 249ms/step - loss: 1.6299 - accuracy: 0.3389 - val_loss: 1.5649 - val_accuracy: 0.4444\n",
            "Epoch 14/50\n",
            "105/105 [==============================] - 26s 249ms/step - loss: 1.5705 - accuracy: 0.3839 - val_loss: 1.5956 - val_accuracy: 0.3333\n",
            "Epoch 15/50\n",
            "105/105 [==============================] - 26s 251ms/step - loss: 1.6297 - accuracy: 0.3521 - val_loss: 1.4874 - val_accuracy: 0.4444\n",
            "Epoch 16/50\n",
            "105/105 [==============================] - 26s 249ms/step - loss: 1.5345 - accuracy: 0.3995 - val_loss: 1.4363 - val_accuracy: 0.5000\n",
            "Epoch 17/50\n",
            "105/105 [==============================] - 26s 250ms/step - loss: 1.5221 - accuracy: 0.3845 - val_loss: 1.4051 - val_accuracy: 0.4861\n",
            "Epoch 18/50\n",
            "105/105 [==============================] - 26s 250ms/step - loss: 1.4509 - accuracy: 0.4331 - val_loss: 1.3631 - val_accuracy: 0.4861\n",
            "Epoch 19/50\n",
            "105/105 [==============================] - 26s 249ms/step - loss: 1.4005 - accuracy: 0.4523 - val_loss: 1.3028 - val_accuracy: 0.5000\n",
            "Epoch 20/50\n",
            "105/105 [==============================] - 26s 249ms/step - loss: 1.3833 - accuracy: 0.4397 - val_loss: 1.4089 - val_accuracy: 0.5278\n",
            "Epoch 21/50\n",
            "105/105 [==============================] - 26s 249ms/step - loss: 1.3388 - accuracy: 0.4613 - val_loss: 1.2236 - val_accuracy: 0.5972\n",
            "Epoch 22/50\n",
            "105/105 [==============================] - 26s 250ms/step - loss: 1.2578 - accuracy: 0.5105 - val_loss: 1.1953 - val_accuracy: 0.5139\n",
            "Epoch 23/50\n",
            "105/105 [==============================] - 26s 249ms/step - loss: 1.2295 - accuracy: 0.5309 - val_loss: 1.1206 - val_accuracy: 0.6528\n",
            "Epoch 24/50\n",
            "105/105 [==============================] - 26s 249ms/step - loss: 1.1671 - accuracy: 0.5471 - val_loss: 1.0922 - val_accuracy: 0.6250\n",
            "Epoch 25/50\n",
            "105/105 [==============================] - 26s 249ms/step - loss: 1.1864 - accuracy: 0.5375 - val_loss: 1.0326 - val_accuracy: 0.6250\n",
            "Epoch 26/50\n",
            "105/105 [==============================] - 26s 249ms/step - loss: 1.1049 - accuracy: 0.5801 - val_loss: 0.9662 - val_accuracy: 0.6389\n",
            "Epoch 27/50\n",
            "105/105 [==============================] - 26s 249ms/step - loss: 1.1033 - accuracy: 0.5621 - val_loss: 0.9525 - val_accuracy: 0.6667\n",
            "Epoch 28/50\n",
            "105/105 [==============================] - 26s 249ms/step - loss: 1.1030 - accuracy: 0.5627 - val_loss: 0.9293 - val_accuracy: 0.5694\n",
            "Epoch 29/50\n",
            "105/105 [==============================] - 26s 249ms/step - loss: 1.0489 - accuracy: 0.5573 - val_loss: 0.9327 - val_accuracy: 0.5972\n",
            "Epoch 30/50\n",
            "105/105 [==============================] - 27s 254ms/step - loss: 1.0032 - accuracy: 0.5855 - val_loss: 0.9655 - val_accuracy: 0.6528\n",
            "Epoch 31/50\n",
            "105/105 [==============================] - 26s 248ms/step - loss: 0.9582 - accuracy: 0.5957 - val_loss: 0.7766 - val_accuracy: 0.6667\n",
            "Epoch 32/50\n",
            "105/105 [==============================] - 26s 248ms/step - loss: 1.0156 - accuracy: 0.5651 - val_loss: 0.8232 - val_accuracy: 0.6250\n",
            "Epoch 33/50\n",
            "105/105 [==============================] - 26s 250ms/step - loss: 1.0270 - accuracy: 0.5849 - val_loss: 0.7647 - val_accuracy: 0.6667\n",
            "Epoch 34/50\n",
            "105/105 [==============================] - 26s 249ms/step - loss: 0.9150 - accuracy: 0.6089 - val_loss: 0.7758 - val_accuracy: 0.6528\n",
            "Epoch 35/50\n",
            "105/105 [==============================] - 26s 250ms/step - loss: 0.8541 - accuracy: 0.6353 - val_loss: 0.7612 - val_accuracy: 0.7500\n",
            "Epoch 36/50\n",
            "105/105 [==============================] - 26s 249ms/step - loss: 0.9638 - accuracy: 0.6017 - val_loss: 0.6744 - val_accuracy: 0.6667\n",
            "Epoch 37/50\n",
            "105/105 [==============================] - 26s 249ms/step - loss: 1.0175 - accuracy: 0.5843 - val_loss: 0.7781 - val_accuracy: 0.6389\n",
            "Epoch 38/50\n",
            "105/105 [==============================] - 26s 249ms/step - loss: 0.9316 - accuracy: 0.6215 - val_loss: 0.7596 - val_accuracy: 0.6806\n",
            "Epoch 39/50\n",
            "105/105 [==============================] - 26s 249ms/step - loss: 0.7981 - accuracy: 0.6605 - val_loss: 0.6518 - val_accuracy: 0.6528\n",
            "Epoch 40/50\n",
            "105/105 [==============================] - 26s 249ms/step - loss: 0.7722 - accuracy: 0.6623 - val_loss: 0.6577 - val_accuracy: 0.7083\n",
            "Epoch 41/50\n",
            "105/105 [==============================] - 26s 249ms/step - loss: 0.9422 - accuracy: 0.6497 - val_loss: 0.6601 - val_accuracy: 0.7083\n",
            "Epoch 42/50\n",
            "105/105 [==============================] - 26s 251ms/step - loss: 0.6867 - accuracy: 0.7421 - val_loss: 0.5934 - val_accuracy: 0.6667\n",
            "Epoch 43/50\n",
            "105/105 [==============================] - 26s 249ms/step - loss: 0.6842 - accuracy: 0.7463 - val_loss: 0.5649 - val_accuracy: 0.8889\n",
            "Epoch 44/50\n",
            "105/105 [==============================] - 26s 249ms/step - loss: 0.6288 - accuracy: 0.8164 - val_loss: 1.1848 - val_accuracy: 0.5833\n",
            "Epoch 45/50\n",
            "105/105 [==============================] - 26s 249ms/step - loss: 0.7423 - accuracy: 0.7888 - val_loss: 0.4943 - val_accuracy: 0.8750\n",
            "Epoch 46/50\n",
            "105/105 [==============================] - 26s 249ms/step - loss: 0.5449 - accuracy: 0.8788 - val_loss: 0.4631 - val_accuracy: 0.9583\n",
            "Epoch 47/50\n",
            "105/105 [==============================] - 26s 248ms/step - loss: 0.5805 - accuracy: 0.8728 - val_loss: 0.6538 - val_accuracy: 0.7639\n",
            "Epoch 48/50\n",
            "105/105 [==============================] - 26s 248ms/step - loss: 0.5582 - accuracy: 0.8794 - val_loss: 0.4525 - val_accuracy: 0.9722\n",
            "Epoch 49/50\n",
            "105/105 [==============================] - 26s 250ms/step - loss: 0.4443 - accuracy: 0.9268 - val_loss: 0.3626 - val_accuracy: 0.9861\n",
            "Epoch 50/50\n",
            "105/105 [==============================] - 26s 249ms/step - loss: 0.4427 - accuracy: 0.9250 - val_loss: 0.3392 - val_accuracy: 0.9861\n"
          ]
        }
      ]
    },
    {
      "cell_type": "code",
      "source": [
        "model4.evaluate(test_ds)"
      ],
      "metadata": {
        "colab": {
          "base_uri": "https://localhost:8080/"
        },
        "id": "1h0aceaNlt5v",
        "outputId": "8dee9bda-c3ef-429b-9851-6ec3ead93d23"
      },
      "execution_count": 112,
      "outputs": [
        {
          "output_type": "stream",
          "name": "stdout",
          "text": [
            "5/5 [==============================] - 0s 80ms/step - loss: 0.3321 - accuracy: 1.0000\n"
          ]
        },
        {
          "output_type": "execute_result",
          "data": {
            "text/plain": [
              "[0.3321087658405304, 1.0]"
            ]
          },
          "metadata": {},
          "execution_count": 112
        }
      ]
    },
    {
      "cell_type": "code",
      "source": [
        "history4.history.keys()"
      ],
      "metadata": {
        "colab": {
          "base_uri": "https://localhost:8080/"
        },
        "id": "wbpilhRBlt5v",
        "outputId": "b47f43ee-5faa-424d-8027-4a9b585f72d5"
      },
      "execution_count": 113,
      "outputs": [
        {
          "output_type": "execute_result",
          "data": {
            "text/plain": [
              "dict_keys(['loss', 'accuracy', 'val_loss', 'val_accuracy'])"
            ]
          },
          "metadata": {},
          "execution_count": 113
        }
      ]
    },
    {
      "cell_type": "code",
      "source": [
        "import matplotlib.pyplot as plt\n",
        "%matplotlib inline"
      ],
      "metadata": {
        "id": "irqXyh_Alt5v"
      },
      "execution_count": 114,
      "outputs": []
    },
    {
      "cell_type": "code",
      "source": [
        "plt.plot(history4.history['loss'])\n",
        "plt.plot(history4.history['val_loss'])\n",
        "plt.xlabel('epochs')\n",
        "plt.ylabel('loss')\n",
        "plt.legend(['train','valid'])"
      ],
      "metadata": {
        "colab": {
          "base_uri": "https://localhost:8080/",
          "height": 296
        },
        "id": "l8-qgsdLlt5v",
        "outputId": "be9bed6d-eb64-4d87-d15d-864abec85584"
      },
      "execution_count": 115,
      "outputs": [
        {
          "output_type": "execute_result",
          "data": {
            "text/plain": [
              "<matplotlib.legend.Legend at 0x7f9fe2830f10>"
            ]
          },
          "metadata": {},
          "execution_count": 115
        },
        {
          "output_type": "display_data",
          "data": {
            "text/plain": [
              "<Figure size 432x288 with 1 Axes>"
            ],
            "image/png": "[encoded data removed]"
          },
          "metadata": {
            "needs_background": "light"
          }
        }
      ]
    },
    {
      "cell_type": "code",
      "source": [
        "plt.plot(history4.history['accuracy'])\n",
        "plt.plot(history4.history['val_accuracy'])\n",
        "plt.xlabel('epochs')\n",
        "plt.ylabel('accuracy')\n",
        "\n",
        "plt.legend(['train','valid'])"
      ],
      "metadata": {
        "colab": {
          "base_uri": "https://localhost:8080/",
          "height": 296
        },
        "id": "vg7YB80Hlt5v",
        "outputId": "a43566d9-87bd-4964-bfa4-b60c70cdc848"
      },
      "execution_count": 116,
      "outputs": [
        {
          "output_type": "execute_result",
          "data": {
            "text/plain": [
              "<matplotlib.legend.Legend at 0x7f9fe2733f90>"
            ]
          },
          "metadata": {},
          "execution_count": 116
        },
        {
          "output_type": "display_data",
          "data": {
            "text/plain": [
              "<Figure size 432x288 with 1 Axes>"
            ],
            "image/png": "[encoded data removed]"
          },
          "metadata": {
            "needs_background": "light"
          }
        }
      ]
    },
    {
      "cell_type": "code",
      "source": [
        ""
      ],
      "metadata": {
        "id": "GJBW4A4ylshB"
      },
      "execution_count": null,
      "outputs": []
    },
    {
      "cell_type": "code",
      "source": [
        ""
      ],
      "metadata": {
        "id": "4IE5VUyvlsje"
      },
      "execution_count": null,
      "outputs": []
    },
    {
      "cell_type": "code",
      "source": [
        ""
      ],
      "metadata": {
        "id": "rqj7cHkdlsl4"
      },
      "execution_count": null,
      "outputs": []
    },
    {
      "cell_type": "code",
      "source": [
        ""
      ],
      "metadata": {
        "id": "QSvCtGP4lsoX"
      },
      "execution_count": null,
      "outputs": []
    },
    {
      "cell_type": "code",
      "source": [
        ""
      ],
      "metadata": {
        "id": "9fjd31lLlsq3"
      },
      "execution_count": null,
      "outputs": []
    },
    {
      "cell_type": "code",
      "source": [
        ""
      ],
      "metadata": {
        "id": "tkixCdcWlstW"
      },
      "execution_count": null,
      "outputs": []
    },
    {
      "cell_type": "code",
      "source": [
        ""
      ],
      "metadata": {
        "id": "UKMiHELWlsv_"
      },
      "execution_count": null,
      "outputs": []
    },
    {
      "cell_type": "code",
      "source": [
        ""
      ],
      "metadata": {
        "id": "tSwrwwhslsy3"
      },
      "execution_count": null,
      "outputs": []
    },
    {
      "cell_type": "code",
      "source": [
        ""
      ],
      "metadata": {
        "id": "uOM2IJQils1q"
      },
      "execution_count": null,
      "outputs": []
    },
    {
      "cell_type": "code",
      "source": [
        ""
      ],
      "metadata": {
        "id": "5sCu1omLls3i"
      },
      "execution_count": null,
      "outputs": []
    },
    {
      "cell_type": "code",
      "source": [
        ""
      ],
      "metadata": {
        "id": "E5KZR3ejls6b"
      },
      "execution_count": null,
      "outputs": []
    },
    {
      "cell_type": "code",
      "source": [
        ""
      ],
      "metadata": {
        "id": "uUSc00rPlXF9"
      },
      "execution_count": null,
      "outputs": []
    },
    {
      "cell_type": "code",
      "source": [
        ""
      ],
      "metadata": {
        "id": "OLm6G2KglXLi"
      },
      "execution_count": null,
      "outputs": []
    },
    {
      "cell_type": "code",
      "source": [
        "# feature_extractor=ResNet50(weights='imagenet',input_shape=(200,200,3))\n",
        "# feature_extractor.trainable=True"
      ],
      "metadata": {
        "colab": {
          "base_uri": "https://localhost:8080/",
          "height": 363
        },
        "id": "XVeheo-v-Fbm",
        "outputId": "d6b47104-ce1a-469f-9e45-6cb0d5749d6f"
      },
      "execution_count": null,
      "outputs": [
        {
          "output_type": "error",
          "ename": "ValueError",
          "evalue": "ignored",
          "traceback": [
            "\u001b[0;31m---------------------------------------------------------------------------\u001b[0m",
            "\u001b[0;31mValueError\u001b[0m                                Traceback (most recent call last)",
            "\u001b[0;32m<ipython-input-74-88a9f4fee65e>\u001b[0m in \u001b[0;36m<module>\u001b[0;34m()\u001b[0m\n\u001b[0;32m----> 1\u001b[0;31m \u001b[0mfeature_extractor\u001b[0m\u001b[0;34m=\u001b[0m\u001b[0mResNet50\u001b[0m\u001b[0;34m(\u001b[0m\u001b[0mweights\u001b[0m\u001b[0;34m=\u001b[0m\u001b[0;34m'imagenet'\u001b[0m\u001b[0;34m,\u001b[0m\u001b[0minput_shape\u001b[0m\u001b[0;34m=\u001b[0m\u001b[0;34m(\u001b[0m\u001b[0;36m200\u001b[0m\u001b[0;34m,\u001b[0m\u001b[0;36m200\u001b[0m\u001b[0;34m,\u001b[0m\u001b[0;36m3\u001b[0m\u001b[0;34m)\u001b[0m\u001b[0;34m)\u001b[0m\u001b[0;34m\u001b[0m\u001b[0;34m\u001b[0m\u001b[0m\n\u001b[0m\u001b[1;32m      2\u001b[0m \u001b[0mfeature_extractor\u001b[0m\u001b[0;34m.\u001b[0m\u001b[0mtrainable\u001b[0m\u001b[0;34m=\u001b[0m\u001b[0;32mTrue\u001b[0m\u001b[0;34m\u001b[0m\u001b[0;34m\u001b[0m\u001b[0m\n",
            "\u001b[0;32m/usr/local/lib/python3.7/dist-packages/keras/applications/resnet.py\u001b[0m in \u001b[0;36mResNet50\u001b[0;34m(include_top, weights, input_tensor, input_shape, pooling, classes, **kwargs)\u001b[0m\n\u001b[1;32m    457\u001b[0m \u001b[0;34m\u001b[0m\u001b[0m\n\u001b[1;32m    458\u001b[0m   return ResNet(stack_fn, False, True, 'resnet50', include_top, weights,\n\u001b[0;32m--> 459\u001b[0;31m                 input_tensor, input_shape, pooling, classes, **kwargs)\n\u001b[0m\u001b[1;32m    460\u001b[0m \u001b[0;34m\u001b[0m\u001b[0m\n\u001b[1;32m    461\u001b[0m \u001b[0;34m\u001b[0m\u001b[0m\n",
            "\u001b[0;32m/usr/local/lib/python3.7/dist-packages/keras/applications/resnet.py\u001b[0m in \u001b[0;36mResNet\u001b[0;34m(stack_fn, preact, use_bias, model_name, include_top, weights, input_tensor, input_shape, pooling, classes, classifier_activation, **kwargs)\u001b[0m\n\u001b[1;32m    139\u001b[0m       \u001b[0mdata_format\u001b[0m\u001b[0;34m=\u001b[0m\u001b[0mbackend\u001b[0m\u001b[0;34m.\u001b[0m\u001b[0mimage_data_format\u001b[0m\u001b[0;34m(\u001b[0m\u001b[0;34m)\u001b[0m\u001b[0;34m,\u001b[0m\u001b[0;34m\u001b[0m\u001b[0;34m\u001b[0m\u001b[0m\n\u001b[1;32m    140\u001b[0m       \u001b[0mrequire_flatten\u001b[0m\u001b[0;34m=\u001b[0m\u001b[0minclude_top\u001b[0m\u001b[0;34m,\u001b[0m\u001b[0;34m\u001b[0m\u001b[0;34m\u001b[0m\u001b[0m\n\u001b[0;32m--> 141\u001b[0;31m       weights=weights)\n\u001b[0m\u001b[1;32m    142\u001b[0m \u001b[0;34m\u001b[0m\u001b[0m\n\u001b[1;32m    143\u001b[0m   \u001b[0;32mif\u001b[0m \u001b[0minput_tensor\u001b[0m \u001b[0;32mis\u001b[0m \u001b[0;32mNone\u001b[0m\u001b[0;34m:\u001b[0m\u001b[0;34m\u001b[0m\u001b[0;34m\u001b[0m\u001b[0m\n",
            "\u001b[0;32m/usr/local/lib/python3.7/dist-packages/keras/applications/imagenet_utils.py\u001b[0m in \u001b[0;36mobtain_input_shape\u001b[0;34m(input_shape, default_size, min_size, data_format, require_flatten, weights)\u001b[0m\n\u001b[1;32m    347\u001b[0m     \u001b[0;32mif\u001b[0m \u001b[0minput_shape\u001b[0m \u001b[0;32mis\u001b[0m \u001b[0;32mnot\u001b[0m \u001b[0;32mNone\u001b[0m\u001b[0;34m:\u001b[0m\u001b[0;34m\u001b[0m\u001b[0;34m\u001b[0m\u001b[0m\n\u001b[1;32m    348\u001b[0m       \u001b[0;32mif\u001b[0m \u001b[0minput_shape\u001b[0m \u001b[0;34m!=\u001b[0m \u001b[0mdefault_shape\u001b[0m\u001b[0;34m:\u001b[0m\u001b[0;34m\u001b[0m\u001b[0;34m\u001b[0m\u001b[0m\n\u001b[0;32m--> 349\u001b[0;31m         raise ValueError('When setting `include_top=True` '\n\u001b[0m\u001b[1;32m    350\u001b[0m                          \u001b[0;34m'and loading `imagenet` weights, '\u001b[0m\u001b[0;34m\u001b[0m\u001b[0;34m\u001b[0m\u001b[0m\n\u001b[1;32m    351\u001b[0m                          \u001b[0;34mf'`input_shape` should be {default_shape}.  '\u001b[0m\u001b[0;34m\u001b[0m\u001b[0;34m\u001b[0m\u001b[0m\n",
            "\u001b[0;31mValueError\u001b[0m: When setting `include_top=True` and loading `imagenet` weights, `input_shape` should be (224, 224, 3).  Received: input_shape=(200, 200, 3)"
          ]
        }
      ]
    }
  ],
  "metadata": {
    "accelerator": "GPU",
    "colab": {
      "collapsed_sections": [],
      "name": "VGG16.ipynb",
      "provenance": []
    },
    "gpuClass": "standard",
    "kernelspec": {
      "display_name": "Python 3 (ipykernel)",
      "language": "python",
      "name": "python3"
    },
    "language_info": {
      "codemirror_mode": {
        "name": "ipython",
        "version": 3
      },
      "file_extension": ".py",
      "mimetype": "text/x-python",
      "name": "python",
      "nbconvert_exporter": "python",
      "pygments_lexer": "ipython3",
      "version": "3.9.7"
    }
  },
  "nbformat": 4,
  "nbformat_minor": 0
}