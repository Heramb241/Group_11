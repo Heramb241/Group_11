{
  "cells": [
    {
      "cell_type": "code",
      "execution_count": null,
      "metadata": {
        "id": "0eH7zROBO5kd"
      },
      "outputs": [],
      "source": [
        "import os\n",
        "import matplotlib.pyplot as plt\n",
        "%matplotlib inline\n",
        "import tensorflow as tf\n",
        "from tensorflow import keras\n",
        "from tensorflow.keras import layers\n",
        "\n",
        "from tensorflow.keras.preprocessing.image import ImageDataGenerator #for data organised in folders"
      ]
    },
    {
      "cell_type": "code",
      "execution_count": null,
      "metadata": {
        "colab": {
          "base_uri": "https://localhost:8080/"
        },
        "id": "9KdPSb-h5KVo",
        "outputId": "1252b99e-5437-479b-8f49-a38c7e7f46d4"
      },
      "outputs": [
        {
          "output_type": "stream",
          "name": "stdout",
          "text": [
            "Mounted at /content/drive\n"
          ]
        }
      ],
      "source": [
        "from google.colab import drive\n",
        "drive.mount('/content/drive')"
      ]
    },
    {
      "cell_type": "code",
      "execution_count": null,
      "metadata": {
        "id": "habbGNZ34miy"
      },
      "outputs": [],
      "source": [
        "#path=r'./NEU Metal Surface Defects Data' #for desktop"
      ]
    },
    {
      "cell_type": "code",
      "execution_count": null,
      "metadata": {
        "id": "Ps9W74s7REAb"
      },
      "outputs": [],
      "source": [
        "# # accessing data from colab\n",
        "# from google.colab import drive\n",
        "# drive.mount('/content/drive')"
      ]
    },
    {
      "cell_type": "code",
      "execution_count": null,
      "metadata": {
        "id": "1V3ldH4fRbj0"
      },
      "outputs": [],
      "source": [
        "# folder path\n",
        "path=r'/content/drive/MyDrive/Colab Notebooks/Tlab/NEU Metal Surface Defects Data'"
      ]
    },
    {
      "cell_type": "code",
      "execution_count": null,
      "metadata": {
        "id": "S-VvDncjRv3C"
      },
      "outputs": [],
      "source": [
        "#exploring folder"
      ]
    },
    {
      "cell_type": "code",
      "execution_count": null,
      "metadata": {
        "colab": {
          "base_uri": "https://localhost:8080/"
        },
        "id": "pVKsZMhkRzfk",
        "outputId": "8126d2fe-e20b-46cb-be30-bea927f3238d"
      },
      "outputs": [
        {
          "output_type": "execute_result",
          "data": {
            "text/plain": [
              "['Thumbs.db', 'train', 'test', 'valid']"
            ]
          },
          "metadata": {},
          "execution_count": 7
        }
      ],
      "source": [
        "os.listdir(path)"
      ]
    },
    {
      "cell_type": "code",
      "execution_count": null,
      "metadata": {
        "colab": {
          "base_uri": "https://localhost:8080/"
        },
        "id": "T6hXJJXGR2-t",
        "outputId": "3eee3454-da1c-4674-e945-0a679a412f99"
      },
      "outputs": [
        {
          "output_type": "execute_result",
          "data": {
            "text/plain": [
              "['Inclusion', 'Patches', 'Crazing', 'Pitted', 'Scratches', 'Rolled']"
            ]
          },
          "metadata": {},
          "execution_count": 8
        }
      ],
      "source": [
        "os.listdir(path+'/train')"
      ]
    },
    {
      "cell_type": "code",
      "execution_count": null,
      "metadata": {
        "colab": {
          "base_uri": "https://localhost:8080/"
        },
        "id": "zRx7jdvHR8rc",
        "outputId": "2e440d22-a223-4163-85e1-d7d4c010a5a7"
      },
      "outputs": [
        {
          "output_type": "stream",
          "name": "stdout",
          "text": [
            "['Inclusion', 'Patches', 'Crazing', 'Pitted', 'Scratches', 'Rolled']\n",
            "<class 'list'>\n"
          ]
        }
      ],
      "source": [
        "classes_defects=os.listdir(path+'/train')\n",
        "print(classes_defects)\n",
        "print(type(classes_defects))"
      ]
    },
    {
      "cell_type": "code",
      "execution_count": null,
      "metadata": {
        "colab": {
          "base_uri": "https://localhost:8080/"
        },
        "id": "Qoi73fWQSegc",
        "outputId": "0ae6bf98-cc8d-4a9b-bc60-90aa060e4f78"
      },
      "outputs": [
        {
          "output_type": "execute_result",
          "data": {
            "text/plain": [
              "['Pa_206.bmp',\n",
              " 'Pa_165.bmp',\n",
              " 'Pa_145.bmp',\n",
              " 'Pa_156.bmp',\n",
              " 'Pa_226.bmp',\n",
              " 'Pa_243.bmp',\n",
              " 'Pa_209.bmp',\n",
              " 'Pa_195.bmp',\n",
              " 'Pa_131.bmp',\n",
              " 'Pa_16.bmp']"
            ]
          },
          "metadata": {},
          "execution_count": 10
        }
      ],
      "source": [
        "os.listdir(path+'/train/Patches')[:10]"
      ]
    },
    {
      "cell_type": "code",
      "execution_count": null,
      "metadata": {
        "id": "-s5UQV0IS7Le"
      },
      "outputs": [],
      "source": [
        "from PIL import Image"
      ]
    },
    {
      "cell_type": "code",
      "execution_count": null,
      "metadata": {
        "colab": {
          "base_uri": "https://localhost:8080/"
        },
        "id": "W2BjIqwVTDQc",
        "outputId": "76ed3aa6-4e48-40f9-d28c-2789f449585d"
      },
      "outputs": [
        {
          "output_type": "stream",
          "name": "stdout",
          "text": [
            "/content/drive/MyDrive/Colab Notebooks/Tlab/NEU Metal Surface Defects Data/train/Patches/Pa_206.bmp\n",
            "BMP\n",
            "L\n",
            "(200, 200)\n"
          ]
        }
      ],
      "source": [
        "img1=Image.open(path+'/train/Patches/Pa_206.bmp')\n",
        "print(img1.filename)\n",
        "print(img1.format)\n",
        "print(img1.mode)\n",
        "print(img1.size)\n",
        "\n",
        "# # The \"L\" mode represents grayscale here.... So it can hold any of 256 shades of Gray \n",
        "# (includes black and white as Gray shades).\n",
        "# # The \"P\" mode can hold 256 different colors like red,blue, green etc....\n",
        "# https://stackoverflow.com/questions/52307290/what-is-the-difference-between-images-in-p-and-l-mode-in-pil#:~:text=Examples%3A%208%20bit%20black%20and,are%20%22P%22%20mode.."
      ]
    },
    {
      "cell_type": "code",
      "execution_count": null,
      "metadata": {
        "id": "IiCMG6LTSOGN"
      },
      "outputs": [],
      "source": [
        "image=plt.imread(path+'/train/Patches/Pa_206.bmp')\n"
      ]
    },
    {
      "cell_type": "code",
      "execution_count": null,
      "metadata": {
        "colab": {
          "base_uri": "https://localhost:8080/",
          "height": 304
        },
        "id": "5MIGHv_vSrxz",
        "outputId": "daeb24ff-363c-4279-df32-4e52a565d440"
      },
      "outputs": [
        {
          "output_type": "stream",
          "name": "stdout",
          "text": [
            "(200, 200)\n",
            "max_pixel_value: 255\n"
          ]
        },
        {
          "output_type": "display_data",
          "data": {
            "text/plain": [
              "<Figure size 432x288 with 1 Axes>"
            ],
            "image/png": "[encoded data removed]"
          },
          "metadata": {
            "needs_background": "light"
          }
        }
      ],
      "source": [
        "print(image.shape)\n",
        "plt.imshow(image,cmap='gray')\n",
        "print(\"max_pixel_value: {}\".format(image.max()))"
      ]
    },
    {
      "cell_type": "code",
      "execution_count": null,
      "metadata": {
        "id": "t189_sQHTw9N"
      },
      "outputs": [],
      "source": [
        ""
      ]
    },
    {
      "cell_type": "code",
      "execution_count": null,
      "metadata": {
        "id": "uf0_K6MHUUi1"
      },
      "outputs": [],
      "source": [
        "image_height=200\n",
        "image_width=200\n",
        "batch_size=16"
      ]
    },
    {
      "cell_type": "code",
      "execution_count": null,
      "metadata": {
        "id": "9KUfi1xOUUo_"
      },
      "outputs": [],
      "source": [
        "#ImageDataGenerator and flow_from_directory for datasets"
      ]
    },
    {
      "cell_type": "code",
      "execution_count": null,
      "metadata": {
        "id": "g97uGV7oXQeO"
      },
      "outputs": [],
      "source": [
        "# # https://vijayabhaskar96.medium.com/tutorial-image-classification-with-keras-flow-from-directory-and-generators-95f75ebe5720\n",
        "\n",
        "# https://github.com/aladdinpersson/Machine-Learning-Collection/blob/master/ML/TensorFlow/Basics/tutorial18-customdata-images/1_in_subfolders.py"
      ]
    },
    {
      "cell_type": "code",
      "execution_count": null,
      "metadata": {
        "id": "5MZT5ja9XdFG"
      },
      "outputs": [],
      "source": [
        "data_generator=ImageDataGenerator(\n",
        "    rescale=1.0/255,\n",
        "    dtype=tf.float32,\n",
        "    \n",
        ")"
      ]
    },
    {
      "cell_type": "code",
      "execution_count": null,
      "metadata": {
        "colab": {
          "base_uri": "https://localhost:8080/"
        },
        "id": "UfIlTPg7Z4FM",
        "outputId": "e684ac08-e6ff-47b4-e8f6-520bed6145ca"
      },
      "outputs": [
        {
          "output_type": "stream",
          "name": "stdout",
          "text": [
            "Found 1667 images belonging to 6 classes.\n"
          ]
        }
      ],
      "source": [
        "train_ds=data_generator.flow_from_directory(\n",
        "    path+'/train',\n",
        "    target_size=(200,200),\n",
        "    # color_mode='grayscale',\n",
        "    classes=classes_defects,\n",
        "    class_mode='sparse',\n",
        "    shuffle=True,\n",
        "    seed=1,\n",
        "    batch_size=batch_size\n",
        ")"
      ]
    },
    {
      "cell_type": "code",
      "execution_count": null,
      "metadata": {
        "colab": {
          "base_uri": "https://localhost:8080/"
        },
        "id": "fd1x129WbHZX",
        "outputId": "378e5ae0-8414-4ccc-c712-c69d1ffb6865"
      },
      "outputs": [
        {
          "output_type": "stream",
          "name": "stdout",
          "text": [
            "Found 72 images belonging to 6 classes.\n"
          ]
        }
      ],
      "source": [
        "valid_ds=data_generator.flow_from_directory(\n",
        "    path+'/valid',\n",
        "    target_size=(200,200),\n",
        "    # color_mode='grayscale',\n",
        "    classes=classes_defects,\n",
        "    class_mode='sparse',\n",
        "    shuffle=True,\n",
        "    seed=1,\n",
        "    batch_size=batch_size\n",
        ")"
      ]
    },
    {
      "cell_type": "code",
      "execution_count": null,
      "metadata": {
        "colab": {
          "base_uri": "https://localhost:8080/"
        },
        "id": "70aEnJ-zbOG1",
        "outputId": "009e85eb-8a5e-4cae-82e5-899d7875baf7"
      },
      "outputs": [
        {
          "output_type": "stream",
          "name": "stdout",
          "text": [
            "Found 72 images belonging to 6 classes.\n"
          ]
        }
      ],
      "source": [
        "test_ds=data_generator.flow_from_directory(\n",
        "    path+'/test',\n",
        "    target_size=(200,200),\n",
        "    # color_mode='grayscale',\n",
        "    classes=classes_defects,\n",
        "    class_mode='sparse',\n",
        "    shuffle=False,\n",
        "    seed=1,\n",
        "    batch_size=batch_size\n",
        ")"
      ]
    },
    {
      "cell_type": "code",
      "execution_count": null,
      "metadata": {
        "id": "gxi_iTNsba69"
      },
      "outputs": [],
      "source": [
        "# exploring datsets"
      ]
    },
    {
      "cell_type": "code",
      "execution_count": null,
      "metadata": {
        "id": "GMWPr77BdKoY"
      },
      "outputs": [],
      "source": [
        "import numpy as np"
      ]
    },
    {
      "cell_type": "code",
      "execution_count": null,
      "metadata": {
        "colab": {
          "base_uri": "https://localhost:8080/"
        },
        "id": "vqWjOZ7XfdQp",
        "outputId": "ff4f380d-0177-4176-e2a3-82e2294c1750"
      },
      "outputs": [
        {
          "output_type": "stream",
          "name": "stdout",
          "text": [
            "2\n"
          ]
        }
      ],
      "source": [
        "print(len(train_ds[0]))"
      ]
    },
    {
      "cell_type": "code",
      "execution_count": null,
      "metadata": {
        "colab": {
          "base_uri": "https://localhost:8080/"
        },
        "id": "52CxVsaaf05a",
        "outputId": "6338ffaf-c500-41ef-d2f2-b5c5a97ee134"
      },
      "outputs": [
        {
          "output_type": "stream",
          "name": "stdout",
          "text": [
            "16\n"
          ]
        }
      ],
      "source": [
        "print(len(train_ds[0][0]))"
      ]
    },
    {
      "cell_type": "code",
      "execution_count": null,
      "metadata": {
        "colab": {
          "base_uri": "https://localhost:8080/"
        },
        "id": "IHfdu_ncgBVA",
        "outputId": "01e68f1c-5826-46da-e01e-9d7bdcf6972b"
      },
      "outputs": [
        {
          "output_type": "stream",
          "name": "stdout",
          "text": [
            "(16, 200, 200, 3)\n"
          ]
        }
      ],
      "source": [
        "print(train_ds[0][0].shape)"
      ]
    },
    {
      "cell_type": "code",
      "execution_count": null,
      "metadata": {
        "colab": {
          "base_uri": "https://localhost:8080/",
          "height": 373
        },
        "id": "6TYmnOdfbtXs",
        "outputId": "74e6892a-9f4d-41d7-e078-edaae5e0aa2f"
      },
      "outputs": [
        {
          "output_type": "stream",
          "name": "stdout",
          "text": [
            "(16, 200, 200, 3)\n",
            "3.0\n",
            "['Inclusion', 'Patches', 'Crazing', 'Pitted', 'Scratches', 'Rolled']\n",
            "{'Inclusion': 0, 'Patches': 1, 'Crazing': 2, 'Pitted': 3, 'Scratches': 4, 'Rolled': 5}\n",
            "tf.Tensor([3 0 5 3 0 3 0 5 4 2 0 3 4 3 0 1], shape=(16,), dtype=uint8)\n",
            "Pitted\n"
          ]
        },
        {
          "output_type": "display_data",
          "data": {
            "text/plain": [
              "<Figure size 432x288 with 1 Axes>"
            ],
            "image/png": "[encoded data removed]"
          },
          "metadata": {
            "needs_background": "light"
          }
        }
      ],
      "source": [
        "for images,labels in train_ds:\n",
        "  plt.imshow(images[0],cmap='gray')\n",
        "  print(images.shape)\n",
        "  print(labels[0])\n",
        "  labels=tf.cast(labels,tf.uint8)\n",
        "  print(classes_defects)\n",
        "  print(train_ds.class_indices)\n",
        "  print((labels))\n",
        "  print(classes_defects[labels[0]])\n",
        "  break"
      ]
    },
    {
      "cell_type": "code",
      "execution_count": null,
      "metadata": {
        "id": "wy_7uyOFgArJ"
      },
      "outputs": [],
      "source": [
        ""
      ]
    },
    {
      "cell_type": "code",
      "execution_count": null,
      "metadata": {
        "id": "5_TNSItzeM4f"
      },
      "outputs": [],
      "source": [
        "#Pretrained models keras"
      ]
    },
    {
      "cell_type": "code",
      "execution_count": null,
      "metadata": {
        "id": "om89k4pMd32x"
      },
      "outputs": [],
      "source": [
        "# https://keras.io/api/applications/"
      ]
    },
    {
      "cell_type": "code",
      "execution_count": null,
      "metadata": {
        "id": "q28kVXiueMBY"
      },
      "outputs": [],
      "source": [
        "# https://towardsdatascience.com/transfer-learning-for-image-classification-using-tensorflow-71c359b56673"
      ]
    },
    {
      "cell_type": "code",
      "execution_count": null,
      "metadata": {
        "id": "b-B1LbJFb6pv"
      },
      "outputs": [],
      "source": [
        ""
      ]
    },
    {
      "cell_type": "markdown",
      "metadata": {
        "id": "pHpjBoU2S6Tq"
      },
      "source": [
        "# **VGG16 with include_top=False, trainable=false and no augmentation**"
      ]
    },
    {
      "cell_type": "code",
      "execution_count": null,
      "metadata": {
        "id": "ZmJIaTmj45JZ"
      },
      "outputs": [],
      "source": [
        "from tensorflow.keras.applications import VGG16"
      ]
    },
    {
      "cell_type": "code",
      "execution_count": null,
      "metadata": {
        "colab": {
          "base_uri": "https://localhost:8080/"
        },
        "id": "CK0mBVfrTOuD",
        "outputId": "3c0a9df4-b281-4cb3-98a1-1442d97207f3"
      },
      "outputs": [
        {
          "output_type": "stream",
          "name": "stdout",
          "text": [
            "Downloading data from https://storage.googleapis.com/tensorflow/keras-applications/vgg16/vgg16_weights_tf_dim_ordering_tf_kernels_notop.h5\n",
            "58892288/58889256 [==============================] - 0s 0us/step\n",
            "58900480/58889256 [==============================] - 0s 0us/step\n"
          ]
        }
      ],
      "source": [
        "feature_extractor=VGG16(include_top=False,input_shape=(200,200,3))\n",
        "feature_extractor.trainable=False"
      ]
    },
    {
      "cell_type": "code",
      "execution_count": null,
      "metadata": {
        "id": "lqHvs3q0TOw6"
      },
      "outputs": [],
      "source": [
        "input_=tf.keras.Input(shape=(200,200,3))\n",
        "x=feature_extractor(input_,training=False,)\n",
        "x = tf.keras.layers.GlobalAveragePooling2D()(x)\n",
        "x=layers.Dense(128,activation='relu')(x)\n",
        "x=layers.Dense(64,activation='relu')(x)\n",
        "x=layers.Dense(32,activation='relu')(x)\n",
        "output_=layers.Dense(6)(x)"
      ]
    },
    {
      "cell_type": "code",
      "execution_count": null,
      "metadata": {
        "id": "vs4g0y4pTOzy"
      },
      "outputs": [],
      "source": [
        "model=keras.Model(input_,output_)"
      ]
    },
    {
      "cell_type": "code",
      "execution_count": null,
      "metadata": {
        "id": "mjRAfK4M-OCh"
      },
      "outputs": [],
      "source": [
        "\n",
        "from numpy.random import seed\n",
        "seed(1)\n",
        "tf.random.set_seed(1)"
      ]
    },
    {
      "cell_type": "markdown",
      "metadata": {
        "id": "3u49SGQJ-Zz6"
      },
      "source": [
        "**Callbacks**"
      ]
    },
    {
      "cell_type": "code",
      "execution_count": null,
      "metadata": {
        "id": "Iu0MPnWf-OVX"
      },
      "outputs": [],
      "source": [
        "# https://iaminnovativecoder.medium.com/tensorflow-learning-rate-finder-dbb3f56eea4f\n",
        "#callbacks to find suitable learning rate"
      ]
    },
    {
      "cell_type": "code",
      "execution_count": null,
      "metadata": {
        "id": "CbgyoAjVchDm"
      },
      "outputs": [],
      "source": [
        "import numpy as np"
      ]
    },
    {
      "cell_type": "code",
      "execution_count": null,
      "metadata": {
        "colab": {
          "base_uri": "https://localhost:8080/"
        },
        "id": "ot0nsyyJpbnE",
        "outputId": "5d48b459-9959-4651-fbda-94c2948d893a"
      },
      "outputs": [
        {
          "output_type": "execute_result",
          "data": {
            "text/plain": [
              "2.718281828459045"
            ]
          },
          "metadata": {},
          "execution_count": 38
        }
      ],
      "source": [
        "np.exp(1)"
      ]
    },
    {
      "cell_type": "code",
      "execution_count": null,
      "metadata": {
        "id": "wq9HyXYs-Ocx"
      },
      "outputs": [],
      "source": [
        "class LRfind(keras.callbacks.Callback):\n",
        "  def __init__(self,min_lr,max_lr,n_steps):\n",
        "    self.min_lr=min_lr\n",
        "    self.max_lr=max_lr\n",
        "    self.step_up = (max_lr/min_lr) ** (1 / n_steps)\n",
        "    self.lrs=[]\n",
        "    self.losses=[]\n",
        "\n",
        "  def on_train_begin(self,logs=None):\n",
        "    self.weights=self.model.get_weights()\n",
        "    self.model.optimizer.lr=self.min_lr\n",
        "\n",
        "  def on_train_batch_end(self,batch,logs=None):\n",
        "    self.lrs.append(self.model.optimizer.lr.numpy())\n",
        "    self.losses.append(logs[\"loss\"])\n",
        "    self.model.optimizer.lr=self.model.optimizer.lr*self.step_up\n",
        "\n",
        "    if self.model.optimizer.lr>self.max_lr:\n",
        "      self.model.stop_training=True\n",
        "\n",
        "  def on_train_end(self,logs=None):\n",
        "    self.model.set_weights(self.weights)\n"
      ]
    },
    {
      "cell_type": "code",
      "execution_count": null,
      "metadata": {
        "id": "pDXDIf6d-YeG"
      },
      "outputs": [],
      "source": [
        "model.compile(loss=keras.losses.SparseCategoricalCrossentropy(from_logits=True),\n",
        "              optimizer=keras.optimizers.Adam(),\n",
        "              metrics=['accuracy'])"
      ]
    },
    {
      "cell_type": "code",
      "execution_count": null,
      "metadata": {
        "id": "y2pdqyxiFf3y"
      },
      "outputs": [],
      "source": [
        "epochs_num=1"
      ]
    },
    {
      "cell_type": "code",
      "execution_count": null,
      "metadata": {
        "id": "1QynGiHlFYX4"
      },
      "outputs": [],
      "source": [
        "lr_find = LRfind(1e-6, 1e1,105)"
      ]
    },
    {
      "cell_type": "code",
      "execution_count": null,
      "metadata": {
        "colab": {
          "base_uri": "https://localhost:8080/"
        },
        "id": "GoF1ViHP-YhP",
        "outputId": "9c1675f9-4a02-45cd-9750-e4f76221766e"
      },
      "outputs": [
        {
          "output_type": "stream",
          "name": "stdout",
          "text": [
            "105/105 [==============================] - 282s 3s/step - loss: 3.2392 - accuracy: 0.3437 - val_loss: 4.1779 - val_accuracy: 0.1667\n"
          ]
        }
      ],
      "source": [
        "history_callback=model.fit(train_ds,epochs=1, verbose=True,validation_data=valid_ds,callbacks=[lr_find])\n",
        "\n"
      ]
    },
    {
      "cell_type": "code",
      "execution_count": null,
      "metadata": {
        "id": "ZQK8FjQ0L3eg"
      },
      "outputs": [],
      "source": [
        ""
      ]
    },
    {
      "cell_type": "code",
      "execution_count": null,
      "metadata": {
        "colab": {
          "base_uri": "https://localhost:8080/",
          "height": 284
        },
        "id": "NlfP2ugl-Ykh",
        "outputId": "e9e583aa-d728-412a-b430-ec020d083260"
      },
      "outputs": [
        {
          "output_type": "display_data",
          "data": {
            "text/plain": [
              "<Figure size 432x288 with 1 Axes>"
            ],
            "image/png": "[encoded data removed]"
          },
          "metadata": {
            "needs_background": "light"
          }
        }
      ],
      "source": [
        "plt.plot(lr_find.lrs,lr_find.losses)\n",
        "plt.xscale('log')\n",
        "plt.xlabel('learning_rates')\n",
        "plt.ylabel('losses')\n",
        "plt.show()\n"
      ]
    },
    {
      "cell_type": "code",
      "execution_count": null,
      "metadata": {
        "colab": {
          "base_uri": "https://localhost:8080/",
          "height": 288
        },
        "id": "9Cdq5uUnL6Pl",
        "outputId": "82b21207-1f6b-478a-e6d8-01a5cdf838d3"
      },
      "outputs": [
        {
          "output_type": "display_data",
          "data": {
            "text/plain": [
              "<Figure size 432x288 with 1 Axes>"
            ],
            "image/png": "[encoded data removed]"
          },
          "metadata": {
            "needs_background": "light"
          }
        }
      ],
      "source": [
        "plt.plot(lr_find.lrs,lr_find.losses)\n",
        "plt.xscale('log')\n",
        "plt.xlim(0.000001,0.1)\n",
        "plt.ylim(1,2)\n",
        "plt.xlabel('learning_rates')\n",
        "plt.ylabel('losses')\n",
        "plt.show()"
      ]
    },
    {
      "cell_type": "code",
      "execution_count": null,
      "metadata": {
        "colab": {
          "base_uri": "https://localhost:8080/",
          "height": 296
        },
        "id": "gtbW9D28e9O2",
        "outputId": "3e55a1bc-4b82-4fd9-bcd6-9ccc79859d70"
      },
      "outputs": [
        {
          "output_type": "execute_result",
          "data": {
            "text/plain": [
              "Text(0, 0.5, 'learning_rate')"
            ]
          },
          "metadata": {},
          "execution_count": 48
        },
        {
          "output_type": "display_data",
          "data": {
            "text/plain": [
              "<Figure size 432x288 with 1 Axes>"
            ],
            "image/png": "[encoded data removed]"
          },
          "metadata": {
            "needs_background": "light"
          }
        }
      ],
      "source": [
        "plt.plot(lr_find.lrs)\n",
        "plt.xlabel('iterations')\n",
        "plt.ylabel('learning_rate')"
      ]
    },
    {
      "cell_type": "code",
      "execution_count": null,
      "metadata": {
        "id": "JsZnX4IhwqXT"
      },
      "outputs": [],
      "source": [
        ""
      ]
    },
    {
      "cell_type": "markdown",
      "metadata": {
        "id": "usSdqv6LwsLZ"
      },
      "source": [
        "# *LearningRateScheduler *\n",
        "\n",
        "https://keras.io/api/callbacks/learning_rate_scheduler/"
      ]
    },
    {
      "cell_type": "code",
      "execution_count": null,
      "metadata": {
        "id": "puD0fvHL2lOY"
      },
      "outputs": [],
      "source": [
        ""
      ]
    },
    {
      "cell_type": "code",
      "execution_count": null,
      "metadata": {
        "id": "1odLe2kHwqZ7"
      },
      "outputs": [],
      "source": [
        ""
      ]
    },
    {
      "cell_type": "code",
      "execution_count": null,
      "metadata": {
        "id": "R8sXlDSMwqdt"
      },
      "outputs": [],
      "source": [
        "def scheduler(epoch,lr):\n",
        "  if epoch<2:\n",
        "    return lr\n",
        "  else:\n",
        "    return lr*tf.math.exp(-0.05)"
      ]
    },
    {
      "cell_type": "code",
      "execution_count": null,
      "metadata": {
        "colab": {
          "base_uri": "https://localhost:8080/"
        },
        "id": "WLabaq2owqp9",
        "outputId": "24bbd198-c275-4e7e-c3b2-3b6848952cea"
      },
      "outputs": [
        {
          "output_type": "execute_result",
          "data": {
            "text/plain": [
              "array([0.99004983, 0.95122942, 0.90483742, 0.60653066])"
            ]
          },
          "metadata": {},
          "execution_count": 50
        }
      ],
      "source": [
        "np.exp([-0.01,-0.05,-0.1,-0.5])"
      ]
    },
    {
      "cell_type": "code",
      "execution_count": null,
      "metadata": {
        "id": "DDBtUUor-YoL"
      },
      "outputs": [],
      "source": [
        "lr_scheduler=keras.callbacks.LearningRateScheduler(scheduler,verbose=True)"
      ]
    },
    {
      "cell_type": "code",
      "execution_count": null,
      "metadata": {
        "id": "Aq2OL-0T0t-9"
      },
      "outputs": [],
      "source": [
        "model=keras.Model(input_,output_)"
      ]
    },
    {
      "cell_type": "code",
      "execution_count": null,
      "metadata": {
        "id": "mmJsPOxiwpde"
      },
      "outputs": [],
      "source": [
        "model.compile(loss=keras.losses.SparseCategoricalCrossentropy(from_logits=True),\n",
        "              optimizer=keras.optimizers.Adam(0.005),\n",
        "              metrics=['accuracy'])"
      ]
    },
    {
      "cell_type": "code",
      "execution_count": null,
      "metadata": {
        "colab": {
          "base_uri": "https://localhost:8080/"
        },
        "id": "sVKAwgwvwph4",
        "outputId": "6b16b6bc-47c1-4f14-880c-993f6cf39c0d"
      },
      "outputs": [
        {
          "output_type": "stream",
          "name": "stdout",
          "text": [
            "\n",
            "Epoch 1: LearningRateScheduler setting learning rate to 0.004999999888241291.\n",
            "Epoch 1/20\n",
            "105/105 [==============================] - 8s 74ms/step - loss: 0.6078 - accuracy: 0.7792 - val_loss: 0.0901 - val_accuracy: 0.9861 - lr: 0.0050\n",
            "\n",
            "Epoch 2: LearningRateScheduler setting learning rate to 0.004999999888241291.\n",
            "Epoch 2/20\n",
            "105/105 [==============================] - 7s 70ms/step - loss: 0.1917 - accuracy: 0.9334 - val_loss: 0.1243 - val_accuracy: 0.9306 - lr: 0.0050\n",
            "\n",
            "Epoch 3: LearningRateScheduler setting learning rate to 0.004756147041916847.\n",
            "Epoch 3/20\n",
            "105/105 [==============================] - 8s 71ms/step - loss: 0.1089 - accuracy: 0.9688 - val_loss: 0.0354 - val_accuracy: 0.9861 - lr: 0.0048\n",
            "\n",
            "Epoch 4: LearningRateScheduler setting learning rate to 0.004524187184870243.\n",
            "Epoch 4/20\n",
            "105/105 [==============================] - 7s 71ms/step - loss: 0.1006 - accuracy: 0.9616 - val_loss: 0.0163 - val_accuracy: 1.0000 - lr: 0.0045\n",
            "\n",
            "Epoch 5: LearningRateScheduler setting learning rate to 0.004303540103137493.\n",
            "Epoch 5/20\n",
            "105/105 [==============================] - 7s 71ms/step - loss: 0.0951 - accuracy: 0.9670 - val_loss: 0.0443 - val_accuracy: 0.9861 - lr: 0.0043\n",
            "\n",
            "Epoch 6: LearningRateScheduler setting learning rate to 0.004093653988093138.\n",
            "Epoch 6/20\n",
            "105/105 [==============================] - 8s 72ms/step - loss: 0.0672 - accuracy: 0.9760 - val_loss: 0.0307 - val_accuracy: 0.9861 - lr: 0.0041\n",
            "\n",
            "Epoch 7: LearningRateScheduler setting learning rate to 0.0038940042722970247.\n",
            "Epoch 7/20\n",
            "105/105 [==============================] - 8s 71ms/step - loss: 0.0842 - accuracy: 0.9718 - val_loss: 0.0211 - val_accuracy: 0.9861 - lr: 0.0039\n",
            "\n",
            "Epoch 8: LearningRateScheduler setting learning rate to 0.0037040915340185165.\n",
            "Epoch 8/20\n",
            "105/105 [==============================] - 8s 72ms/step - loss: 0.0474 - accuracy: 0.9856 - val_loss: 0.0179 - val_accuracy: 0.9861 - lr: 0.0037\n",
            "\n",
            "Epoch 9: LearningRateScheduler setting learning rate to 0.003523441031575203.\n",
            "Epoch 9/20\n",
            "105/105 [==============================] - 8s 73ms/step - loss: 0.0566 - accuracy: 0.9820 - val_loss: 0.0013 - val_accuracy: 1.0000 - lr: 0.0035\n",
            "\n",
            "Epoch 10: LearningRateScheduler setting learning rate to 0.0033516008406877518.\n",
            "Epoch 10/20\n",
            "105/105 [==============================] - 8s 72ms/step - loss: 0.0277 - accuracy: 0.9904 - val_loss: 0.0017 - val_accuracy: 1.0000 - lr: 0.0034\n",
            "\n",
            "Epoch 11: LearningRateScheduler setting learning rate to 0.0031881413888186216.\n",
            "Epoch 11/20\n",
            "105/105 [==============================] - 8s 72ms/step - loss: 0.0504 - accuracy: 0.9802 - val_loss: 0.0750 - val_accuracy: 0.9861 - lr: 0.0032\n",
            "\n",
            "Epoch 12: LearningRateScheduler setting learning rate to 0.0030326540581882.\n",
            "Epoch 12/20\n",
            "105/105 [==============================] - 8s 72ms/step - loss: 0.0431 - accuracy: 0.9856 - val_loss: 0.0128 - val_accuracy: 1.0000 - lr: 0.0030\n",
            "\n",
            "Epoch 13: LearningRateScheduler setting learning rate to 0.0028847497887909412.\n",
            "Epoch 13/20\n",
            "105/105 [==============================] - 8s 73ms/step - loss: 0.0341 - accuracy: 0.9880 - val_loss: 0.0021 - val_accuracy: 1.0000 - lr: 0.0029\n",
            "\n",
            "Epoch 14: LearningRateScheduler setting learning rate to 0.0027440590783953667.\n",
            "Epoch 14/20\n",
            "105/105 [==============================] - 8s 73ms/step - loss: 0.0406 - accuracy: 0.9856 - val_loss: 0.0104 - val_accuracy: 1.0000 - lr: 0.0027\n",
            "\n",
            "Epoch 15: LearningRateScheduler setting learning rate to 0.0026102298870682716.\n",
            "Epoch 15/20\n",
            "105/105 [==============================] - 8s 73ms/step - loss: 0.0316 - accuracy: 0.9928 - val_loss: 0.0046 - val_accuracy: 1.0000 - lr: 0.0026\n",
            "\n",
            "Epoch 16: LearningRateScheduler setting learning rate to 0.0024829276371747255.\n",
            "Epoch 16/20\n",
            "105/105 [==============================] - 8s 73ms/step - loss: 0.0316 - accuracy: 0.9886 - val_loss: 0.0120 - val_accuracy: 1.0000 - lr: 0.0025\n",
            "\n",
            "Epoch 17: LearningRateScheduler setting learning rate to 0.00236183381639421.\n",
            "Epoch 17/20\n",
            "105/105 [==============================] - 8s 74ms/step - loss: 0.0165 - accuracy: 0.9952 - val_loss: 9.3503e-04 - val_accuracy: 1.0000 - lr: 0.0024\n",
            "\n",
            "Epoch 18: LearningRateScheduler setting learning rate to 0.0022466459777206182.\n",
            "Epoch 18/20\n",
            "105/105 [==============================] - 8s 74ms/step - loss: 0.0154 - accuracy: 0.9958 - val_loss: 6.6073e-04 - val_accuracy: 1.0000 - lr: 0.0022\n",
            "\n",
            "Epoch 19: LearningRateScheduler setting learning rate to 0.002137075876817107.\n",
            "Epoch 19/20\n",
            "105/105 [==============================] - 8s 74ms/step - loss: 0.0314 - accuracy: 0.9886 - val_loss: 0.0011 - val_accuracy: 1.0000 - lr: 0.0021\n",
            "\n",
            "Epoch 20: LearningRateScheduler setting learning rate to 0.002032849472016096.\n",
            "Epoch 20/20\n",
            "105/105 [==============================] - 8s 75ms/step - loss: 0.0154 - accuracy: 0.9940 - val_loss: 3.4425e-04 - val_accuracy: 1.0000 - lr: 0.0020\n"
          ]
        }
      ],
      "source": [
        "history_callback2=model.fit(train_ds,epochs=20, verbose=True,validation_data=valid_ds,callbacks=[lr_scheduler])"
      ]
    },
    {
      "cell_type": "code",
      "execution_count": null,
      "metadata": {
        "colab": {
          "base_uri": "https://localhost:8080/"
        },
        "id": "tTYIvCoXyWLu",
        "outputId": "4c9d8f4c-56b3-46fc-bd8a-8a9ec18cc90b"
      },
      "outputs": [
        {
          "output_type": "stream",
          "name": "stdout",
          "text": [
            "5/5 [==============================] - 13s 3s/step - loss: 0.0106 - accuracy: 1.0000\n"
          ]
        },
        {
          "output_type": "execute_result",
          "data": {
            "text/plain": [
              "[0.010559778660535812, 1.0]"
            ]
          },
          "metadata": {},
          "execution_count": 55
        }
      ],
      "source": [
        "model.evaluate(test_ds)"
      ]
    },
    {
      "cell_type": "code",
      "execution_count": null,
      "metadata": {
        "colab": {
          "base_uri": "https://localhost:8080/"
        },
        "id": "jBS1Rt0u3gr1",
        "outputId": "a11e785b-3b08-41a7-a612-4b0a37cf952d"
      },
      "outputs": [
        {
          "output_type": "execute_result",
          "data": {
            "text/plain": [
              "dict_keys(['loss', 'accuracy', 'val_loss', 'val_accuracy', 'lr'])"
            ]
          },
          "metadata": {},
          "execution_count": 56
        }
      ],
      "source": [
        "history_callback2.history.keys()"
      ]
    },
    {
      "cell_type": "code",
      "execution_count": null,
      "metadata": {
        "colab": {
          "base_uri": "https://localhost:8080/",
          "height": 296
        },
        "id": "oX8zmXgK4eMA",
        "outputId": "6f37fd35-d317-4fc3-d8cb-7012107e350a"
      },
      "outputs": [
        {
          "output_type": "execute_result",
          "data": {
            "text/plain": [
              "Text(0, 0.5, 'loss')"
            ]
          },
          "metadata": {},
          "execution_count": 57
        },
        {
          "output_type": "display_data",
          "data": {
            "text/plain": [
              "<Figure size 432x288 with 1 Axes>"
            ],
            "image/png": "[encoded data removed]"
          },
          "metadata": {
            "needs_background": "light"
          }
        }
      ],
      "source": [
        "plt.plot(history_callback2.history['lr'],history_callback2.history['loss'])\n",
        "plt.xlabel('lr')\n",
        "plt.ylabel('loss')"
      ]
    },
    {
      "cell_type": "code",
      "execution_count": null,
      "metadata": {
        "colab": {
          "base_uri": "https://localhost:8080/",
          "height": 296
        },
        "id": "8Lnp_H0ByWO0",
        "outputId": "b8a2e39b-c912-418b-98a3-14bf46f9b141"
      },
      "outputs": [
        {
          "output_type": "execute_result",
          "data": {
            "text/plain": [
              "<matplotlib.legend.Legend at 0x7f85a617ca10>"
            ]
          },
          "metadata": {},
          "execution_count": 58
        },
        {
          "output_type": "display_data",
          "data": {
            "text/plain": [
              "<Figure size 432x288 with 1 Axes>"
            ],
            "image/png": "[encoded data removed]"
          },
          "metadata": {
            "needs_background": "light"
          }
        }
      ],
      "source": [
        "# plt.plot(history_callback.history['loss']+history_callback2.history['loss'])\n",
        "# plt.plot(history_callback.history['val_loss']+history_callback2.history['val_loss'])\n",
        "plt.plot(history_callback2.history['loss'])\n",
        "plt.plot(history_callback2.history['val_loss'])\n",
        "plt.xlabel('epochs')\n",
        "plt.ylabel('loss')\n",
        "plt.legend(['train','valid'])"
      ]
    },
    {
      "cell_type": "code",
      "execution_count": null,
      "metadata": {
        "colab": {
          "base_uri": "https://localhost:8080/",
          "height": 296
        },
        "id": "IJgBb8kbyWUK",
        "outputId": "1b90ced8-03c7-4566-9b0c-365955027f06"
      },
      "outputs": [
        {
          "output_type": "execute_result",
          "data": {
            "text/plain": [
              "<matplotlib.legend.Legend at 0x7f85897ccfd0>"
            ]
          },
          "metadata": {},
          "execution_count": 59
        },
        {
          "output_type": "display_data",
          "data": {
            "text/plain": [
              "<Figure size 432x288 with 1 Axes>"
            ],
            "image/png": "[encoded data removed]"
          },
          "metadata": {
            "needs_background": "light"
          }
        }
      ],
      "source": [
        "# plt.plot(history_callback.history['accuracy']+history_callback2.history['accuracy'])\n",
        "# plt.plot(history_callback.history['val_accuracy']+history_callback2.history['val_accuracy'])\n",
        "plt.plot(history_callback2.history['accuracy'])\n",
        "plt.plot(history_callback2.history['val_accuracy'])\n",
        "plt.xlabel('epochs')\n",
        "plt.ylabel('accuracy')\n",
        "\n",
        "plt.legend(['train','valid'])"
      ]
    },
    {
      "cell_type": "code",
      "execution_count": null,
      "metadata": {
        "id": "7h-nUsgGyWW_"
      },
      "outputs": [],
      "source": [
        ""
      ]
    },
    {
      "cell_type": "code",
      "execution_count": null,
      "metadata": {
        "id": "VRxnbxvPyWZl"
      },
      "outputs": [],
      "source": [
        ""
      ]
    },
    {
      "cell_type": "code",
      "execution_count": null,
      "metadata": {
        "id": "XuJXl_bx9dgn"
      },
      "outputs": [],
      "source": [
        ""
      ]
    },
    {
      "cell_type": "code",
      "execution_count": null,
      "metadata": {
        "colab": {
          "base_uri": "https://localhost:8080/"
        },
        "id": "ht-0df6K9dgn",
        "outputId": "6833c628-f4b7-4ecc-a827-685acd4bb5bc"
      },
      "outputs": [
        {
          "name": "stdout",
          "output_type": "stream",
          "text": [
            "Model: \"model\"\n",
            "_________________________________________________________________\n",
            " Layer (type)                Output Shape              Param #   \n",
            "=================================================================\n",
            " input_2 (InputLayer)        [(None, 200, 200, 3)]     0         \n",
            "                                                                 \n",
            " vgg16 (Functional)          (None, 6, 6, 512)         14714688  \n",
            "                                                                 \n",
            " global_average_pooling2d (G  (None, 512)              0         \n",
            " lobalAveragePooling2D)                                          \n",
            "                                                                 \n",
            " dense (Dense)               (None, 128)               65664     \n",
            "                                                                 \n",
            " dense_1 (Dense)             (None, 64)                8256      \n",
            "                                                                 \n",
            " dense_2 (Dense)             (None, 32)                2080      \n",
            "                                                                 \n",
            " dense_3 (Dense)             (None, 6)                 198       \n",
            "                                                                 \n",
            "=================================================================\n",
            "Total params: 14,790,886\n",
            "Trainable params: 76,198\n",
            "Non-trainable params: 14,714,688\n",
            "_________________________________________________________________\n",
            "None\n"
          ]
        }
      ],
      "source": [
        ""
      ]
    },
    {
      "cell_type": "code",
      "execution_count": null,
      "metadata": {
        "id": "_JgX1XHE9dgo"
      },
      "outputs": [],
      "source": [
        ""
      ]
    },
    {
      "cell_type": "code",
      "execution_count": null,
      "metadata": {
        "colab": {
          "base_uri": "https://localhost:8080/"
        },
        "id": "39FFsjqu9dgo",
        "outputId": "42055dea-af5e-4db4-bbc0-20edefeee222"
      },
      "outputs": [
        {
          "name": "stdout",
          "output_type": "stream",
          "text": [
            "Epoch 1/20\n",
            "105/105 [==============================] - 330s 3s/step - loss: 1.6962 - accuracy: 0.2621 - val_loss: 1.5763 - val_accuracy: 0.5000\n",
            "Epoch 2/20\n",
            "105/105 [==============================] - 8s 72ms/step - loss: 1.4994 - accuracy: 0.6149 - val_loss: 1.3557 - val_accuracy: 0.8889\n",
            "Epoch 3/20\n",
            "105/105 [==============================] - 8s 72ms/step - loss: 1.2525 - accuracy: 0.7948 - val_loss: 1.0713 - val_accuracy: 0.8750\n",
            "Epoch 4/20\n",
            "105/105 [==============================] - 8s 73ms/step - loss: 0.9825 - accuracy: 0.8254 - val_loss: 0.8035 - val_accuracy: 0.9306\n",
            "Epoch 5/20\n",
            "105/105 [==============================] - 8s 73ms/step - loss: 0.7558 - accuracy: 0.8794 - val_loss: 0.5898 - val_accuracy: 0.9583\n",
            "Epoch 6/20\n",
            "105/105 [==============================] - 8s 74ms/step - loss: 0.5783 - accuracy: 0.9112 - val_loss: 0.4188 - val_accuracy: 0.9861\n",
            "Epoch 7/20\n",
            "105/105 [==============================] - 8s 74ms/step - loss: 0.4471 - accuracy: 0.9250 - val_loss: 0.3186 - val_accuracy: 0.9861\n",
            "Epoch 8/20\n",
            "105/105 [==============================] - 8s 74ms/step - loss: 0.3580 - accuracy: 0.9352 - val_loss: 0.2494 - val_accuracy: 0.9861\n",
            "Epoch 9/20\n",
            "105/105 [==============================] - 8s 75ms/step - loss: 0.2979 - accuracy: 0.9448 - val_loss: 0.1952 - val_accuracy: 0.9861\n",
            "Epoch 10/20\n",
            "105/105 [==============================] - 8s 74ms/step - loss: 0.2539 - accuracy: 0.9508 - val_loss: 0.1561 - val_accuracy: 0.9861\n",
            "Epoch 11/20\n",
            "105/105 [==============================] - 8s 74ms/step - loss: 0.2244 - accuracy: 0.9562 - val_loss: 0.1274 - val_accuracy: 0.9861\n",
            "Epoch 12/20\n",
            "105/105 [==============================] - 8s 74ms/step - loss: 0.1975 - accuracy: 0.9580 - val_loss: 0.1178 - val_accuracy: 0.9861\n",
            "Epoch 13/20\n",
            "105/105 [==============================] - 8s 74ms/step - loss: 0.1785 - accuracy: 0.9646 - val_loss: 0.0973 - val_accuracy: 0.9861\n",
            "Epoch 14/20\n",
            "105/105 [==============================] - 8s 74ms/step - loss: 0.1636 - accuracy: 0.9640 - val_loss: 0.0838 - val_accuracy: 0.9861\n",
            "Epoch 15/20\n",
            "105/105 [==============================] - 8s 74ms/step - loss: 0.1500 - accuracy: 0.9640 - val_loss: 0.0867 - val_accuracy: 0.9861\n",
            "Epoch 16/20\n",
            "105/105 [==============================] - 8s 74ms/step - loss: 0.1399 - accuracy: 0.9670 - val_loss: 0.0859 - val_accuracy: 0.9861\n",
            "Epoch 17/20\n",
            "105/105 [==============================] - 8s 74ms/step - loss: 0.1320 - accuracy: 0.9694 - val_loss: 0.0630 - val_accuracy: 0.9861\n",
            "Epoch 18/20\n",
            "105/105 [==============================] - 8s 74ms/step - loss: 0.1226 - accuracy: 0.9706 - val_loss: 0.0617 - val_accuracy: 0.9861\n",
            "Epoch 19/20\n",
            "105/105 [==============================] - 8s 74ms/step - loss: 0.1186 - accuracy: 0.9712 - val_loss: 0.0622 - val_accuracy: 0.9861\n",
            "Epoch 20/20\n",
            "105/105 [==============================] - 8s 78ms/step - loss: 0.1098 - accuracy: 0.9736 - val_loss: 0.0566 - val_accuracy: 0.9861\n"
          ]
        }
      ],
      "source": [
        ""
      ]
    },
    {
      "cell_type": "code",
      "execution_count": null,
      "metadata": {
        "colab": {
          "base_uri": "https://localhost:8080/",
          "height": 296
        },
        "id": "et4KtgEc-Y0f",
        "outputId": "f4394f75-06f6-42b7-d7dc-b14e0a0610b3"
      },
      "outputs": [
        {
          "data": {
            "text/plain": [
              "<matplotlib.legend.Legend at 0x7fd72043e610>"
            ]
          },
          "execution_count": 40,
          "metadata": {},
          "output_type": "execute_result"
        },
        {
          "data": {
            "image/png": "[encoded data removed]",
            "text/plain": [
              "<Figure size 432x288 with 1 Axes>"
            ]
          },
          "metadata": {},
          "output_type": "display_data"
        }
      ],
      "source": [
        "plt.plot(history_.history['accuracy'])\n",
        "plt.plot(history_.history['val_accuracy'])\n",
        "plt.xlabel('epochs')\n",
        "plt.ylabel('accuracy')\n",
        "\n",
        "plt.legend(['train','valid'])"
      ]
    },
    {
      "cell_type": "code",
      "execution_count": null,
      "metadata": {
        "colab": {
          "base_uri": "https://localhost:8080/",
          "height": 296
        },
        "id": "vh2CFfZaAt1K",
        "outputId": "14e6ff29-77eb-4754-bff4-93ec2f1e79d2"
      },
      "outputs": [
        {
          "data": {
            "text/plain": [
              "<matplotlib.legend.Legend at 0x7fd72047a3d0>"
            ]
          },
          "execution_count": 41,
          "metadata": {},
          "output_type": "execute_result"
        },
        {
          "data": {
            "image/png": "[encoded data removed]",
            "text/plain": [
              "<Figure size 432x288 with 1 Axes>"
            ]
          },
          "metadata": {},
          "output_type": "display_data"
        }
      ],
      "source": [
        "plt.plot(history_.history['accuracy'])\n",
        "plt.plot(history_.history['val_accuracy'])\n",
        "plt.xlabel('epochs')\n",
        "plt.ylabel('accuracy')\n",
        "\n",
        "plt.legend(['train','valid'])"
      ]
    },
    {
      "cell_type": "code",
      "execution_count": null,
      "metadata": {
        "id": "H6Ft9k92At4L"
      },
      "outputs": [],
      "source": [
        ""
      ]
    },
    {
      "cell_type": "markdown",
      "metadata": {
        "id": "2cam1b-GuLYE"
      },
      "source": [
        "**End of callback**"
      ]
    },
    {
      "cell_type": "code",
      "execution_count": null,
      "metadata": {
        "id": "n92dRe7u-OjI"
      },
      "outputs": [],
      "source": [
        ""
      ]
    },
    {
      "cell_type": "code",
      "execution_count": null,
      "metadata": {
        "id": "98oZjG259UMj"
      },
      "outputs": [],
      "source": [
        ""
      ]
    },
    {
      "cell_type": "code",
      "execution_count": null,
      "metadata": {
        "id": "8pzf4tof9URR"
      },
      "outputs": [],
      "source": [
        ""
      ]
    },
    {
      "cell_type": "code",
      "execution_count": null,
      "metadata": {
        "id": "-qtbociB9UU7"
      },
      "outputs": [],
      "source": [
        ""
      ]
    },
    {
      "cell_type": "code",
      "execution_count": null,
      "metadata": {
        "id": "8c0aaAPW9UYR"
      },
      "outputs": [],
      "source": [
        ""
      ]
    },
    {
      "cell_type": "code",
      "execution_count": null,
      "metadata": {
        "id": "1obNJgvg9UbD"
      },
      "outputs": [],
      "source": [
        ""
      ]
    },
    {
      "cell_type": "code",
      "execution_count": null,
      "metadata": {
        "id": "E9zfrgrn9Udr"
      },
      "outputs": [],
      "source": [
        ""
      ]
    },
    {
      "cell_type": "code",
      "execution_count": null,
      "metadata": {
        "id": "vtajoIcG-Omr"
      },
      "outputs": [],
      "source": [
        "model=keras.Model(input_,output_)"
      ]
    },
    {
      "cell_type": "code",
      "execution_count": null,
      "metadata": {
        "colab": {
          "base_uri": "https://localhost:8080/"
        },
        "id": "0GguITiZTO2M",
        "outputId": "f569f467-f7ba-435b-a85e-60f59b5d4df7"
      },
      "outputs": [
        {
          "name": "stdout",
          "output_type": "stream",
          "text": [
            "Model: \"model_2\"\n",
            "_________________________________________________________________\n",
            " Layer (type)                Output Shape              Param #   \n",
            "=================================================================\n",
            " input_2 (InputLayer)        [(None, 200, 200, 3)]     0         \n",
            "                                                                 \n",
            " vgg16 (Functional)          (None, 6, 6, 512)         14714688  \n",
            "                                                                 \n",
            " global_average_pooling2d (G  (None, 512)              0         \n",
            " lobalAveragePooling2D)                                          \n",
            "                                                                 \n",
            " dense (Dense)               (None, 128)               65664     \n",
            "                                                                 \n",
            " dense_1 (Dense)             (None, 64)                8256      \n",
            "                                                                 \n",
            " dense_2 (Dense)             (None, 32)                2080      \n",
            "                                                                 \n",
            " dense_3 (Dense)             (None, 6)                 198       \n",
            "                                                                 \n",
            "=================================================================\n",
            "Total params: 14,790,886\n",
            "Trainable params: 76,198\n",
            "Non-trainable params: 14,714,688\n",
            "_________________________________________________________________\n",
            "None\n"
          ]
        }
      ],
      "source": [
        "print(model.summary())"
      ]
    },
    {
      "cell_type": "code",
      "execution_count": null,
      "metadata": {
        "id": "YTwL_a1JTO4t"
      },
      "outputs": [],
      "source": [
        "model.compile(loss=keras.losses.SparseCategoricalCrossentropy(from_logits=True),\n",
        "              optimizer=keras.optimizers.Adam(0.0001),\n",
        "              metrics=['accuracy'])"
      ]
    },
    {
      "cell_type": "code",
      "execution_count": null,
      "metadata": {
        "colab": {
          "base_uri": "https://localhost:8080/",
          "height": 1000
        },
        "id": "EtuxBD1ITO7l",
        "outputId": "0de7379b-830a-4b1e-dd69-80ddebf9769d"
      },
      "outputs": [
        {
          "name": "stdout",
          "output_type": "stream",
          "text": [
            "Epoch 1/50\n",
            "105/105 [==============================] - 9s 80ms/step - loss: 0.0273 - accuracy: 0.9922 - val_loss: 0.0065 - val_accuracy: 1.0000\n",
            "Epoch 2/50\n",
            "105/105 [==============================] - 8s 79ms/step - loss: 0.0265 - accuracy: 0.9922 - val_loss: 0.0062 - val_accuracy: 1.0000\n",
            "Epoch 3/50\n",
            "105/105 [==============================] - 8s 80ms/step - loss: 0.0261 - accuracy: 0.9922 - val_loss: 0.0060 - val_accuracy: 1.0000\n",
            "Epoch 4/50\n",
            "105/105 [==============================] - 8s 79ms/step - loss: 0.0257 - accuracy: 0.9922 - val_loss: 0.0057 - val_accuracy: 1.0000\n",
            "Epoch 5/50\n",
            "105/105 [==============================] - 8s 78ms/step - loss: 0.0253 - accuracy: 0.9922 - val_loss: 0.0056 - val_accuracy: 1.0000\n",
            "Epoch 6/50\n",
            "105/105 [==============================] - 8s 78ms/step - loss: 0.0251 - accuracy: 0.9934 - val_loss: 0.0056 - val_accuracy: 1.0000\n",
            "Epoch 7/50\n",
            "105/105 [==============================] - 8s 77ms/step - loss: 0.0249 - accuracy: 0.9934 - val_loss: 0.0055 - val_accuracy: 1.0000\n",
            "Epoch 8/50\n",
            "105/105 [==============================] - 8s 77ms/step - loss: 0.0247 - accuracy: 0.9928 - val_loss: 0.0056 - val_accuracy: 1.0000\n",
            "Epoch 9/50\n",
            "105/105 [==============================] - 8s 77ms/step - loss: 0.0244 - accuracy: 0.9928 - val_loss: 0.0056 - val_accuracy: 1.0000\n",
            "Epoch 10/50\n",
            "105/105 [==============================] - 8s 78ms/step - loss: 0.0243 - accuracy: 0.9928 - val_loss: 0.0056 - val_accuracy: 1.0000\n",
            "Epoch 11/50\n",
            "105/105 [==============================] - 8s 78ms/step - loss: 0.0241 - accuracy: 0.9928 - val_loss: 0.0056 - val_accuracy: 1.0000\n",
            "Epoch 12/50\n",
            "105/105 [==============================] - 8s 78ms/step - loss: 0.0239 - accuracy: 0.9928 - val_loss: 0.0056 - val_accuracy: 1.0000\n",
            "Epoch 13/50\n",
            "105/105 [==============================] - 8s 78ms/step - loss: 0.0237 - accuracy: 0.9934 - val_loss: 0.0056 - val_accuracy: 1.0000\n",
            "Epoch 14/50\n",
            "105/105 [==============================] - 8s 78ms/step - loss: 0.0237 - accuracy: 0.9934 - val_loss: 0.0056 - val_accuracy: 1.0000\n",
            "Epoch 15/50\n",
            "105/105 [==============================] - 8s 78ms/step - loss: 0.0236 - accuracy: 0.9928 - val_loss: 0.0055 - val_accuracy: 1.0000\n",
            "Epoch 16/50\n",
            "105/105 [==============================] - 8s 78ms/step - loss: 0.0235 - accuracy: 0.9928 - val_loss: 0.0055 - val_accuracy: 1.0000\n",
            "Epoch 17/50\n",
            "105/105 [==============================] - 8s 78ms/step - loss: 0.0234 - accuracy: 0.9928 - val_loss: 0.0056 - val_accuracy: 1.0000\n",
            "Epoch 18/50\n",
            "105/105 [==============================] - 8s 78ms/step - loss: 0.0232 - accuracy: 0.9928 - val_loss: 0.0055 - val_accuracy: 1.0000\n",
            "Epoch 19/50\n",
            "105/105 [==============================] - 8s 77ms/step - loss: 0.0232 - accuracy: 0.9928 - val_loss: 0.0055 - val_accuracy: 1.0000\n",
            "Epoch 20/50\n",
            "105/105 [==============================] - 8s 78ms/step - loss: 0.0231 - accuracy: 0.9928 - val_loss: 0.0055 - val_accuracy: 1.0000\n",
            "Epoch 21/50\n",
            "105/105 [==============================] - 8s 78ms/step - loss: 0.0230 - accuracy: 0.9928 - val_loss: 0.0056 - val_accuracy: 1.0000\n",
            "Epoch 22/50\n",
            "105/105 [==============================] - 8s 78ms/step - loss: 0.0230 - accuracy: 0.9934 - val_loss: 0.0054 - val_accuracy: 1.0000\n",
            "Epoch 23/50\n",
            "105/105 [==============================] - 8s 78ms/step - loss: 0.0230 - accuracy: 0.9928 - val_loss: 0.0054 - val_accuracy: 1.0000\n",
            "Epoch 24/50\n",
            "105/105 [==============================] - 8s 77ms/step - loss: 0.0230 - accuracy: 0.9934 - val_loss: 0.0054 - val_accuracy: 1.0000\n",
            "Epoch 25/50\n",
            "105/105 [==============================] - 8s 78ms/step - loss: 0.0227 - accuracy: 0.9928 - val_loss: 0.0054 - val_accuracy: 1.0000\n",
            "Epoch 26/50\n",
            "105/105 [==============================] - 8s 78ms/step - loss: 0.0228 - accuracy: 0.9934 - val_loss: 0.0053 - val_accuracy: 1.0000\n",
            "Epoch 27/50\n",
            "105/105 [==============================] - 8s 78ms/step - loss: 0.0226 - accuracy: 0.9934 - val_loss: 0.0053 - val_accuracy: 1.0000\n",
            "Epoch 28/50\n",
            "105/105 [==============================] - 8s 78ms/step - loss: 0.0224 - accuracy: 0.9928 - val_loss: 0.0053 - val_accuracy: 1.0000\n",
            "Epoch 29/50\n",
            "105/105 [==============================] - 8s 79ms/step - loss: 0.0223 - accuracy: 0.9934 - val_loss: 0.0053 - val_accuracy: 1.0000\n",
            "Epoch 30/50\n",
            "105/105 [==============================] - 8s 79ms/step - loss: 0.0224 - accuracy: 0.9934 - val_loss: 0.0052 - val_accuracy: 1.0000\n",
            "Epoch 31/50\n",
            " 39/105 [==========>...................] - ETA: 4s - loss: 0.0211 - accuracy: 0.9920"
          ]
        },
        {
          "ename": "KeyboardInterrupt",
          "evalue": "ignored",
          "output_type": "error",
          "traceback": [
            "\u001b[0;31m---------------------------------------------------------------------------\u001b[0m",
            "\u001b[0;31mKeyboardInterrupt\u001b[0m                         Traceback (most recent call last)",
            "\u001b[0;32m<ipython-input-62-834bdbffa2f1>\u001b[0m in \u001b[0;36m<module>\u001b[0;34m()\u001b[0m\n\u001b[0;32m----> 1\u001b[0;31m \u001b[0mhistory\u001b[0m\u001b[0;34m=\u001b[0m\u001b[0mmodel\u001b[0m\u001b[0;34m.\u001b[0m\u001b[0mfit\u001b[0m\u001b[0;34m(\u001b[0m\u001b[0mtrain_ds\u001b[0m\u001b[0;34m,\u001b[0m \u001b[0mepochs\u001b[0m\u001b[0;34m=\u001b[0m\u001b[0;36m50\u001b[0m\u001b[0;34m,\u001b[0m \u001b[0mverbose\u001b[0m\u001b[0;34m=\u001b[0m\u001b[0;32mTrue\u001b[0m\u001b[0;34m,\u001b[0m\u001b[0mvalidation_data\u001b[0m\u001b[0;34m=\u001b[0m\u001b[0mvalid_ds\u001b[0m\u001b[0;34m)\u001b[0m\u001b[0;34m\u001b[0m\u001b[0;34m\u001b[0m\u001b[0m\n\u001b[0m",
            "\u001b[0;32m/usr/local/lib/python3.7/dist-packages/keras/utils/traceback_utils.py\u001b[0m in \u001b[0;36merror_handler\u001b[0;34m(*args, **kwargs)\u001b[0m\n\u001b[1;32m     62\u001b[0m     \u001b[0mfiltered_tb\u001b[0m \u001b[0;34m=\u001b[0m \u001b[0;32mNone\u001b[0m\u001b[0;34m\u001b[0m\u001b[0;34m\u001b[0m\u001b[0m\n\u001b[1;32m     63\u001b[0m     \u001b[0;32mtry\u001b[0m\u001b[0;34m:\u001b[0m\u001b[0;34m\u001b[0m\u001b[0;34m\u001b[0m\u001b[0m\n\u001b[0;32m---> 64\u001b[0;31m       \u001b[0;32mreturn\u001b[0m \u001b[0mfn\u001b[0m\u001b[0;34m(\u001b[0m\u001b[0;34m*\u001b[0m\u001b[0margs\u001b[0m\u001b[0;34m,\u001b[0m \u001b[0;34m**\u001b[0m\u001b[0mkwargs\u001b[0m\u001b[0;34m)\u001b[0m\u001b[0;34m\u001b[0m\u001b[0;34m\u001b[0m\u001b[0m\n\u001b[0m\u001b[1;32m     65\u001b[0m     \u001b[0;32mexcept\u001b[0m \u001b[0mException\u001b[0m \u001b[0;32mas\u001b[0m \u001b[0me\u001b[0m\u001b[0;34m:\u001b[0m  \u001b[0;31m# pylint: disable=broad-except\u001b[0m\u001b[0;34m\u001b[0m\u001b[0;34m\u001b[0m\u001b[0m\n\u001b[1;32m     66\u001b[0m       \u001b[0mfiltered_tb\u001b[0m \u001b[0;34m=\u001b[0m \u001b[0m_process_traceback_frames\u001b[0m\u001b[0;34m(\u001b[0m\u001b[0me\u001b[0m\u001b[0;34m.\u001b[0m\u001b[0m__traceback__\u001b[0m\u001b[0;34m)\u001b[0m\u001b[0;34m\u001b[0m\u001b[0;34m\u001b[0m\u001b[0m\n",
            "\u001b[0;32m/usr/local/lib/python3.7/dist-packages/keras/engine/training.py\u001b[0m in \u001b[0;36mfit\u001b[0;34m(self, x, y, batch_size, epochs, verbose, callbacks, validation_split, validation_data, shuffle, class_weight, sample_weight, initial_epoch, steps_per_epoch, validation_steps, validation_batch_size, validation_freq, max_queue_size, workers, use_multiprocessing)\u001b[0m\n\u001b[1;32m   1382\u001b[0m                 _r=1):\n\u001b[1;32m   1383\u001b[0m               \u001b[0mcallbacks\u001b[0m\u001b[0;34m.\u001b[0m\u001b[0mon_train_batch_begin\u001b[0m\u001b[0;34m(\u001b[0m\u001b[0mstep\u001b[0m\u001b[0;34m)\u001b[0m\u001b[0;34m\u001b[0m\u001b[0;34m\u001b[0m\u001b[0m\n\u001b[0;32m-> 1384\u001b[0;31m               \u001b[0mtmp_logs\u001b[0m \u001b[0;34m=\u001b[0m \u001b[0mself\u001b[0m\u001b[0;34m.\u001b[0m\u001b[0mtrain_function\u001b[0m\u001b[0;34m(\u001b[0m\u001b[0miterator\u001b[0m\u001b[0;34m)\u001b[0m\u001b[0;34m\u001b[0m\u001b[0;34m\u001b[0m\u001b[0m\n\u001b[0m\u001b[1;32m   1385\u001b[0m               \u001b[0;32mif\u001b[0m \u001b[0mdata_handler\u001b[0m\u001b[0;34m.\u001b[0m\u001b[0mshould_sync\u001b[0m\u001b[0;34m:\u001b[0m\u001b[0;34m\u001b[0m\u001b[0;34m\u001b[0m\u001b[0m\n\u001b[1;32m   1386\u001b[0m                 \u001b[0mcontext\u001b[0m\u001b[0;34m.\u001b[0m\u001b[0masync_wait\u001b[0m\u001b[0;34m(\u001b[0m\u001b[0;34m)\u001b[0m\u001b[0;34m\u001b[0m\u001b[0;34m\u001b[0m\u001b[0m\n",
            "\u001b[0;32m/usr/local/lib/python3.7/dist-packages/tensorflow/python/util/traceback_utils.py\u001b[0m in \u001b[0;36merror_handler\u001b[0;34m(*args, **kwargs)\u001b[0m\n\u001b[1;32m    148\u001b[0m     \u001b[0mfiltered_tb\u001b[0m \u001b[0;34m=\u001b[0m \u001b[0;32mNone\u001b[0m\u001b[0;34m\u001b[0m\u001b[0;34m\u001b[0m\u001b[0m\n\u001b[1;32m    149\u001b[0m     \u001b[0;32mtry\u001b[0m\u001b[0;34m:\u001b[0m\u001b[0;34m\u001b[0m\u001b[0;34m\u001b[0m\u001b[0m\n\u001b[0;32m--> 150\u001b[0;31m       \u001b[0;32mreturn\u001b[0m \u001b[0mfn\u001b[0m\u001b[0;34m(\u001b[0m\u001b[0;34m*\u001b[0m\u001b[0margs\u001b[0m\u001b[0;34m,\u001b[0m \u001b[0;34m**\u001b[0m\u001b[0mkwargs\u001b[0m\u001b[0;34m)\u001b[0m\u001b[0;34m\u001b[0m\u001b[0;34m\u001b[0m\u001b[0m\n\u001b[0m\u001b[1;32m    151\u001b[0m     \u001b[0;32mexcept\u001b[0m \u001b[0mException\u001b[0m \u001b[0;32mas\u001b[0m \u001b[0me\u001b[0m\u001b[0;34m:\u001b[0m\u001b[0;34m\u001b[0m\u001b[0;34m\u001b[0m\u001b[0m\n\u001b[1;32m    152\u001b[0m       \u001b[0mfiltered_tb\u001b[0m \u001b[0;34m=\u001b[0m \u001b[0m_process_traceback_frames\u001b[0m\u001b[0;34m(\u001b[0m\u001b[0me\u001b[0m\u001b[0;34m.\u001b[0m\u001b[0m__traceback__\u001b[0m\u001b[0;34m)\u001b[0m\u001b[0;34m\u001b[0m\u001b[0;34m\u001b[0m\u001b[0m\n",
            "\u001b[0;32m/usr/local/lib/python3.7/dist-packages/tensorflow/python/eager/def_function.py\u001b[0m in \u001b[0;36m__call__\u001b[0;34m(self, *args, **kwds)\u001b[0m\n\u001b[1;32m    913\u001b[0m \u001b[0;34m\u001b[0m\u001b[0m\n\u001b[1;32m    914\u001b[0m       \u001b[0;32mwith\u001b[0m \u001b[0mOptionalXlaContext\u001b[0m\u001b[0;34m(\u001b[0m\u001b[0mself\u001b[0m\u001b[0;34m.\u001b[0m\u001b[0m_jit_compile\u001b[0m\u001b[0;34m)\u001b[0m\u001b[0;34m:\u001b[0m\u001b[0;34m\u001b[0m\u001b[0;34m\u001b[0m\u001b[0m\n\u001b[0;32m--> 915\u001b[0;31m         \u001b[0mresult\u001b[0m \u001b[0;34m=\u001b[0m \u001b[0mself\u001b[0m\u001b[0;34m.\u001b[0m\u001b[0m_call\u001b[0m\u001b[0;34m(\u001b[0m\u001b[0;34m*\u001b[0m\u001b[0margs\u001b[0m\u001b[0;34m,\u001b[0m \u001b[0;34m**\u001b[0m\u001b[0mkwds\u001b[0m\u001b[0;34m)\u001b[0m\u001b[0;34m\u001b[0m\u001b[0;34m\u001b[0m\u001b[0m\n\u001b[0m\u001b[1;32m    916\u001b[0m \u001b[0;34m\u001b[0m\u001b[0m\n\u001b[1;32m    917\u001b[0m       \u001b[0mnew_tracing_count\u001b[0m \u001b[0;34m=\u001b[0m \u001b[0mself\u001b[0m\u001b[0;34m.\u001b[0m\u001b[0mexperimental_get_tracing_count\u001b[0m\u001b[0;34m(\u001b[0m\u001b[0;34m)\u001b[0m\u001b[0;34m\u001b[0m\u001b[0;34m\u001b[0m\u001b[0m\n",
            "\u001b[0;32m/usr/local/lib/python3.7/dist-packages/tensorflow/python/eager/def_function.py\u001b[0m in \u001b[0;36m_call\u001b[0;34m(self, *args, **kwds)\u001b[0m\n\u001b[1;32m    945\u001b[0m       \u001b[0;31m# In this case we have created variables on the first call, so we run the\u001b[0m\u001b[0;34m\u001b[0m\u001b[0;34m\u001b[0m\u001b[0;34m\u001b[0m\u001b[0m\n\u001b[1;32m    946\u001b[0m       \u001b[0;31m# defunned version which is guaranteed to never create variables.\u001b[0m\u001b[0;34m\u001b[0m\u001b[0;34m\u001b[0m\u001b[0;34m\u001b[0m\u001b[0m\n\u001b[0;32m--> 947\u001b[0;31m       \u001b[0;32mreturn\u001b[0m \u001b[0mself\u001b[0m\u001b[0;34m.\u001b[0m\u001b[0m_stateless_fn\u001b[0m\u001b[0;34m(\u001b[0m\u001b[0;34m*\u001b[0m\u001b[0margs\u001b[0m\u001b[0;34m,\u001b[0m \u001b[0;34m**\u001b[0m\u001b[0mkwds\u001b[0m\u001b[0;34m)\u001b[0m  \u001b[0;31m# pylint: disable=not-callable\u001b[0m\u001b[0;34m\u001b[0m\u001b[0;34m\u001b[0m\u001b[0m\n\u001b[0m\u001b[1;32m    948\u001b[0m     \u001b[0;32melif\u001b[0m \u001b[0mself\u001b[0m\u001b[0;34m.\u001b[0m\u001b[0m_stateful_fn\u001b[0m \u001b[0;32mis\u001b[0m \u001b[0;32mnot\u001b[0m \u001b[0;32mNone\u001b[0m\u001b[0;34m:\u001b[0m\u001b[0;34m\u001b[0m\u001b[0;34m\u001b[0m\u001b[0m\n\u001b[1;32m    949\u001b[0m       \u001b[0;31m# Release the lock early so that multiple threads can perform the call\u001b[0m\u001b[0;34m\u001b[0m\u001b[0;34m\u001b[0m\u001b[0;34m\u001b[0m\u001b[0m\n",
            "\u001b[0;32m/usr/local/lib/python3.7/dist-packages/tensorflow/python/eager/function.py\u001b[0m in \u001b[0;36m__call__\u001b[0;34m(self, *args, **kwargs)\u001b[0m\n\u001b[1;32m   2955\u001b[0m        filtered_flat_args) = self._maybe_define_function(args, kwargs)\n\u001b[1;32m   2956\u001b[0m     return graph_function._call_flat(\n\u001b[0;32m-> 2957\u001b[0;31m         filtered_flat_args, captured_inputs=graph_function.captured_inputs)  # pylint: disable=protected-access\n\u001b[0m\u001b[1;32m   2958\u001b[0m \u001b[0;34m\u001b[0m\u001b[0m\n\u001b[1;32m   2959\u001b[0m   \u001b[0;34m@\u001b[0m\u001b[0mproperty\u001b[0m\u001b[0;34m\u001b[0m\u001b[0;34m\u001b[0m\u001b[0m\n",
            "\u001b[0;32m/usr/local/lib/python3.7/dist-packages/tensorflow/python/eager/function.py\u001b[0m in \u001b[0;36m_call_flat\u001b[0;34m(self, args, captured_inputs, cancellation_manager)\u001b[0m\n\u001b[1;32m   1852\u001b[0m       \u001b[0;31m# No tape is watching; skip to running the function.\u001b[0m\u001b[0;34m\u001b[0m\u001b[0;34m\u001b[0m\u001b[0;34m\u001b[0m\u001b[0m\n\u001b[1;32m   1853\u001b[0m       return self._build_call_outputs(self._inference_function.call(\n\u001b[0;32m-> 1854\u001b[0;31m           ctx, args, cancellation_manager=cancellation_manager))\n\u001b[0m\u001b[1;32m   1855\u001b[0m     forward_backward = self._select_forward_and_backward_functions(\n\u001b[1;32m   1856\u001b[0m         \u001b[0margs\u001b[0m\u001b[0;34m,\u001b[0m\u001b[0;34m\u001b[0m\u001b[0;34m\u001b[0m\u001b[0m\n",
            "\u001b[0;32m/usr/local/lib/python3.7/dist-packages/tensorflow/python/eager/function.py\u001b[0m in \u001b[0;36mcall\u001b[0;34m(self, ctx, args, cancellation_manager)\u001b[0m\n\u001b[1;32m    502\u001b[0m               \u001b[0minputs\u001b[0m\u001b[0;34m=\u001b[0m\u001b[0margs\u001b[0m\u001b[0;34m,\u001b[0m\u001b[0;34m\u001b[0m\u001b[0;34m\u001b[0m\u001b[0m\n\u001b[1;32m    503\u001b[0m               \u001b[0mattrs\u001b[0m\u001b[0;34m=\u001b[0m\u001b[0mattrs\u001b[0m\u001b[0;34m,\u001b[0m\u001b[0;34m\u001b[0m\u001b[0;34m\u001b[0m\u001b[0m\n\u001b[0;32m--> 504\u001b[0;31m               ctx=ctx)\n\u001b[0m\u001b[1;32m    505\u001b[0m         \u001b[0;32melse\u001b[0m\u001b[0;34m:\u001b[0m\u001b[0;34m\u001b[0m\u001b[0;34m\u001b[0m\u001b[0m\n\u001b[1;32m    506\u001b[0m           outputs = execute.execute_with_cancellation(\n",
            "\u001b[0;32m/usr/local/lib/python3.7/dist-packages/tensorflow/python/eager/execute.py\u001b[0m in \u001b[0;36mquick_execute\u001b[0;34m(op_name, num_outputs, inputs, attrs, ctx, name)\u001b[0m\n\u001b[1;32m     53\u001b[0m     \u001b[0mctx\u001b[0m\u001b[0;34m.\u001b[0m\u001b[0mensure_initialized\u001b[0m\u001b[0;34m(\u001b[0m\u001b[0;34m)\u001b[0m\u001b[0;34m\u001b[0m\u001b[0;34m\u001b[0m\u001b[0m\n\u001b[1;32m     54\u001b[0m     tensors = pywrap_tfe.TFE_Py_Execute(ctx._handle, device_name, op_name,\n\u001b[0;32m---> 55\u001b[0;31m                                         inputs, attrs, num_outputs)\n\u001b[0m\u001b[1;32m     56\u001b[0m   \u001b[0;32mexcept\u001b[0m \u001b[0mcore\u001b[0m\u001b[0;34m.\u001b[0m\u001b[0m_NotOkStatusException\u001b[0m \u001b[0;32mas\u001b[0m \u001b[0me\u001b[0m\u001b[0;34m:\u001b[0m\u001b[0;34m\u001b[0m\u001b[0;34m\u001b[0m\u001b[0m\n\u001b[1;32m     57\u001b[0m     \u001b[0;32mif\u001b[0m \u001b[0mname\u001b[0m \u001b[0;32mis\u001b[0m \u001b[0;32mnot\u001b[0m \u001b[0;32mNone\u001b[0m\u001b[0;34m:\u001b[0m\u001b[0;34m\u001b[0m\u001b[0;34m\u001b[0m\u001b[0m\n",
            "\u001b[0;31mKeyboardInterrupt\u001b[0m: "
          ]
        }
      ],
      "source": [
        "history=model.fit(train_ds, epochs=50, verbose=True,validation_data=valid_ds)"
      ]
    },
    {
      "cell_type": "code",
      "execution_count": null,
      "metadata": {
        "colab": {
          "base_uri": "https://localhost:8080/"
        },
        "id": "gb3-qSdBUipA",
        "outputId": "4414f50b-313d-46a2-a55c-3d6197c5888d"
      },
      "outputs": [
        {
          "name": "stdout",
          "output_type": "stream",
          "text": [
            "5/5 [==============================] - 14s 3s/step - loss: 0.0364 - accuracy: 0.9861\n"
          ]
        },
        {
          "data": {
            "text/plain": [
              "[0.03642109036445618, 0.9861111044883728]"
            ]
          },
          "execution_count": 33,
          "metadata": {},
          "output_type": "execute_result"
        }
      ],
      "source": [
        "model.evaluate(test_ds)"
      ]
    },
    {
      "cell_type": "code",
      "execution_count": null,
      "metadata": {
        "id": "ZDIR292iUisV"
      },
      "outputs": [],
      "source": [
        "import matplotlib.pyplot as plt\n",
        "%matplotlib inline"
      ]
    },
    {
      "cell_type": "code",
      "execution_count": null,
      "metadata": {
        "colab": {
          "base_uri": "https://localhost:8080/"
        },
        "id": "O--OqkeOUivM",
        "outputId": "9e69759b-6de2-44b2-c56e-2ed9c7f4fefc"
      },
      "outputs": [
        {
          "data": {
            "text/plain": [
              "dict_keys(['loss', 'accuracy', 'val_loss', 'val_accuracy'])"
            ]
          },
          "execution_count": 35,
          "metadata": {},
          "output_type": "execute_result"
        }
      ],
      "source": [
        "history.history.keys()"
      ]
    },
    {
      "cell_type": "code",
      "execution_count": null,
      "metadata": {
        "colab": {
          "base_uri": "https://localhost:8080/",
          "height": 296
        },
        "id": "KifrBhREUi0E",
        "outputId": "c6fcfea3-1ef2-4701-dc3b-4db9ddb079f5"
      },
      "outputs": [
        {
          "data": {
            "text/plain": [
              "<matplotlib.legend.Legend at 0x7f9fe37ce690>"
            ]
          },
          "execution_count": 36,
          "metadata": {},
          "output_type": "execute_result"
        },
        {
          "data": {
            "image/png": "[encoded data removed]",
            "text/plain": [
              "<Figure size 432x288 with 1 Axes>"
            ]
          },
          "metadata": {},
          "output_type": "display_data"
        }
      ],
      "source": [
        "plt.plot(history.history['loss'])\n",
        "plt.plot(history.history['val_loss'])\n",
        "plt.xlabel('epochs')\n",
        "plt.ylabel('loss')\n",
        "plt.legend(['train','valid'])"
      ]
    },
    {
      "cell_type": "code",
      "execution_count": null,
      "metadata": {
        "colab": {
          "base_uri": "https://localhost:8080/",
          "height": 296
        },
        "id": "vy4bE8vpUi3E",
        "outputId": "6e2f8178-156f-4fae-8d28-649066617ce7"
      },
      "outputs": [
        {
          "data": {
            "text/plain": [
              "<matplotlib.legend.Legend at 0x7f9fe3778f50>"
            ]
          },
          "execution_count": 37,
          "metadata": {},
          "output_type": "execute_result"
        },
        {
          "data": {
            "image/png": "[encoded data removed]",
            "text/plain": [
              "<Figure size 432x288 with 1 Axes>"
            ]
          },
          "metadata": {},
          "output_type": "display_data"
        }
      ],
      "source": [
        "plt.plot(history.history['accuracy'])\n",
        "plt.plot(history.history['val_accuracy'])\n",
        "plt.xlabel('epochs')\n",
        "plt.ylabel('accuracy')\n",
        "\n",
        "plt.legend(['train','valid'])"
      ]
    },
    {
      "cell_type": "code",
      "execution_count": null,
      "metadata": {
        "id": "7-Ily0V_Ui8y"
      },
      "outputs": [],
      "source": [
        ""
      ]
    },
    {
      "cell_type": "markdown",
      "metadata": {
        "id": "GfLGK3U6fqXN"
      },
      "source": [
        "# **VGG16 with include_top=False, trainable=false and augmentation**"
      ]
    },
    {
      "cell_type": "code",
      "execution_count": null,
      "metadata": {
        "colab": {
          "base_uri": "https://localhost:8080/"
        },
        "id": "mu-Pp-t1TO-R",
        "outputId": "c0aa78b0-168f-413d-bcef-99473683a241"
      },
      "outputs": [
        {
          "name": "stdout",
          "output_type": "stream",
          "text": [
            "Downloading data from https://storage.googleapis.com/tensorflow/keras-applications/vgg16/vgg16_weights_tf_dim_ordering_tf_kernels_notop.h5\n",
            "58892288/58889256 [==============================] - 0s 0us/step\n",
            "58900480/58889256 [==============================] - 0s 0us/step\n"
          ]
        }
      ],
      "source": [
        "feature_extractor2=VGG16(include_top=False,input_shape=(200,200,3))\n",
        "feature_extractor2.trainable=False"
      ]
    },
    {
      "cell_type": "code",
      "execution_count": null,
      "metadata": {
        "id": "b1fNstNpgpq1"
      },
      "outputs": [],
      "source": [
        "data_aug2=keras.Sequential([\n",
        "                           tf.keras.Input(shape=(200,200,3)),\n",
        "                           #layers.experimental.preprocessing.Resizing(height=224,width=224),\n",
        "                           layers.experimental.preprocessing.RandomContrast(factor=0.25),\n",
        "                           layers.experimental.preprocessing.RandomFlip(mode=\"horizontal_and_vertical\"),\n",
        "                           layers.experimental.preprocessing.RandomZoom(0.5,0.6),\n",
        "                           layers.experimental.preprocessing.RandomRotation(0.5),\n",
        "                           layers.experimental.preprocessing.RandomTranslation(0.2,0.2),\n",
        "\n",
        "])"
      ]
    },
    {
      "cell_type": "code",
      "execution_count": null,
      "metadata": {
        "id": "5bm0n7YSgvvo"
      },
      "outputs": [],
      "source": [
        "input_=tf.keras.Input(shape=(200,200,3))\n",
        "x=data_aug2(input_,training=False)\n",
        "x=feature_extractor2(x)\n",
        "x = tf.keras.layers.GlobalAveragePooling2D()(x)\n",
        "x=layers.Dense(128,activation='relu')(x)\n",
        "x=layers.Dense(64,activation='relu')(x)\n",
        "x=layers.Dense(32,activation='relu')(x)\n",
        "output_=layers.Dense(6)(x)"
      ]
    },
    {
      "cell_type": "code",
      "execution_count": null,
      "metadata": {
        "id": "iBb_JC_ZgMyL"
      },
      "outputs": [],
      "source": [
        "model2=keras.Model(input_,output_)"
      ]
    },
    {
      "cell_type": "code",
      "execution_count": null,
      "metadata": {
        "colab": {
          "base_uri": "https://localhost:8080/"
        },
        "id": "JX7wFTO6gM06",
        "outputId": "46e5a4d9-92ed-4443-e4f4-cb255b8da3de"
      },
      "outputs": [
        {
          "name": "stdout",
          "output_type": "stream",
          "text": [
            "Model: \"model_2\"\n",
            "_________________________________________________________________\n",
            " Layer (type)                Output Shape              Param #   \n",
            "=================================================================\n",
            " input_9 (InputLayer)        [(None, 200, 200, 3)]     0         \n",
            "                                                                 \n",
            " sequential_1 (Sequential)   (None, 200, 200, 3)       0         \n",
            "                                                                 \n",
            " vgg16 (Functional)          (None, 6, 6, 512)         14714688  \n",
            "                                                                 \n",
            " global_average_pooling2d_2   (None, 512)              0         \n",
            " (GlobalAveragePooling2D)                                        \n",
            "                                                                 \n",
            " dense_8 (Dense)             (None, 128)               65664     \n",
            "                                                                 \n",
            " dense_9 (Dense)             (None, 64)                8256      \n",
            "                                                                 \n",
            " dense_10 (Dense)            (None, 32)                2080      \n",
            "                                                                 \n",
            " dense_11 (Dense)            (None, 6)                 198       \n",
            "                                                                 \n",
            "=================================================================\n",
            "Total params: 14,790,886\n",
            "Trainable params: 76,198\n",
            "Non-trainable params: 14,714,688\n",
            "_________________________________________________________________\n",
            "None\n"
          ]
        }
      ],
      "source": [
        "print(model2.summary())"
      ]
    },
    {
      "cell_type": "code",
      "execution_count": null,
      "metadata": {
        "id": "CT5BEylOgM4D"
      },
      "outputs": [],
      "source": [
        "model2.compile(loss=keras.losses.SparseCategoricalCrossentropy(from_logits=True),\n",
        "              optimizer=keras.optimizers.Adam(0.0001),\n",
        "              metrics=['accuracy'])"
      ]
    },
    {
      "cell_type": "code",
      "execution_count": null,
      "metadata": {
        "colab": {
          "base_uri": "https://localhost:8080/"
        },
        "id": "jzhpuc68gM6e",
        "outputId": "123294c4-d849-4441-8a6b-dd46dcf817cd"
      },
      "outputs": [
        {
          "name": "stdout",
          "output_type": "stream",
          "text": [
            "Epoch 1/50\n",
            "105/105 [==============================] - 8s 74ms/step - loss: 1.7256 - accuracy: 0.2388 - val_loss: 1.5649 - val_accuracy: 0.3333\n",
            "Epoch 2/50\n",
            "105/105 [==============================] - 8s 72ms/step - loss: 1.4625 - accuracy: 0.4811 - val_loss: 1.2982 - val_accuracy: 0.6528\n",
            "Epoch 3/50\n",
            "105/105 [==============================] - 8s 74ms/step - loss: 1.1868 - accuracy: 0.7349 - val_loss: 0.9563 - val_accuracy: 0.8750\n",
            "Epoch 4/50\n",
            "105/105 [==============================] - 8s 72ms/step - loss: 0.8838 - accuracy: 0.8530 - val_loss: 0.6568 - val_accuracy: 0.9722\n",
            "Epoch 5/50\n",
            "105/105 [==============================] - 8s 74ms/step - loss: 0.6411 - accuracy: 0.9064 - val_loss: 0.4342 - val_accuracy: 0.9861\n",
            "Epoch 6/50\n",
            "105/105 [==============================] - 8s 73ms/step - loss: 0.4667 - accuracy: 0.9334 - val_loss: 0.2855 - val_accuracy: 0.9861\n",
            "Epoch 7/50\n",
            "105/105 [==============================] - 8s 73ms/step - loss: 0.3571 - accuracy: 0.9340 - val_loss: 0.2103 - val_accuracy: 0.9861\n",
            "Epoch 8/50\n",
            "105/105 [==============================] - 8s 74ms/step - loss: 0.2876 - accuracy: 0.9472 - val_loss: 0.1584 - val_accuracy: 0.9861\n",
            "Epoch 9/50\n",
            "105/105 [==============================] - 8s 74ms/step - loss: 0.2407 - accuracy: 0.9532 - val_loss: 0.1253 - val_accuracy: 0.9861\n",
            "Epoch 10/50\n",
            "105/105 [==============================] - 8s 74ms/step - loss: 0.2093 - accuracy: 0.9568 - val_loss: 0.1086 - val_accuracy: 0.9861\n",
            "Epoch 11/50\n",
            "105/105 [==============================] - 8s 74ms/step - loss: 0.1867 - accuracy: 0.9568 - val_loss: 0.0909 - val_accuracy: 0.9861\n",
            "Epoch 12/50\n",
            "105/105 [==============================] - 8s 74ms/step - loss: 0.1698 - accuracy: 0.9628 - val_loss: 0.0804 - val_accuracy: 0.9861\n",
            "Epoch 13/50\n",
            "105/105 [==============================] - 8s 75ms/step - loss: 0.1529 - accuracy: 0.9640 - val_loss: 0.0743 - val_accuracy: 0.9861\n",
            "Epoch 14/50\n",
            "105/105 [==============================] - 8s 76ms/step - loss: 0.1425 - accuracy: 0.9640 - val_loss: 0.0612 - val_accuracy: 0.9861\n",
            "Epoch 15/50\n",
            "105/105 [==============================] - 8s 75ms/step - loss: 0.1341 - accuracy: 0.9628 - val_loss: 0.0620 - val_accuracy: 0.9861\n",
            "Epoch 16/50\n",
            "105/105 [==============================] - 8s 76ms/step - loss: 0.1257 - accuracy: 0.9682 - val_loss: 0.0573 - val_accuracy: 0.9861\n",
            "Epoch 17/50\n",
            "105/105 [==============================] - 8s 76ms/step - loss: 0.1153 - accuracy: 0.9724 - val_loss: 0.0488 - val_accuracy: 0.9861\n",
            "Epoch 18/50\n",
            "105/105 [==============================] - 8s 75ms/step - loss: 0.1104 - accuracy: 0.9718 - val_loss: 0.0482 - val_accuracy: 0.9861\n",
            "Epoch 19/50\n",
            "105/105 [==============================] - 8s 75ms/step - loss: 0.1048 - accuracy: 0.9760 - val_loss: 0.0392 - val_accuracy: 0.9861\n",
            "Epoch 20/50\n",
            "105/105 [==============================] - 8s 75ms/step - loss: 0.0998 - accuracy: 0.9760 - val_loss: 0.0373 - val_accuracy: 0.9861\n",
            "Epoch 21/50\n",
            "105/105 [==============================] - 8s 75ms/step - loss: 0.0961 - accuracy: 0.9748 - val_loss: 0.0408 - val_accuracy: 0.9861\n",
            "Epoch 22/50\n",
            "105/105 [==============================] - 8s 75ms/step - loss: 0.0905 - accuracy: 0.9778 - val_loss: 0.0388 - val_accuracy: 0.9861\n",
            "Epoch 23/50\n",
            "105/105 [==============================] - 8s 75ms/step - loss: 0.0837 - accuracy: 0.9760 - val_loss: 0.0321 - val_accuracy: 0.9861\n",
            "Epoch 24/50\n",
            "105/105 [==============================] - 8s 75ms/step - loss: 0.0844 - accuracy: 0.9808 - val_loss: 0.0357 - val_accuracy: 0.9861\n",
            "Epoch 25/50\n",
            "105/105 [==============================] - 8s 75ms/step - loss: 0.0805 - accuracy: 0.9772 - val_loss: 0.0284 - val_accuracy: 0.9861\n",
            "Epoch 26/50\n",
            "105/105 [==============================] - 8s 75ms/step - loss: 0.0752 - accuracy: 0.9820 - val_loss: 0.0359 - val_accuracy: 0.9861\n",
            "Epoch 27/50\n",
            "105/105 [==============================] - 8s 76ms/step - loss: 0.0738 - accuracy: 0.9796 - val_loss: 0.0342 - val_accuracy: 0.9861\n",
            "Epoch 28/50\n",
            "105/105 [==============================] - 8s 75ms/step - loss: 0.0705 - accuracy: 0.9820 - val_loss: 0.0254 - val_accuracy: 0.9861\n",
            "Epoch 29/50\n",
            "105/105 [==============================] - 8s 75ms/step - loss: 0.0676 - accuracy: 0.9820 - val_loss: 0.0244 - val_accuracy: 0.9861\n",
            "Epoch 30/50\n",
            "105/105 [==============================] - 8s 75ms/step - loss: 0.0681 - accuracy: 0.9820 - val_loss: 0.0243 - val_accuracy: 0.9861\n",
            "Epoch 31/50\n",
            "105/105 [==============================] - 8s 75ms/step - loss: 0.0647 - accuracy: 0.9790 - val_loss: 0.0303 - val_accuracy: 0.9861\n",
            "Epoch 32/50\n",
            "105/105 [==============================] - 8s 75ms/step - loss: 0.0623 - accuracy: 0.9802 - val_loss: 0.0282 - val_accuracy: 0.9861\n",
            "Epoch 33/50\n",
            "105/105 [==============================] - 8s 75ms/step - loss: 0.0596 - accuracy: 0.9820 - val_loss: 0.0243 - val_accuracy: 0.9861\n",
            "Epoch 34/50\n",
            "105/105 [==============================] - 8s 75ms/step - loss: 0.0567 - accuracy: 0.9850 - val_loss: 0.0192 - val_accuracy: 0.9861\n",
            "Epoch 35/50\n",
            "105/105 [==============================] - 8s 75ms/step - loss: 0.0556 - accuracy: 0.9850 - val_loss: 0.0193 - val_accuracy: 0.9861\n",
            "Epoch 36/50\n",
            "105/105 [==============================] - 8s 75ms/step - loss: 0.0534 - accuracy: 0.9868 - val_loss: 0.0272 - val_accuracy: 0.9861\n",
            "Epoch 37/50\n",
            "105/105 [==============================] - 8s 76ms/step - loss: 0.0514 - accuracy: 0.9868 - val_loss: 0.0140 - val_accuracy: 1.0000\n",
            "Epoch 38/50\n",
            "105/105 [==============================] - 8s 75ms/step - loss: 0.0502 - accuracy: 0.9850 - val_loss: 0.0194 - val_accuracy: 0.9861\n",
            "Epoch 39/50\n",
            "105/105 [==============================] - 8s 75ms/step - loss: 0.0483 - accuracy: 0.9850 - val_loss: 0.0172 - val_accuracy: 0.9861\n",
            "Epoch 40/50\n",
            "105/105 [==============================] - 8s 76ms/step - loss: 0.0470 - accuracy: 0.9862 - val_loss: 0.0178 - val_accuracy: 0.9861\n",
            "Epoch 41/50\n",
            "105/105 [==============================] - 8s 75ms/step - loss: 0.0462 - accuracy: 0.9874 - val_loss: 0.0216 - val_accuracy: 0.9861\n",
            "Epoch 42/50\n",
            "105/105 [==============================] - 8s 75ms/step - loss: 0.0449 - accuracy: 0.9886 - val_loss: 0.0125 - val_accuracy: 1.0000\n",
            "Epoch 43/50\n",
            "105/105 [==============================] - 8s 76ms/step - loss: 0.0428 - accuracy: 0.9892 - val_loss: 0.0175 - val_accuracy: 0.9861\n",
            "Epoch 44/50\n",
            "105/105 [==============================] - 8s 75ms/step - loss: 0.0416 - accuracy: 0.9886 - val_loss: 0.0114 - val_accuracy: 1.0000\n",
            "Epoch 45/50\n",
            "105/105 [==============================] - 8s 75ms/step - loss: 0.0406 - accuracy: 0.9874 - val_loss: 0.0122 - val_accuracy: 1.0000\n",
            "Epoch 46/50\n",
            "105/105 [==============================] - 8s 76ms/step - loss: 0.0398 - accuracy: 0.9886 - val_loss: 0.0114 - val_accuracy: 1.0000\n",
            "Epoch 47/50\n",
            "105/105 [==============================] - 8s 76ms/step - loss: 0.0388 - accuracy: 0.9886 - val_loss: 0.0164 - val_accuracy: 0.9861\n",
            "Epoch 48/50\n",
            "105/105 [==============================] - 8s 75ms/step - loss: 0.0375 - accuracy: 0.9892 - val_loss: 0.0098 - val_accuracy: 1.0000\n",
            "Epoch 49/50\n",
            "105/105 [==============================] - 8s 75ms/step - loss: 0.0354 - accuracy: 0.9910 - val_loss: 0.0215 - val_accuracy: 0.9861\n",
            "Epoch 50/50\n",
            "105/105 [==============================] - 8s 76ms/step - loss: 0.0349 - accuracy: 0.9916 - val_loss: 0.0092 - val_accuracy: 1.0000\n"
          ]
        }
      ],
      "source": [
        "history2=model2.fit(train_ds, epochs=50, verbose=True,validation_data=valid_ds)"
      ]
    },
    {
      "cell_type": "code",
      "execution_count": null,
      "metadata": {
        "colab": {
          "base_uri": "https://localhost:8080/"
        },
        "id": "A-WLC7nZgM9C",
        "outputId": "796f956f-c040-4be8-b395-ceb2bc732553"
      },
      "outputs": [
        {
          "name": "stdout",
          "output_type": "stream",
          "text": [
            "5/5 [==============================] - 0s 74ms/step - loss: 0.0247 - accuracy: 1.0000\n"
          ]
        },
        {
          "data": {
            "text/plain": [
              "[0.024712661281228065, 1.0]"
            ]
          },
          "execution_count": 46,
          "metadata": {},
          "output_type": "execute_result"
        }
      ],
      "source": [
        "model2.evaluate(test_ds)"
      ]
    },
    {
      "cell_type": "code",
      "execution_count": null,
      "metadata": {
        "colab": {
          "base_uri": "https://localhost:8080/"
        },
        "id": "1x106X-ggM_u",
        "outputId": "f4debd20-7fe6-4147-fd86-97a9080110c7"
      },
      "outputs": [
        {
          "data": {
            "text/plain": [
              "dict_keys(['loss', 'accuracy', 'val_loss', 'val_accuracy'])"
            ]
          },
          "execution_count": 47,
          "metadata": {},
          "output_type": "execute_result"
        }
      ],
      "source": [
        "history2.history.keys()"
      ]
    },
    {
      "cell_type": "code",
      "execution_count": null,
      "metadata": {
        "id": "_DdGG6xihoZw"
      },
      "outputs": [],
      "source": [
        "import matplotlib.pyplot as plt\n",
        "%matplotlib inline"
      ]
    },
    {
      "cell_type": "code",
      "execution_count": null,
      "metadata": {
        "colab": {
          "base_uri": "https://localhost:8080/",
          "height": 296
        },
        "id": "N8unht85gNCf",
        "outputId": "2598332b-51a8-4d68-88bc-0848230a022e"
      },
      "outputs": [
        {
          "data": {
            "text/plain": [
              "<matplotlib.legend.Legend at 0x7f9fe227dcd0>"
            ]
          },
          "execution_count": 49,
          "metadata": {},
          "output_type": "execute_result"
        },
        {
          "data": {
            "image/png": "[encoded data removed]",
            "text/plain": [
              "<Figure size 432x288 with 1 Axes>"
            ]
          },
          "metadata": {},
          "output_type": "display_data"
        }
      ],
      "source": [
        "plt.plot(history2.history['loss'])\n",
        "plt.plot(history2.history['val_loss'])\n",
        "plt.xlabel('epochs')\n",
        "plt.ylabel('loss')\n",
        "plt.legend(['train','valid'])"
      ]
    },
    {
      "cell_type": "code",
      "execution_count": null,
      "metadata": {
        "colab": {
          "base_uri": "https://localhost:8080/",
          "height": 296
        },
        "id": "wWgry3zbheBI",
        "outputId": "57327591-0edb-4d3c-bdb9-b1abe4051f66"
      },
      "outputs": [
        {
          "data": {
            "text/plain": [
              "<matplotlib.legend.Legend at 0x7f9fe22bfc10>"
            ]
          },
          "execution_count": 50,
          "metadata": {},
          "output_type": "execute_result"
        },
        {
          "data": {
            "image/png": "[encoded data removed]",
            "text/plain": [
              "<Figure size 432x288 with 1 Axes>"
            ]
          },
          "metadata": {},
          "output_type": "display_data"
        }
      ],
      "source": [
        "plt.plot(history2.history['accuracy'])\n",
        "plt.plot(history2.history['val_accuracy'])\n",
        "plt.xlabel('epochs')\n",
        "plt.ylabel('accuracy')\n",
        "\n",
        "plt.legend(['train','valid'])"
      ]
    },
    {
      "cell_type": "code",
      "execution_count": null,
      "metadata": {
        "id": "jSLc5rR6heD6"
      },
      "outputs": [],
      "source": [
        ""
      ]
    },
    {
      "cell_type": "markdown",
      "metadata": {
        "id": "MqGyt0qbjkxt"
      },
      "source": [
        "# **VGG16 with include_top=True, trainable=True and no augmentation**\n",
        "\n"
      ]
    },
    {
      "cell_type": "code",
      "execution_count": null,
      "metadata": {
        "colab": {
          "base_uri": "https://localhost:8080/"
        },
        "id": "W8lIgyJWheGx",
        "outputId": "5bd61990-bedc-4c64-d147-41be802e9335"
      },
      "outputs": [
        {
          "name": "stdout",
          "output_type": "stream",
          "text": [
            "Downloading data from https://storage.googleapis.com/tensorflow/keras-applications/vgg16/vgg16_weights_tf_dim_ordering_tf_kernels.h5\n",
            "553467904/553467096 [==============================] - 2s 0us/step\n",
            "553476096/553467096 [==============================] - 2s 0us/step\n"
          ]
        }
      ],
      "source": [
        "feature_extractor3=VGG16(include_top=True,weights='imagenet',input_shape=(224,224,3))\n",
        "feature_extractor3.trainable=True"
      ]
    },
    {
      "cell_type": "code",
      "execution_count": null,
      "metadata": {
        "id": "PuBxfgpmk2yF"
      },
      "outputs": [],
      "source": [
        "data_aug=keras.Sequential([\n",
        "                           tf.keras.Input(shape=(200,200,3)),\n",
        "                           layers.experimental.preprocessing.Resizing(height=224,width=224),\n",
        "                          #  layers.experimental.preprocessing.RandomContrast(factor=0.25),\n",
        "                          #  layers.experimental.preprocessing.RandomFlip(mode=\"horizontal_and_vertical\"),\n",
        "                          #  layers.experimental.preprocessing.RandomZoom(0.5,0.6),\n",
        "                          #  layers.experimental.preprocessing.RandomRotation(0.5),\n",
        "                          #  layers.experimental.preprocessing.RandomTranslation(0.2,0.2),\n",
        "\n",
        "])"
      ]
    },
    {
      "cell_type": "code",
      "execution_count": null,
      "metadata": {
        "id": "FCdh7v5theJg"
      },
      "outputs": [],
      "source": [
        "input_=tf.keras.Input(shape=(200,200,3))\n",
        "x=data_aug(input_)\n",
        "x=feature_extractor3(x)\n",
        "# x = tf.keras.layers.GlobalAveragePooling2D()(x)\n",
        "x=layers.Dense(128,activation='relu')(x)\n",
        "x=layers.Dense(64,activation='relu')(x)\n",
        "x=layers.Dense(32,activation='relu')(x)\n",
        "output_=layers.Dense(6)(x)"
      ]
    },
    {
      "cell_type": "code",
      "execution_count": null,
      "metadata": {
        "id": "ePU-XWpOheMK"
      },
      "outputs": [],
      "source": [
        "model3=keras.Model(input_,output_)"
      ]
    },
    {
      "cell_type": "code",
      "execution_count": null,
      "metadata": {
        "colab": {
          "base_uri": "https://localhost:8080/"
        },
        "id": "mSN432JkkwHI",
        "outputId": "28123754-81c1-472d-e956-81db9a8d5e92"
      },
      "outputs": [
        {
          "name": "stdout",
          "output_type": "stream",
          "text": [
            "Model: \"model\"\n",
            "_________________________________________________________________\n",
            " Layer (type)                Output Shape              Param #   \n",
            "=================================================================\n",
            " input_4 (InputLayer)        [(None, 200, 200, 3)]     0         \n",
            "                                                                 \n",
            " sequential (Sequential)     (None, 224, 224, 3)       0         \n",
            "                                                                 \n",
            " vgg16 (Functional)          (None, 1000)              138357544 \n",
            "                                                                 \n",
            " dense (Dense)               (None, 128)               128128    \n",
            "                                                                 \n",
            " dense_1 (Dense)             (None, 64)                8256      \n",
            "                                                                 \n",
            " dense_2 (Dense)             (None, 32)                2080      \n",
            "                                                                 \n",
            " dense_3 (Dense)             (None, 6)                 198       \n",
            "                                                                 \n",
            "=================================================================\n",
            "Total params: 138,496,206\n",
            "Trainable params: 138,496,206\n",
            "Non-trainable params: 0\n",
            "_________________________________________________________________\n",
            "None\n"
          ]
        }
      ],
      "source": [
        "print(model3.summary())"
      ]
    },
    {
      "cell_type": "code",
      "execution_count": null,
      "metadata": {
        "id": "79B2-Cj8kwKC"
      },
      "outputs": [],
      "source": [
        "model3.compile(loss=keras.losses.SparseCategoricalCrossentropy(from_logits=True),\n",
        "              optimizer=keras.optimizers.Adam(0.0001),\n",
        "              metrics=['accuracy'])"
      ]
    },
    {
      "cell_type": "code",
      "execution_count": null,
      "metadata": {
        "colab": {
          "base_uri": "https://localhost:8080/"
        },
        "id": "v2soZwmpkwMr",
        "outputId": "61da83d7-2be6-4fe1-d2ff-7b8ddc64cc21"
      },
      "outputs": [
        {
          "name": "stdout",
          "output_type": "stream",
          "text": [
            "Epoch 1/50\n",
            "105/105 [==============================] - 34s 274ms/step - loss: 1.7906 - accuracy: 0.1824 - val_loss: 1.7919 - val_accuracy: 0.1667\n",
            "Epoch 2/50\n",
            "105/105 [==============================] - 26s 246ms/step - loss: 1.7921 - accuracy: 0.1608 - val_loss: 1.7918 - val_accuracy: 0.1667\n",
            "Epoch 3/50\n",
            "105/105 [==============================] - 26s 248ms/step - loss: 1.7919 - accuracy: 0.1554 - val_loss: 1.7918 - val_accuracy: 0.1667\n",
            "Epoch 4/50\n",
            "105/105 [==============================] - 26s 249ms/step - loss: 1.7919 - accuracy: 0.1662 - val_loss: 1.7918 - val_accuracy: 0.1667\n",
            "Epoch 5/50\n",
            "105/105 [==============================] - 27s 253ms/step - loss: 1.7920 - accuracy: 0.1578 - val_loss: 1.7918 - val_accuracy: 0.1667\n",
            "Epoch 6/50\n",
            "105/105 [==============================] - 26s 251ms/step - loss: 1.7919 - accuracy: 0.1596 - val_loss: 1.7918 - val_accuracy: 0.1667\n",
            "Epoch 7/50\n",
            "105/105 [==============================] - 26s 251ms/step - loss: 1.7920 - accuracy: 0.1566 - val_loss: 1.7918 - val_accuracy: 0.1667\n",
            "Epoch 8/50\n",
            "105/105 [==============================] - 26s 251ms/step - loss: 1.7919 - accuracy: 0.1674 - val_loss: 1.7918 - val_accuracy: 0.1667\n",
            "Epoch 9/50\n",
            "105/105 [==============================] - 26s 252ms/step - loss: 1.7920 - accuracy: 0.1572 - val_loss: 1.7918 - val_accuracy: 0.1667\n",
            "Epoch 10/50\n",
            "105/105 [==============================] - 26s 251ms/step - loss: 1.7919 - accuracy: 0.1674 - val_loss: 1.7918 - val_accuracy: 0.1667\n",
            "Epoch 11/50\n",
            "105/105 [==============================] - 26s 250ms/step - loss: 1.7919 - accuracy: 0.1674 - val_loss: 1.7918 - val_accuracy: 0.1667\n",
            "Epoch 12/50\n",
            "105/105 [==============================] - 26s 251ms/step - loss: 1.7920 - accuracy: 0.1626 - val_loss: 1.7918 - val_accuracy: 0.1667\n",
            "Epoch 13/50\n",
            "105/105 [==============================] - 26s 251ms/step - loss: 1.7919 - accuracy: 0.1674 - val_loss: 1.7918 - val_accuracy: 0.1667\n",
            "Epoch 14/50\n",
            "105/105 [==============================] - 26s 251ms/step - loss: 1.7919 - accuracy: 0.1674 - val_loss: 1.7918 - val_accuracy: 0.1667\n",
            "Epoch 15/50\n",
            "105/105 [==============================] - 26s 251ms/step - loss: 1.7919 - accuracy: 0.1674 - val_loss: 1.7918 - val_accuracy: 0.1667\n",
            "Epoch 16/50\n",
            "105/105 [==============================] - 26s 251ms/step - loss: 1.7919 - accuracy: 0.1674 - val_loss: 1.7918 - val_accuracy: 0.1667\n",
            "Epoch 17/50\n",
            "105/105 [==============================] - 26s 252ms/step - loss: 1.7919 - accuracy: 0.1458 - val_loss: 1.7918 - val_accuracy: 0.1667\n",
            "Epoch 18/50\n",
            "105/105 [==============================] - 26s 253ms/step - loss: 1.7919 - accuracy: 0.1518 - val_loss: 1.7918 - val_accuracy: 0.1667\n",
            "Epoch 19/50\n",
            "105/105 [==============================] - 26s 251ms/step - loss: 1.7919 - accuracy: 0.1680 - val_loss: 1.7918 - val_accuracy: 0.1667\n",
            "Epoch 20/50\n",
            "105/105 [==============================] - 26s 251ms/step - loss: 1.7920 - accuracy: 0.1596 - val_loss: 1.7918 - val_accuracy: 0.1667\n",
            "Epoch 21/50\n",
            "105/105 [==============================] - 26s 251ms/step - loss: 1.7919 - accuracy: 0.1422 - val_loss: 1.7918 - val_accuracy: 0.1667\n",
            "Epoch 22/50\n",
            "105/105 [==============================] - 26s 251ms/step - loss: 1.7919 - accuracy: 0.1626 - val_loss: 1.7918 - val_accuracy: 0.1667\n",
            "Epoch 23/50\n",
            "105/105 [==============================] - 26s 251ms/step - loss: 1.7920 - accuracy: 0.1566 - val_loss: 1.7918 - val_accuracy: 0.1667\n",
            "Epoch 24/50\n",
            "105/105 [==============================] - 27s 252ms/step - loss: 1.7919 - accuracy: 0.1614 - val_loss: 1.7918 - val_accuracy: 0.1667\n",
            "Epoch 25/50\n",
            "105/105 [==============================] - 26s 252ms/step - loss: 1.7919 - accuracy: 0.1536 - val_loss: 1.7918 - val_accuracy: 0.1667\n",
            "Epoch 26/50\n",
            "105/105 [==============================] - 26s 251ms/step - loss: 1.7919 - accuracy: 0.1590 - val_loss: 1.7918 - val_accuracy: 0.1667\n",
            "Epoch 27/50\n",
            "105/105 [==============================] - 26s 251ms/step - loss: 1.7919 - accuracy: 0.1632 - val_loss: 1.7918 - val_accuracy: 0.1667\n",
            "Epoch 28/50\n",
            "105/105 [==============================] - 26s 251ms/step - loss: 1.7919 - accuracy: 0.1722 - val_loss: 1.7918 - val_accuracy: 0.1667\n",
            "Epoch 29/50\n",
            "105/105 [==============================] - 26s 251ms/step - loss: 1.7919 - accuracy: 0.1530 - val_loss: 1.7918 - val_accuracy: 0.1667\n",
            "Epoch 30/50\n",
            "105/105 [==============================] - 26s 251ms/step - loss: 1.7919 - accuracy: 0.1626 - val_loss: 1.7918 - val_accuracy: 0.1667\n",
            "Epoch 31/50\n",
            "105/105 [==============================] - 27s 252ms/step - loss: 1.7919 - accuracy: 0.1608 - val_loss: 1.7918 - val_accuracy: 0.1667\n",
            "Epoch 32/50\n",
            "105/105 [==============================] - 26s 252ms/step - loss: 1.7919 - accuracy: 0.1512 - val_loss: 1.7918 - val_accuracy: 0.1667\n",
            "Epoch 33/50\n",
            "105/105 [==============================] - 26s 251ms/step - loss: 1.7919 - accuracy: 0.1518 - val_loss: 1.7918 - val_accuracy: 0.1667\n",
            "Epoch 34/50\n",
            "105/105 [==============================] - 26s 252ms/step - loss: 1.7919 - accuracy: 0.1470 - val_loss: 1.7918 - val_accuracy: 0.1667\n",
            "Epoch 35/50\n",
            "105/105 [==============================] - 26s 252ms/step - loss: 1.7919 - accuracy: 0.1554 - val_loss: 1.7918 - val_accuracy: 0.1667\n",
            "Epoch 36/50\n",
            "105/105 [==============================] - 26s 251ms/step - loss: 1.7919 - accuracy: 0.1536 - val_loss: 1.7918 - val_accuracy: 0.1667\n",
            "Epoch 37/50\n",
            "105/105 [==============================] - 26s 251ms/step - loss: 1.7919 - accuracy: 0.1578 - val_loss: 1.7918 - val_accuracy: 0.1667\n",
            "Epoch 38/50\n",
            "105/105 [==============================] - 26s 252ms/step - loss: 1.7919 - accuracy: 0.1548 - val_loss: 1.7918 - val_accuracy: 0.1667\n",
            "Epoch 39/50\n",
            "105/105 [==============================] - 26s 251ms/step - loss: 1.7919 - accuracy: 0.1590 - val_loss: 1.7918 - val_accuracy: 0.1667\n",
            "Epoch 40/50\n",
            "105/105 [==============================] - 26s 251ms/step - loss: 1.7918 - accuracy: 0.1674 - val_loss: 1.7918 - val_accuracy: 0.1667\n",
            "Epoch 41/50\n",
            "105/105 [==============================] - 26s 251ms/step - loss: 1.7918 - accuracy: 0.1626 - val_loss: 1.7918 - val_accuracy: 0.1667\n",
            "Epoch 42/50\n",
            "105/105 [==============================] - 26s 251ms/step - loss: 1.7919 - accuracy: 0.1536 - val_loss: 1.7918 - val_accuracy: 0.1667\n",
            "Epoch 43/50\n",
            "105/105 [==============================] - 26s 251ms/step - loss: 1.7919 - accuracy: 0.1578 - val_loss: 1.7918 - val_accuracy: 0.1667\n",
            "Epoch 44/50\n",
            "105/105 [==============================] - 26s 251ms/step - loss: 1.7919 - accuracy: 0.1638 - val_loss: 1.7918 - val_accuracy: 0.1667\n",
            "Epoch 45/50\n",
            "105/105 [==============================] - 26s 252ms/step - loss: 1.7919 - accuracy: 0.1512 - val_loss: 1.7918 - val_accuracy: 0.1667\n",
            "Epoch 46/50\n",
            "105/105 [==============================] - 26s 251ms/step - loss: 1.7919 - accuracy: 0.1644 - val_loss: 1.7918 - val_accuracy: 0.1667\n",
            "Epoch 47/50\n",
            "105/105 [==============================] - 26s 251ms/step - loss: 1.7919 - accuracy: 0.1608 - val_loss: 1.7918 - val_accuracy: 0.1667\n",
            "Epoch 48/50\n",
            "105/105 [==============================] - 26s 250ms/step - loss: 1.7919 - accuracy: 0.1668 - val_loss: 1.7918 - val_accuracy: 0.1667\n",
            "Epoch 49/50\n",
            "105/105 [==============================] - 26s 251ms/step - loss: 1.7919 - accuracy: 0.1488 - val_loss: 1.7918 - val_accuracy: 0.1667\n",
            "Epoch 50/50\n",
            "105/105 [==============================] - 26s 251ms/step - loss: 1.7919 - accuracy: 0.1620 - val_loss: 1.7918 - val_accuracy: 0.1667\n"
          ]
        }
      ],
      "source": [
        "history3=model3.fit(train_ds, epochs=50, verbose=True,validation_data=valid_ds)"
      ]
    },
    {
      "cell_type": "code",
      "execution_count": null,
      "metadata": {
        "colab": {
          "base_uri": "https://localhost:8080/"
        },
        "id": "P7NufWajkwPl",
        "outputId": "08c52030-86e5-446e-92bc-03c8e10d111d"
      },
      "outputs": [
        {
          "name": "stdout",
          "output_type": "stream",
          "text": [
            "5/5 [==============================] - 0s 80ms/step - loss: 1.7918 - accuracy: 0.1667\n"
          ]
        },
        {
          "data": {
            "text/plain": [
              "[1.791761875152588, 0.1666666716337204]"
            ]
          },
          "execution_count": 65,
          "metadata": {},
          "output_type": "execute_result"
        }
      ],
      "source": [
        "model3.evaluate(test_ds)"
      ]
    },
    {
      "cell_type": "code",
      "execution_count": null,
      "metadata": {
        "colab": {
          "base_uri": "https://localhost:8080/"
        },
        "id": "Qzu4fJMUkwSO",
        "outputId": "760c1262-d398-496e-f834-cea504372cce"
      },
      "outputs": [
        {
          "data": {
            "text/plain": [
              "dict_keys(['loss', 'accuracy', 'val_loss', 'val_accuracy'])"
            ]
          },
          "execution_count": 66,
          "metadata": {},
          "output_type": "execute_result"
        }
      ],
      "source": [
        "history3.history.keys()"
      ]
    },
    {
      "cell_type": "code",
      "execution_count": null,
      "metadata": {
        "id": "tLoFjV5wlW5o"
      },
      "outputs": [],
      "source": [
        "import matplotlib.pyplot as plt\n",
        "%matplotlib inline"
      ]
    },
    {
      "cell_type": "code",
      "execution_count": null,
      "metadata": {
        "colab": {
          "base_uri": "https://localhost:8080/",
          "height": 299
        },
        "id": "_6AB3WIzlW8O",
        "outputId": "6bd7b38f-16af-44a6-f426-4d7735275866"
      },
      "outputs": [
        {
          "data": {
            "text/plain": [
              "<matplotlib.legend.Legend at 0x7f9fe2b17f10>"
            ]
          },
          "execution_count": 68,
          "metadata": {},
          "output_type": "execute_result"
        },
        {
          "data": {
            "image/png": "[encoded data removed]",
            "text/plain": [
              "<Figure size 432x288 with 1 Axes>"
            ]
          },
          "metadata": {},
          "output_type": "display_data"
        }
      ],
      "source": [
        "plt.plot(history3.history['loss'])\n",
        "plt.plot(history3.history['val_loss'])\n",
        "plt.xlabel('epochs')\n",
        "plt.ylabel('loss')\n",
        "plt.legend(['train','valid'])"
      ]
    },
    {
      "cell_type": "code",
      "execution_count": null,
      "metadata": {
        "colab": {
          "base_uri": "https://localhost:8080/",
          "height": 296
        },
        "id": "mwe9zdpOlW-y",
        "outputId": "92b7740c-ede2-492e-924e-83bbe9eff3ce"
      },
      "outputs": [
        {
          "data": {
            "text/plain": [
              "<matplotlib.legend.Legend at 0x7f9fe2a8ee10>"
            ]
          },
          "execution_count": 69,
          "metadata": {},
          "output_type": "execute_result"
        },
        {
          "data": {
            "image/png": "[encoded data removed]",
            "text/plain": [
              "<Figure size 432x288 with 1 Axes>"
            ]
          },
          "metadata": {},
          "output_type": "display_data"
        }
      ],
      "source": [
        "plt.plot(history3.history['accuracy'])\n",
        "plt.plot(history3.history['val_accuracy'])\n",
        "plt.xlabel('epochs')\n",
        "plt.ylabel('accuracy')\n",
        "\n",
        "plt.legend(['train','valid'])"
      ]
    },
    {
      "cell_type": "code",
      "execution_count": null,
      "metadata": {
        "id": "-ltQ__XElXBF"
      },
      "outputs": [],
      "source": [
        ""
      ]
    },
    {
      "cell_type": "code",
      "execution_count": null,
      "metadata": {
        "id": "nuS7Q6RWlXDq"
      },
      "outputs": [],
      "source": [
        ""
      ]
    },
    {
      "cell_type": "markdown",
      "metadata": {
        "id": "wwjKZe2UuUlJ"
      },
      "source": [
        "**Callback**"
      ]
    },
    {
      "cell_type": "code",
      "execution_count": null,
      "metadata": {
        "id": "_2IkoOR0u1ub"
      },
      "outputs": [],
      "source": [
        "model3.compile(loss=keras.losses.SparseCategoricalCrossentropy(from_logits=True),\n",
        "              optimizer=keras.optimizers.Adam(),\n",
        "              metrics=['accuracy'])"
      ]
    },
    {
      "cell_type": "code",
      "execution_count": null,
      "metadata": {
        "id": "EOVfxn_CuhLI"
      },
      "outputs": [],
      "source": [
        "lr_find3 = LRfind(1e-6, 1e1,105)"
      ]
    },
    {
      "cell_type": "code",
      "execution_count": null,
      "metadata": {
        "colab": {
          "base_uri": "https://localhost:8080/"
        },
        "id": "dYL_88brt_9c",
        "outputId": "d8230e34-8204-426f-d14b-a28d627059e6"
      },
      "outputs": [
        {
          "name": "stdout",
          "output_type": "stream",
          "text": [
            "105/105 [==============================] - 417s 4s/step - loss: 1.9681 - accuracy: 0.1716 - val_loss: 2.9587 - val_accuracy: 0.1667\n"
          ]
        }
      ],
      "source": [
        "history_callback=model3.fit(train_ds,epochs=1, verbose=True,validation_data=valid_ds,callbacks=[lr_find3])"
      ]
    },
    {
      "cell_type": "code",
      "execution_count": null,
      "metadata": {
        "colab": {
          "base_uri": "https://localhost:8080/",
          "height": 286
        },
        "id": "o9jUX7IwuAAS",
        "outputId": "9e381503-6116-47b9-d6b9-bcd27ce922d5"
      },
      "outputs": [
        {
          "data": {
            "image/png": "[encoded data removed]",
            "text/plain": [
              "<Figure size 432x288 with 1 Axes>"
            ]
          },
          "metadata": {},
          "output_type": "display_data"
        }
      ],
      "source": [
        "plt.plot(lr_find3.lrs,lr_find3.losses)\n",
        "plt.xscale('log')\n",
        "plt.xlabel('learning_rates')\n",
        "plt.ylabel('losses')\n",
        "plt.show()\n"
      ]
    },
    {
      "cell_type": "code",
      "execution_count": null,
      "metadata": {
        "colab": {
          "base_uri": "https://localhost:8080/",
          "height": 296
        },
        "id": "GdcYyl-4uADK",
        "outputId": "a6285a37-1031-4646-ebd7-67f8ae4eeb4c"
      },
      "outputs": [
        {
          "data": {
            "text/plain": [
              "Text(0, 0.5, 'learning_rate')"
            ]
          },
          "execution_count": 46,
          "metadata": {},
          "output_type": "execute_result"
        },
        {
          "data": {
            "image/png": "[encoded data removed]",
            "text/plain": [
              "<Figure size 432x288 with 1 Axes>"
            ]
          },
          "metadata": {},
          "output_type": "display_data"
        }
      ],
      "source": [
        "plt.plot(lr_find3.lrs)\n",
        "plt.xlabel('iterations')\n",
        "plt.ylabel('learning_rate')"
      ]
    },
    {
      "cell_type": "code",
      "execution_count": null,
      "metadata": {
        "id": "Jj6I0kscuAGC"
      },
      "outputs": [],
      "source": [
        ""
      ]
    },
    {
      "cell_type": "code",
      "execution_count": null,
      "metadata": {
        "id": "58Pa8-PoOhSJ"
      },
      "outputs": [],
      "source": [
        "def scheduler(epoch,lr):\n",
        "  if epoch<2:\n",
        "    return lr\n",
        "  else:\n",
        "    return lr*tf.math.exp(-0.05)"
      ]
    },
    {
      "cell_type": "code",
      "execution_count": null,
      "metadata": {
        "colab": {
          "base_uri": "https://localhost:8080/"
        },
        "id": "BZTbF_6SOhSK",
        "outputId": "9f3a25e7-7d1b-48f7-faa0-64cfbfee7972"
      },
      "outputs": [
        {
          "data": {
            "text/plain": [
              "array([0.99004983, 0.95122942, 0.90483742, 0.60653066])"
            ]
          },
          "execution_count": 47,
          "metadata": {},
          "output_type": "execute_result"
        }
      ],
      "source": [
        "np.exp([-0.01,-0.05,-0.1,-0.5])"
      ]
    },
    {
      "cell_type": "code",
      "execution_count": null,
      "metadata": {
        "id": "enDZ3RXrOhSM"
      },
      "outputs": [],
      "source": [
        "lr_scheduler=keras.callbacks.LearningRateScheduler(scheduler,verbose=True)"
      ]
    },
    {
      "cell_type": "code",
      "execution_count": null,
      "metadata": {
        "id": "5eDXvUSEOhSN"
      },
      "outputs": [],
      "source": [
        ""
      ]
    },
    {
      "cell_type": "code",
      "execution_count": null,
      "metadata": {
        "id": "NIFYcMIUOhSO"
      },
      "outputs": [],
      "source": [
        "model3.compile(loss=keras.losses.SparseCategoricalCrossentropy(from_logits=True),\n",
        "              optimizer=keras.optimizers.Adam(0.0001),\n",
        "              metrics=['accuracy'])"
      ]
    },
    {
      "cell_type": "code",
      "execution_count": null,
      "metadata": {
        "colab": {
          "base_uri": "https://localhost:8080/",
          "height": 1000
        },
        "id": "RpNqYh6DOhSO",
        "outputId": "00507dd0-ff26-4414-c113-cf8805bbcc26"
      },
      "outputs": [
        {
          "name": "stdout",
          "output_type": "stream",
          "text": [
            "\n",
            "Epoch 1: LearningRateScheduler setting learning rate to 9.999999747378752e-05.\n",
            "Epoch 1/20\n",
            "105/105 [==============================] - 27s 249ms/step - loss: 1.7927 - accuracy: 0.1656 - val_loss: 1.7920 - val_accuracy: 0.1667 - lr: 1.0000e-04\n",
            "\n",
            "Epoch 2: LearningRateScheduler setting learning rate to 9.999999747378752e-05.\n",
            "Epoch 2/20\n",
            "105/105 [==============================] - 27s 252ms/step - loss: 1.7923 - accuracy: 0.1662 - val_loss: 1.7918 - val_accuracy: 0.1667 - lr: 1.0000e-04\n",
            "\n",
            "Epoch 3: LearningRateScheduler setting learning rate to 9.512294491287321e-05.\n",
            "Epoch 3/20\n",
            "105/105 [==============================] - 27s 252ms/step - loss: 1.7921 - accuracy: 0.1662 - val_loss: 1.7918 - val_accuracy: 0.1667 - lr: 9.5123e-05\n",
            "\n",
            "Epoch 4: LearningRateScheduler setting learning rate to 9.048374340636656e-05.\n",
            "Epoch 4/20\n",
            "105/105 [==============================] - 26s 250ms/step - loss: 1.7921 - accuracy: 0.1578 - val_loss: 1.7918 - val_accuracy: 0.1667 - lr: 9.0484e-05\n",
            "\n",
            "Epoch 5: LearningRateScheduler setting learning rate to 8.607080235378817e-05.\n",
            "Epoch 5/20\n",
            "105/105 [==============================] - 26s 251ms/step - loss: 1.7920 - accuracy: 0.1578 - val_loss: 1.7918 - val_accuracy: 0.1667 - lr: 8.6071e-05\n",
            "\n",
            "Epoch 6: LearningRateScheduler setting learning rate to 8.187308412743732e-05.\n",
            "Epoch 6/20\n",
            "105/105 [==============================] - 26s 251ms/step - loss: 1.7923 - accuracy: 0.1656 - val_loss: 1.7918 - val_accuracy: 0.1667 - lr: 8.1873e-05\n",
            "\n",
            "Epoch 7: LearningRateScheduler setting learning rate to 7.788008952047676e-05.\n",
            "Epoch 7/20\n",
            "105/105 [==============================] - 26s 250ms/step - loss: 1.7920 - accuracy: 0.1638 - val_loss: 1.7918 - val_accuracy: 0.1667 - lr: 7.7880e-05\n",
            "\n",
            "Epoch 8: LearningRateScheduler setting learning rate to 7.408183591905981e-05.\n",
            "Epoch 8/20\n",
            "105/105 [==============================] - 26s 251ms/step - loss: 1.7920 - accuracy: 0.1638 - val_loss: 1.7918 - val_accuracy: 0.1667 - lr: 7.4082e-05\n",
            "\n",
            "Epoch 9: LearningRateScheduler setting learning rate to 7.046882092254236e-05.\n",
            "Epoch 9/20\n",
            "105/105 [==============================] - 26s 251ms/step - loss: 1.7919 - accuracy: 0.1500 - val_loss: 1.7918 - val_accuracy: 0.1667 - lr: 7.0469e-05\n",
            "\n",
            "Epoch 10: LearningRateScheduler setting learning rate to 6.703201506752521e-05.\n",
            "Epoch 10/20\n",
            " 99/105 [===========================>..] - ETA: 1s - loss: 1.7919 - accuracy: 0.1458"
          ]
        },
        {
          "ename": "KeyboardInterrupt",
          "evalue": "ignored",
          "output_type": "error",
          "traceback": [
            "\u001b[0;31m---------------------------------------------------------------------------\u001b[0m",
            "\u001b[0;31mKeyboardInterrupt\u001b[0m                         Traceback (most recent call last)",
            "\u001b[0;32m<ipython-input-53-b4c6e070428e>\u001b[0m in \u001b[0;36m<module>\u001b[0;34m()\u001b[0m\n\u001b[0;32m----> 1\u001b[0;31m \u001b[0mhistory_callback2\u001b[0m\u001b[0;34m=\u001b[0m\u001b[0mmodel3\u001b[0m\u001b[0;34m.\u001b[0m\u001b[0mfit\u001b[0m\u001b[0;34m(\u001b[0m\u001b[0mtrain_ds\u001b[0m\u001b[0;34m,\u001b[0m\u001b[0mepochs\u001b[0m\u001b[0;34m=\u001b[0m\u001b[0;36m20\u001b[0m\u001b[0;34m,\u001b[0m \u001b[0mverbose\u001b[0m\u001b[0;34m=\u001b[0m\u001b[0;32mTrue\u001b[0m\u001b[0;34m,\u001b[0m\u001b[0mvalidation_data\u001b[0m\u001b[0;34m=\u001b[0m\u001b[0mvalid_ds\u001b[0m\u001b[0;34m,\u001b[0m\u001b[0mcallbacks\u001b[0m\u001b[0;34m=\u001b[0m\u001b[0;34m[\u001b[0m\u001b[0mlr_scheduler\u001b[0m\u001b[0;34m]\u001b[0m\u001b[0;34m)\u001b[0m\u001b[0;34m\u001b[0m\u001b[0;34m\u001b[0m\u001b[0m\n\u001b[0m",
            "\u001b[0;32m/usr/local/lib/python3.7/dist-packages/keras/utils/traceback_utils.py\u001b[0m in \u001b[0;36merror_handler\u001b[0;34m(*args, **kwargs)\u001b[0m\n\u001b[1;32m     62\u001b[0m     \u001b[0mfiltered_tb\u001b[0m \u001b[0;34m=\u001b[0m \u001b[0;32mNone\u001b[0m\u001b[0;34m\u001b[0m\u001b[0;34m\u001b[0m\u001b[0m\n\u001b[1;32m     63\u001b[0m     \u001b[0;32mtry\u001b[0m\u001b[0;34m:\u001b[0m\u001b[0;34m\u001b[0m\u001b[0;34m\u001b[0m\u001b[0m\n\u001b[0;32m---> 64\u001b[0;31m       \u001b[0;32mreturn\u001b[0m \u001b[0mfn\u001b[0m\u001b[0;34m(\u001b[0m\u001b[0;34m*\u001b[0m\u001b[0margs\u001b[0m\u001b[0;34m,\u001b[0m \u001b[0;34m**\u001b[0m\u001b[0mkwargs\u001b[0m\u001b[0;34m)\u001b[0m\u001b[0;34m\u001b[0m\u001b[0;34m\u001b[0m\u001b[0m\n\u001b[0m\u001b[1;32m     65\u001b[0m     \u001b[0;32mexcept\u001b[0m \u001b[0mException\u001b[0m \u001b[0;32mas\u001b[0m \u001b[0me\u001b[0m\u001b[0;34m:\u001b[0m  \u001b[0;31m# pylint: disable=broad-except\u001b[0m\u001b[0;34m\u001b[0m\u001b[0;34m\u001b[0m\u001b[0m\n\u001b[1;32m     66\u001b[0m       \u001b[0mfiltered_tb\u001b[0m \u001b[0;34m=\u001b[0m \u001b[0m_process_traceback_frames\u001b[0m\u001b[0;34m(\u001b[0m\u001b[0me\u001b[0m\u001b[0;34m.\u001b[0m\u001b[0m__traceback__\u001b[0m\u001b[0;34m)\u001b[0m\u001b[0;34m\u001b[0m\u001b[0;34m\u001b[0m\u001b[0m\n",
            "\u001b[0;32m/usr/local/lib/python3.7/dist-packages/keras/engine/training.py\u001b[0m in \u001b[0;36mfit\u001b[0;34m(self, x, y, batch_size, epochs, verbose, callbacks, validation_split, validation_data, shuffle, class_weight, sample_weight, initial_epoch, steps_per_epoch, validation_steps, validation_batch_size, validation_freq, max_queue_size, workers, use_multiprocessing)\u001b[0m\n\u001b[1;32m   1387\u001b[0m               \u001b[0mlogs\u001b[0m \u001b[0;34m=\u001b[0m \u001b[0mtmp_logs\u001b[0m  \u001b[0;31m# No error, now safe to assign to logs.\u001b[0m\u001b[0;34m\u001b[0m\u001b[0;34m\u001b[0m\u001b[0m\n\u001b[1;32m   1388\u001b[0m               \u001b[0mend_step\u001b[0m \u001b[0;34m=\u001b[0m \u001b[0mstep\u001b[0m \u001b[0;34m+\u001b[0m \u001b[0mdata_handler\u001b[0m\u001b[0;34m.\u001b[0m\u001b[0mstep_increment\u001b[0m\u001b[0;34m\u001b[0m\u001b[0;34m\u001b[0m\u001b[0m\n\u001b[0;32m-> 1389\u001b[0;31m               \u001b[0mcallbacks\u001b[0m\u001b[0;34m.\u001b[0m\u001b[0mon_train_batch_end\u001b[0m\u001b[0;34m(\u001b[0m\u001b[0mend_step\u001b[0m\u001b[0;34m,\u001b[0m \u001b[0mlogs\u001b[0m\u001b[0;34m)\u001b[0m\u001b[0;34m\u001b[0m\u001b[0;34m\u001b[0m\u001b[0m\n\u001b[0m\u001b[1;32m   1390\u001b[0m               \u001b[0;32mif\u001b[0m \u001b[0mself\u001b[0m\u001b[0;34m.\u001b[0m\u001b[0mstop_training\u001b[0m\u001b[0;34m:\u001b[0m\u001b[0;34m\u001b[0m\u001b[0;34m\u001b[0m\u001b[0m\n\u001b[1;32m   1391\u001b[0m                 \u001b[0;32mbreak\u001b[0m\u001b[0;34m\u001b[0m\u001b[0;34m\u001b[0m\u001b[0m\n",
            "\u001b[0;32m/usr/local/lib/python3.7/dist-packages/keras/callbacks.py\u001b[0m in \u001b[0;36mon_train_batch_end\u001b[0;34m(self, batch, logs)\u001b[0m\n\u001b[1;32m    436\u001b[0m     \"\"\"\n\u001b[1;32m    437\u001b[0m     \u001b[0;32mif\u001b[0m \u001b[0mself\u001b[0m\u001b[0;34m.\u001b[0m\u001b[0m_should_call_train_batch_hooks\u001b[0m\u001b[0;34m:\u001b[0m\u001b[0;34m\u001b[0m\u001b[0;34m\u001b[0m\u001b[0m\n\u001b[0;32m--> 438\u001b[0;31m       \u001b[0mself\u001b[0m\u001b[0;34m.\u001b[0m\u001b[0m_call_batch_hook\u001b[0m\u001b[0;34m(\u001b[0m\u001b[0mModeKeys\u001b[0m\u001b[0;34m.\u001b[0m\u001b[0mTRAIN\u001b[0m\u001b[0;34m,\u001b[0m \u001b[0;34m'end'\u001b[0m\u001b[0;34m,\u001b[0m \u001b[0mbatch\u001b[0m\u001b[0;34m,\u001b[0m \u001b[0mlogs\u001b[0m\u001b[0;34m=\u001b[0m\u001b[0mlogs\u001b[0m\u001b[0;34m)\u001b[0m\u001b[0;34m\u001b[0m\u001b[0;34m\u001b[0m\u001b[0m\n\u001b[0m\u001b[1;32m    439\u001b[0m \u001b[0;34m\u001b[0m\u001b[0m\n\u001b[1;32m    440\u001b[0m   \u001b[0;32mdef\u001b[0m \u001b[0mon_test_batch_begin\u001b[0m\u001b[0;34m(\u001b[0m\u001b[0mself\u001b[0m\u001b[0;34m,\u001b[0m \u001b[0mbatch\u001b[0m\u001b[0;34m,\u001b[0m \u001b[0mlogs\u001b[0m\u001b[0;34m=\u001b[0m\u001b[0;32mNone\u001b[0m\u001b[0;34m)\u001b[0m\u001b[0;34m:\u001b[0m\u001b[0;34m\u001b[0m\u001b[0;34m\u001b[0m\u001b[0m\n",
            "\u001b[0;32m/usr/local/lib/python3.7/dist-packages/keras/callbacks.py\u001b[0m in \u001b[0;36m_call_batch_hook\u001b[0;34m(self, mode, hook, batch, logs)\u001b[0m\n\u001b[1;32m    295\u001b[0m       \u001b[0mself\u001b[0m\u001b[0;34m.\u001b[0m\u001b[0m_call_batch_begin_hook\u001b[0m\u001b[0;34m(\u001b[0m\u001b[0mmode\u001b[0m\u001b[0;34m,\u001b[0m \u001b[0mbatch\u001b[0m\u001b[0;34m,\u001b[0m \u001b[0mlogs\u001b[0m\u001b[0;34m)\u001b[0m\u001b[0;34m\u001b[0m\u001b[0;34m\u001b[0m\u001b[0m\n\u001b[1;32m    296\u001b[0m     \u001b[0;32melif\u001b[0m \u001b[0mhook\u001b[0m \u001b[0;34m==\u001b[0m \u001b[0;34m'end'\u001b[0m\u001b[0;34m:\u001b[0m\u001b[0;34m\u001b[0m\u001b[0;34m\u001b[0m\u001b[0m\n\u001b[0;32m--> 297\u001b[0;31m       \u001b[0mself\u001b[0m\u001b[0;34m.\u001b[0m\u001b[0m_call_batch_end_hook\u001b[0m\u001b[0;34m(\u001b[0m\u001b[0mmode\u001b[0m\u001b[0;34m,\u001b[0m \u001b[0mbatch\u001b[0m\u001b[0;34m,\u001b[0m \u001b[0mlogs\u001b[0m\u001b[0;34m)\u001b[0m\u001b[0;34m\u001b[0m\u001b[0;34m\u001b[0m\u001b[0m\n\u001b[0m\u001b[1;32m    298\u001b[0m     \u001b[0;32melse\u001b[0m\u001b[0;34m:\u001b[0m\u001b[0;34m\u001b[0m\u001b[0;34m\u001b[0m\u001b[0m\n\u001b[1;32m    299\u001b[0m       raise ValueError(\n",
            "\u001b[0;32m/usr/local/lib/python3.7/dist-packages/keras/callbacks.py\u001b[0m in \u001b[0;36m_call_batch_end_hook\u001b[0;34m(self, mode, batch, logs)\u001b[0m\n\u001b[1;32m    316\u001b[0m       \u001b[0mself\u001b[0m\u001b[0;34m.\u001b[0m\u001b[0m_batch_times\u001b[0m\u001b[0;34m.\u001b[0m\u001b[0mappend\u001b[0m\u001b[0;34m(\u001b[0m\u001b[0mbatch_time\u001b[0m\u001b[0;34m)\u001b[0m\u001b[0;34m\u001b[0m\u001b[0;34m\u001b[0m\u001b[0m\n\u001b[1;32m    317\u001b[0m \u001b[0;34m\u001b[0m\u001b[0m\n\u001b[0;32m--> 318\u001b[0;31m     \u001b[0mself\u001b[0m\u001b[0;34m.\u001b[0m\u001b[0m_call_batch_hook_helper\u001b[0m\u001b[0;34m(\u001b[0m\u001b[0mhook_name\u001b[0m\u001b[0;34m,\u001b[0m \u001b[0mbatch\u001b[0m\u001b[0;34m,\u001b[0m \u001b[0mlogs\u001b[0m\u001b[0;34m)\u001b[0m\u001b[0;34m\u001b[0m\u001b[0;34m\u001b[0m\u001b[0m\n\u001b[0m\u001b[1;32m    319\u001b[0m \u001b[0;34m\u001b[0m\u001b[0m\n\u001b[1;32m    320\u001b[0m     \u001b[0;32mif\u001b[0m \u001b[0mlen\u001b[0m\u001b[0;34m(\u001b[0m\u001b[0mself\u001b[0m\u001b[0;34m.\u001b[0m\u001b[0m_batch_times\u001b[0m\u001b[0;34m)\u001b[0m \u001b[0;34m>=\u001b[0m \u001b[0mself\u001b[0m\u001b[0;34m.\u001b[0m\u001b[0m_num_batches_for_timing_check\u001b[0m\u001b[0;34m:\u001b[0m\u001b[0;34m\u001b[0m\u001b[0;34m\u001b[0m\u001b[0m\n",
            "\u001b[0;32m/usr/local/lib/python3.7/dist-packages/keras/callbacks.py\u001b[0m in \u001b[0;36m_call_batch_hook_helper\u001b[0;34m(self, hook_name, batch, logs)\u001b[0m\n\u001b[1;32m    354\u001b[0m     \u001b[0;32mfor\u001b[0m \u001b[0mcallback\u001b[0m \u001b[0;32min\u001b[0m \u001b[0mself\u001b[0m\u001b[0;34m.\u001b[0m\u001b[0mcallbacks\u001b[0m\u001b[0;34m:\u001b[0m\u001b[0;34m\u001b[0m\u001b[0;34m\u001b[0m\u001b[0m\n\u001b[1;32m    355\u001b[0m       \u001b[0mhook\u001b[0m \u001b[0;34m=\u001b[0m \u001b[0mgetattr\u001b[0m\u001b[0;34m(\u001b[0m\u001b[0mcallback\u001b[0m\u001b[0;34m,\u001b[0m \u001b[0mhook_name\u001b[0m\u001b[0;34m)\u001b[0m\u001b[0;34m\u001b[0m\u001b[0;34m\u001b[0m\u001b[0m\n\u001b[0;32m--> 356\u001b[0;31m       \u001b[0mhook\u001b[0m\u001b[0;34m(\u001b[0m\u001b[0mbatch\u001b[0m\u001b[0;34m,\u001b[0m \u001b[0mlogs\u001b[0m\u001b[0;34m)\u001b[0m\u001b[0;34m\u001b[0m\u001b[0;34m\u001b[0m\u001b[0m\n\u001b[0m\u001b[1;32m    357\u001b[0m \u001b[0;34m\u001b[0m\u001b[0m\n\u001b[1;32m    358\u001b[0m     \u001b[0;32mif\u001b[0m \u001b[0mself\u001b[0m\u001b[0;34m.\u001b[0m\u001b[0m_check_timing\u001b[0m\u001b[0;34m:\u001b[0m\u001b[0;34m\u001b[0m\u001b[0;34m\u001b[0m\u001b[0m\n",
            "\u001b[0;32m/usr/local/lib/python3.7/dist-packages/keras/callbacks.py\u001b[0m in \u001b[0;36mon_train_batch_end\u001b[0;34m(self, batch, logs)\u001b[0m\n\u001b[1;32m   1032\u001b[0m \u001b[0;34m\u001b[0m\u001b[0m\n\u001b[1;32m   1033\u001b[0m   \u001b[0;32mdef\u001b[0m \u001b[0mon_train_batch_end\u001b[0m\u001b[0;34m(\u001b[0m\u001b[0mself\u001b[0m\u001b[0;34m,\u001b[0m \u001b[0mbatch\u001b[0m\u001b[0;34m,\u001b[0m \u001b[0mlogs\u001b[0m\u001b[0;34m=\u001b[0m\u001b[0;32mNone\u001b[0m\u001b[0;34m)\u001b[0m\u001b[0;34m:\u001b[0m\u001b[0;34m\u001b[0m\u001b[0;34m\u001b[0m\u001b[0m\n\u001b[0;32m-> 1034\u001b[0;31m     \u001b[0mself\u001b[0m\u001b[0;34m.\u001b[0m\u001b[0m_batch_update_progbar\u001b[0m\u001b[0;34m(\u001b[0m\u001b[0mbatch\u001b[0m\u001b[0;34m,\u001b[0m \u001b[0mlogs\u001b[0m\u001b[0;34m)\u001b[0m\u001b[0;34m\u001b[0m\u001b[0;34m\u001b[0m\u001b[0m\n\u001b[0m\u001b[1;32m   1035\u001b[0m \u001b[0;34m\u001b[0m\u001b[0m\n\u001b[1;32m   1036\u001b[0m   \u001b[0;32mdef\u001b[0m \u001b[0mon_test_batch_end\u001b[0m\u001b[0;34m(\u001b[0m\u001b[0mself\u001b[0m\u001b[0;34m,\u001b[0m \u001b[0mbatch\u001b[0m\u001b[0;34m,\u001b[0m \u001b[0mlogs\u001b[0m\u001b[0;34m=\u001b[0m\u001b[0;32mNone\u001b[0m\u001b[0;34m)\u001b[0m\u001b[0;34m:\u001b[0m\u001b[0;34m\u001b[0m\u001b[0;34m\u001b[0m\u001b[0m\n",
            "\u001b[0;32m/usr/local/lib/python3.7/dist-packages/keras/callbacks.py\u001b[0m in \u001b[0;36m_batch_update_progbar\u001b[0;34m(self, batch, logs)\u001b[0m\n\u001b[1;32m   1104\u001b[0m     \u001b[0;32mif\u001b[0m \u001b[0mself\u001b[0m\u001b[0;34m.\u001b[0m\u001b[0mverbose\u001b[0m \u001b[0;34m==\u001b[0m \u001b[0;36m1\u001b[0m\u001b[0;34m:\u001b[0m\u001b[0;34m\u001b[0m\u001b[0;34m\u001b[0m\u001b[0m\n\u001b[1;32m   1105\u001b[0m       \u001b[0;31m# Only block async when verbose = 1.\u001b[0m\u001b[0;34m\u001b[0m\u001b[0;34m\u001b[0m\u001b[0;34m\u001b[0m\u001b[0m\n\u001b[0;32m-> 1106\u001b[0;31m       \u001b[0mlogs\u001b[0m \u001b[0;34m=\u001b[0m \u001b[0mtf_utils\u001b[0m\u001b[0;34m.\u001b[0m\u001b[0msync_to_numpy_or_python_type\u001b[0m\u001b[0;34m(\u001b[0m\u001b[0mlogs\u001b[0m\u001b[0;34m)\u001b[0m\u001b[0;34m\u001b[0m\u001b[0;34m\u001b[0m\u001b[0m\n\u001b[0m\u001b[1;32m   1107\u001b[0m       \u001b[0mself\u001b[0m\u001b[0;34m.\u001b[0m\u001b[0mprogbar\u001b[0m\u001b[0;34m.\u001b[0m\u001b[0mupdate\u001b[0m\u001b[0;34m(\u001b[0m\u001b[0mself\u001b[0m\u001b[0;34m.\u001b[0m\u001b[0mseen\u001b[0m\u001b[0;34m,\u001b[0m \u001b[0mlist\u001b[0m\u001b[0;34m(\u001b[0m\u001b[0mlogs\u001b[0m\u001b[0;34m.\u001b[0m\u001b[0mitems\u001b[0m\u001b[0;34m(\u001b[0m\u001b[0;34m)\u001b[0m\u001b[0;34m)\u001b[0m\u001b[0;34m,\u001b[0m \u001b[0mfinalize\u001b[0m\u001b[0;34m=\u001b[0m\u001b[0;32mFalse\u001b[0m\u001b[0;34m)\u001b[0m\u001b[0;34m\u001b[0m\u001b[0;34m\u001b[0m\u001b[0m\n\u001b[1;32m   1108\u001b[0m \u001b[0;34m\u001b[0m\u001b[0m\n",
            "\u001b[0;32m/usr/local/lib/python3.7/dist-packages/keras/utils/tf_utils.py\u001b[0m in \u001b[0;36msync_to_numpy_or_python_type\u001b[0;34m(tensors)\u001b[0m\n\u001b[1;32m    561\u001b[0m     \u001b[0;32mreturn\u001b[0m \u001b[0mt\u001b[0m\u001b[0;34m.\u001b[0m\u001b[0mitem\u001b[0m\u001b[0;34m(\u001b[0m\u001b[0;34m)\u001b[0m \u001b[0;32mif\u001b[0m \u001b[0mnp\u001b[0m\u001b[0;34m.\u001b[0m\u001b[0mndim\u001b[0m\u001b[0;34m(\u001b[0m\u001b[0mt\u001b[0m\u001b[0;34m)\u001b[0m \u001b[0;34m==\u001b[0m \u001b[0;36m0\u001b[0m \u001b[0;32melse\u001b[0m \u001b[0mt\u001b[0m\u001b[0;34m\u001b[0m\u001b[0;34m\u001b[0m\u001b[0m\n\u001b[1;32m    562\u001b[0m \u001b[0;34m\u001b[0m\u001b[0m\n\u001b[0;32m--> 563\u001b[0;31m   \u001b[0;32mreturn\u001b[0m \u001b[0mtf\u001b[0m\u001b[0;34m.\u001b[0m\u001b[0mnest\u001b[0m\u001b[0;34m.\u001b[0m\u001b[0mmap_structure\u001b[0m\u001b[0;34m(\u001b[0m\u001b[0m_to_single_numpy_or_python_type\u001b[0m\u001b[0;34m,\u001b[0m \u001b[0mtensors\u001b[0m\u001b[0;34m)\u001b[0m\u001b[0;34m\u001b[0m\u001b[0;34m\u001b[0m\u001b[0m\n\u001b[0m\u001b[1;32m    564\u001b[0m \u001b[0;34m\u001b[0m\u001b[0m\n\u001b[1;32m    565\u001b[0m \u001b[0;34m\u001b[0m\u001b[0m\n",
            "\u001b[0;32m/usr/local/lib/python3.7/dist-packages/tensorflow/python/util/nest.py\u001b[0m in \u001b[0;36mmap_structure\u001b[0;34m(func, *structure, **kwargs)\u001b[0m\n\u001b[1;32m    912\u001b[0m \u001b[0;34m\u001b[0m\u001b[0m\n\u001b[1;32m    913\u001b[0m   return pack_sequence_as(\n\u001b[0;32m--> 914\u001b[0;31m       \u001b[0mstructure\u001b[0m\u001b[0;34m[\u001b[0m\u001b[0;36m0\u001b[0m\u001b[0;34m]\u001b[0m\u001b[0;34m,\u001b[0m \u001b[0;34m[\u001b[0m\u001b[0mfunc\u001b[0m\u001b[0;34m(\u001b[0m\u001b[0;34m*\u001b[0m\u001b[0mx\u001b[0m\u001b[0;34m)\u001b[0m \u001b[0;32mfor\u001b[0m \u001b[0mx\u001b[0m \u001b[0;32min\u001b[0m \u001b[0mentries\u001b[0m\u001b[0;34m]\u001b[0m\u001b[0;34m,\u001b[0m\u001b[0;34m\u001b[0m\u001b[0;34m\u001b[0m\u001b[0m\n\u001b[0m\u001b[1;32m    915\u001b[0m       expand_composites=expand_composites)\n\u001b[1;32m    916\u001b[0m \u001b[0;34m\u001b[0m\u001b[0m\n",
            "\u001b[0;32m/usr/local/lib/python3.7/dist-packages/tensorflow/python/util/nest.py\u001b[0m in \u001b[0;36m<listcomp>\u001b[0;34m(.0)\u001b[0m\n\u001b[1;32m    912\u001b[0m \u001b[0;34m\u001b[0m\u001b[0m\n\u001b[1;32m    913\u001b[0m   return pack_sequence_as(\n\u001b[0;32m--> 914\u001b[0;31m       \u001b[0mstructure\u001b[0m\u001b[0;34m[\u001b[0m\u001b[0;36m0\u001b[0m\u001b[0;34m]\u001b[0m\u001b[0;34m,\u001b[0m \u001b[0;34m[\u001b[0m\u001b[0mfunc\u001b[0m\u001b[0;34m(\u001b[0m\u001b[0;34m*\u001b[0m\u001b[0mx\u001b[0m\u001b[0;34m)\u001b[0m \u001b[0;32mfor\u001b[0m \u001b[0mx\u001b[0m \u001b[0;32min\u001b[0m \u001b[0mentries\u001b[0m\u001b[0;34m]\u001b[0m\u001b[0;34m,\u001b[0m\u001b[0;34m\u001b[0m\u001b[0;34m\u001b[0m\u001b[0m\n\u001b[0m\u001b[1;32m    915\u001b[0m       expand_composites=expand_composites)\n\u001b[1;32m    916\u001b[0m \u001b[0;34m\u001b[0m\u001b[0m\n",
            "\u001b[0;32m/usr/local/lib/python3.7/dist-packages/keras/utils/tf_utils.py\u001b[0m in \u001b[0;36m_to_single_numpy_or_python_type\u001b[0;34m(t)\u001b[0m\n\u001b[1;32m    555\u001b[0m     \u001b[0;31m# Don't turn ragged or sparse tensors to NumPy.\u001b[0m\u001b[0;34m\u001b[0m\u001b[0;34m\u001b[0m\u001b[0;34m\u001b[0m\u001b[0m\n\u001b[1;32m    556\u001b[0m     \u001b[0;32mif\u001b[0m \u001b[0misinstance\u001b[0m\u001b[0;34m(\u001b[0m\u001b[0mt\u001b[0m\u001b[0;34m,\u001b[0m \u001b[0mtf\u001b[0m\u001b[0;34m.\u001b[0m\u001b[0mTensor\u001b[0m\u001b[0;34m)\u001b[0m\u001b[0;34m:\u001b[0m\u001b[0;34m\u001b[0m\u001b[0;34m\u001b[0m\u001b[0m\n\u001b[0;32m--> 557\u001b[0;31m       \u001b[0mt\u001b[0m \u001b[0;34m=\u001b[0m \u001b[0mt\u001b[0m\u001b[0;34m.\u001b[0m\u001b[0mnumpy\u001b[0m\u001b[0;34m(\u001b[0m\u001b[0;34m)\u001b[0m\u001b[0;34m\u001b[0m\u001b[0;34m\u001b[0m\u001b[0m\n\u001b[0m\u001b[1;32m    558\u001b[0m     \u001b[0;31m# Strings, ragged and sparse tensors don't have .item(). Return them as-is.\u001b[0m\u001b[0;34m\u001b[0m\u001b[0;34m\u001b[0m\u001b[0;34m\u001b[0m\u001b[0m\n\u001b[1;32m    559\u001b[0m     \u001b[0;32mif\u001b[0m \u001b[0;32mnot\u001b[0m \u001b[0misinstance\u001b[0m\u001b[0;34m(\u001b[0m\u001b[0mt\u001b[0m\u001b[0;34m,\u001b[0m \u001b[0;34m(\u001b[0m\u001b[0mnp\u001b[0m\u001b[0;34m.\u001b[0m\u001b[0mndarray\u001b[0m\u001b[0;34m,\u001b[0m \u001b[0mnp\u001b[0m\u001b[0;34m.\u001b[0m\u001b[0mgeneric\u001b[0m\u001b[0;34m)\u001b[0m\u001b[0;34m)\u001b[0m\u001b[0;34m:\u001b[0m\u001b[0;34m\u001b[0m\u001b[0;34m\u001b[0m\u001b[0m\n",
            "\u001b[0;32m/usr/local/lib/python3.7/dist-packages/tensorflow/python/framework/ops.py\u001b[0m in \u001b[0;36mnumpy\u001b[0;34m(self)\u001b[0m\n\u001b[1;32m   1221\u001b[0m     \"\"\"\n\u001b[1;32m   1222\u001b[0m     \u001b[0;31m# TODO(slebedev): Consider avoiding a copy for non-CPU or remote tensors.\u001b[0m\u001b[0;34m\u001b[0m\u001b[0;34m\u001b[0m\u001b[0;34m\u001b[0m\u001b[0m\n\u001b[0;32m-> 1223\u001b[0;31m     \u001b[0mmaybe_arr\u001b[0m \u001b[0;34m=\u001b[0m \u001b[0mself\u001b[0m\u001b[0;34m.\u001b[0m\u001b[0m_numpy\u001b[0m\u001b[0;34m(\u001b[0m\u001b[0;34m)\u001b[0m  \u001b[0;31m# pylint: disable=protected-access\u001b[0m\u001b[0;34m\u001b[0m\u001b[0;34m\u001b[0m\u001b[0m\n\u001b[0m\u001b[1;32m   1224\u001b[0m     \u001b[0;32mreturn\u001b[0m \u001b[0mmaybe_arr\u001b[0m\u001b[0;34m.\u001b[0m\u001b[0mcopy\u001b[0m\u001b[0;34m(\u001b[0m\u001b[0;34m)\u001b[0m \u001b[0;32mif\u001b[0m \u001b[0misinstance\u001b[0m\u001b[0;34m(\u001b[0m\u001b[0mmaybe_arr\u001b[0m\u001b[0;34m,\u001b[0m \u001b[0mnp\u001b[0m\u001b[0;34m.\u001b[0m\u001b[0mndarray\u001b[0m\u001b[0;34m)\u001b[0m \u001b[0;32melse\u001b[0m \u001b[0mmaybe_arr\u001b[0m\u001b[0;34m\u001b[0m\u001b[0;34m\u001b[0m\u001b[0m\n\u001b[1;32m   1225\u001b[0m \u001b[0;34m\u001b[0m\u001b[0m\n",
            "\u001b[0;32m/usr/local/lib/python3.7/dist-packages/tensorflow/python/framework/ops.py\u001b[0m in \u001b[0;36m_numpy\u001b[0;34m(self)\u001b[0m\n\u001b[1;32m   1187\u001b[0m   \u001b[0;32mdef\u001b[0m \u001b[0m_numpy\u001b[0m\u001b[0;34m(\u001b[0m\u001b[0mself\u001b[0m\u001b[0;34m)\u001b[0m\u001b[0;34m:\u001b[0m\u001b[0;34m\u001b[0m\u001b[0;34m\u001b[0m\u001b[0m\n\u001b[1;32m   1188\u001b[0m     \u001b[0;32mtry\u001b[0m\u001b[0;34m:\u001b[0m\u001b[0;34m\u001b[0m\u001b[0;34m\u001b[0m\u001b[0m\n\u001b[0;32m-> 1189\u001b[0;31m       \u001b[0;32mreturn\u001b[0m \u001b[0mself\u001b[0m\u001b[0;34m.\u001b[0m\u001b[0m_numpy_internal\u001b[0m\u001b[0;34m(\u001b[0m\u001b[0;34m)\u001b[0m\u001b[0;34m\u001b[0m\u001b[0;34m\u001b[0m\u001b[0m\n\u001b[0m\u001b[1;32m   1190\u001b[0m     \u001b[0;32mexcept\u001b[0m \u001b[0mcore\u001b[0m\u001b[0;34m.\u001b[0m\u001b[0m_NotOkStatusException\u001b[0m \u001b[0;32mas\u001b[0m \u001b[0me\u001b[0m\u001b[0;34m:\u001b[0m  \u001b[0;31m# pylint: disable=protected-access\u001b[0m\u001b[0;34m\u001b[0m\u001b[0;34m\u001b[0m\u001b[0m\n\u001b[1;32m   1191\u001b[0m       \u001b[0;32mraise\u001b[0m \u001b[0mcore\u001b[0m\u001b[0;34m.\u001b[0m\u001b[0m_status_to_exception\u001b[0m\u001b[0;34m(\u001b[0m\u001b[0me\u001b[0m\u001b[0;34m)\u001b[0m \u001b[0;32mfrom\u001b[0m \u001b[0;32mNone\u001b[0m  \u001b[0;31m# pylint: disable=protected-access\u001b[0m\u001b[0;34m\u001b[0m\u001b[0;34m\u001b[0m\u001b[0m\n",
            "\u001b[0;31mKeyboardInterrupt\u001b[0m: "
          ]
        }
      ],
      "source": [
        "history_callback2=model3.fit(train_ds,epochs=20, verbose=True,validation_data=valid_ds,callbacks=[lr_scheduler])"
      ]
    },
    {
      "cell_type": "code",
      "execution_count": null,
      "metadata": {
        "id": "nosjAcv9uAJH"
      },
      "outputs": [],
      "source": [
        ""
      ]
    },
    {
      "cell_type": "code",
      "execution_count": null,
      "metadata": {
        "id": "it82ZkeiPIzL"
      },
      "outputs": [],
      "source": [
        "model.evaluate(test_ds)"
      ]
    },
    {
      "cell_type": "code",
      "execution_count": null,
      "metadata": {
        "id": "fpJPo4T5PIzM"
      },
      "outputs": [],
      "source": [
        "history_callback2.history.keys()"
      ]
    },
    {
      "cell_type": "code",
      "execution_count": null,
      "metadata": {
        "id": "_hwPrbNDPIzN"
      },
      "outputs": [],
      "source": [
        "plt.plot(history_callback2.history['lr'],history_callback2.history['loss'])\n",
        "plt.xlabel('lr')\n",
        "plt.ylabel('loss')"
      ]
    },
    {
      "cell_type": "code",
      "execution_count": null,
      "metadata": {
        "id": "PRJn-fbLPIzO"
      },
      "outputs": [],
      "source": [
        "plt.plot(history_callback.history['loss']+history_callback2.history['loss'])\n",
        "plt.plot(history_callback.history['val_loss']+history_callback2.history['val_loss'])\n",
        "plt.xlabel('epochs')\n",
        "plt.ylabel('loss')\n",
        "plt.legend(['train','valid'])"
      ]
    },
    {
      "cell_type": "code",
      "execution_count": null,
      "metadata": {
        "id": "0rlh-aWmPIzP"
      },
      "outputs": [],
      "source": [
        "plt.plot(history_callback.history['accuracy']+history_callback2.history['accuracy'])\n",
        "plt.plot(history_callback.history['val_accuracy']+history_callback2.history['val_accuracy'])\n",
        "plt.xlabel('epochs')\n",
        "plt.ylabel('accuracy')\n",
        "\n",
        "plt.legend(['train','valid'])"
      ]
    },
    {
      "cell_type": "code",
      "execution_count": null,
      "metadata": {
        "id": "Gg3a7uDSuAL8"
      },
      "outputs": [],
      "source": [
        ""
      ]
    },
    {
      "cell_type": "code",
      "execution_count": null,
      "metadata": {
        "id": "fjbsYkM8uAO6"
      },
      "outputs": [],
      "source": [
        ""
      ]
    },
    {
      "cell_type": "code",
      "execution_count": null,
      "metadata": {
        "id": "rXAnpNjQuARY"
      },
      "outputs": [],
      "source": [
        ""
      ]
    },
    {
      "cell_type": "code",
      "execution_count": null,
      "metadata": {
        "id": "O0qyO60euAUg"
      },
      "outputs": [],
      "source": [
        ""
      ]
    },
    {
      "cell_type": "code",
      "execution_count": null,
      "metadata": {
        "id": "dID7Ny4WuAX2"
      },
      "outputs": [],
      "source": [
        ""
      ]
    },
    {
      "cell_type": "code",
      "execution_count": null,
      "metadata": {
        "id": "XbL3zwBylsYw"
      },
      "outputs": [],
      "source": [
        ""
      ]
    },
    {
      "cell_type": "code",
      "execution_count": null,
      "metadata": {
        "id": "Zk27Uab8lsbn"
      },
      "outputs": [],
      "source": [
        ""
      ]
    },
    {
      "cell_type": "code",
      "execution_count": null,
      "metadata": {
        "id": "5GflQIcQlseX"
      },
      "outputs": [],
      "source": [
        ""
      ]
    },
    {
      "cell_type": "markdown",
      "metadata": {
        "id": "5P5-csL1lxAV"
      },
      "source": [
        "# **VGG16 with include_top=True, trainable=True and augmentation** "
      ]
    },
    {
      "cell_type": "code",
      "execution_count": null,
      "metadata": {
        "id": "uX8AaSeBlt5u"
      },
      "outputs": [],
      "source": [
        "feature_extractor4=VGG16(include_top=True,weights='imagenet',input_shape=(224,224,3))\n",
        "feature_extractor4.trainable=True"
      ]
    },
    {
      "cell_type": "code",
      "execution_count": null,
      "metadata": {
        "id": "JXZnzE3alt5u"
      },
      "outputs": [],
      "source": [
        "data_aug=keras.Sequential([\n",
        "                           tf.keras.Input(shape=(200,200,3)),\n",
        "                           layers.experimental.preprocessing.Resizing(height=224,width=224),\n",
        "                           layers.experimental.preprocessing.RandomContrast(factor=0.25),\n",
        "                           layers.experimental.preprocessing.RandomFlip(mode=\"horizontal_and_vertical\"),\n",
        "                           layers.experimental.preprocessing.RandomZoom(0.5,0.6),\n",
        "                           layers.experimental.preprocessing.RandomRotation(0.5),\n",
        "                           layers.experimental.preprocessing.RandomTranslation(0.2,0.2),\n",
        "\n",
        "])"
      ]
    },
    {
      "cell_type": "code",
      "execution_count": null,
      "metadata": {
        "id": "nCdpwtBUlt5u"
      },
      "outputs": [],
      "source": [
        "input_=tf.keras.Input(shape=(200,200,3))\n",
        "x=data_aug(input_)\n",
        "x=feature_extractor4(x,training=True)\n",
        "#x = tf.keras.layers.GlobalAveragePooling2D()(x)\n",
        "x=layers.Dense(128,activation='relu')(x)\n",
        "x=layers.Dense(64,activation='relu')(x)\n",
        "x=layers.Dense(32,activation='relu')(x)\n",
        "output_=layers.Dense(6)(x)"
      ]
    },
    {
      "cell_type": "code",
      "execution_count": null,
      "metadata": {
        "id": "bsP41HXElt5u"
      },
      "outputs": [],
      "source": [
        "model4=keras.Model(input_,output_)"
      ]
    },
    {
      "cell_type": "code",
      "execution_count": null,
      "metadata": {
        "colab": {
          "base_uri": "https://localhost:8080/"
        },
        "id": "Zn59VUuglt5u",
        "outputId": "4aa7ba64-74a2-4d60-f4ca-aa6e2c3759c7"
      },
      "outputs": [
        {
          "name": "stdout",
          "output_type": "stream",
          "text": [
            "Model: \"model_8\"\n",
            "_________________________________________________________________\n",
            " Layer (type)                Output Shape              Param #   \n",
            "=================================================================\n",
            " input_30 (InputLayer)       [(None, 200, 200, 3)]     0         \n",
            "                                                                 \n",
            " sequential_7 (Sequential)   (None, 224, 224, 3)       0         \n",
            "                                                                 \n",
            " vgg16 (Functional)          (None, 1000)              138357544 \n",
            "                                                                 \n",
            " dense_32 (Dense)            (None, 128)               128128    \n",
            "                                                                 \n",
            " dense_33 (Dense)            (None, 64)                8256      \n",
            "                                                                 \n",
            " dense_34 (Dense)            (None, 32)                2080      \n",
            "                                                                 \n",
            " dense_35 (Dense)            (None, 6)                 198       \n",
            "                                                                 \n",
            "=================================================================\n",
            "Total params: 138,496,206\n",
            "Trainable params: 138,496,206\n",
            "Non-trainable params: 0\n",
            "_________________________________________________________________\n",
            "None\n"
          ]
        }
      ],
      "source": [
        "print(model4.summary())"
      ]
    },
    {
      "cell_type": "code",
      "execution_count": null,
      "metadata": {
        "id": "M6GJqM25lt5u"
      },
      "outputs": [],
      "source": [
        "model4.compile(loss=keras.losses.SparseCategoricalCrossentropy(from_logits=True),\n",
        "              optimizer=keras.optimizers.SGD(0.005),\n",
        "              metrics=['accuracy'])"
      ]
    },
    {
      "cell_type": "code",
      "execution_count": null,
      "metadata": {
        "colab": {
          "base_uri": "https://localhost:8080/"
        },
        "id": "x9Wzkm3Jlt5v",
        "outputId": "1ddc704e-d6aa-48c0-e763-91184007301f"
      },
      "outputs": [
        {
          "name": "stdout",
          "output_type": "stream",
          "text": [
            "Epoch 1/50\n",
            "105/105 [==============================] - 28s 249ms/step - loss: 1.7917 - accuracy: 0.1578 - val_loss: 1.7909 - val_accuracy: 0.2778\n",
            "Epoch 2/50\n",
            "105/105 [==============================] - 27s 254ms/step - loss: 1.7909 - accuracy: 0.2232 - val_loss: 1.7898 - val_accuracy: 0.3333\n",
            "Epoch 3/50\n",
            "105/105 [==============================] - 26s 248ms/step - loss: 1.7893 - accuracy: 0.2436 - val_loss: 1.7875 - val_accuracy: 0.3333\n",
            "Epoch 4/50\n",
            "105/105 [==============================] - 26s 247ms/step - loss: 1.7867 - accuracy: 0.3239 - val_loss: 1.7846 - val_accuracy: 0.3889\n",
            "Epoch 5/50\n",
            "105/105 [==============================] - 26s 250ms/step - loss: 1.7824 - accuracy: 0.3491 - val_loss: 1.7787 - val_accuracy: 0.4028\n",
            "Epoch 6/50\n",
            "105/105 [==============================] - 26s 248ms/step - loss: 1.7749 - accuracy: 0.3839 - val_loss: 1.7682 - val_accuracy: 0.3472\n",
            "Epoch 7/50\n",
            "105/105 [==============================] - 26s 248ms/step - loss: 1.7620 - accuracy: 0.3755 - val_loss: 1.7553 - val_accuracy: 0.3472\n",
            "Epoch 8/50\n",
            "105/105 [==============================] - 26s 250ms/step - loss: 1.7485 - accuracy: 0.3539 - val_loss: 1.7373 - val_accuracy: 0.3750\n",
            "Epoch 9/50\n",
            "105/105 [==============================] - 26s 249ms/step - loss: 1.7327 - accuracy: 0.3725 - val_loss: 1.7177 - val_accuracy: 0.5000\n",
            "Epoch 10/50\n",
            "105/105 [==============================] - 26s 249ms/step - loss: 1.7111 - accuracy: 0.3461 - val_loss: 1.6847 - val_accuracy: 0.5139\n",
            "Epoch 11/50\n",
            "105/105 [==============================] - 26s 249ms/step - loss: 1.6849 - accuracy: 0.3695 - val_loss: 1.6882 - val_accuracy: 0.5000\n",
            "Epoch 12/50\n",
            "105/105 [==============================] - 26s 249ms/step - loss: 1.6554 - accuracy: 0.4061 - val_loss: 1.6113 - val_accuracy: 0.5139\n",
            "Epoch 13/50\n",
            "105/105 [==============================] - 26s 249ms/step - loss: 1.6299 - accuracy: 0.3389 - val_loss: 1.5649 - val_accuracy: 0.4444\n",
            "Epoch 14/50\n",
            "105/105 [==============================] - 26s 249ms/step - loss: 1.5705 - accuracy: 0.3839 - val_loss: 1.5956 - val_accuracy: 0.3333\n",
            "Epoch 15/50\n",
            "105/105 [==============================] - 26s 251ms/step - loss: 1.6297 - accuracy: 0.3521 - val_loss: 1.4874 - val_accuracy: 0.4444\n",
            "Epoch 16/50\n",
            "105/105 [==============================] - 26s 249ms/step - loss: 1.5345 - accuracy: 0.3995 - val_loss: 1.4363 - val_accuracy: 0.5000\n",
            "Epoch 17/50\n",
            "105/105 [==============================] - 26s 250ms/step - loss: 1.5221 - accuracy: 0.3845 - val_loss: 1.4051 - val_accuracy: 0.4861\n",
            "Epoch 18/50\n",
            "105/105 [==============================] - 26s 250ms/step - loss: 1.4509 - accuracy: 0.4331 - val_loss: 1.3631 - val_accuracy: 0.4861\n",
            "Epoch 19/50\n",
            "105/105 [==============================] - 26s 249ms/step - loss: 1.4005 - accuracy: 0.4523 - val_loss: 1.3028 - val_accuracy: 0.5000\n",
            "Epoch 20/50\n",
            "105/105 [==============================] - 26s 249ms/step - loss: 1.3833 - accuracy: 0.4397 - val_loss: 1.4089 - val_accuracy: 0.5278\n",
            "Epoch 21/50\n",
            "105/105 [==============================] - 26s 249ms/step - loss: 1.3388 - accuracy: 0.4613 - val_loss: 1.2236 - val_accuracy: 0.5972\n",
            "Epoch 22/50\n",
            "105/105 [==============================] - 26s 250ms/step - loss: 1.2578 - accuracy: 0.5105 - val_loss: 1.1953 - val_accuracy: 0.5139\n",
            "Epoch 23/50\n",
            "105/105 [==============================] - 26s 249ms/step - loss: 1.2295 - accuracy: 0.5309 - val_loss: 1.1206 - val_accuracy: 0.6528\n",
            "Epoch 24/50\n",
            "105/105 [==============================] - 26s 249ms/step - loss: 1.1671 - accuracy: 0.5471 - val_loss: 1.0922 - val_accuracy: 0.6250\n",
            "Epoch 25/50\n",
            "105/105 [==============================] - 26s 249ms/step - loss: 1.1864 - accuracy: 0.5375 - val_loss: 1.0326 - val_accuracy: 0.6250\n",
            "Epoch 26/50\n",
            "105/105 [==============================] - 26s 249ms/step - loss: 1.1049 - accuracy: 0.5801 - val_loss: 0.9662 - val_accuracy: 0.6389\n",
            "Epoch 27/50\n",
            "105/105 [==============================] - 26s 249ms/step - loss: 1.1033 - accuracy: 0.5621 - val_loss: 0.9525 - val_accuracy: 0.6667\n",
            "Epoch 28/50\n",
            "105/105 [==============================] - 26s 249ms/step - loss: 1.1030 - accuracy: 0.5627 - val_loss: 0.9293 - val_accuracy: 0.5694\n",
            "Epoch 29/50\n",
            "105/105 [==============================] - 26s 249ms/step - loss: 1.0489 - accuracy: 0.5573 - val_loss: 0.9327 - val_accuracy: 0.5972\n",
            "Epoch 30/50\n",
            "105/105 [==============================] - 27s 254ms/step - loss: 1.0032 - accuracy: 0.5855 - val_loss: 0.9655 - val_accuracy: 0.6528\n",
            "Epoch 31/50\n",
            "105/105 [==============================] - 26s 248ms/step - loss: 0.9582 - accuracy: 0.5957 - val_loss: 0.7766 - val_accuracy: 0.6667\n",
            "Epoch 32/50\n",
            "105/105 [==============================] - 26s 248ms/step - loss: 1.0156 - accuracy: 0.5651 - val_loss: 0.8232 - val_accuracy: 0.6250\n",
            "Epoch 33/50\n",
            "105/105 [==============================] - 26s 250ms/step - loss: 1.0270 - accuracy: 0.5849 - val_loss: 0.7647 - val_accuracy: 0.6667\n",
            "Epoch 34/50\n",
            "105/105 [==============================] - 26s 249ms/step - loss: 0.9150 - accuracy: 0.6089 - val_loss: 0.7758 - val_accuracy: 0.6528\n",
            "Epoch 35/50\n",
            "105/105 [==============================] - 26s 250ms/step - loss: 0.8541 - accuracy: 0.6353 - val_loss: 0.7612 - val_accuracy: 0.7500\n",
            "Epoch 36/50\n",
            "105/105 [==============================] - 26s 249ms/step - loss: 0.9638 - accuracy: 0.6017 - val_loss: 0.6744 - val_accuracy: 0.6667\n",
            "Epoch 37/50\n",
            "105/105 [==============================] - 26s 249ms/step - loss: 1.0175 - accuracy: 0.5843 - val_loss: 0.7781 - val_accuracy: 0.6389\n",
            "Epoch 38/50\n",
            "105/105 [==============================] - 26s 249ms/step - loss: 0.9316 - accuracy: 0.6215 - val_loss: 0.7596 - val_accuracy: 0.6806\n",
            "Epoch 39/50\n",
            "105/105 [==============================] - 26s 249ms/step - loss: 0.7981 - accuracy: 0.6605 - val_loss: 0.6518 - val_accuracy: 0.6528\n",
            "Epoch 40/50\n",
            "105/105 [==============================] - 26s 249ms/step - loss: 0.7722 - accuracy: 0.6623 - val_loss: 0.6577 - val_accuracy: 0.7083\n",
            "Epoch 41/50\n",
            "105/105 [==============================] - 26s 249ms/step - loss: 0.9422 - accuracy: 0.6497 - val_loss: 0.6601 - val_accuracy: 0.7083\n",
            "Epoch 42/50\n",
            "105/105 [==============================] - 26s 251ms/step - loss: 0.6867 - accuracy: 0.7421 - val_loss: 0.5934 - val_accuracy: 0.6667\n",
            "Epoch 43/50\n",
            "105/105 [==============================] - 26s 249ms/step - loss: 0.6842 - accuracy: 0.7463 - val_loss: 0.5649 - val_accuracy: 0.8889\n",
            "Epoch 44/50\n",
            "105/105 [==============================] - 26s 249ms/step - loss: 0.6288 - accuracy: 0.8164 - val_loss: 1.1848 - val_accuracy: 0.5833\n",
            "Epoch 45/50\n",
            "105/105 [==============================] - 26s 249ms/step - loss: 0.7423 - accuracy: 0.7888 - val_loss: 0.4943 - val_accuracy: 0.8750\n",
            "Epoch 46/50\n",
            "105/105 [==============================] - 26s 249ms/step - loss: 0.5449 - accuracy: 0.8788 - val_loss: 0.4631 - val_accuracy: 0.9583\n",
            "Epoch 47/50\n",
            "105/105 [==============================] - 26s 248ms/step - loss: 0.5805 - accuracy: 0.8728 - val_loss: 0.6538 - val_accuracy: 0.7639\n",
            "Epoch 48/50\n",
            "105/105 [==============================] - 26s 248ms/step - loss: 0.5582 - accuracy: 0.8794 - val_loss: 0.4525 - val_accuracy: 0.9722\n",
            "Epoch 49/50\n",
            "105/105 [==============================] - 26s 250ms/step - loss: 0.4443 - accuracy: 0.9268 - val_loss: 0.3626 - val_accuracy: 0.9861\n",
            "Epoch 50/50\n",
            "105/105 [==============================] - 26s 249ms/step - loss: 0.4427 - accuracy: 0.9250 - val_loss: 0.3392 - val_accuracy: 0.9861\n"
          ]
        }
      ],
      "source": [
        "history4=model4.fit(train_ds, epochs=50, verbose=True,validation_data=valid_ds)"
      ]
    },
    {
      "cell_type": "code",
      "execution_count": null,
      "metadata": {
        "colab": {
          "base_uri": "https://localhost:8080/"
        },
        "id": "1h0aceaNlt5v",
        "outputId": "8dee9bda-c3ef-429b-9851-6ec3ead93d23"
      },
      "outputs": [
        {
          "name": "stdout",
          "output_type": "stream",
          "text": [
            "5/5 [==============================] - 0s 80ms/step - loss: 0.3321 - accuracy: 1.0000\n"
          ]
        },
        {
          "data": {
            "text/plain": [
              "[0.3321087658405304, 1.0]"
            ]
          },
          "execution_count": 112,
          "metadata": {},
          "output_type": "execute_result"
        }
      ],
      "source": [
        "model4.evaluate(test_ds)"
      ]
    },
    {
      "cell_type": "code",
      "execution_count": null,
      "metadata": {
        "colab": {
          "base_uri": "https://localhost:8080/"
        },
        "id": "wbpilhRBlt5v",
        "outputId": "b47f43ee-5faa-424d-8027-4a9b585f72d5"
      },
      "outputs": [
        {
          "data": {
            "text/plain": [
              "dict_keys(['loss', 'accuracy', 'val_loss', 'val_accuracy'])"
            ]
          },
          "execution_count": 113,
          "metadata": {},
          "output_type": "execute_result"
        }
      ],
      "source": [
        "history4.history.keys()"
      ]
    },
    {
      "cell_type": "code",
      "execution_count": null,
      "metadata": {
        "id": "irqXyh_Alt5v"
      },
      "outputs": [],
      "source": [
        "import matplotlib.pyplot as plt\n",
        "%matplotlib inline"
      ]
    },
    {
      "cell_type": "code",
      "execution_count": null,
      "metadata": {
        "colab": {
          "base_uri": "https://localhost:8080/",
          "height": 296
        },
        "id": "l8-qgsdLlt5v",
        "outputId": "be9bed6d-eb64-4d87-d15d-864abec85584"
      },
      "outputs": [
        {
          "data": {
            "text/plain": [
              "<matplotlib.legend.Legend at 0x7f9fe2830f10>"
            ]
          },
          "execution_count": 115,
          "metadata": {},
          "output_type": "execute_result"
        },
        {
          "data": {
            "image/png": "[encoded data removed]",
            "text/plain": [
              "<Figure size 432x288 with 1 Axes>"
            ]
          },
          "metadata": {},
          "output_type": "display_data"
        }
      ],
      "source": [
        "plt.plot(history4.history['loss'])\n",
        "plt.plot(history4.history['val_loss'])\n",
        "plt.xlabel('epochs')\n",
        "plt.ylabel('loss')\n",
        "plt.legend(['train','valid'])"
      ]
    },
    {
      "cell_type": "code",
      "execution_count": null,
      "metadata": {
        "colab": {
          "base_uri": "https://localhost:8080/",
          "height": 296
        },
        "id": "vg7YB80Hlt5v",
        "outputId": "a43566d9-87bd-4964-bfa4-b60c70cdc848"
      },
      "outputs": [
        {
          "data": {
            "text/plain": [
              "<matplotlib.legend.Legend at 0x7f9fe2733f90>"
            ]
          },
          "execution_count": 116,
          "metadata": {},
          "output_type": "execute_result"
        },
        {
          "data": {
            "image/png": "[encoded data removed]",
            "text/plain": [
              "<Figure size 432x288 with 1 Axes>"
            ]
          },
          "metadata": {},
          "output_type": "display_data"
        }
      ],
      "source": [
        "plt.plot(history4.history['accuracy'])\n",
        "plt.plot(history4.history['val_accuracy'])\n",
        "plt.xlabel('epochs')\n",
        "plt.ylabel('accuracy')\n",
        "\n",
        "plt.legend(['train','valid'])"
      ]
    },
    {
      "cell_type": "code",
      "execution_count": null,
      "metadata": {
        "id": "GJBW4A4ylshB"
      },
      "outputs": [],
      "source": [
        ""
      ]
    },
    {
      "cell_type": "code",
      "execution_count": null,
      "metadata": {
        "id": "4IE5VUyvlsje"
      },
      "outputs": [],
      "source": [
        ""
      ]
    },
    {
      "cell_type": "code",
      "execution_count": null,
      "metadata": {
        "id": "rqj7cHkdlsl4"
      },
      "outputs": [],
      "source": [
        ""
      ]
    },
    {
      "cell_type": "code",
      "execution_count": null,
      "metadata": {
        "id": "QSvCtGP4lsoX"
      },
      "outputs": [],
      "source": [
        ""
      ]
    },
    {
      "cell_type": "code",
      "execution_count": null,
      "metadata": {
        "id": "9fjd31lLlsq3"
      },
      "outputs": [],
      "source": [
        ""
      ]
    },
    {
      "cell_type": "code",
      "execution_count": null,
      "metadata": {
        "id": "tkixCdcWlstW"
      },
      "outputs": [],
      "source": [
        ""
      ]
    },
    {
      "cell_type": "code",
      "execution_count": null,
      "metadata": {
        "id": "UKMiHELWlsv_"
      },
      "outputs": [],
      "source": [
        ""
      ]
    },
    {
      "cell_type": "code",
      "execution_count": null,
      "metadata": {
        "id": "tSwrwwhslsy3"
      },
      "outputs": [],
      "source": [
        ""
      ]
    },
    {
      "cell_type": "code",
      "execution_count": null,
      "metadata": {
        "id": "uOM2IJQils1q"
      },
      "outputs": [],
      "source": [
        ""
      ]
    },
    {
      "cell_type": "code",
      "execution_count": null,
      "metadata": {
        "id": "5sCu1omLls3i"
      },
      "outputs": [],
      "source": [
        ""
      ]
    },
    {
      "cell_type": "code",
      "execution_count": null,
      "metadata": {
        "id": "E5KZR3ejls6b"
      },
      "outputs": [],
      "source": [
        ""
      ]
    },
    {
      "cell_type": "code",
      "execution_count": null,
      "metadata": {
        "id": "uUSc00rPlXF9"
      },
      "outputs": [],
      "source": [
        ""
      ]
    },
    {
      "cell_type": "code",
      "execution_count": null,
      "metadata": {
        "id": "OLm6G2KglXLi"
      },
      "outputs": [],
      "source": [
        ""
      ]
    },
    {
      "cell_type": "code",
      "execution_count": null,
      "metadata": {
        "colab": {
          "base_uri": "https://localhost:8080/",
          "height": 363
        },
        "id": "XVeheo-v-Fbm",
        "outputId": "d6b47104-ce1a-469f-9e45-6cb0d5749d6f"
      },
      "outputs": [
        {
          "ename": "ValueError",
          "evalue": "ignored",
          "output_type": "error",
          "traceback": [
            "\u001b[0;31m---------------------------------------------------------------------------\u001b[0m",
            "\u001b[0;31mValueError\u001b[0m                                Traceback (most recent call last)",
            "\u001b[0;32m<ipython-input-74-88a9f4fee65e>\u001b[0m in \u001b[0;36m<module>\u001b[0;34m()\u001b[0m\n\u001b[0;32m----> 1\u001b[0;31m \u001b[0mfeature_extractor\u001b[0m\u001b[0;34m=\u001b[0m\u001b[0mResNet50\u001b[0m\u001b[0;34m(\u001b[0m\u001b[0mweights\u001b[0m\u001b[0;34m=\u001b[0m\u001b[0;34m'imagenet'\u001b[0m\u001b[0;34m,\u001b[0m\u001b[0minput_shape\u001b[0m\u001b[0;34m=\u001b[0m\u001b[0;34m(\u001b[0m\u001b[0;36m200\u001b[0m\u001b[0;34m,\u001b[0m\u001b[0;36m200\u001b[0m\u001b[0;34m,\u001b[0m\u001b[0;36m3\u001b[0m\u001b[0;34m)\u001b[0m\u001b[0;34m)\u001b[0m\u001b[0;34m\u001b[0m\u001b[0;34m\u001b[0m\u001b[0m\n\u001b[0m\u001b[1;32m      2\u001b[0m \u001b[0mfeature_extractor\u001b[0m\u001b[0;34m.\u001b[0m\u001b[0mtrainable\u001b[0m\u001b[0;34m=\u001b[0m\u001b[0;32mTrue\u001b[0m\u001b[0;34m\u001b[0m\u001b[0;34m\u001b[0m\u001b[0m\n",
            "\u001b[0;32m/usr/local/lib/python3.7/dist-packages/keras/applications/resnet.py\u001b[0m in \u001b[0;36mResNet50\u001b[0;34m(include_top, weights, input_tensor, input_shape, pooling, classes, **kwargs)\u001b[0m\n\u001b[1;32m    457\u001b[0m \u001b[0;34m\u001b[0m\u001b[0m\n\u001b[1;32m    458\u001b[0m   return ResNet(stack_fn, False, True, 'resnet50', include_top, weights,\n\u001b[0;32m--> 459\u001b[0;31m                 input_tensor, input_shape, pooling, classes, **kwargs)\n\u001b[0m\u001b[1;32m    460\u001b[0m \u001b[0;34m\u001b[0m\u001b[0m\n\u001b[1;32m    461\u001b[0m \u001b[0;34m\u001b[0m\u001b[0m\n",
            "\u001b[0;32m/usr/local/lib/python3.7/dist-packages/keras/applications/resnet.py\u001b[0m in \u001b[0;36mResNet\u001b[0;34m(stack_fn, preact, use_bias, model_name, include_top, weights, input_tensor, input_shape, pooling, classes, classifier_activation, **kwargs)\u001b[0m\n\u001b[1;32m    139\u001b[0m       \u001b[0mdata_format\u001b[0m\u001b[0;34m=\u001b[0m\u001b[0mbackend\u001b[0m\u001b[0;34m.\u001b[0m\u001b[0mimage_data_format\u001b[0m\u001b[0;34m(\u001b[0m\u001b[0;34m)\u001b[0m\u001b[0;34m,\u001b[0m\u001b[0;34m\u001b[0m\u001b[0;34m\u001b[0m\u001b[0m\n\u001b[1;32m    140\u001b[0m       \u001b[0mrequire_flatten\u001b[0m\u001b[0;34m=\u001b[0m\u001b[0minclude_top\u001b[0m\u001b[0;34m,\u001b[0m\u001b[0;34m\u001b[0m\u001b[0;34m\u001b[0m\u001b[0m\n\u001b[0;32m--> 141\u001b[0;31m       weights=weights)\n\u001b[0m\u001b[1;32m    142\u001b[0m \u001b[0;34m\u001b[0m\u001b[0m\n\u001b[1;32m    143\u001b[0m   \u001b[0;32mif\u001b[0m \u001b[0minput_tensor\u001b[0m \u001b[0;32mis\u001b[0m \u001b[0;32mNone\u001b[0m\u001b[0;34m:\u001b[0m\u001b[0;34m\u001b[0m\u001b[0;34m\u001b[0m\u001b[0m\n",
            "\u001b[0;32m/usr/local/lib/python3.7/dist-packages/keras/applications/imagenet_utils.py\u001b[0m in \u001b[0;36mobtain_input_shape\u001b[0;34m(input_shape, default_size, min_size, data_format, require_flatten, weights)\u001b[0m\n\u001b[1;32m    347\u001b[0m     \u001b[0;32mif\u001b[0m \u001b[0minput_shape\u001b[0m \u001b[0;32mis\u001b[0m \u001b[0;32mnot\u001b[0m \u001b[0;32mNone\u001b[0m\u001b[0;34m:\u001b[0m\u001b[0;34m\u001b[0m\u001b[0;34m\u001b[0m\u001b[0m\n\u001b[1;32m    348\u001b[0m       \u001b[0;32mif\u001b[0m \u001b[0minput_shape\u001b[0m \u001b[0;34m!=\u001b[0m \u001b[0mdefault_shape\u001b[0m\u001b[0;34m:\u001b[0m\u001b[0;34m\u001b[0m\u001b[0;34m\u001b[0m\u001b[0m\n\u001b[0;32m--> 349\u001b[0;31m         raise ValueError('When setting `include_top=True` '\n\u001b[0m\u001b[1;32m    350\u001b[0m                          \u001b[0;34m'and loading `imagenet` weights, '\u001b[0m\u001b[0;34m\u001b[0m\u001b[0;34m\u001b[0m\u001b[0m\n\u001b[1;32m    351\u001b[0m                          \u001b[0;34mf'`input_shape` should be {default_shape}.  '\u001b[0m\u001b[0;34m\u001b[0m\u001b[0;34m\u001b[0m\u001b[0m\n",
            "\u001b[0;31mValueError\u001b[0m: When setting `include_top=True` and loading `imagenet` weights, `input_shape` should be (224, 224, 3).  Received: input_shape=(200, 200, 3)"
          ]
        }
      ],
      "source": [
        "# feature_extractor=ResNet50(weights='imagenet',input_shape=(200,200,3))\n",
        "# feature_extractor.trainable=True"
      ]
    }
  ],
  "metadata": {
    "colab": {
      "collapsed_sections": [],
      "name": "VGG16_Draft2.ipynb",
      "provenance": []
    },
    "gpuClass": "standard",
    "kernelspec": {
      "display_name": "Python 3 (ipykernel)",
      "language": "python",
      "name": "python3"
    },
    "language_info": {
      "codemirror_mode": {
        "name": "ipython",
        "version": 3
      },
      "file_extension": ".py",
      "mimetype": "text/x-python",
      "name": "python",
      "nbconvert_exporter": "python",
      "pygments_lexer": "ipython3",
      "version": "3.9.7"
    }
  },
  "nbformat": 4,
  "nbformat_minor": 0
}