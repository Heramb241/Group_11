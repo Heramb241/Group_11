{
 "cells": [
  {
   "cell_type": "markdown",
   "id": "1d395f0c",
   "metadata": {},
   "source": [
    "# Metal Surface Defect Classification using Convolutional Neural Networks"
   ]
  },
  {
   "cell_type": "markdown",
   "id": "143f895a",
   "metadata": {},
   "source": [
    "## Step1: Importing Libraries"
   ]
  },
  {
   "cell_type": "code",
   "execution_count": 1,
   "id": "e20fd5b8",
   "metadata": {},
   "outputs": [],
   "source": [
    "# libraries for importing data\n",
    "import os\n",
    "import math\n",
    "import statistics\n",
    "from pathlib import Path\n",
    "from IPython.display import display\n",
    "import warnings\n",
    "warnings.filterwarnings('ignore')\n",
    "\n",
    "# libraries for data augmentation\n",
    "from natsort import natsorted, ns\n",
    "from skimage import io\n",
    "from skimage.transform import rotate\n",
    "\n",
    "# importing basic libraries for data handling\n",
    "import numpy as np\n",
    "import matplotlib.pyplot as plt\n",
    "\n",
    "# importing libraries for developing architecture of convolutional neural network with hyper-parameter tuning\n",
    "import tensorflow as tf\n",
    "import keras_tuner as kt\n",
    "from keras_tuner.tuners import RandomSearch, BayesianOptimization\n",
    "from keras_tuner.engine.hyperparameters import HyperParameters\n",
    "from tensorflow.keras import Sequential\n",
    "from tensorflow.keras.layers import Flatten, Dense, Dropout\n",
    "from tensorflow.keras.losses import sparse_categorical_crossentropy\n",
    "from tensorflow.keras.layers import Conv2D, MaxPooling2D\n",
    "from tensorflow.keras.optimizers import Adam\n",
    "\n",
    "# to visualise the model and classification results \n",
    "from keras_visualizer import visualizer \n",
    "from mlxtend.evaluate import confusion_matrix\n",
    "from mlxtend.plotting import plot_confusion_matrix\n",
    "from sklearn.metrics import classification_report"
   ]
  },
  {
   "cell_type": "markdown",
   "id": "daa531cf",
   "metadata": {},
   "source": [
    "## Step2: Establishing datapath"
   ]
  },
  {
   "cell_type": "code",
   "execution_count": 2,
   "id": "b1724355",
   "metadata": {},
   "outputs": [
    {
     "name": "stdout",
     "output_type": "stream",
     "text": [
      "Enter datapath for training dataset\n",
      "D:/Group 11/Data/train\n",
      "The path for training dataset is:  D:\\Group 11\\Data\\train\n"
     ]
    }
   ],
   "source": [
    "print(\"Enter datapath for training dataset\")\n",
    "train_data_folder = Path(str(input())) #path for training dataset\n",
    "print(\"The path for training dataset is: \",train_data_folder)"
   ]
  },
  {
   "cell_type": "code",
   "execution_count": 3,
   "id": "7abe7fb3",
   "metadata": {},
   "outputs": [
    {
     "name": "stdout",
     "output_type": "stream",
     "text": [
      "Enter datapath for test dataset\n",
      "D:/Group 11/Data/test\n",
      "The path for test dataset is:  D:\\Group 11\\Data\\test\n"
     ]
    }
   ],
   "source": [
    "print(\"Enter datapath for test dataset\")\n",
    "test_data_folder = Path(str(input())) #path for test dataset\n",
    "print(\"The path for test dataset is: \",test_data_folder)"
   ]
  },
  {
   "cell_type": "code",
   "execution_count": 4,
   "id": "56fe312c",
   "metadata": {
    "scrolled": true
   },
   "outputs": [
    {
     "name": "stdout",
     "output_type": "stream",
     "text": [
      "Enter datapath for validation dataset\n",
      "D:/Group 11/Data/valid\n",
      "The path for validation dataset is:  D:\\Group 11\\Data\\valid\n"
     ]
    }
   ],
   "source": [
    "print(\"Enter datapath for validation dataset\")\n",
    "validation_data_folder = Path(str(input())) #path for validation dataset\n",
    "print(\"The path for validation dataset is: \",validation_data_folder)"
   ]
  },
  {
   "cell_type": "markdown",
   "id": "e1c433a5",
   "metadata": {},
   "source": [
    "## Step3: Defining a function for Data Augmentation and Dataset Creation"
   ]
  },
  {
   "cell_type": "code",
   "execution_count": 5,
   "id": "81f146b0",
   "metadata": {},
   "outputs": [],
   "source": [
    "def image_data(data_folder):\n",
    "    \"\"\"This function creates an augmented image array, a list of unique labels \n",
    "    of defects and respective encoded labels of each iamges.  \n",
    "    Parameters\n",
    "    ----------\n",
    "    data_folder : path\n",
    "        The given path for traing, testing and validation dataset.\n",
    "    Returns\n",
    "    ----------\n",
    "    image_array, labels_array_true, labels_array_encoded : numpy array\n",
    "        Returns numpy array for augmented images their respective encoded labels\n",
    "        and true unique labels.\n",
    "    \"\"\"\n",
    "    # read images class directories\n",
    "    sns_path, sns_dirs, sns_files = next(os.walk(data_folder))\n",
    "    sns_path1, sns_dirs1, sns_files1 = next(os.walk(sns_path / Path(sns_dirs[0])))\n",
    "    sns_path2, sns_dirs2, sns_files2 = next(os.walk(sns_path / Path(sns_dirs[1])))\n",
    "    sns_path3, sns_dirs3, sns_files3 = next(os.walk(sns_path / Path(sns_dirs[2])))\n",
    "    sns_path4, sns_dirs4, sns_files4 = next(os.walk(sns_path / Path(sns_dirs[3])))\n",
    "    sns_path5, sns_dirs5, sns_files5 = next(os.walk(sns_path / Path(sns_dirs[4])))\n",
    "    sns_path6, sns_dirs6, sns_files6 = next(os.walk(sns_path / Path(sns_dirs[5])))\n",
    "    \n",
    "    sns_files_list = [sns_files1,sns_files2,sns_files3,sns_files4,sns_files5,sns_files6]\n",
    "    sns_path_list = [sns_path1,sns_path2,sns_path3,sns_path4,sns_path5,sns_path6]\n",
    "    \n",
    "    rot_angle = [90,180,270,360] #roatation angles\n",
    "    \n",
    "    image_array_list = []\n",
    "    labels = []\n",
    "\n",
    "    for i in rot_angle:\n",
    "        for l in sns_dirs:\n",
    "            for j in sns_path_list:\n",
    "                for k in sns_files_list:\n",
    "                    try:\n",
    "                        for filename in k:\n",
    "                            img = io.imread(os.path.join(j, filename))\n",
    "                            img_rot = rotate(img, i, cval=255)\n",
    "                            if l in os.path.join(j, filename):\n",
    "                                image_array_list.append(img_rot)\n",
    "                                labels.append(l)\n",
    "                    except:\n",
    "                        pass\n",
    "    labels_array = np.array(labels) #creating labels array\n",
    "    labels_array_true, labels_array_encoded = np.unique(labels_array, return_inverse=True) #creating unique labels and encoded labels array\n",
    "    image_array = np.array(image_array_list) #creating image dataset array\n",
    "    return image_array, labels_array_true, labels_array_encoded"
   ]
  },
  {
   "cell_type": "code",
   "execution_count": 6,
   "id": "f29ab611",
   "metadata": {},
   "outputs": [],
   "source": [
    "train_image_array, train_labels_array_true, train_labels_array_encoded = image_data(train_data_folder)"
   ]
  },
  {
   "cell_type": "code",
   "execution_count": 7,
   "id": "0055409d",
   "metadata": {},
   "outputs": [],
   "source": [
    "test_image_array, test_labels_array_true, test_labels_array_encoded = image_data(test_data_folder)"
   ]
  },
  {
   "cell_type": "code",
   "execution_count": 8,
   "id": "b6035b1c",
   "metadata": {},
   "outputs": [],
   "source": [
    "validation_image_array, validation_labels_array_true, validation_labels_array_encoded = image_data(validation_data_folder)"
   ]
  },
  {
   "cell_type": "markdown",
   "id": "8ccfb480",
   "metadata": {},
   "source": [
    "## Step4: Defining function for CNN architecture with hyperparameters"
   ]
  },
  {
   "cell_type": "code",
   "execution_count": 9,
   "id": "3d60b595",
   "metadata": {},
   "outputs": [],
   "source": [
    "def build_model_cnn2d(hp):\n",
    "        \"\"\"This function defines the base sequential model of CNN-2D for\n",
    "        hyperparameter tuning.\n",
    "\n",
    "        Parameters\n",
    "        ----------\n",
    "        hp : object\n",
    "            It is the object of Keras hyperparameter tuner.\n",
    "\n",
    "        Returns\n",
    "        ----------\n",
    "        CNN : json\n",
    "            Returns tuned model parameters along with model architecture.\n",
    "        \"\"\"\n",
    "        hp_units = hp.Int('units', min_value=16, max_value=128, step=16)\n",
    "        \n",
    "        CNN = Sequential()\n",
    "        CNN.add(Conv2D(hp_units,(2,2), activation = 'relu', input_shape = (train_image_array.shape[1], train_image_array.shape[2], 1)))\n",
    "        CNN.add(Dropout(hp.Float('Dropout_rate',min_value=0,max_value=0.5,step=0.1)))\n",
    "        CNN.add(MaxPooling2D(pool_size=(2, 2)))\n",
    "        \n",
    "        CNN.add(Conv2D(hp_units,(2,2), activation = 'relu'))\n",
    "        CNN.add(Dropout(hp.Float('Dropout_rate',min_value=0,max_value=0.5,step=0.1)))\n",
    "        CNN.add(MaxPooling2D(pool_size=(2, 2)))\n",
    "        \n",
    "        CNN.add(Flatten())\n",
    "\n",
    "        CNN.add(Dense(hp_units, activation=hp.Choice('dense_activation',values=['relu', 'tanh'],default='relu')))\n",
    "        CNN.add(Dropout(hp.Float('Dropout_rate',min_value=0,max_value=0.5,step=0.1)))\n",
    "        \n",
    "        CNN.add(Dense(hp_units, activation=hp.Choice('dense_activation',values=['relu', 'tanh'],default='relu')))\n",
    "        CNN.add(Dropout(hp.Float('Dropout_rate',min_value=0,max_value=0.5,step=0.1)))\n",
    "\n",
    "        CNN.add(Dense(6, activation='softmax'))\n",
    "\n",
    "        # Compile model\n",
    "        CNN.compile(optimizer=Adam(learning_rate = 0.001), loss = 'sparse_categorical_crossentropy', metrics = ['accuracy'])\n",
    "\n",
    "        return CNN"
   ]
  },
  {
   "cell_type": "markdown",
   "id": "aa4b4726",
   "metadata": {},
   "source": [
    "## Step5: Deploying tuner for generating best model"
   ]
  },
  {
   "cell_type": "code",
   "execution_count": 10,
   "id": "e9b8355c",
   "metadata": {},
   "outputs": [
    {
     "name": "stdout",
     "output_type": "stream",
     "text": [
      "INFO:tensorflow:Reloading Oracle from existing project hyperparameter_defect_classfn\\kerastuner_epochs\\oracle.json\n",
      "INFO:tensorflow:Reloading Tuner from hyperparameter_defect_classfn\\kerastuner_epochs\\tuner0.json\n"
     ]
    }
   ],
   "source": [
    "tuner = kt.BayesianOptimization(build_model_cnn2d,\n",
    "                     objective='val_accuracy',\n",
    "                     max_trials=10,\n",
    "                     directory='hyperparameter_defect_classfn',\n",
    "                     project_name='kerastuner_epochs')"
   ]
  },
  {
   "cell_type": "code",
   "execution_count": 11,
   "id": "dd07851b",
   "metadata": {},
   "outputs": [],
   "source": [
    "stop_early = tf.keras.callbacks.EarlyStopping(monitor='val_loss', patience=5)"
   ]
  },
  {
   "cell_type": "code",
   "execution_count": 12,
   "id": "97c40248",
   "metadata": {
    "scrolled": false
   },
   "outputs": [
    {
     "name": "stdout",
     "output_type": "stream",
     "text": [
      "INFO:tensorflow:Oracle triggered exit\n"
     ]
    }
   ],
   "source": [
    "tuner.search(train_image_array, train_labels_array_encoded, epochs=10, validation_data = (test_image_array, test_labels_array_encoded), callbacks=[stop_early])\n",
    "model=tuner.get_best_models(num_models=1)[0] #getting best model"
   ]
  },
  {
   "cell_type": "code",
   "execution_count": 13,
   "id": "6382a92d",
   "metadata": {},
   "outputs": [
    {
     "name": "stdout",
     "output_type": "stream",
     "text": [
      "Model: \"sequential\"\n",
      "_________________________________________________________________\n",
      " Layer (type)                Output Shape              Param #   \n",
      "=================================================================\n",
      " conv2d (Conv2D)             (None, 199, 199, 128)     640       \n",
      "                                                                 \n",
      " dropout (Dropout)           (None, 199, 199, 128)     0         \n",
      "                                                                 \n",
      " max_pooling2d (MaxPooling2D  (None, 99, 99, 128)      0         \n",
      " )                                                               \n",
      "                                                                 \n",
      " conv2d_1 (Conv2D)           (None, 98, 98, 128)       65664     \n",
      "                                                                 \n",
      " dropout_1 (Dropout)         (None, 98, 98, 128)       0         \n",
      "                                                                 \n",
      " max_pooling2d_1 (MaxPooling  (None, 49, 49, 128)      0         \n",
      " 2D)                                                             \n",
      "                                                                 \n",
      " flatten (Flatten)           (None, 307328)            0         \n",
      "                                                                 \n",
      " dense (Dense)               (None, 128)               39338112  \n",
      "                                                                 \n",
      " dropout_2 (Dropout)         (None, 128)               0         \n",
      "                                                                 \n",
      " dense_1 (Dense)             (None, 128)               16512     \n",
      "                                                                 \n",
      " dropout_3 (Dropout)         (None, 128)               0         \n",
      "                                                                 \n",
      " dense_2 (Dense)             (None, 6)                 774       \n",
      "                                                                 \n",
      "=================================================================\n",
      "Total params: 39,421,702\n",
      "Trainable params: 39,421,702\n",
      "Non-trainable params: 0\n",
      "_________________________________________________________________\n"
     ]
    }
   ],
   "source": [
    "model.summary() # printing architecture of best model"
   ]
  },
  {
   "cell_type": "markdown",
   "id": "6e09def0",
   "metadata": {},
   "source": [
    "### (Optional) Visualise the best model "
   ]
  },
  {
   "cell_type": "code",
   "execution_count": 14,
   "id": "5d447253",
   "metadata": {},
   "outputs": [],
   "source": [
    "visualizer(model, format='png', view=True) #visualising architecture for best model"
   ]
  },
  {
   "cell_type": "markdown",
   "id": "ac43fbd6",
   "metadata": {},
   "source": [
    "## Step6: Fitting best model for augmented dataset"
   ]
  },
  {
   "cell_type": "code",
   "execution_count": 15,
   "id": "ee3e57f3",
   "metadata": {
    "scrolled": true
   },
   "outputs": [
    {
     "name": "stdout",
     "output_type": "stream",
     "text": [
      "Epoch 1/5\n",
      "207/207 [==============================] - 323s 2s/step - loss: 0.1478 - accuracy: 0.9467 - val_loss: 0.3802 - val_accuracy: 0.8576\n",
      "Epoch 2/5\n",
      "207/207 [==============================] - 323s 2s/step - loss: 0.1926 - accuracy: 0.9336 - val_loss: 0.1394 - val_accuracy: 0.9514\n",
      "Epoch 3/5\n",
      "207/207 [==============================] - 343s 2s/step - loss: 0.1208 - accuracy: 0.9589 - val_loss: 0.1904 - val_accuracy: 0.9479\n",
      "Epoch 4/5\n",
      "207/207 [==============================] - 363s 2s/step - loss: 0.0890 - accuracy: 0.9688 - val_loss: 0.2311 - val_accuracy: 0.9271\n",
      "Epoch 5/5\n",
      "207/207 [==============================] - 377s 2s/step - loss: 0.1764 - accuracy: 0.9476 - val_loss: 0.1559 - val_accuracy: 0.9618\n"
     ]
    }
   ],
   "source": [
    "epochs = 5 #number of epochs for fit\n",
    "history = model.fit(train_image_array, train_labels_array_encoded, validation_data = (test_image_array, test_labels_array_encoded), epochs=epochs)"
   ]
  },
  {
   "cell_type": "code",
   "execution_count": 16,
   "id": "8c9925a1",
   "metadata": {},
   "outputs": [],
   "source": [
    "def plot_learning_curve(history, epochs):\n",
    "        \"\"\"This function plots loss and accuracy of training and validation data.\n",
    "\n",
    "        Parameters\n",
    "        ----------\n",
    "        history : object\n",
    "            It contains the historical data of the model execution over the\n",
    "            number of epochs.\n",
    "        epochs : int\n",
    "            A hyperparameter that defines the no of time the learning algorithm\n",
    "            will work through entire training dataset.\n",
    "\n",
    "        Returns\n",
    "        ----------\n",
    "        \"\"\"\n",
    "\n",
    "        # defining the range of the x axis\n",
    "        epoch_range = range(1, epochs+1)\n",
    "\n",
    "        # Plot training & validation accuracy values\n",
    "        plt.plot(epoch_range, history.history['accuracy'])\n",
    "        plt.plot(epoch_range, history.history['val_accuracy'])\n",
    "        plt.title('Model accuracy')\n",
    "        plt.ylabel('Accuracy')\n",
    "        plt.xlabel('Epoch')\n",
    "        plt.legend(['Train', 'Val'], loc='upper left')\n",
    "        plt.show()\n",
    "\n",
    "        # Plot training & validation loss values\n",
    "        plt.plot(epoch_range, history.history['loss'])\n",
    "        plt.plot(epoch_range, history.history['val_loss'])\n",
    "        plt.title('Model loss')\n",
    "        plt.ylabel('Loss')\n",
    "        plt.xlabel('Epoch')\n",
    "        plt.legend(['Train', 'Val'], loc='upper left')\n",
    "        plt.show()"
   ]
  },
  {
   "cell_type": "code",
   "execution_count": 17,
   "id": "18512836",
   "metadata": {
    "scrolled": false
   },
   "outputs": [
    {
     "data": {
      "image/png": "[encoded data removed]",
      "text/plain": [
       "<Figure size 432x288 with 1 Axes>"
      ]
     },
     "metadata": {
      "needs_background": "light"
     },
     "output_type": "display_data"
    },
    {
     "data": {
      "image/png": "[encoded data removed]",
      "text/plain": [
       "<Figure size 432x288 with 1 Axes>"
      ]
     },
     "metadata": {
      "needs_background": "light"
     },
     "output_type": "display_data"
    }
   ],
   "source": [
    "plot_learning_curve(history, epochs)"
   ]
  },
  {
   "cell_type": "markdown",
   "id": "9370d15d",
   "metadata": {},
   "source": [
    "### Evalution of model for accuracy and loss"
   ]
  },
  {
   "cell_type": "code",
   "execution_count": 18,
   "id": "f2ce070f",
   "metadata": {
    "scrolled": true
   },
   "outputs": [
    {
     "name": "stdout",
     "output_type": "stream",
     "text": [
      "***************************************************\n",
      "The best model is having 0.15591184794902802 loss.\n",
      "The best model is 96.18055820465088% accurate.\n",
      "***************************************************\n"
     ]
    }
   ],
   "source": [
    "scores = model.evaluate(test_image_array, test_labels_array_encoded, verbose=0) #evaluates the model\n",
    "print(\"***************************************************\")\n",
    "print(f\"The best model is having {scores[0]} loss.\")\n",
    "print(f\"The best model is {scores[1]*100}% accurate.\")\n",
    "print(\"***************************************************\")"
   ]
  },
  {
   "cell_type": "markdown",
   "id": "b550c2f9",
   "metadata": {},
   "source": [
    "## Step7: Deploying model for test dataset and visualising reult with classification report and confusion matrix"
   ]
  },
  {
   "cell_type": "code",
   "execution_count": 19,
   "id": "9565cd37",
   "metadata": {},
   "outputs": [
    {
     "name": "stdout",
     "output_type": "stream",
     "text": [
      "9/9 [==============================] - 6s 575ms/step\n"
     ]
    }
   ],
   "source": [
    "test_labels_array_pred = np.argmax(model.predict(test_image_array), axis = 1) #predicts on test images"
   ]
  },
  {
   "cell_type": "code",
   "execution_count": 20,
   "id": "08fbf5f5",
   "metadata": {},
   "outputs": [
    {
     "name": "stdout",
     "output_type": "stream",
     "text": [
      "The classification report for test dataset is as follows:\n",
      "***************************************************************\n",
      "              precision    recall  f1-score   support\n",
      "\n",
      "           0       1.00      1.00      1.00        48\n",
      "           1       0.81      1.00      0.90        48\n",
      "           2       1.00      1.00      1.00        48\n",
      "           3       1.00      0.77      0.87        48\n",
      "           4       1.00      1.00      1.00        48\n",
      "           5       1.00      1.00      1.00        48\n",
      "\n",
      "    accuracy                           0.96       288\n",
      "   macro avg       0.97      0.96      0.96       288\n",
      "weighted avg       0.97      0.96      0.96       288\n",
      "\n",
      "***************************************************************\n"
     ]
    }
   ],
   "source": [
    "print(\"The classification report for test dataset is as follows:\")\n",
    "print(\"***************************************************************\")\n",
    "print(classification_report(test_labels_array_encoded,test_labels_array_pred))\n",
    "print(\"***************************************************************\")"
   ]
  },
  {
   "cell_type": "code",
   "execution_count": 21,
   "id": "d83913d7",
   "metadata": {},
   "outputs": [
    {
     "name": "stdout",
     "output_type": "stream",
     "text": [
      "The confusion matrix for test dataset is as follows:\n"
     ]
    },
    {
     "data": {
      "image/png": "[encoded data removed]",
      "text/plain": [
       "<Figure size 432x288 with 1 Axes>"
      ]
     },
     "metadata": {
      "needs_background": "light"
     },
     "output_type": "display_data"
    }
   ],
   "source": [
    "print(\"The confusion matrix for test dataset is as follows:\")\n",
    "cm_test_data = confusion_matrix(test_labels_array_encoded, \n",
    "                      test_labels_array_pred, \n",
    "                      binary=False)\n",
    "\n",
    "fig, ax = plot_confusion_matrix(conf_mat=cm_test_data, \n",
    "                                class_names=test_labels_array_true)\n",
    "plt.show()"
   ]
  },
  {
   "cell_type": "markdown",
   "id": "abd6d711",
   "metadata": {},
   "source": [
    "## Step8: Deploying model for validation dataset and visualising reult with classification report and confusion matrix"
   ]
  },
  {
   "cell_type": "code",
   "execution_count": 22,
   "id": "80a6907a",
   "metadata": {},
   "outputs": [
    {
     "name": "stdout",
     "output_type": "stream",
     "text": [
      "9/9 [==============================] - 5s 564ms/step\n"
     ]
    }
   ],
   "source": [
    "validation_labels_array_pred = np.argmax(model.predict(validation_image_array), axis = 1) #predicts validation images data"
   ]
  },
  {
   "cell_type": "code",
   "execution_count": 23,
   "id": "8e0af7fa",
   "metadata": {},
   "outputs": [
    {
     "name": "stdout",
     "output_type": "stream",
     "text": [
      "The classification report for validation dataset is as follows:\n",
      "***************************************************************\n",
      "              precision    recall  f1-score   support\n",
      "\n",
      "           0       0.98      1.00      0.99        48\n",
      "           1       0.87      1.00      0.93        48\n",
      "           2       1.00      1.00      1.00        48\n",
      "           3       1.00      0.85      0.92        48\n",
      "           4       1.00      0.98      0.99        48\n",
      "           5       1.00      1.00      1.00        48\n",
      "\n",
      "    accuracy                           0.97       288\n",
      "   macro avg       0.98      0.97      0.97       288\n",
      "weighted avg       0.98      0.97      0.97       288\n",
      "\n",
      "***************************************************************\n"
     ]
    }
   ],
   "source": [
    "print(\"The classification report for validation dataset is as follows:\")\n",
    "print(\"***************************************************************\")\n",
    "print(classification_report(validation_labels_array_encoded,validation_labels_array_pred)) \n",
    "print(\"***************************************************************\")"
   ]
  },
  {
   "cell_type": "code",
   "execution_count": 24,
   "id": "43083c24",
   "metadata": {},
   "outputs": [
    {
     "name": "stdout",
     "output_type": "stream",
     "text": [
      "The confusion matrix for test dataset is as follows:\n"
     ]
    },
    {
     "data": {
      "image/png": "[encoded data removed]",
      "text/plain": [
       "<Figure size 432x288 with 1 Axes>"
      ]
     },
     "metadata": {
      "needs_background": "light"
     },
     "output_type": "display_data"
    }
   ],
   "source": [
    "print(\"The confusion matrix for test dataset is as follows:\")\n",
    "cm_validation_data = confusion_matrix(validation_labels_array_encoded, \n",
    "                      validation_labels_array_pred, \n",
    "                      binary=False)\n",
    "\n",
    "fig, ax = plot_confusion_matrix(conf_mat=cm_validation_data, \n",
    "                                class_names=validation_labels_array_true)\n",
    "plt.show()"
   ]
  },
  {
   "cell_type": "markdown",
   "id": "ad093cb3",
   "metadata": {},
   "source": [
    "### If only validation data is to be used then use following function only for validation data folder"
   ]
  },
  {
   "cell_type": "code",
   "execution_count": 25,
   "id": "2157d864",
   "metadata": {},
   "outputs": [],
   "source": [
    "#def validation_image_data(data_folder):\n",
    "#\n",
    "#    # read images class directories\n",
    "#    sns_path, sns_dirs, sns_files = next(os.walk(data_folder))\n",
    "#    sns_path1, sns_dirs1, sns_files1 = next(os.walk(sns_path / Path(sns_dirs[0])))\n",
    "#    sns_path2, sns_dirs2, sns_files2 = next(os.walk(sns_path / Path(sns_dirs[1])))\n",
    "#    sns_path3, sns_dirs3, sns_files3 = next(os.walk(sns_path / Path(sns_dirs[2])))\n",
    "#    sns_path4, sns_dirs4, sns_files4 = next(os.walk(sns_path / Path(sns_dirs[3])))\n",
    "#    sns_path5, sns_dirs5, sns_files5 = next(os.walk(sns_path / Path(sns_dirs[4])))\n",
    "#    sns_path6, sns_dirs6, sns_files6 = next(os.walk(sns_path / Path(sns_dirs[5])))\n",
    "#    \n",
    "#    sns_files_list = [sns_files1,sns_files2,sns_files3,sns_files4,sns_files5,sns_files6]\n",
    "#    sns_path_list = [sns_path1,sns_path2,sns_path3,sns_path4,sns_path5,sns_path6]\n",
    "#    rot_angle = [360]\n",
    "#    \n",
    "#    image_array_list = []\n",
    "#    labels = []\n",
    "#\n",
    "#    for i in rot_angle:\n",
    "#        for l in sns_dirs:\n",
    "#            for j in sns_path_list:\n",
    "#                for k in sns_files_list:\n",
    "#                    try:\n",
    "#                        for filename in k:\n",
    "#                            img = io.imread(os.path.join(j, filename))\n",
    "#                            img_rot = rotate(img, i, cval=255)\n",
    "#                            if l in os.path.join(j, filename):\n",
    "#                                image_array_list.append(img_rot)\n",
    "#                                labels.append(l)\n",
    "#                    except:\n",
    "#                        pass\n",
    "#    labels_array = np.array(labels)\n",
    "#    labels_array_true, labels_array_encoded = np.unique(labels_array, return_inverse=True)\n",
    "#    image_array = np.array(image_array_list)\n",
    "#    #df=pd.DataFrame(image_array)\n",
    "#    #df['Target']=labels_array_encoded\n",
    "#    return image_array, labels_array_true, labels_array_encoded"
   ]
  },
  {
   "cell_type": "markdown",
   "id": "eb7ad8cc",
   "metadata": {},
   "source": []
  }
 ],
 "metadata": {
  "kernelspec": {
   "display_name": "Python 3 (ipykernel)",
   "language": "python",
   "name": "python3"
  },
  "language_info": {
   "codemirror_mode": {
    "name": "ipython",
    "version": 3
   },
   "file_extension": ".py",
   "mimetype": "text/x-python",
   "name": "python",
   "nbconvert_exporter": "python",
   "pygments_lexer": "ipython3",
   "version": "3.9.12"
  }
 },
 "nbformat": 4,
 "nbformat_minor": 5
}
